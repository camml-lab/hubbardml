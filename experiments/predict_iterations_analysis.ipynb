{
 "cells": [
  {
   "cell_type": "code",
   "execution_count": 135,
   "metadata": {
    "ExecuteTime": {
     "end_time": "2023-08-15T16:31:53.775380583Z",
     "start_time": "2023-08-15T16:31:53.718730020Z"
    }
   },
   "outputs": [],
   "source": [
    "import json\n",
    "import pathlib\n",
    "\n",
    "import matplotlib.ticker\n",
    "import matplotlib.pylab as plt\n",
    "import pandas as pd\n",
    "\n",
    "from hubbardml import keys\n",
    "from hubbardml import plots\n",
    "\n",
    "import predict_iterations"
   ]
  },
  {
   "cell_type": "code",
   "execution_count": 136,
   "outputs": [],
   "source": [
    "EXPERIMENT_DIR = pathlib.Path(\n",
    "    \"outputs/predict_iterations/batch_size=16,max_epochs=20000/2023-08-14_23-48-32\"\n",
    ")\n",
    "# EXPERIMENT_DIR = pathlib.Path(\n",
    "#     \"outputs/predict_iterations/batch_size=1024,max_epochs=1000/2023-08-14_22-08-33\"\n",
    "# )\n",
    "DATASET = \"dataset.json\"\n",
    "RESULTS_FILE = \"hubbard_u_iterations.json\""
   ],
   "metadata": {
    "collapsed": false,
    "ExecuteTime": {
     "end_time": "2023-08-15T16:31:54.068833157Z",
     "start_time": "2023-08-15T16:31:53.764815857Z"
    }
   }
  },
  {
   "cell_type": "code",
   "execution_count": 137,
   "metadata": {
    "ExecuteTime": {
     "end_time": "2023-08-15T16:31:54.304273604Z",
     "start_time": "2023-08-15T16:31:54.074046939Z"
    }
   },
   "outputs": [
    {
     "data": {
      "text/plain": "                                                      dir material  is_vdw  \\\n0       /Users/azadoks/Data/uv_ml/luca/PrNiO3/by_type/...   b-type   False   \n64      /Users/azadoks/Data/uv_ml/luca/PrNiO3/by_type/...   b-type   False   \n128     /Users/azadoks/Data/uv_ml/luca/PrNiO3/by_type/...   b-type   False   \n192     /Users/azadoks/Data/uv_ml/luca/PrNiO3/by_type/...   b-type   False   \n256     /Users/azadoks/Data/uv_ml/luca/PrNiO3/by_type/...   b-type   False   \n...                                                   ...      ...     ...   \n420759  /Users/azadoks/Data/uv_ml/iurii/Spinel/LixMn2O...    Mn2O4   False   \n421143  /Users/azadoks/Data/uv_ml/iurii/Spinel/LixMn2O...    Mn2O4   False   \n421527  /Users/azadoks/Data/uv_ml/iurii/Spinel/LixMn2O...    Mn2O4   False   \n421911  /Users/azadoks/Data/uv_ml/iurii/Spinel/LixMn2O...    Mn2O4   False   \n422295  /Users/azadoks/Data/uv_ml/iurii/Spinel/LixMn2O...    Mn2O4   False   \n\n        uv_iter formula                                               cell  \\\n0             1          [20.4521, 0.0, 0.0, 0.0, 10.1708088779, 0.0, -...   \n64            1          [20.4521, 0.0, 0.0, 0.0, 10.1708088779, 0.0, -...   \n128           1          [20.4521, 0.0, 0.0, 0.0, 10.1708088779, 0.0, -...   \n192           1          [20.4521, 0.0, 0.0, 0.0, 10.1708088779, 0.0, -...   \n256           1          [20.4521, 0.0, 0.0, 0.0, 10.1708088779, 0.0, -...   \n...         ...     ...                                                ...   \n420759        3          [15.4309, 0.0, 0.0, 0.0, 15.4304216421, 0.0, 0...   \n421143        3          [15.4309, 0.0, 0.0, 0.0, 15.4304216421, 0.0, 0...   \n421527        3          [15.4309, 0.0, 0.0, 0.0, 15.4304216421, 0.0, 0...   \n421911        3          [15.4309, 0.0, 0.0, 0.0, 15.4304216421, 0.0, 0...   \n422295        3          [15.4309, 0.0, 0.0, 0.0, 15.4304216421, 0.0, 0...   \n\n        n_atoms_uc person  structure_index  pw_time_unix  ...  \\\n0               80   luca                1    1594004350  ...   \n64              80   luca                1    1594004350  ...   \n128             80   luca                1    1594004350  ...   \n192             80   luca                1    1594004350  ...   \n256             80   luca                1    1594004350  ...   \n...            ...    ...              ...           ...  ...   \n420759          48  iurii              142    1638445240  ...   \n421143          48  iurii              142    1638445240  ...   \n421527          48  iurii              142    1638445240  ...   \n421911          48  iurii              142    1638445240  ...   \n422295          48  iurii              142    1638445240  ...   \n\n                                            atom_2_occs_1  \\\n0       [[0.62, -0.116, -0.011, -0.006, -0.003], [-0.1...   \n64      [[0.62, -0.116, -0.011, -0.006, -0.003], [-0.1...   \n128     [[0.801, 0.081, -0.011, -0.007, 0.003], [0.081...   \n192     [[0.454, 0.106, -0.003, -0.004, 0.001], [0.106...   \n256     [[0.801, 0.081, 0.011, -0.007, -0.003], [0.081...   \n...                                                   ...   \n420759  [[0.28, 0.009000000000000001, 0.01, 0.003, -0....   \n421143  [[0.618, 0.012, 0.01, -0.008, 0.024], [0.012, ...   \n421527  [[0.618, 0.012, 0.01, -0.008, 0.024], [0.012, ...   \n421911  [[0.618, -0.01, -0.011, 0.008, 0.024], [-0.01,...   \n422295  [[0.618, -0.01, -0.011, 0.008, 0.024], [-0.01,...   \n\n                                            atom_2_occs_2  atom_2_frac_coords  \\\n0       [[0.62, -0.116, -0.011, -0.006, -0.003], [-0.1...     [0.0, 0.0, 0.0]   \n64      [[0.62, -0.116, -0.011, -0.006, -0.003], [-0.1...     [0.5, 0.0, 0.0]   \n128     [[0.454, 0.106, -0.003, -0.004, 0.001], [0.106...    [0.25, 0.5, 0.0]   \n192     [[0.801, 0.081, -0.011, -0.007, 0.003], [0.081...    [0.75, 0.5, 0.0]   \n256     [[0.454, 0.106, 0.003, -0.004, -0.001], [0.106...    [0.0, 0.0, 0.25]   \n...                                                   ...                 ...   \n420759  [[0.618, -0.012, -0.01, -0.008, 0.024], [-0.01...   [0.75, 0.75, 0.5]   \n421143  [[0.28, -0.009000000000000001, -0.01, 0.003, -...     [0.5, 0.0, 0.0]   \n421527  [[0.28, -0.009000000000000001, -0.01, 0.003, -...     [0.0, 0.5, 0.0]   \n421911  [[0.28, 0.01, 0.009000000000000001, -0.003, -0...   [0.25, 0.75, 0.0]   \n422295  [[0.28, 0.01, 0.009000000000000001, -0.003, -0...   [0.75, 0.25, 0.0]   \n\n       atom_2_starting_mag  atom_2_final_mag  param_delta  species  label  \\\n0                      0.0            0.0000      10.2709     [Ni]     Ni   \n64                     0.0            0.0000      10.2709     [Ni]     Ni   \n128                    1.0            0.7291       9.6452     [Ni]     Ni   \n192                    1.0           -0.7291       9.6452     [Ni]     Ni   \n256                    1.0            0.7290       9.6452     [Ni]     Ni   \n...                    ...               ...          ...      ...    ...   \n420759                 0.0           -2.9633      -0.0016     [Mn]     Mn   \n421143                 0.0            2.9633      -0.0016     [Mn]     Mn   \n421527                 0.0            2.9633      -0.0016     [Mn]     Mn   \n421911                 0.0            2.9633      -0.0016     [Mn]     Mn   \n422295                 0.0            2.9633      -0.0016     [Mn]     Mn   \n\n         colour                                           sc_paths  \n0       #50D050  /Users/azadoks/Data/uv_ml/luca/PrNiO3/by_type/...  \n64      #50D050  /Users/azadoks/Data/uv_ml/luca/PrNiO3/by_type/...  \n128     #50D050  /Users/azadoks/Data/uv_ml/luca/PrNiO3/by_type/...  \n192     #50D050  /Users/azadoks/Data/uv_ml/luca/PrNiO3/by_type/...  \n256     #50D050  /Users/azadoks/Data/uv_ml/luca/PrNiO3/by_type/...  \n...         ...                                                ...  \n420759  #9C7AC7  /Users/azadoks/Data/uv_ml/iurii/Spinel/LixMn2O...  \n421143  #9C7AC7  /Users/azadoks/Data/uv_ml/iurii/Spinel/LixMn2O...  \n421527  #9C7AC7  /Users/azadoks/Data/uv_ml/iurii/Spinel/LixMn2O...  \n421911  #9C7AC7  /Users/azadoks/Data/uv_ml/iurii/Spinel/LixMn2O...  \n422295  #9C7AC7  /Users/azadoks/Data/uv_ml/iurii/Spinel/LixMn2O...  \n\n[668 rows x 49 columns]",
      "text/html": "<div>\n<style scoped>\n    .dataframe tbody tr th:only-of-type {\n        vertical-align: middle;\n    }\n\n    .dataframe tbody tr th {\n        vertical-align: top;\n    }\n\n    .dataframe thead th {\n        text-align: right;\n    }\n</style>\n<table border=\"1\" class=\"dataframe\">\n  <thead>\n    <tr style=\"text-align: right;\">\n      <th></th>\n      <th>dir</th>\n      <th>material</th>\n      <th>is_vdw</th>\n      <th>uv_iter</th>\n      <th>formula</th>\n      <th>cell</th>\n      <th>n_atoms_uc</th>\n      <th>person</th>\n      <th>structure_index</th>\n      <th>pw_time_unix</th>\n      <th>...</th>\n      <th>atom_2_occs_1</th>\n      <th>atom_2_occs_2</th>\n      <th>atom_2_frac_coords</th>\n      <th>atom_2_starting_mag</th>\n      <th>atom_2_final_mag</th>\n      <th>param_delta</th>\n      <th>species</th>\n      <th>label</th>\n      <th>colour</th>\n      <th>sc_paths</th>\n    </tr>\n  </thead>\n  <tbody>\n    <tr>\n      <th>0</th>\n      <td>/Users/azadoks/Data/uv_ml/luca/PrNiO3/by_type/...</td>\n      <td>b-type</td>\n      <td>False</td>\n      <td>1</td>\n      <td></td>\n      <td>[20.4521, 0.0, 0.0, 0.0, 10.1708088779, 0.0, -...</td>\n      <td>80</td>\n      <td>luca</td>\n      <td>1</td>\n      <td>1594004350</td>\n      <td>...</td>\n      <td>[[0.62, -0.116, -0.011, -0.006, -0.003], [-0.1...</td>\n      <td>[[0.62, -0.116, -0.011, -0.006, -0.003], [-0.1...</td>\n      <td>[0.0, 0.0, 0.0]</td>\n      <td>0.0</td>\n      <td>0.0000</td>\n      <td>10.2709</td>\n      <td>[Ni]</td>\n      <td>Ni</td>\n      <td>#50D050</td>\n      <td>/Users/azadoks/Data/uv_ml/luca/PrNiO3/by_type/...</td>\n    </tr>\n    <tr>\n      <th>64</th>\n      <td>/Users/azadoks/Data/uv_ml/luca/PrNiO3/by_type/...</td>\n      <td>b-type</td>\n      <td>False</td>\n      <td>1</td>\n      <td></td>\n      <td>[20.4521, 0.0, 0.0, 0.0, 10.1708088779, 0.0, -...</td>\n      <td>80</td>\n      <td>luca</td>\n      <td>1</td>\n      <td>1594004350</td>\n      <td>...</td>\n      <td>[[0.62, -0.116, -0.011, -0.006, -0.003], [-0.1...</td>\n      <td>[[0.62, -0.116, -0.011, -0.006, -0.003], [-0.1...</td>\n      <td>[0.5, 0.0, 0.0]</td>\n      <td>0.0</td>\n      <td>0.0000</td>\n      <td>10.2709</td>\n      <td>[Ni]</td>\n      <td>Ni</td>\n      <td>#50D050</td>\n      <td>/Users/azadoks/Data/uv_ml/luca/PrNiO3/by_type/...</td>\n    </tr>\n    <tr>\n      <th>128</th>\n      <td>/Users/azadoks/Data/uv_ml/luca/PrNiO3/by_type/...</td>\n      <td>b-type</td>\n      <td>False</td>\n      <td>1</td>\n      <td></td>\n      <td>[20.4521, 0.0, 0.0, 0.0, 10.1708088779, 0.0, -...</td>\n      <td>80</td>\n      <td>luca</td>\n      <td>1</td>\n      <td>1594004350</td>\n      <td>...</td>\n      <td>[[0.801, 0.081, -0.011, -0.007, 0.003], [0.081...</td>\n      <td>[[0.454, 0.106, -0.003, -0.004, 0.001], [0.106...</td>\n      <td>[0.25, 0.5, 0.0]</td>\n      <td>1.0</td>\n      <td>0.7291</td>\n      <td>9.6452</td>\n      <td>[Ni]</td>\n      <td>Ni</td>\n      <td>#50D050</td>\n      <td>/Users/azadoks/Data/uv_ml/luca/PrNiO3/by_type/...</td>\n    </tr>\n    <tr>\n      <th>192</th>\n      <td>/Users/azadoks/Data/uv_ml/luca/PrNiO3/by_type/...</td>\n      <td>b-type</td>\n      <td>False</td>\n      <td>1</td>\n      <td></td>\n      <td>[20.4521, 0.0, 0.0, 0.0, 10.1708088779, 0.0, -...</td>\n      <td>80</td>\n      <td>luca</td>\n      <td>1</td>\n      <td>1594004350</td>\n      <td>...</td>\n      <td>[[0.454, 0.106, -0.003, -0.004, 0.001], [0.106...</td>\n      <td>[[0.801, 0.081, -0.011, -0.007, 0.003], [0.081...</td>\n      <td>[0.75, 0.5, 0.0]</td>\n      <td>1.0</td>\n      <td>-0.7291</td>\n      <td>9.6452</td>\n      <td>[Ni]</td>\n      <td>Ni</td>\n      <td>#50D050</td>\n      <td>/Users/azadoks/Data/uv_ml/luca/PrNiO3/by_type/...</td>\n    </tr>\n    <tr>\n      <th>256</th>\n      <td>/Users/azadoks/Data/uv_ml/luca/PrNiO3/by_type/...</td>\n      <td>b-type</td>\n      <td>False</td>\n      <td>1</td>\n      <td></td>\n      <td>[20.4521, 0.0, 0.0, 0.0, 10.1708088779, 0.0, -...</td>\n      <td>80</td>\n      <td>luca</td>\n      <td>1</td>\n      <td>1594004350</td>\n      <td>...</td>\n      <td>[[0.801, 0.081, 0.011, -0.007, -0.003], [0.081...</td>\n      <td>[[0.454, 0.106, 0.003, -0.004, -0.001], [0.106...</td>\n      <td>[0.0, 0.0, 0.25]</td>\n      <td>1.0</td>\n      <td>0.7290</td>\n      <td>9.6452</td>\n      <td>[Ni]</td>\n      <td>Ni</td>\n      <td>#50D050</td>\n      <td>/Users/azadoks/Data/uv_ml/luca/PrNiO3/by_type/...</td>\n    </tr>\n    <tr>\n      <th>...</th>\n      <td>...</td>\n      <td>...</td>\n      <td>...</td>\n      <td>...</td>\n      <td>...</td>\n      <td>...</td>\n      <td>...</td>\n      <td>...</td>\n      <td>...</td>\n      <td>...</td>\n      <td>...</td>\n      <td>...</td>\n      <td>...</td>\n      <td>...</td>\n      <td>...</td>\n      <td>...</td>\n      <td>...</td>\n      <td>...</td>\n      <td>...</td>\n      <td>...</td>\n      <td>...</td>\n    </tr>\n    <tr>\n      <th>420759</th>\n      <td>/Users/azadoks/Data/uv_ml/iurii/Spinel/LixMn2O...</td>\n      <td>Mn2O4</td>\n      <td>False</td>\n      <td>3</td>\n      <td></td>\n      <td>[15.4309, 0.0, 0.0, 0.0, 15.4304216421, 0.0, 0...</td>\n      <td>48</td>\n      <td>iurii</td>\n      <td>142</td>\n      <td>1638445240</td>\n      <td>...</td>\n      <td>[[0.28, 0.009000000000000001, 0.01, 0.003, -0....</td>\n      <td>[[0.618, -0.012, -0.01, -0.008, 0.024], [-0.01...</td>\n      <td>[0.75, 0.75, 0.5]</td>\n      <td>0.0</td>\n      <td>-2.9633</td>\n      <td>-0.0016</td>\n      <td>[Mn]</td>\n      <td>Mn</td>\n      <td>#9C7AC7</td>\n      <td>/Users/azadoks/Data/uv_ml/iurii/Spinel/LixMn2O...</td>\n    </tr>\n    <tr>\n      <th>421143</th>\n      <td>/Users/azadoks/Data/uv_ml/iurii/Spinel/LixMn2O...</td>\n      <td>Mn2O4</td>\n      <td>False</td>\n      <td>3</td>\n      <td></td>\n      <td>[15.4309, 0.0, 0.0, 0.0, 15.4304216421, 0.0, 0...</td>\n      <td>48</td>\n      <td>iurii</td>\n      <td>142</td>\n      <td>1638445240</td>\n      <td>...</td>\n      <td>[[0.618, 0.012, 0.01, -0.008, 0.024], [0.012, ...</td>\n      <td>[[0.28, -0.009000000000000001, -0.01, 0.003, -...</td>\n      <td>[0.5, 0.0, 0.0]</td>\n      <td>0.0</td>\n      <td>2.9633</td>\n      <td>-0.0016</td>\n      <td>[Mn]</td>\n      <td>Mn</td>\n      <td>#9C7AC7</td>\n      <td>/Users/azadoks/Data/uv_ml/iurii/Spinel/LixMn2O...</td>\n    </tr>\n    <tr>\n      <th>421527</th>\n      <td>/Users/azadoks/Data/uv_ml/iurii/Spinel/LixMn2O...</td>\n      <td>Mn2O4</td>\n      <td>False</td>\n      <td>3</td>\n      <td></td>\n      <td>[15.4309, 0.0, 0.0, 0.0, 15.4304216421, 0.0, 0...</td>\n      <td>48</td>\n      <td>iurii</td>\n      <td>142</td>\n      <td>1638445240</td>\n      <td>...</td>\n      <td>[[0.618, 0.012, 0.01, -0.008, 0.024], [0.012, ...</td>\n      <td>[[0.28, -0.009000000000000001, -0.01, 0.003, -...</td>\n      <td>[0.0, 0.5, 0.0]</td>\n      <td>0.0</td>\n      <td>2.9633</td>\n      <td>-0.0016</td>\n      <td>[Mn]</td>\n      <td>Mn</td>\n      <td>#9C7AC7</td>\n      <td>/Users/azadoks/Data/uv_ml/iurii/Spinel/LixMn2O...</td>\n    </tr>\n    <tr>\n      <th>421911</th>\n      <td>/Users/azadoks/Data/uv_ml/iurii/Spinel/LixMn2O...</td>\n      <td>Mn2O4</td>\n      <td>False</td>\n      <td>3</td>\n      <td></td>\n      <td>[15.4309, 0.0, 0.0, 0.0, 15.4304216421, 0.0, 0...</td>\n      <td>48</td>\n      <td>iurii</td>\n      <td>142</td>\n      <td>1638445240</td>\n      <td>...</td>\n      <td>[[0.618, -0.01, -0.011, 0.008, 0.024], [-0.01,...</td>\n      <td>[[0.28, 0.01, 0.009000000000000001, -0.003, -0...</td>\n      <td>[0.25, 0.75, 0.0]</td>\n      <td>0.0</td>\n      <td>2.9633</td>\n      <td>-0.0016</td>\n      <td>[Mn]</td>\n      <td>Mn</td>\n      <td>#9C7AC7</td>\n      <td>/Users/azadoks/Data/uv_ml/iurii/Spinel/LixMn2O...</td>\n    </tr>\n    <tr>\n      <th>422295</th>\n      <td>/Users/azadoks/Data/uv_ml/iurii/Spinel/LixMn2O...</td>\n      <td>Mn2O4</td>\n      <td>False</td>\n      <td>3</td>\n      <td></td>\n      <td>[15.4309, 0.0, 0.0, 0.0, 15.4304216421, 0.0, 0...</td>\n      <td>48</td>\n      <td>iurii</td>\n      <td>142</td>\n      <td>1638445240</td>\n      <td>...</td>\n      <td>[[0.618, -0.01, -0.011, 0.008, 0.024], [-0.01,...</td>\n      <td>[[0.28, 0.01, 0.009000000000000001, -0.003, -0...</td>\n      <td>[0.75, 0.25, 0.0]</td>\n      <td>0.0</td>\n      <td>2.9633</td>\n      <td>-0.0016</td>\n      <td>[Mn]</td>\n      <td>Mn</td>\n      <td>#9C7AC7</td>\n      <td>/Users/azadoks/Data/uv_ml/iurii/Spinel/LixMn2O...</td>\n    </tr>\n  </tbody>\n</table>\n<p>668 rows × 49 columns</p>\n</div>"
     },
     "execution_count": 137,
     "metadata": {},
     "output_type": "execute_result"
    }
   ],
   "source": [
    "uv_data = pd.read_json(EXPERIMENT_DIR / DATASET)\n",
    "uv_data"
   ]
  },
  {
   "cell_type": "code",
   "execution_count": 138,
   "metadata": {
    "ExecuteTime": {
     "end_time": "2023-08-15T16:31:54.316602817Z",
     "start_time": "2023-08-15T16:31:54.305119545Z"
    }
   },
   "outputs": [],
   "source": [
    "def create_plots(df: pd.DataFrame, logy=False, scale=1.0):\n",
    "\n",
    "    if predict_iterations.Keys.TRAIN_RMSE in df:\n",
    "        cols = [predict_iterations.Keys.TRAIN_RMSE, predict_iterations.Keys.MODEL_RMSE, predict_iterations.Keys.REF_RMSE]\n",
    "        series_labels = 'ML (train)', 'ML (validate)', \"Reference\"\n",
    "        colours = plots.train_validate_colours[keys.TRAIN], plots.train_validate_colours[keys.VALIDATE], plots.train_validate_colours[keys.REFERENCE],  \n",
    "    else:\n",
    "        cols = [predict_iterations.Keys.MODEL_RMSE, predict_iterations.Keys.REF_RMSE]\n",
    "        series_labels = 'ML (validate)', \"Reference\"\n",
    "        colours = plots.train_validate_colours[keys.TRAIN], plots.train_validate_colours[keys.REFERENCE],  \n",
    "\n",
    "    # ref_rmse = frame.iloc[0][olivines.Keys.REF_RMSE]  # They are all the same\n",
    "\n",
    "    fig = plt.figure(figsize=(6 * scale, 4 * scale))\n",
    "    ax = fig.gca()\n",
    "    \n",
    "    print(df)\n",
    "\n",
    "    ax = df.plot(\n",
    "        x=keys.UV_ITER,\n",
    "        y=cols,\n",
    "        ax=ax,\n",
    "        color=colours,\n",
    "        marker='o',\n",
    "        linestyle=\"--\",\n",
    "        logy=logy,\n",
    "        title=\"RMSE as function of training iterations\",\n",
    "        ylabel='RMSE (eV)',\n",
    "        xlabel=\"$N$, training on all previous linear-response results\",\n",
    "    );\n",
    "\n",
    "    ax.legend(series_labels)\n",
    "    ax.xaxis.set_major_locator(matplotlib.ticker.MaxNLocator(integer=True))\n",
    "    ax.set_ylim([0, 1.6])\n",
    "    # ax.set_yscale(\"log\")\n",
    "\n",
    "    return ax"
   ]
  },
  {
   "cell_type": "markdown",
   "metadata": {},
   "source": [
    "# Data analysis"
   ]
  },
  {
   "cell_type": "code",
   "execution_count": 139,
   "metadata": {
    "ExecuteTime": {
     "end_time": "2023-08-15T16:31:54.618405875Z",
     "start_time": "2023-08-15T16:31:54.314845405Z"
    }
   },
   "outputs": [
    {
     "data": {
      "text/plain": "   uv_iter  model_rmse  train_rmse  ref_rmse\n0      2.0    0.729347    0.172283  1.373126\n1      3.0    0.334051    0.246416  0.267477\n2      4.0    0.374811    0.312964  0.346137\n3      5.0    0.348300    0.309914  0.267914\n4      6.0    0.338601    0.328275  0.210012",
      "text/html": "<div>\n<style scoped>\n    .dataframe tbody tr th:only-of-type {\n        vertical-align: middle;\n    }\n\n    .dataframe tbody tr th {\n        vertical-align: top;\n    }\n\n    .dataframe thead th {\n        text-align: right;\n    }\n</style>\n<table border=\"1\" class=\"dataframe\">\n  <thead>\n    <tr style=\"text-align: right;\">\n      <th></th>\n      <th>uv_iter</th>\n      <th>model_rmse</th>\n      <th>train_rmse</th>\n      <th>ref_rmse</th>\n    </tr>\n  </thead>\n  <tbody>\n    <tr>\n      <th>0</th>\n      <td>2.0</td>\n      <td>0.729347</td>\n      <td>0.172283</td>\n      <td>1.373126</td>\n    </tr>\n    <tr>\n      <th>1</th>\n      <td>3.0</td>\n      <td>0.334051</td>\n      <td>0.246416</td>\n      <td>0.267477</td>\n    </tr>\n    <tr>\n      <th>2</th>\n      <td>4.0</td>\n      <td>0.374811</td>\n      <td>0.312964</td>\n      <td>0.346137</td>\n    </tr>\n    <tr>\n      <th>3</th>\n      <td>5.0</td>\n      <td>0.348300</td>\n      <td>0.309914</td>\n      <td>0.267914</td>\n    </tr>\n    <tr>\n      <th>4</th>\n      <td>6.0</td>\n      <td>0.338601</td>\n      <td>0.328275</td>\n      <td>0.210012</td>\n    </tr>\n  </tbody>\n</table>\n</div>"
     },
     "execution_count": 139,
     "metadata": {},
     "output_type": "execute_result"
    }
   ],
   "source": [
    "results_file = EXPERIMENT_DIR / RESULTS_FILE\n",
    "with open(results_file, 'r') as file:\n",
    "    hubbard_u_iterations = pd.DataFrame(json.load(file))\n",
    "hubbard_u_iterations"
   ]
  },
  {
   "cell_type": "code",
   "execution_count": 140,
   "metadata": {
    "ExecuteTime": {
     "end_time": "2023-08-15T16:31:55.116202368Z",
     "start_time": "2023-08-15T16:31:54.580115404Z"
    }
   },
   "outputs": [
    {
     "name": "stdout",
     "output_type": "stream",
     "text": [
      "   uv_iter  model_rmse  train_rmse  ref_rmse\n",
      "0      2.0    0.729347    0.172283  1.373126\n",
      "1      3.0    0.334051    0.246416  0.267477\n",
      "2      4.0    0.374811    0.312964  0.346137\n",
      "3      5.0    0.348300    0.309914  0.267914\n",
      "4      6.0    0.338601    0.328275  0.210012\n"
     ]
    },
    {
     "data": {
      "text/plain": "<Figure size 420x280 with 1 Axes>",
      "image/png": "[encoded data removed]"
     },
     "metadata": {},
     "output_type": "display_data"
    }
   ],
   "source": [
    "output_dir = EXPERIMENT_DIR\n",
    "plot_dir = output_dir / \"plots\"\n",
    "plot_dir.mkdir(exist_ok=True)\n",
    "\n",
    "ax = create_plots(hubbard_u_iterations, scale=0.7)\n",
    "ax.get_figure().savefig(plot_dir/ f\"iteration_comparison.pdf\", bbox_inches='tight')"
   ]
  },
  {
   "cell_type": "code",
   "execution_count": 140,
   "outputs": [],
   "source": [],
   "metadata": {
    "collapsed": false,
    "ExecuteTime": {
     "end_time": "2023-08-15T16:31:55.119979359Z",
     "start_time": "2023-08-15T16:31:55.109642259Z"
    }
   }
  },
  {
   "cell_type": "code",
   "execution_count": 141,
   "outputs": [
    {
     "data": {
      "text/plain": "PosixPath('outputs/predict_iterations/batch_size=16,max_epochs=20000/2023-08-14_23-48-32/plots')"
     },
     "execution_count": 141,
     "metadata": {},
     "output_type": "execute_result"
    }
   ],
   "source": [
    "plot_dir"
   ],
   "metadata": {
    "collapsed": false,
    "ExecuteTime": {
     "end_time": "2023-08-15T16:31:55.198347527Z",
     "start_time": "2023-08-15T16:31:55.114169915Z"
    }
   }
  },
  {
   "cell_type": "code",
   "execution_count": 142,
   "outputs": [
    {
     "name": "stdout",
     "output_type": "stream",
     "text": [
      "duplicate atom_1_element\n",
      "Ni    144\n",
      "Mn    103\n",
      "Fe     14\n",
      "Name: count, dtype: int64\n",
      "train atom_1_element\n",
      "Mn    84\n",
      "Ni    62\n",
      "Fe    30\n",
      "Name: count, dtype: int64\n",
      "validate atom_1_element\n",
      "Mn    77\n",
      "Fe    72\n",
      "Ni    50\n",
      "Name: count, dtype: int64\n"
     ]
    }
   ],
   "source": [
    "for group_name, group in iter_2.groupby(keys.TRAINING_LABEL):\n",
    "    print(group_name, group.value_counts(keys.ATOM_1_ELEMENT))\n"
   ],
   "metadata": {
    "collapsed": false,
    "ExecuteTime": {
     "end_time": "2023-08-15T16:31:55.480013306Z",
     "start_time": "2023-08-15T16:31:55.200325341Z"
    }
   }
  },
  {
   "cell_type": "code",
   "execution_count": 143,
   "outputs": [
    {
     "name": "stdout",
     "output_type": "stream",
     "text": [
      "label\n",
      "Ni    144\n",
      "Mn    103\n",
      "Fe     14\n",
      "Name: count, dtype: int64\n",
      "label\n",
      "Mn    84\n",
      "Ni    62\n",
      "Fe    30\n",
      "Name: count, dtype: int64\n",
      "label\n",
      "Mn    77\n",
      "Fe    72\n",
      "Ni    50\n",
      "Name: count, dtype: int64\n"
     ]
    },
    {
     "data": {
      "text/plain": "Empty DataFrame\nColumns: []\nIndex: []",
      "text/html": "<div>\n<style scoped>\n    .dataframe tbody tr th:only-of-type {\n        vertical-align: middle;\n    }\n\n    .dataframe tbody tr th {\n        vertical-align: top;\n    }\n\n    .dataframe thead th {\n        text-align: right;\n    }\n</style>\n<table border=\"1\" class=\"dataframe\">\n  <thead>\n    <tr style=\"text-align: right;\">\n      <th></th>\n    </tr>\n  </thead>\n  <tbody>\n  </tbody>\n</table>\n</div>"
     },
     "execution_count": 143,
     "metadata": {},
     "output_type": "execute_result"
    }
   ],
   "source": [
    "iter_2.groupby(keys.TRAINING_LABEL).apply(lambda grp: print(grp.value_counts(keys.LABEL)))"
   ],
   "metadata": {
    "collapsed": false,
    "ExecuteTime": {
     "end_time": "2023-08-15T16:31:55.844720931Z",
     "start_time": "2023-08-15T16:31:55.483711685Z"
    }
   }
  },
  {
   "cell_type": "code",
   "execution_count": 144,
   "outputs": [
    {
     "data": {
      "text/plain": "training_label  label\nduplicate       Fe        14\n                Mn       103\n                Ni       144\ntrain           Fe        30\n                Mn        84\n                Ni        62\nvalidate        Fe        72\n                Mn        77\n                Ni        50\nName: count, dtype: int64"
     },
     "execution_count": 144,
     "metadata": {},
     "output_type": "execute_result"
    }
   ],
   "source": [
    "iter_2[[keys.TRAINING_LABEL, keys.LABEL]].groupby(keys.TRAINING_LABEL).value_counts(sort=False)"
   ],
   "metadata": {
    "collapsed": false,
    "ExecuteTime": {
     "end_time": "2023-08-15T16:31:56.134946615Z",
     "start_time": "2023-08-15T16:31:55.828335420Z"
    }
   }
  },
  {
   "cell_type": "code",
   "execution_count": 144,
   "outputs": [],
   "source": [],
   "metadata": {
    "collapsed": false,
    "ExecuteTime": {
     "end_time": "2023-08-15T16:31:56.135440411Z",
     "start_time": "2023-08-15T16:31:56.114862652Z"
    }
   }
  }
 ],
 "metadata": {
  "kernelspec": {
   "display_name": "Python 3.9.12 ('dftuv')",
   "language": "python",
   "name": "python3"
  },
  "language_info": {
   "codemirror_mode": {
    "name": "ipython",
    "version": 3
   },
   "file_extension": ".py",
   "mimetype": "text/x-python",
   "name": "python",
   "nbconvert_exporter": "python",
   "pygments_lexer": "ipython3",
   "version": "3.9.12"
  },
  "orig_nbformat": 4,
  "vscode": {
   "interpreter": {
    "hash": "28c3805fb3fb891793baa5922281dfc0c3881e930afb491195de5fe855d16202"
   }
  }
 },
 "nbformat": 4,
 "nbformat_minor": 2
}
