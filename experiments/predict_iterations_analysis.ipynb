{
 "cells": [
  {
   "cell_type": "code",
   "execution_count": null,
   "metadata": {},
   "outputs": [],
   "source": [
    "import json\n",
    "import pathlib\n",
    "\n",
    "import matplotlib.ticker\n",
    "import matplotlib.pylab as plt\n",
    "import pandas as pd\n",
    "\n",
    "from hubbardml import keys\n",
    "from hubbardml import plots\n",
    "from hubbardml import datasets\n",
    "\n",
    "import predict_iterations"
   ]
  },
  {
   "cell_type": "code",
   "execution_count": null,
   "metadata": {},
   "outputs": [],
   "source": [
    "# Set the path of the training experiment to use\n",
    "\n",
    "EXPERIMENT_DIR = pathlib.Path(\n",
    "    \"outputs/predict_iterations/batch_size=16,max_epochs=6000/2024-04-04_16-18-31\"\n",
    ")\n",
    "\n",
    "DATASET = \"dataset.json\"\n",
    "RESULTS_FILE = \"hubbard_u_iterations.json\""
   ]
  },
  {
   "cell_type": "code",
   "execution_count": null,
   "metadata": {},
   "outputs": [],
   "source": [
    "uv_data = pd.read_json(EXPERIMENT_DIR / DATASET)\n",
    "uv_data"
   ]
  },
  {
   "cell_type": "code",
   "execution_count": null,
   "metadata": {},
   "outputs": [],
   "source": [
    "def create_plots(df: pd.DataFrame, logy=False, scale=1.0, include_train=False):\n",
    "    if include_train and predict_iterations.Keys.TRAIN_RMSE in df:\n",
    "        cols = [\n",
    "            predict_iterations.Keys.TRAIN_RMSE,\n",
    "            predict_iterations.Keys.MODEL_RMSE,\n",
    "            predict_iterations.Keys.REF_RMSE\n",
    "        ]\n",
    "        series_labels = 'ML (training)', 'ML (validation)', \"Reference\"\n",
    "        colours = (\n",
    "            plots.train_validate_colours[keys.TRAIN],\n",
    "            plots.train_validate_colours[keys.VALIDATE],\n",
    "            plots.train_validate_colours[keys.REFERENCE],\n",
    "        )\n",
    "    else:\n",
    "        cols = [predict_iterations.Keys.MODEL_RMSE, predict_iterations.Keys.REF_RMSE]\n",
    "        series_labels = 'ML', \"Reference\"\n",
    "        colours = plots.train_validate_colours[keys.VALIDATE], plots.train_validate_colours[keys.REFERENCE],\n",
    "\n",
    "    fig = plt.figure(figsize=(6 * scale, 4 * scale))\n",
    "    ax = fig.gca()\n",
    "\n",
    "    print(df)\n",
    "\n",
    "    ax = df.plot(\n",
    "        x=keys.UV_ITER,\n",
    "        y=cols,\n",
    "        ax=ax,\n",
    "        color=colours,\n",
    "        marker='o',\n",
    "        linestyle=\"--\",\n",
    "        logy=logy,\n",
    "        # title=\"RMSE as function of training iterations\",\n",
    "        ylabel='RMSE (eV)',\n",
    "        xlabel=\"$N_\\mathrm{iter}$\",  # training on all previous linear-response results\n",
    "    );\n",
    "\n",
    "    ax.legend(series_labels)\n",
    "    ax.xaxis.set_major_locator(matplotlib.ticker.MaxNLocator(integer=True))\n",
    "    ax.set_ylim([0, 1.1])\n",
    "    # ax.set_yscale(\"log\")\n",
    "\n",
    "    return ax"
   ]
  },
  {
   "cell_type": "markdown",
   "metadata": {},
   "source": [
    "# Data analysis"
   ]
  },
  {
   "cell_type": "code",
   "execution_count": null,
   "metadata": {},
   "outputs": [],
   "source": [
    "results_file = EXPERIMENT_DIR / RESULTS_FILE\n",
    "with open(results_file, 'r') as file:\n",
    "    hubbard_u_iterations = pd.DataFrame(json.load(file))\n",
    "hubbard_u_iterations"
   ]
  },
  {
   "cell_type": "code",
   "execution_count": null,
   "metadata": {},
   "outputs": [],
   "source": [
    "output_dir = EXPERIMENT_DIR\n",
    "plot_dir = output_dir / \"plots\"\n",
    "plot_dir.mkdir(exist_ok=True)\n",
    "\n",
    "ax = create_plots(hubbard_u_iterations, scale=0.7)\n",
    "ax.get_figure().savefig(plot_dir / f\"iteration_comparison.pdf\", bbox_inches='tight')\n",
    "(plot_dir / f\"iteration_comparison.pdf\").absolute()"
   ]
  },
  {
   "cell_type": "code",
   "execution_count": null,
   "metadata": {},
   "outputs": [],
   "source": [
    "output_dir = EXPERIMENT_DIR\n",
    "plot_dir = output_dir / \"plots\"\n",
    "plot_dir.mkdir(exist_ok=True)\n",
    "\n",
    "ax = create_plots(hubbard_u_iterations, scale=0.7, include_train=True)\n",
    "ax.get_figure().savefig(plot_dir / f\"iteration_comparison_w_train.pdf\", bbox_inches='tight')"
   ]
  },
  {
   "cell_type": "code",
   "execution_count": null,
   "metadata": {},
   "outputs": [],
   "source": [
    "uv_iter = 2\n",
    "predictions_frame = pd.read_json(EXPERIMENT_DIR / f\"iter={uv_iter}\" / DATASET)"
   ]
  },
  {
   "cell_type": "markdown",
   "metadata": {},
   "source": []
  },
  {
   "cell_type": "code",
   "execution_count": null,
   "metadata": {},
   "outputs": [],
   "source": [
    "frame = predictions_frame.loc[(predictions_frame[keys.TRAINING_LABEL] != keys.TRAIN)]\n",
    "plots.split_plot(\n",
    "    frame,\n",
    "    keys.LABEL,\n",
    "    axis_label=\"Hubbard param. (eV)\",\n",
    "    # title=f\"RMSE = {datasets.rmse(frame):.2f} eV\",\n",
    ");"
   ]
  },
  {
   "cell_type": "code",
   "execution_count": null,
   "metadata": {},
   "outputs": [],
   "source": [
    "plot_info = {\n",
    "    \"label\": [\"ML\", \"Reference\"],\n",
    "    \"key\": [keys.PARAM_OUT_PREDICTED, keys.PARAM_IN]\n",
    "}\n",
    "\n",
    "for uv_iter in list(sorted(predictions_frame[keys.UV_ITER].unique()))[1:]:\n",
    "    predictions_frame = pd.read_json(EXPERIMENT_DIR / f\"iter={uv_iter}\" / DATASET)\n",
    "\n",
    "    for idx in range(len(plot_info[\"label\"])):\n",
    "        label = plot_info[\"label\"][idx]\n",
    "        key = plot_info[\"key\"][idx]\n",
    "\n",
    "        frame = predictions_frame[\n",
    "            (predictions_frame[keys.TRAINING_LABEL] == keys.VALIDATE) &\n",
    "            (predictions_frame[keys.UV_ITER] == uv_iter)\n",
    "            ]\n",
    "\n",
    "        # Calculate the overall RMSE\n",
    "        rmse = datasets.rmse(frame, prediction_key=key, training_label=None)\n",
    "\n",
    "        # Parity plot split by element\n",
    "        fig = plots.split_plot(\n",
    "            frame,\n",
    "            keys.LABEL,\n",
    "            axis_label=\"Hubbard param. (eV)\",\n",
    "            title=f\"{label} ($N_\\mathrm{{iter}}$)\",\n",
    "            prediction_key=key\n",
    "        )\n",
    "        if label == \"Reference\":\n",
    "            axis = fig.gca()\n",
    "            axis.set_xlabel(\"Hubbard param. (eV) iteration $N$\")\n",
    "            axis.set_ylabel(\"Hubbard param. (eV) iteration $N - 1$\")\n",
    "        \n",
    "\n",
    "        # # Create a historgram of the relative errors\n",
    "        # labels = {}\n",
    "        # for species, frame in subset.groupby(keys.SPECIES):\n",
    "        #     group_label = \"-\".join(species)\n",
    "        #     mean = frame[keys.PARAM_OUT_RELATIVE_ERROR].mean()\n",
    "        #     labels[group_label] = f\"{group_label} {mean:.3f}\"\n",
    "        # \n",
    "        # plots.plot_param_histogram(\n",
    "        #     subset, param_col=keys.PARAM_OUT_RELATIVE_ERROR, x_label=\"Relative error\", labels=labels\n",
    "        # )\n",
    "\n",
    "        fig.savefig(plot_dir / f\"uv_iter={uv_iter}_{label}.pdf\", bbox_inches='tight')\n"
   ]
  },
  {
   "cell_type": "code",
   "execution_count": null,
   "metadata": {},
   "outputs": [],
   "source": []
  }
 ],
 "metadata": {
  "kernelspec": {
   "display_name": "Python 3.9.12 ('dftuv')",
   "language": "python",
   "name": "python3"
  },
  "language_info": {
   "codemirror_mode": {
    "name": "ipython",
    "version": 3
   },
   "file_extension": ".py",
   "mimetype": "text/x-python",
   "name": "python",
   "nbconvert_exporter": "python",
   "pygments_lexer": "ipython3"
  },
  "vscode": {
   "interpreter": {
    "hash": "28c3805fb3fb891793baa5922281dfc0c3881e930afb491195de5fe855d16202"
   }
  }
 },
 "nbformat": 4,
 "nbformat_minor": 2
}
