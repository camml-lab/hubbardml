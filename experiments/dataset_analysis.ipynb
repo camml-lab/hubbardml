{
 "cells": [
  {
   "cell_type": "code",
   "execution_count": null,
   "id": "initial_id",
   "metadata": {},
   "outputs": [],
   "source": [
    "import datetime\n",
    "\n",
    "import numpy as np\n",
    "import pandas as pd\n",
    "import hydra\n",
    "import matplotlib.pyplot as plt\n",
    "from matplotlib import ticker\n",
    "\n",
    "import e3psi\n",
    "import hubbardml\n",
    "from hubbardml import datasets\n",
    "from hubbardml import graphs\n",
    "from hubbardml import keys\n",
    "from hubbardml import plots"
   ]
  },
  {
   "cell_type": "code",
   "execution_count": null,
   "id": "8f72295338425707",
   "metadata": {},
   "outputs": [],
   "source": [
    "graph_data = None\n",
    "with hydra.initialize(version_base=\"1.3\", config_path=\".\"):\n",
    "    cfg = hydra.compose(config_name=\"config.yaml\", overrides=[\"model=u\"])\n",
    "    graph = hydra.utils.instantiate(cfg[\"graph\"])\n",
    "    graph_data = hubbardml.GraphData(graph, cfg[\"dataset\"])"
   ]
  },
  {
   "cell_type": "code",
   "execution_count": null,
   "id": "9ef39bfc66995409",
   "metadata": {},
   "outputs": [],
   "source": [
    "df = graph_data.dataset "
   ]
  },
  {
   "cell_type": "code",
   "execution_count": null,
   "id": "f8955caa9a45e040",
   "metadata": {},
   "outputs": [],
   "source": [
    "fig = plots.plot_param_histogram(\n",
    "    df,\n",
    "    bins=30,\n",
    "    density=False\n",
    ")\n",
    "fig.set_size_inches(5, 2)\n",
    "# path = EXPERIMENT_DIR / \"plots\" / \"param_histogram.pdf\"\n",
    "# fig.savefig(path, bbox_inches='tight')\n",
    "# path.absolute()"
   ]
  },
  {
   "cell_type": "code",
   "execution_count": null,
   "id": "7ac3e4f1eaa5065d",
   "metadata": {},
   "outputs": [],
   "source": [
    "\n",
    "df[df['dir'].str.contains('MnO2') & (df[keys.ATOM_1_ELEMENT] == \"Fe\")]['dir'].unique()"
   ]
  },
  {
   "cell_type": "code",
   "execution_count": null,
   "id": "518a10ec11cd4e81",
   "metadata": {},
   "outputs": [],
   "source": [
    "graph_data.dataset['dir'].unique()"
   ]
  },
  {
   "cell_type": "code",
   "execution_count": null,
   "id": "82918039f20c2945",
   "metadata": {},
   "outputs": [],
   "source": [
    "print(graph_data.dataset[keys.SPECIES].unique())\n",
    "df = graph_data.identify_duplicates(\n",
    "    graph_data.dataset, group_by=[keys.SPECIES]\n",
    ")\n",
    "# df[df[keys.TRAINING_LABEL] != keys.DUPLICATE][keys.SPECIES].value_counts()"
   ]
  },
  {
   "cell_type": "code",
   "execution_count": null,
   "id": "69a83a765cfa9caf",
   "metadata": {},
   "outputs": [],
   "source": [
    "species_counts = df.loc[df[keys.TRAINING_LABEL] != keys.DUPLICATE, keys.SPECIES].value_counts()\n",
    "species_counts"
   ]
  },
  {
   "cell_type": "code",
   "execution_count": null,
   "id": "55e751f6bd8a26a3",
   "metadata": {},
   "outputs": [],
   "source": [
    "df[keys.DIST_IN].hist()"
   ]
  },
  {
   "cell_type": "code",
   "execution_count": null,
   "id": "b5e6cbbab463ae3c",
   "metadata": {},
   "outputs": [],
   "source": [
    "similarities = pd.concat([entry[2] for entry in graph_data.get_similarity_frames(group_by=['species'])])"
   ]
  },
  {
   "cell_type": "code",
   "execution_count": null,
   "id": "9dbd96843aa20d3a",
   "metadata": {},
   "outputs": [],
   "source": []
  },
  {
   "cell_type": "code",
   "execution_count": null,
   "id": "f6d0677ba7c7f136",
   "metadata": {},
   "outputs": [],
   "source": [
    "ax = similarities[\"occs_sum\"].hist(bins=40000, log=False)\n",
    "ax.get_figure().set_size_inches(12, 1.5)\n",
    "# ax.set_xlim(left=0.)\n",
    "ax.set_xlim([0, 5e-3])\n",
    "ax.axvline(hubbardml.graphs.DEFAULT_OCCS_TOL)\n",
    "ax.set_xlabel(\"Rotationally invariant distance\")\n",
    "ax.set_ylabel(\"Occurrences\")\n",
    "plt.savefig('img/occs_sum_distances.pdf', bbox_inches='tight')"
   ]
  },
  {
   "cell_type": "code",
   "execution_count": null,
   "id": "54d1396e365d6960",
   "metadata": {},
   "outputs": [],
   "source": [
    "ax.axvline(hubbardml.graphs.DEFAULT_OCCS_TOL)\n",
    "ax"
   ]
  },
  {
   "cell_type": "code",
   "execution_count": null,
   "id": "18fe7274eae39973",
   "metadata": {},
   "outputs": [],
   "source": [
    "ax = similarities[\"occs_prod\"].hist(bins=40000, log=False)\n",
    "ax.get_figure().set_size_inches(12, 1.5)\n",
    "ax.set_xlim([0, 5e-3])\n",
    "ax.axvline(hubbardml.graphs.DEFAULT_OCCS_TOL)\n",
    "ax.set_xlabel(\"Rotationally invariant distance\")\n",
    "ax.set_ylabel(\"Occurrences\")\n",
    "plt.savefig('img/occs_prod_distances.pdf', bbox_inches='tight')"
   ]
  },
  {
   "cell_type": "code",
   "execution_count": null,
   "id": "839a3ee4",
   "metadata": {},
   "outputs": [],
   "source": [
    "\n",
    "def plot_param_histogram(\n",
    "    df: pd.DataFrame,\n",
    "    x_label: str = \"Hubbard param. (eV)\",\n",
    "    y_label: str = \"Frequency\",\n",
    "    title: str = None,\n",
    "    param_col: str = keys.PARAM_OUT,\n",
    "    bins=20,\n",
    ") -> plt.Figure:\n",
    "    # Plot the histogram\n",
    "    fig, ax = plt.subplots()\n",
    "    fig.suptitle(title)\n",
    "\n",
    "    kwargs = dict(\n",
    "        histtype='stepfilled',\n",
    "        alpha=0.8,\n",
    "        density=True,\n",
    "        bins=bins,\n",
    "        ec=\"k\",\n",
    "        stacked=True,\n",
    "        # log=True,\n",
    "    )\n",
    "    for species, frame in df.groupby(keys.SPECIES):\n",
    "        ax.hist(\n",
    "            frame[param_col],\n",
    "            color=frame.iloc[0][keys.COLOUR],\n",
    "            label = \"-\".join(species),\n",
    "            **kwargs,\n",
    "        )\n",
    "\n",
    "    if x_label:\n",
    "        ax.set_xlabel(x_label)\n",
    "    if y_label:\n",
    "        ax.set_ylabel(y_label)\n",
    "    fig.legend()\n",
    "    return fig\n"
   ]
  },
  {
   "cell_type": "code",
   "execution_count": null,
   "id": "c76af3c7",
   "metadata": {},
   "outputs": [],
   "source": [
    "last_iter_subframes = []\n",
    "for path, sc_rows in datasets.iter_self_consistent_paths(df):\n",
    "    # Get the maximum iteration reached\n",
    "    max_iter = sc_rows[keys.UV_ITER].max()\n",
    "    # Get the rows containing the last iteration\n",
    "    max_iter_rows = sc_rows[sc_rows[keys.UV_ITER] == max_iter]\n",
    "    last_iter_subframes.append(max_iter_rows)\n",
    "\n",
    "last_iter_frame = pd.concat(last_iter_subframes)\n",
    "last_iter_frame = last_iter_frame.drop_duplicates(hubbardml.similarities.CLUSTER_ID)\n",
    "\n",
    "# Plot the histogram\n",
    "plot_param_histogram(last_iter_frame, bins=20);"
   ]
  },
  {
   "cell_type": "code",
   "execution_count": null,
   "id": "e218cb9ae34dc94",
   "metadata": {},
   "outputs": [],
   "source": [
    "mn_olivines = df[df[keys.DIR].str.contains(\"Li1.00MnPO4\")]\n",
    "mn_olivines = mn_olivines[mn_olivines[keys.ATOM_1_IDX] == 1]\n",
    "\n",
    "fig, ax = plt.subplots(figsize=(4, 3))\n",
    "# ax = plt.gca()\n",
    "ax.xaxis.set_major_locator(ticker.MaxNLocator(integer=True))\n",
    "ax.set_ylabel(\"Hubbard $U$ (eV)\")\n",
    "ax.set_xlabel(\"Iteration\")\n",
    "plots.plot_series(\n",
    "    ax,\n",
    "    mn_olivines[keys.UV_ITER], \n",
    "    mn_olivines[keys.PARAM_OUT],\n",
    "    plots.plot_colours[1],\n",
    "    label=\"test\",\n",
    ")\n",
    "fig = ax.get_figure()\n",
    "fig.savefig(\"self_consistent.pdf\", bbox_inches=\"tight\")\n"
   ]
  },
  {
   "cell_type": "code",
   "execution_count": null,
   "id": "a66b020d5f6a985",
   "metadata": {},
   "outputs": [],
   "source": []
  },
  {
   "cell_type": "code",
   "execution_count": null,
   "id": "15df5d7f",
   "metadata": {},
   "outputs": [],
   "source": [
    "plot_param_histogram(df)"
   ]
  },
  {
   "cell_type": "code",
   "execution_count": null,
   "id": "4512bef6",
   "metadata": {},
   "outputs": [],
   "source": [
    "import torch\n",
    "from e3nn import o3\n",
    "import matplotlib.pyplot as plt\n",
    "\n",
    "change_of_coord = torch.tensor([\n",
    "    # this specifies the change of basis zxy -> xyz\n",
    "    [0., -1., 0.],\n",
    "    [0., 0., -1.],\n",
    "    [1., 0., 0.]\n",
    "])\n",
    "\n",
    "D = o3.Irrep(2, 1).D_from_matrix(change_of_coord)\n",
    "\n",
    "plt.imshow(D, cmap=\"RdBu\", vmin=-1, vmax=1)\n",
    "plt.colorbar();"
   ]
  },
  {
   "cell_type": "code",
   "execution_count": null,
   "id": "db5792f5",
   "metadata": {},
   "outputs": [],
   "source": [
    "occu1 = torch.tensor(\n",
    "    [\n",
    "       [0.018,  0.002,  0.000,  0.005,  0.000],\n",
    "       [0.002,  0.053, -0.000, -0.026,  0.000],\n",
    "       [0.000, -0.000,  0.048,  0.000,  0.024],\n",
    "       [0.005, -0.026,  0.000,  0.050, -0.000],\n",
    "       [0.000,  0.000,  0.024, -0.000,  0.040],\n",
    "])\n",
    "plt.imshow(occu1, cmap=\"RdBu\", vmin=-0.05, vmax=.05)\n",
    "plt.colorbar();"
   ]
  },
  {
   "cell_type": "code",
   "execution_count": null,
   "id": "ad57f5a5",
   "metadata": {},
   "outputs": [],
   "source": [
    "plt.imshow(D.T @ occu1 @ D, cmap=\"RdBu\", vmin=-0.05, vmax=.05)\n",
    "plt.colorbar();"
   ]
  }
 ],
 "metadata": {
  "kernelspec": {
   "display_name": "Python 3",
   "language": "python",
   "name": "python3"
  },
  "language_info": {
   "codemirror_mode": {
    "name": "ipython",
    "version": 3
   },
   "file_extension": ".py",
   "mimetype": "text/x-python",
   "name": "python",
   "nbconvert_exporter": "python",
   "pygments_lexer": "ipython3"
  }
 },
 "nbformat": 4,
 "nbformat_minor": 5
}
