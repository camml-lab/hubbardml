{
 "cells": [
  {
   "cell_type": "code",
   "execution_count": 237,
   "metadata": {
    "ExecuteTime": {
     "end_time": "2023-08-21T13:28:06.994221951Z",
     "start_time": "2023-08-21T13:28:06.863244382Z"
    }
   },
   "outputs": [],
   "source": [
    "import json\n",
    "import pathlib\n",
    "\n",
    "import matplotlib.ticker\n",
    "import matplotlib.pylab as plt\n",
    "import pandas as pd\n",
    "\n",
    "from hubbardml import keys\n",
    "from hubbardml import plots\n",
    "\n",
    "import olivines"
   ]
  },
  {
   "cell_type": "code",
   "execution_count": 238,
   "outputs": [],
   "source": [
    "# EXPERIMENT_DIR = pathlib.Path(\n",
    "#     \"outputs/train.batch_size=32,train.max_epochs=4000/2023-07-27_14-28-01\"\n",
    "# )\n",
    "# EXPERIMENT_DIR = pathlib.Path(\n",
    "#     \"outputs/train.batch_size=16,train.max_epochs=10000/2023-07-28_15-29-57\"\n",
    "# )\n",
    "# EXPERIMENT_DIR = pathlib.Path(\n",
    "#     \"outputs/train.batch_size=1024,train.max_epochs=10000/2023-08-08_09-55-09\"\n",
    "# )\n",
    "EXPERIMENT_DIR = pathlib.Path(\n",
    "    \"outputs/olivines/train.batch_size=1024,train.max_epochs=20000/2023-08-10_10-33-42\"\n",
    ")\n",
    "EXPERIMENT_DIR = pathlib.Path(\n",
    "    \"outputs/olivines/train.batch_size=32,train.max_epochs=20000/2023-08-10_22-53-27\"\n",
    ")\n",
    "EXPERIMENT_DIR = pathlib.Path(\n",
    "    \"outputs/olivines/batch_size=64,max_epochs=12000/2023-08-20_21-47-51\"\n",
    ")\n",
    "EXPERIMENT_DIR = pathlib.Path(\n",
    "    \"outputs/olivines/batch_size=32,max_epochs=12000/2023-08-21_10-38-09\"\n",
    ")\n",
    "DATASET = \"dataset.json\"\n",
    "RESULTS_FILE = \"hubbard_u_olivines.json\""
   ],
   "metadata": {
    "collapsed": false,
    "ExecuteTime": {
     "end_time": "2023-08-21T13:28:06.994696199Z",
     "start_time": "2023-08-21T13:28:06.904908151Z"
    }
   }
  },
  {
   "cell_type": "code",
   "execution_count": 239,
   "metadata": {
    "ExecuteTime": {
     "end_time": "2023-08-21T13:28:07.197162487Z",
     "start_time": "2023-08-21T13:28:06.992040981Z"
    }
   },
   "outputs": [
    {
     "data": {
      "text/plain": "                                                      dir  \\\n91340   /Users/azadoks/Data/uv_ml/iurii/Olivines/LiFe0...   \n91442   /Users/azadoks/Data/uv_ml/iurii/Olivines/LiFe0...   \n91562   /Users/azadoks/Data/uv_ml/iurii/Olivines/LiFe0...   \n91682   /Users/azadoks/Data/uv_ml/iurii/Olivines/LiFe0...   \n93558   /Users/azadoks/Data/uv_ml/iurii/Olivines/LiFe0...   \n...                                                   ...   \n228640  /Users/azadoks/Data/uv_ml/iurii/Olivines/LiMnP...   \n230526  /Users/azadoks/Data/uv_ml/iurii/Olivines/LiMnP...   \n230628  /Users/azadoks/Data/uv_ml/iurii/Olivines/LiMnP...   \n230748  /Users/azadoks/Data/uv_ml/iurii/Olivines/LiMnP...   \n230868  /Users/azadoks/Data/uv_ml/iurii/Olivines/LiMnP...   \n\n                      material  is_vdw  uv_iter formula  \\\n91340   A1_Li0.00Mn0.5Fe0.5PO4   False        1           \n91442   A1_Li0.00Mn0.5Fe0.5PO4   False        1           \n91562   A1_Li0.00Mn0.5Fe0.5PO4   False        1           \n91682   A1_Li0.00Mn0.5Fe0.5PO4   False        1           \n93558   A1_Li0.00Mn0.5Fe0.5PO4   False        2           \n...                        ...     ...      ...     ...   \n228640          B5_Li1.00MnPO4   False        3           \n230526          B5_Li1.00MnPO4   False        4           \n230628          B5_Li1.00MnPO4   False        4           \n230748          B5_Li1.00MnPO4   False        4           \n230868          B5_Li1.00MnPO4   False        4           \n\n                                                     cell  n_atoms_uc person  \\\n91340   [18.5936265225, -0.0009754750000000001, 0.0072...          24  iurii   \n91442   [18.5936265225, -0.0009754750000000001, 0.0072...          24  iurii   \n91562   [18.5936265225, -0.0009754750000000001, 0.0072...          24  iurii   \n91682   [18.5936265225, -0.0009754750000000001, 0.0072...          24  iurii   \n93558   [18.577492166, -0.0007413610000000001, 0.00680...          24  iurii   \n...                                                   ...         ...    ...   \n228640  [19.7940850765, 0.0, 0.0, 0.0, 11.511736551, 0...          28  iurii   \n230526  [19.7940850765, 0.0, 0.0, 0.0, 11.511736551, 0...          28  iurii   \n230628  [19.7940850765, 0.0, 0.0, 0.0, 11.511736551, 0...          28  iurii   \n230748  [19.7940850765, 0.0, 0.0, 0.0, 11.511736551, 0...          28  iurii   \n230868  [19.7940850765, 0.0, 0.0, 0.0, 11.511736551, 0...          28  iurii   \n\n        structure_index  pw_time_unix  ...  \\\n91340                68    1618231488  ...   \n91442                68    1618231488  ...   \n91562                68    1618231488  ...   \n91682                68    1618231488  ...   \n93558                69    1618391955  ...   \n...                 ...           ...  ...   \n228640              130    1594749234  ...   \n230526              131    1595848609  ...   \n230628              131    1595848609  ...   \n230748              131    1595848609  ...   \n230868              131    1595848609  ...   \n\n                                            atom_2_occs_2  \\\n91340   [[0.997, 0.0, 0.0, 0.0, 0.0], [0.0, 0.992, 0.0...   \n91442   [[0.092, 0.014, 0.0, -0.006, 0.0], [0.014, 0.1...   \n91562   [[0.991, -0.033, 0.0, -0.039, 0.0], [-0.033, 0...   \n91682   [[0.048, -0.008, 0.0, 0.016, 0.0], [-0.008, 0....   \n93558   [[0.997, 0.0, 0.0, 0.0, 0.0], [0.0, 0.991, 0.0...   \n...                                                   ...   \n228640  [[0.996, -0.001, 0.0, -0.001, 0.0], [-0.001, 0...   \n230526  [[0.02, 0.002, 0.0, 0.006, 0.0], [0.002, 0.057...   \n230628  [[0.02, -0.002, 0.0, 0.006, 0.0], [-0.002, 0.0...   \n230748  [[0.996, 0.001, 0.0, -0.001, 0.0], [0.001, 0.9...   \n230868  [[0.996, -0.001, 0.0, -0.001, 0.0], [-0.001, 0...   \n\n                                       atom_2_frac_coords  \\\n91340   [-0.0073431, -0.00041139999999999997, -0.01556...   \n91442   [-0.056849399999999994, 0.4995747, -0.51556099...   \n91562       [0.5048417, -0.0004909, -0.39822029999999997]   \n91682           [0.43096, 0.4996846, -0.8981882999999999]   \n93558   [-0.0069193, -0.00040439999999999996, -0.01602...   \n...                                                   ...   \n228640                       [0.4372178, 0.5, -0.9466146]   \n230526            [-0.001527, 0.0, 0.0021371999999999997]   \n230628                       [0.4984724, 0.0, -0.4466148]   \n230748            [-0.06278249999999999, 0.5, -0.4978627]   \n230868                       [0.4372178, 0.5, -0.9466146]   \n\n        atom_2_starting_mag atom_2_final_mag  param_delta  species  label  \\\n91340                   0.0          -3.9118      -0.1663     [Fe]     Fe   \n91442                   0.0           3.9077      -0.0563     [Fe]     Fe   \n91562                   0.0          -3.4365       0.9313     [Mn]     Mn   \n91682                   0.0           3.4364       0.9315     [Mn]     Mn   \n93558                   0.0          -3.8419       0.1001     [Fe]     Fe   \n...                     ...              ...          ...      ...    ...   \n228640                  0.0          -4.2040       0.1188     [Mn]     Mn   \n230526                  0.0           4.2058      -0.0129     [Mn]     Mn   \n230628                  0.0           4.2058      -0.0129     [Mn]     Mn   \n230748                  0.0          -4.2058      -0.0129     [Mn]     Mn   \n230868                  0.0          -4.2058      -0.0129     [Mn]     Mn   \n\n         colour                                           sc_paths  occupation  \n91340   #E06633  /Users/azadoks/Data/uv_ml/iurii/Olivines/LiFe0...         0.0  \n91442   #E06633  /Users/azadoks/Data/uv_ml/iurii/Olivines/LiFe0...         0.0  \n91562   #9C7AC7  /Users/azadoks/Data/uv_ml/iurii/Olivines/LiFe0...         0.0  \n91682   #9C7AC7  /Users/azadoks/Data/uv_ml/iurii/Olivines/LiFe0...         0.0  \n93558   #E06633  /Users/azadoks/Data/uv_ml/iurii/Olivines/LiFe0...         0.0  \n...         ...                                                ...         ...  \n228640  #9C7AC7  /Users/azadoks/Data/uv_ml/iurii/Olivines/LiMnP...         1.0  \n230526  #9C7AC7  /Users/azadoks/Data/uv_ml/iurii/Olivines/LiMnP...         1.0  \n230628  #9C7AC7  /Users/azadoks/Data/uv_ml/iurii/Olivines/LiMnP...         1.0  \n230748  #9C7AC7  /Users/azadoks/Data/uv_ml/iurii/Olivines/LiMnP...         1.0  \n230868  #9C7AC7  /Users/azadoks/Data/uv_ml/iurii/Olivines/LiMnP...         1.0  \n\n[256 rows x 50 columns]",
      "text/html": "<div>\n<style scoped>\n    .dataframe tbody tr th:only-of-type {\n        vertical-align: middle;\n    }\n\n    .dataframe tbody tr th {\n        vertical-align: top;\n    }\n\n    .dataframe thead th {\n        text-align: right;\n    }\n</style>\n<table border=\"1\" class=\"dataframe\">\n  <thead>\n    <tr style=\"text-align: right;\">\n      <th></th>\n      <th>dir</th>\n      <th>material</th>\n      <th>is_vdw</th>\n      <th>uv_iter</th>\n      <th>formula</th>\n      <th>cell</th>\n      <th>n_atoms_uc</th>\n      <th>person</th>\n      <th>structure_index</th>\n      <th>pw_time_unix</th>\n      <th>...</th>\n      <th>atom_2_occs_2</th>\n      <th>atom_2_frac_coords</th>\n      <th>atom_2_starting_mag</th>\n      <th>atom_2_final_mag</th>\n      <th>param_delta</th>\n      <th>species</th>\n      <th>label</th>\n      <th>colour</th>\n      <th>sc_paths</th>\n      <th>occupation</th>\n    </tr>\n  </thead>\n  <tbody>\n    <tr>\n      <th>91340</th>\n      <td>/Users/azadoks/Data/uv_ml/iurii/Olivines/LiFe0...</td>\n      <td>A1_Li0.00Mn0.5Fe0.5PO4</td>\n      <td>False</td>\n      <td>1</td>\n      <td></td>\n      <td>[18.5936265225, -0.0009754750000000001, 0.0072...</td>\n      <td>24</td>\n      <td>iurii</td>\n      <td>68</td>\n      <td>1618231488</td>\n      <td>...</td>\n      <td>[[0.997, 0.0, 0.0, 0.0, 0.0], [0.0, 0.992, 0.0...</td>\n      <td>[-0.0073431, -0.00041139999999999997, -0.01556...</td>\n      <td>0.0</td>\n      <td>-3.9118</td>\n      <td>-0.1663</td>\n      <td>[Fe]</td>\n      <td>Fe</td>\n      <td>#E06633</td>\n      <td>/Users/azadoks/Data/uv_ml/iurii/Olivines/LiFe0...</td>\n      <td>0.0</td>\n    </tr>\n    <tr>\n      <th>91442</th>\n      <td>/Users/azadoks/Data/uv_ml/iurii/Olivines/LiFe0...</td>\n      <td>A1_Li0.00Mn0.5Fe0.5PO4</td>\n      <td>False</td>\n      <td>1</td>\n      <td></td>\n      <td>[18.5936265225, -0.0009754750000000001, 0.0072...</td>\n      <td>24</td>\n      <td>iurii</td>\n      <td>68</td>\n      <td>1618231488</td>\n      <td>...</td>\n      <td>[[0.092, 0.014, 0.0, -0.006, 0.0], [0.014, 0.1...</td>\n      <td>[-0.056849399999999994, 0.4995747, -0.51556099...</td>\n      <td>0.0</td>\n      <td>3.9077</td>\n      <td>-0.0563</td>\n      <td>[Fe]</td>\n      <td>Fe</td>\n      <td>#E06633</td>\n      <td>/Users/azadoks/Data/uv_ml/iurii/Olivines/LiFe0...</td>\n      <td>0.0</td>\n    </tr>\n    <tr>\n      <th>91562</th>\n      <td>/Users/azadoks/Data/uv_ml/iurii/Olivines/LiFe0...</td>\n      <td>A1_Li0.00Mn0.5Fe0.5PO4</td>\n      <td>False</td>\n      <td>1</td>\n      <td></td>\n      <td>[18.5936265225, -0.0009754750000000001, 0.0072...</td>\n      <td>24</td>\n      <td>iurii</td>\n      <td>68</td>\n      <td>1618231488</td>\n      <td>...</td>\n      <td>[[0.991, -0.033, 0.0, -0.039, 0.0], [-0.033, 0...</td>\n      <td>[0.5048417, -0.0004909, -0.39822029999999997]</td>\n      <td>0.0</td>\n      <td>-3.4365</td>\n      <td>0.9313</td>\n      <td>[Mn]</td>\n      <td>Mn</td>\n      <td>#9C7AC7</td>\n      <td>/Users/azadoks/Data/uv_ml/iurii/Olivines/LiFe0...</td>\n      <td>0.0</td>\n    </tr>\n    <tr>\n      <th>91682</th>\n      <td>/Users/azadoks/Data/uv_ml/iurii/Olivines/LiFe0...</td>\n      <td>A1_Li0.00Mn0.5Fe0.5PO4</td>\n      <td>False</td>\n      <td>1</td>\n      <td></td>\n      <td>[18.5936265225, -0.0009754750000000001, 0.0072...</td>\n      <td>24</td>\n      <td>iurii</td>\n      <td>68</td>\n      <td>1618231488</td>\n      <td>...</td>\n      <td>[[0.048, -0.008, 0.0, 0.016, 0.0], [-0.008, 0....</td>\n      <td>[0.43096, 0.4996846, -0.8981882999999999]</td>\n      <td>0.0</td>\n      <td>3.4364</td>\n      <td>0.9315</td>\n      <td>[Mn]</td>\n      <td>Mn</td>\n      <td>#9C7AC7</td>\n      <td>/Users/azadoks/Data/uv_ml/iurii/Olivines/LiFe0...</td>\n      <td>0.0</td>\n    </tr>\n    <tr>\n      <th>93558</th>\n      <td>/Users/azadoks/Data/uv_ml/iurii/Olivines/LiFe0...</td>\n      <td>A1_Li0.00Mn0.5Fe0.5PO4</td>\n      <td>False</td>\n      <td>2</td>\n      <td></td>\n      <td>[18.577492166, -0.0007413610000000001, 0.00680...</td>\n      <td>24</td>\n      <td>iurii</td>\n      <td>69</td>\n      <td>1618391955</td>\n      <td>...</td>\n      <td>[[0.997, 0.0, 0.0, 0.0, 0.0], [0.0, 0.991, 0.0...</td>\n      <td>[-0.0069193, -0.00040439999999999996, -0.01602...</td>\n      <td>0.0</td>\n      <td>-3.8419</td>\n      <td>0.1001</td>\n      <td>[Fe]</td>\n      <td>Fe</td>\n      <td>#E06633</td>\n      <td>/Users/azadoks/Data/uv_ml/iurii/Olivines/LiFe0...</td>\n      <td>0.0</td>\n    </tr>\n    <tr>\n      <th>...</th>\n      <td>...</td>\n      <td>...</td>\n      <td>...</td>\n      <td>...</td>\n      <td>...</td>\n      <td>...</td>\n      <td>...</td>\n      <td>...</td>\n      <td>...</td>\n      <td>...</td>\n      <td>...</td>\n      <td>...</td>\n      <td>...</td>\n      <td>...</td>\n      <td>...</td>\n      <td>...</td>\n      <td>...</td>\n      <td>...</td>\n      <td>...</td>\n      <td>...</td>\n      <td>...</td>\n    </tr>\n    <tr>\n      <th>228640</th>\n      <td>/Users/azadoks/Data/uv_ml/iurii/Olivines/LiMnP...</td>\n      <td>B5_Li1.00MnPO4</td>\n      <td>False</td>\n      <td>3</td>\n      <td></td>\n      <td>[19.7940850765, 0.0, 0.0, 0.0, 11.511736551, 0...</td>\n      <td>28</td>\n      <td>iurii</td>\n      <td>130</td>\n      <td>1594749234</td>\n      <td>...</td>\n      <td>[[0.996, -0.001, 0.0, -0.001, 0.0], [-0.001, 0...</td>\n      <td>[0.4372178, 0.5, -0.9466146]</td>\n      <td>0.0</td>\n      <td>-4.2040</td>\n      <td>0.1188</td>\n      <td>[Mn]</td>\n      <td>Mn</td>\n      <td>#9C7AC7</td>\n      <td>/Users/azadoks/Data/uv_ml/iurii/Olivines/LiMnP...</td>\n      <td>1.0</td>\n    </tr>\n    <tr>\n      <th>230526</th>\n      <td>/Users/azadoks/Data/uv_ml/iurii/Olivines/LiMnP...</td>\n      <td>B5_Li1.00MnPO4</td>\n      <td>False</td>\n      <td>4</td>\n      <td></td>\n      <td>[19.7940850765, 0.0, 0.0, 0.0, 11.511736551, 0...</td>\n      <td>28</td>\n      <td>iurii</td>\n      <td>131</td>\n      <td>1595848609</td>\n      <td>...</td>\n      <td>[[0.02, 0.002, 0.0, 0.006, 0.0], [0.002, 0.057...</td>\n      <td>[-0.001527, 0.0, 0.0021371999999999997]</td>\n      <td>0.0</td>\n      <td>4.2058</td>\n      <td>-0.0129</td>\n      <td>[Mn]</td>\n      <td>Mn</td>\n      <td>#9C7AC7</td>\n      <td>/Users/azadoks/Data/uv_ml/iurii/Olivines/LiMnP...</td>\n      <td>1.0</td>\n    </tr>\n    <tr>\n      <th>230628</th>\n      <td>/Users/azadoks/Data/uv_ml/iurii/Olivines/LiMnP...</td>\n      <td>B5_Li1.00MnPO4</td>\n      <td>False</td>\n      <td>4</td>\n      <td></td>\n      <td>[19.7940850765, 0.0, 0.0, 0.0, 11.511736551, 0...</td>\n      <td>28</td>\n      <td>iurii</td>\n      <td>131</td>\n      <td>1595848609</td>\n      <td>...</td>\n      <td>[[0.02, -0.002, 0.0, 0.006, 0.0], [-0.002, 0.0...</td>\n      <td>[0.4984724, 0.0, -0.4466148]</td>\n      <td>0.0</td>\n      <td>4.2058</td>\n      <td>-0.0129</td>\n      <td>[Mn]</td>\n      <td>Mn</td>\n      <td>#9C7AC7</td>\n      <td>/Users/azadoks/Data/uv_ml/iurii/Olivines/LiMnP...</td>\n      <td>1.0</td>\n    </tr>\n    <tr>\n      <th>230748</th>\n      <td>/Users/azadoks/Data/uv_ml/iurii/Olivines/LiMnP...</td>\n      <td>B5_Li1.00MnPO4</td>\n      <td>False</td>\n      <td>4</td>\n      <td></td>\n      <td>[19.7940850765, 0.0, 0.0, 0.0, 11.511736551, 0...</td>\n      <td>28</td>\n      <td>iurii</td>\n      <td>131</td>\n      <td>1595848609</td>\n      <td>...</td>\n      <td>[[0.996, 0.001, 0.0, -0.001, 0.0], [0.001, 0.9...</td>\n      <td>[-0.06278249999999999, 0.5, -0.4978627]</td>\n      <td>0.0</td>\n      <td>-4.2058</td>\n      <td>-0.0129</td>\n      <td>[Mn]</td>\n      <td>Mn</td>\n      <td>#9C7AC7</td>\n      <td>/Users/azadoks/Data/uv_ml/iurii/Olivines/LiMnP...</td>\n      <td>1.0</td>\n    </tr>\n    <tr>\n      <th>230868</th>\n      <td>/Users/azadoks/Data/uv_ml/iurii/Olivines/LiMnP...</td>\n      <td>B5_Li1.00MnPO4</td>\n      <td>False</td>\n      <td>4</td>\n      <td></td>\n      <td>[19.7940850765, 0.0, 0.0, 0.0, 11.511736551, 0...</td>\n      <td>28</td>\n      <td>iurii</td>\n      <td>131</td>\n      <td>1595848609</td>\n      <td>...</td>\n      <td>[[0.996, -0.001, 0.0, -0.001, 0.0], [-0.001, 0...</td>\n      <td>[0.4372178, 0.5, -0.9466146]</td>\n      <td>0.0</td>\n      <td>-4.2058</td>\n      <td>-0.0129</td>\n      <td>[Mn]</td>\n      <td>Mn</td>\n      <td>#9C7AC7</td>\n      <td>/Users/azadoks/Data/uv_ml/iurii/Olivines/LiMnP...</td>\n      <td>1.0</td>\n    </tr>\n  </tbody>\n</table>\n<p>256 rows × 50 columns</p>\n</div>"
     },
     "execution_count": 239,
     "metadata": {},
     "output_type": "execute_result"
    }
   ],
   "source": [
    "uv_data = pd.read_json(EXPERIMENT_DIR / DATASET)\n",
    "labels = {\n",
    "    'LiFePO4': 'Li$_{x}$FePO$_4$',\n",
    "    'LiMnPO4': 'Li$_{x}$MnPO$_4$',\n",
    "    \"LiFe0.5Mn0.5PO4\": \"Li$_{x}$Fe$_{0.5}$Mn$_{0.5}$PO$_4$\",\n",
    "}\n",
    "uv_data"
   ]
  },
  {
   "cell_type": "code",
   "execution_count": 240,
   "outputs": [
    {
     "data": {
      "text/plain": "Series([], Name: count, dtype: int64)"
     },
     "execution_count": 240,
     "metadata": {},
     "output_type": "execute_result"
    }
   ],
   "source": [
    "uv_data[uv_data[keys.PARAM_TYPE] == keys.PARAM_V].groupby(keys.MATERIAL).value_counts([olivines.Keys.OCCUPATION])"
   ],
   "metadata": {
    "collapsed": false,
    "ExecuteTime": {
     "end_time": "2023-08-21T13:28:07.443232914Z",
     "start_time": "2023-08-21T13:28:07.197064712Z"
    }
   }
  },
  {
   "cell_type": "code",
   "execution_count": 241,
   "outputs": [
    {
     "data": {
      "text/plain": "0"
     },
     "execution_count": 241,
     "metadata": {},
     "output_type": "execute_result"
    }
   ],
   "source": [
    "sum(uv_data[keys.PARAM_OUT] < 0.25)"
   ],
   "metadata": {
    "collapsed": false,
    "ExecuteTime": {
     "end_time": "2023-08-21T13:28:07.444267090Z",
     "start_time": "2023-08-21T13:28:07.257591833Z"
    }
   }
  },
  {
   "cell_type": "code",
   "execution_count": 242,
   "metadata": {
    "ExecuteTime": {
     "end_time": "2023-08-21T13:28:07.536067860Z",
     "start_time": "2023-08-21T13:28:07.401767014Z"
    }
   },
   "outputs": [],
   "source": [
    "def create_plots(df: pd.DataFrame, logy=False, scale=1.0):\n",
    "    comparison_plots = {}\n",
    "\n",
    "    if olivines.Keys.TRAIN_RMSE in df:\n",
    "        cols = [olivines.Keys.TRAIN_RMSE, olivines.Keys.MODEL_RMSE]\n",
    "        series_labels = 'ML (train)', 'ML (validate)'\n",
    "    else:\n",
    "        cols = [olivines.Keys.MODEL_RMSE]\n",
    "        series_labels = ('ML (validate)',)\n",
    "\n",
    "    for material in df[olivines.Keys.MATERIAL].unique():\n",
    "        frame = df[df[olivines.Keys.MATERIAL] == material]\n",
    "        ref_rmse = frame.iloc[0][olivines.Keys.REF_RMSE]  # They are all the same\n",
    "\n",
    "        grouped = frame.groupby(olivines.Keys.NUM_OCCUPATIONS)[cols]\n",
    "        mins = grouped.min()\n",
    "        maxs = grouped.max()\n",
    "        means = grouped.mean()\n",
    "\n",
    "        errors = [[means[c] - mins[c], maxs[c] - means[c]] for c in cols]\n",
    "\n",
    "        fig = plt.figure(figsize=(6 * scale, 4 * scale))\n",
    "        ax = fig.gca()\n",
    "\n",
    "        ax = means.plot(\n",
    "            ax=ax,\n",
    "            # colormap=plots.colourmap,\n",
    "            color=plots.train_validate_colours.values(),\n",
    "            yerr=errors,\n",
    "            fmt='o--',\n",
    "            logy=logy,\n",
    "            solid_capstyle='projecting',\n",
    "            capsize=5,\n",
    "            capthick=2,\n",
    "            title=labels[material],\n",
    "            # linewidth=3,\n",
    "            # alpha=0.5,\n",
    "            ylabel='RMSE (eV)',\n",
    "            xlabel='Num. training occupations',\n",
    "        );\n",
    "\n",
    "        # Plot the baseline RMSE\n",
    "        ax.plot(\n",
    "            [df[olivines.Keys.NUM_OCCUPATIONS].min(),\n",
    "             df[olivines.Keys.NUM_OCCUPATIONS].max()],\n",
    "            [ref_rmse, ref_rmse],\n",
    "            c=plots.train_validate_colours[keys.REFERENCE]\n",
    "        )\n",
    "\n",
    "        ax.legend((f\"Ref {ref_rmse * 1000:.0f} meV\",) + series_labels)\n",
    "        ax.xaxis.set_major_locator(matplotlib.ticker.MaxNLocator(integer=True))\n",
    "        ax.set_ylim([0, 0.6])\n",
    "\n",
    "        comparison_plots[material] = ax\n",
    "\n",
    "    return comparison_plots"
   ]
  },
  {
   "cell_type": "markdown",
   "metadata": {},
   "source": [
    "# Olivines analysis"
   ]
  },
  {
   "cell_type": "code",
   "execution_count": 243,
   "metadata": {
    "ExecuteTime": {
     "end_time": "2023-08-21T13:28:07.633130318Z",
     "start_time": "2023-08-21T13:28:07.493113789Z"
    }
   },
   "outputs": [],
   "source": [
    "results_file = EXPERIMENT_DIR / RESULTS_FILE\n",
    "with open(results_file, 'r') as file:\n",
    "    hubbard_u_olivines = pd.DataFrame(json.load(file))\n",
    "hubbard_u_olivines;"
   ]
  },
  {
   "cell_type": "code",
   "execution_count": 244,
   "outputs": [
    {
     "data": {
      "text/plain": "PosixPath('outputs/olivines/batch_size=32,max_epochs=12000/2023-08-21_10-38-09/plots')"
     },
     "execution_count": 244,
     "metadata": {},
     "output_type": "execute_result"
    }
   ],
   "source": [
    "save_to = EXPERIMENT_DIR / \"plots\"\n",
    "save_to.mkdir(exist_ok=True)\n",
    "save_to"
   ],
   "metadata": {
    "collapsed": false,
    "ExecuteTime": {
     "end_time": "2023-08-21T13:28:07.776027296Z",
     "start_time": "2023-08-21T13:28:07.634644986Z"
    }
   }
  },
  {
   "cell_type": "code",
   "execution_count": 245,
   "metadata": {
    "ExecuteTime": {
     "end_time": "2023-08-21T13:28:08.422980674Z",
     "start_time": "2023-08-21T13:28:07.727604162Z"
    }
   },
   "outputs": [
    {
     "data": {
      "text/plain": "<Figure size 420x280 with 1 Axes>",
      "image/png": "[encoded data removed]"
     },
     "metadata": {},
     "output_type": "display_data"
    }
   ],
   "source": [
    "for material, ax in create_plots(hubbard_u_olivines, scale=0.7).items():\n",
    "    ax.get_figure().savefig(save_to / f\"{material}_U_occs_comparison.pdf\", bbox_inches='tight')"
   ]
  },
  {
   "cell_type": "code",
   "execution_count": 246,
   "metadata": {
    "ExecuteTime": {
     "end_time": "2023-08-21T13:28:08.542307253Z",
     "start_time": "2023-08-21T13:28:08.425559884Z"
    }
   },
   "outputs": [
    {
     "ename": "FileNotFoundError",
     "evalue": "[Errno 2] No such file or directory: 'hubbard_v_olivines.json'",
     "output_type": "error",
     "traceback": [
      "\u001B[0;31m---------------------------------------------------------------------------\u001B[0m",
      "\u001B[0;31mFileNotFoundError\u001B[0m                         Traceback (most recent call last)",
      "Cell \u001B[0;32mIn[246], line 2\u001B[0m\n\u001B[1;32m      1\u001B[0m results_file \u001B[38;5;241m=\u001B[39m \u001B[38;5;124m'\u001B[39m\u001B[38;5;124mhubbard_v_olivines.json\u001B[39m\u001B[38;5;124m'\u001B[39m\n\u001B[0;32m----> 2\u001B[0m \u001B[38;5;28;01mwith\u001B[39;00m \u001B[38;5;28;43mopen\u001B[39;49m\u001B[43m(\u001B[49m\u001B[43mresults_file\u001B[49m\u001B[43m,\u001B[49m\u001B[43m \u001B[49m\u001B[38;5;124;43m'\u001B[39;49m\u001B[38;5;124;43mr\u001B[39;49m\u001B[38;5;124;43m'\u001B[39;49m\u001B[43m)\u001B[49m \u001B[38;5;28;01mas\u001B[39;00m file:\n\u001B[1;32m      3\u001B[0m     hubbard_v_olivines \u001B[38;5;241m=\u001B[39m pd\u001B[38;5;241m.\u001B[39mDataFrame(json\u001B[38;5;241m.\u001B[39mload(file))\n\u001B[1;32m      5\u001B[0m \u001B[38;5;28;01mfor\u001B[39;00m material, ax \u001B[38;5;129;01min\u001B[39;00m create_plots(hubbard_v_olivines, logy\u001B[38;5;241m=\u001B[39m\u001B[38;5;28;01mTrue\u001B[39;00m, scale\u001B[38;5;241m=\u001B[39m\u001B[38;5;241m0.7\u001B[39m)\u001B[38;5;241m.\u001B[39mitems():\n",
      "File \u001B[0;32m/home/martin/.local/miniconda3/envs/dftuv/lib/python3.10/site-packages/IPython/core/interactiveshell.py:284\u001B[0m, in \u001B[0;36m_modified_open\u001B[0;34m(file, *args, **kwargs)\u001B[0m\n\u001B[1;32m    277\u001B[0m \u001B[38;5;28;01mif\u001B[39;00m file \u001B[38;5;129;01min\u001B[39;00m {\u001B[38;5;241m0\u001B[39m, \u001B[38;5;241m1\u001B[39m, \u001B[38;5;241m2\u001B[39m}:\n\u001B[1;32m    278\u001B[0m     \u001B[38;5;28;01mraise\u001B[39;00m \u001B[38;5;167;01mValueError\u001B[39;00m(\n\u001B[1;32m    279\u001B[0m         \u001B[38;5;124mf\u001B[39m\u001B[38;5;124m\"\u001B[39m\u001B[38;5;124mIPython won\u001B[39m\u001B[38;5;124m'\u001B[39m\u001B[38;5;124mt let you open fd=\u001B[39m\u001B[38;5;132;01m{\u001B[39;00mfile\u001B[38;5;132;01m}\u001B[39;00m\u001B[38;5;124m by default \u001B[39m\u001B[38;5;124m\"\u001B[39m\n\u001B[1;32m    280\u001B[0m         \u001B[38;5;124m\"\u001B[39m\u001B[38;5;124mas it is likely to crash IPython. If you know what you are doing, \u001B[39m\u001B[38;5;124m\"\u001B[39m\n\u001B[1;32m    281\u001B[0m         \u001B[38;5;124m\"\u001B[39m\u001B[38;5;124myou can use builtins\u001B[39m\u001B[38;5;124m'\u001B[39m\u001B[38;5;124m open.\u001B[39m\u001B[38;5;124m\"\u001B[39m\n\u001B[1;32m    282\u001B[0m     )\n\u001B[0;32m--> 284\u001B[0m \u001B[38;5;28;01mreturn\u001B[39;00m \u001B[43mio_open\u001B[49m\u001B[43m(\u001B[49m\u001B[43mfile\u001B[49m\u001B[43m,\u001B[49m\u001B[43m \u001B[49m\u001B[38;5;241;43m*\u001B[39;49m\u001B[43margs\u001B[49m\u001B[43m,\u001B[49m\u001B[43m \u001B[49m\u001B[38;5;241;43m*\u001B[39;49m\u001B[38;5;241;43m*\u001B[39;49m\u001B[43mkwargs\u001B[49m\u001B[43m)\u001B[49m\n",
      "\u001B[0;31mFileNotFoundError\u001B[0m: [Errno 2] No such file or directory: 'hubbard_v_olivines.json'"
     ]
    }
   ],
   "source": [
    "results_file = 'hubbard_v_olivines.json'\n",
    "with open(results_file, 'r') as file:\n",
    "    hubbard_v_olivines = pd.DataFrame(json.load(file))\n",
    "\n",
    "for material, ax in create_plots(hubbard_v_olivines, logy=True, scale=0.7).items():\n",
    "    ax.get_figure().savefig(save_to / \"f{material}_V_occs_comparison.pdf\", bbox_inches='tight')\n",
    "    \n",
    "save_to"
   ]
  },
  {
   "cell_type": "code",
   "execution_count": null,
   "outputs": [],
   "source": [],
   "metadata": {
    "collapsed": false,
    "ExecuteTime": {
     "start_time": "2023-08-21T13:28:08.546013829Z"
    }
   }
  },
  {
   "cell_type": "code",
   "execution_count": null,
   "outputs": [],
   "source": [
    "uv_data"
   ],
   "metadata": {
    "collapsed": false,
    "ExecuteTime": {
     "end_time": "2023-08-21T13:28:08.561827844Z",
     "start_time": "2023-08-21T13:28:08.550044085Z"
    }
   }
  },
  {
   "cell_type": "code",
   "execution_count": null,
   "outputs": [],
   "source": [],
   "metadata": {
    "collapsed": false,
    "ExecuteTime": {
     "start_time": "2023-08-21T13:28:08.552444097Z"
    }
   }
  }
 ],
 "metadata": {
  "kernelspec": {
   "display_name": "Python 3.9.12 ('dftuv')",
   "language": "python",
   "name": "python3"
  },
  "language_info": {
   "codemirror_mode": {
    "name": "ipython",
    "version": 3
   },
   "file_extension": ".py",
   "mimetype": "text/x-python",
   "name": "python",
   "nbconvert_exporter": "python",
   "pygments_lexer": "ipython3",
   "version": "3.9.12"
  },
  "orig_nbformat": 4,
  "vscode": {
   "interpreter": {
    "hash": "28c3805fb3fb891793baa5922281dfc0c3881e930afb491195de5fe855d16202"
   }
  }
 },
 "nbformat": 4,
 "nbformat_minor": 2
}
