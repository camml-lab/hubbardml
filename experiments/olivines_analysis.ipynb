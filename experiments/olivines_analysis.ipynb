{
 "cells": [
  {
   "cell_type": "code",
   "execution_count": null,
   "metadata": {},
   "outputs": [],
   "source": [
    "import collections\n",
    "import json\n",
    "import pathlib\n",
    "\n",
    "import matplotlib.ticker\n",
    "import matplotlib.pylab as plt\n",
    "import numpy as np\n",
    "import pandas as pd\n",
    "\n",
    "from hubbardml import datasets\n",
    "from hubbardml import keys\n",
    "from hubbardml import plots\n",
    "\n",
    "import olivines"
   ]
  },
  {
   "cell_type": "code",
   "execution_count": null,
   "metadata": {},
   "outputs": [],
   "source": [
    "# The set of experiments to consider \n",
    "EXPERIMENTS = tuple(\n",
    "    map(\n",
    "        pathlib.Path,\n",
    "        (\"outputs/olivines/batch_size=8,max_epochs=6000/2024-04-08_14-39-31\",\n",
    "         \"outputs/olivines/batch_size=8,max_epochs=6000/2024-05-06_17-39-53\",\n",
    "         \"outputs/olivines/batch_size=8,max_epochs=6000/2024-05-07_11-53-29\",)\n",
    "    )\n",
    ")\n",
    "\n",
    "EXPERIMENT_DIR = EXPERIMENTS[0]\n",
    "\n",
    "DATASET = \"dataset.json\"\n",
    "RESULTS_FILE = \"hubbard_u_olivines.json\"\n",
    "OCC_STATE = \"occ_state\""
   ]
  },
  {
   "cell_type": "code",
   "execution_count": null,
   "metadata": {},
   "outputs": [],
   "source": [
    "all_results = tuple(map(lambda path: pd.read_json(path / RESULTS_FILE), EXPERIMENTS))"
   ]
  },
  {
   "cell_type": "code",
   "execution_count": null,
   "metadata": {},
   "outputs": [],
   "source": [
    "uv_data = pd.read_json(EXPERIMENT_DIR / DATASET)\n",
    "labels = {\n",
    "    'LiFePO4': 'Li$_{x}$FePO$_4$',\n",
    "    'LiMnPO4': 'Li$_{x}$MnPO$_4$',\n",
    "    \"LiFe0.5Mn0.5PO4\": \"Li$_{x}$Fe$_{0.5}$Mn$_{0.5}$PO$_4$\",\n",
    "}\n",
    "uv_data"
   ]
  },
  {
   "cell_type": "code",
   "execution_count": null,
   "metadata": {},
   "outputs": [],
   "source": [
    "uv_data[uv_data[keys.PARAM_TYPE] == keys.PARAM_V].groupby(keys.MATERIAL).value_counts([olivines.Keys.OCCUPATION])"
   ]
  },
  {
   "cell_type": "code",
   "execution_count": null,
   "metadata": {},
   "outputs": [],
   "source": [
    "def create_plots(df: pd.DataFrame, logy=False, scale=1.0, include_training=False, experiments: pd.DataFrame = None):\n",
    "    comparison_plots = {}\n",
    "\n",
    "    if include_training and olivines.Keys.TRAIN_RMSE in df:\n",
    "        cols = [olivines.Keys.TRAIN_RMSE, olivines.Keys.MODEL_RMSE]\n",
    "        series_labels = 'ML (training)', 'ML (validation)'\n",
    "        colors = plots.train_validate_colours[keys.TRAIN], plots.train_validate_colours[keys.VALIDATE]\n",
    "    else:\n",
    "        cols = [olivines.Keys.MODEL_RMSE]\n",
    "        series_labels = ('ML',)\n",
    "        colors = (plots.train_validate_colours[keys.VALIDATE],)\n",
    "\n",
    "    for idx, material in enumerate(df[olivines.Keys.MATERIAL].unique()):\n",
    "        frame = df[df[olivines.Keys.MATERIAL] == material]\n",
    "\n",
    "        if experiments is None:\n",
    "            ref_rmse = frame.iloc[0][olivines.Keys.REF_RMSE]  # They are all the same\n",
    "            ref_rmse_std = None\n",
    "        else:\n",
    "            # Calculate an average over multiple experiments\n",
    "            rmses = []\n",
    "            for entry in experiments:\n",
    "                sub = entry[entry[olivines.Keys.MATERIAL] == material]\n",
    "                rmses.append(sub.iloc[0][olivines.Keys.REF_RMSE])\n",
    "            ref_rmse = np.mean(rmses)\n",
    "            ref_rmse_std = np.std(rmses)\n",
    "\n",
    "        grouped = frame.groupby(olivines.Keys.NUM_OCCUPATIONS)[cols]\n",
    "        mins = grouped.min()\n",
    "        maxs = grouped.max()\n",
    "        means = grouped.mean()\n",
    "\n",
    "        # print(material, ref_rmse, means)\n",
    "\n",
    "        errors = [[means[c] - mins[c], maxs[c] - means[c]] for c in cols]\n",
    "\n",
    "        fig = plt.figure(figsize=(6 * scale, 4 * scale))\n",
    "        ax = fig.gca()\n",
    "\n",
    "        ax = means.plot(\n",
    "            ax=ax,\n",
    "            # colormap=plots.colourmap,\n",
    "            color=colors,  # plots.train_validate_colours.values(),\n",
    "            yerr=errors,\n",
    "            fmt='o--',\n",
    "            logy=logy,\n",
    "            solid_capstyle='projecting',\n",
    "            capsize=5,\n",
    "            capthick=2,\n",
    "            # title=labels[material],\n",
    "            # linewidth=3,\n",
    "            # alpha=0.5,\n",
    "            ylabel='RMSE (eV)',\n",
    "            xlabel='$N_\\mathrm{c}$ ',\n",
    "            legend=False,\n",
    "        );\n",
    "\n",
    "        # Plot the baseline RMSE\n",
    "        ref_range = np.array([df[olivines.Keys.NUM_OCCUPATIONS].min(), df[olivines.Keys.NUM_OCCUPATIONS].max()])\n",
    "        ref_rmse = np.array([ref_rmse, ref_rmse])\n",
    "        ax.plot(\n",
    "            ref_range,\n",
    "            ref_rmse,\n",
    "            c=plots.train_validate_colours[keys.REFERENCE]\n",
    "        )\n",
    "        if idx == 2:\n",
    "            ax.legend((f\"Reference\",) + series_labels)\n",
    "\n",
    "        if ref_rmse_std is not None:\n",
    "            ax.fill_between(ref_range, ref_rmse - ref_rmse_std, ref_rmse + ref_rmse_std, alpha=0.1)\n",
    "\n",
    "        # Plot the individual points\n",
    "        for oxidation in \"2+\", \"3+\":\n",
    "            for _idx, row in frame[frame[\"oxidation\"] == oxidation].iterrows():\n",
    "                ax.annotate(\n",
    "                    oxidation,\n",
    "                    xy=(row[olivines.Keys.NUM_OCCUPATIONS], row[olivines.Keys.MODEL_RMSE]),\n",
    "                    xytext=(row[olivines.Keys.NUM_OCCUPATIONS] + 20, row[olivines.Keys.MODEL_RMSE] - 12),\n",
    "                    fontsize=9,\n",
    "                    arrowprops=dict(facecolor=\"black\", arrowstyle=\"-\"),\n",
    "                    textcoords='offset pixels',\n",
    "                    # ha='left',\n",
    "                    # va='bottom',\n",
    "                )\n",
    "                # ax.text(\n",
    "                #     row[olivines.Keys.NUM_OCCUPATIONS] + 0.07,\n",
    "                #     row[olivines.Keys.MODEL_RMSE],\n",
    "                #     oxidation,\n",
    "                #     fontsize=11,\n",
    "                #     ha='left',\n",
    "                #     va='center',\n",
    "                # )\n",
    "\n",
    "        ax.scatter(\n",
    "            frame[olivines.Keys.NUM_OCCUPATIONS],\n",
    "            frame[olivines.Keys.MODEL_RMSE],\n",
    "            c=plots.train_validate_colours[keys.VALIDATE],\n",
    "            s=12,\n",
    "            alpha=0.5,\n",
    "        )\n",
    "\n",
    "        ax.yaxis.set_major_formatter(plt.FormatStrFormatter('%.2f'))\n",
    "        # ax.legend((f\"Ref {ref_rmse * 1000:.0f} meV\",) + series_labels)\n",
    "\n",
    "        ax.xaxis.set_major_locator(matplotlib.ticker.MaxNLocator(integer=True))\n",
    "        # ax.set_ylim([0, 1.2])\n",
    "\n",
    "        comparison_plots[material] = ax\n",
    "\n",
    "    return comparison_plots"
   ]
  },
  {
   "cell_type": "markdown",
   "metadata": {},
   "source": [
    "# Olivines analysis"
   ]
  },
  {
   "cell_type": "code",
   "execution_count": null,
   "metadata": {},
   "outputs": [],
   "source": [
    "results_file = EXPERIMENT_DIR / RESULTS_FILE\n",
    "with open(results_file, 'r') as file:\n",
    "    hubbard_u_olivines = pd.DataFrame(json.load(file))"
   ]
  },
  {
   "cell_type": "code",
   "execution_count": null,
   "metadata": {},
   "outputs": [],
   "source": [
    "def to_oxidation(occ):\n",
    "    if occ == ['0.00']:\n",
    "        return \"3+\"\n",
    "    if occ == ['1.00']:\n",
    "        return \"2+\"\n",
    "\n",
    "    return \"2/3+\"\n",
    "\n",
    "\n",
    "hubbard_u_olivines[\"oxidation\"] = hubbard_u_olivines[\"occupation\"].apply(to_oxidation)\n",
    "hubbard_u_olivines"
   ]
  },
  {
   "cell_type": "code",
   "execution_count": null,
   "metadata": {},
   "outputs": [],
   "source": [
    "save_to = EXPERIMENT_DIR / \"plots\"\n",
    "save_to.mkdir(exist_ok=True)\n",
    "save_to"
   ]
  },
  {
   "cell_type": "code",
   "execution_count": null,
   "metadata": {},
   "outputs": [],
   "source": [
    "for material, ax in create_plots(hubbard_u_olivines, scale=0.7, experiments=all_results).items():\n",
    "    path = save_to / f\"{material}_U_occs_comparison.pdf\"\n",
    "    ax.get_figure().savefig(path, bbox_inches='tight')\n",
    "    print(path.absolute())\n"
   ]
  },
  {
   "cell_type": "code",
   "execution_count": null,
   "metadata": {},
   "outputs": [],
   "source": [
    "uv_data[keys.SPECIES] = uv_data[keys.SPECIES].map(frozenset)"
   ]
  },
  {
   "cell_type": "code",
   "execution_count": null,
   "metadata": {},
   "outputs": [],
   "source": [
    "fig = plots.plot_param_histogram(\n",
    "    uv_data,\n",
    "    bins=30,\n",
    "    density=False\n",
    ")\n",
    "fig.set_size_inches(5, 2)\n",
    "path = EXPERIMENT_DIR / \"plots\" / \"param_histogram.pdf\"\n",
    "fig.savefig(path, bbox_inches='tight')\n",
    "path.absolute()"
   ]
  },
  {
   "cell_type": "code",
   "execution_count": null,
   "metadata": {},
   "outputs": [],
   "source": [
    "results_file = 'hubbard_v_olivines.json'\n",
    "with open(results_file, 'r') as file:\n",
    "    hubbard_v_olivines = pd.DataFrame(json.load(file))\n",
    "\n",
    "for material, ax in create_plots(hubbard_v_olivines, logy=True, scale=0.7).items():\n",
    "    ax.get_figure().savefig(save_to / \"f{material}_V_occs_comparison.pdf\", bbox_inches='tight')\n",
    "\n",
    "save_to"
   ]
  },
  {
   "cell_type": "code",
   "execution_count": null,
   "metadata": {},
   "outputs": [],
   "source": []
  },
  {
   "cell_type": "code",
   "execution_count": null,
   "metadata": {},
   "outputs": [],
   "source": [
    "for material in olivines.MATERIALS:\n",
    "    print(material)\n",
    "    subset = uv_data[uv_data[keys.DIR].str.contains(material)]\n",
    "    elements = subset[keys.ATOM_1_ELEMENT].unique()\n",
    "\n",
    "    for element in elements:\n",
    "        elementsubset = subset[subset[keys.ATOM_1_ELEMENT] == element]\n",
    "        minval = elementsubset[keys.PARAM_OUT].min()\n",
    "        maxval = elementsubset[keys.PARAM_OUT].max()\n",
    "        stdev = elementsubset[keys.PARAM_OUT].std()\n",
    "\n",
    "        meanval = elementsubset[keys.PARAM_OUT].mean()\n",
    "        print(len(elementsubset), element, minval, maxval, meanval, stdev)\n"
   ]
  },
  {
   "cell_type": "code",
   "execution_count": null,
   "metadata": {},
   "outputs": [],
   "source": [
    "olivines.MATERIALS"
   ]
  },
  {
   "cell_type": "code",
   "execution_count": null,
   "metadata": {},
   "outputs": [],
   "source": [
    "ds = pd.read_json(EXPERIMENT_DIR / \"LiMnPO4_2_0.25-0.50\" / DATASET)"
   ]
  },
  {
   "cell_type": "code",
   "execution_count": null,
   "metadata": {},
   "outputs": [],
   "source": [
    "def relative_error(row):\n",
    "    return np.abs((row[keys.PARAM_OUT_PREDICTED] - row[keys.PARAM_OUT]) / row[keys.PARAM_OUT])\n",
    "\n",
    "\n",
    "ds[ds[keys.TRAINING_LABEL] == keys.VALIDATE].apply(relative_error, axis=1).hist()"
   ]
  },
  {
   "cell_type": "code",
   "execution_count": null,
   "metadata": {},
   "outputs": [],
   "source": []
  }
 ],
 "metadata": {
  "kernelspec": {
   "display_name": "Python 3.9.12 ('dftuv')",
   "language": "python",
   "name": "python3"
  },
  "language_info": {
   "codemirror_mode": {
    "name": "ipython",
    "version": 3
   },
   "file_extension": ".py",
   "mimetype": "text/x-python",
   "name": "python",
   "nbconvert_exporter": "python",
   "pygments_lexer": "ipython3"
  },
  "vscode": {
   "interpreter": {
    "hash": "28c3805fb3fb891793baa5922281dfc0c3881e930afb491195de5fe855d16202"
   }
  }
 },
 "nbformat": 4,
 "nbformat_minor": 2
}
