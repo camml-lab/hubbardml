{
 "cells": [
  {
   "cell_type": "code",
   "execution_count": 1,
   "metadata": {
    "ExecuteTime": {
     "end_time": "2023-12-21T17:02:23.385558969Z",
     "start_time": "2023-12-21T17:02:23.375865962Z"
    }
   },
   "outputs": [
    {
     "name": "stderr",
     "output_type": "stream",
     "text": [
      "/tmp/ipykernel_3709349/1077300395.py:7: DeprecationWarning: \n",
      "Pyarrow will become a required dependency of pandas in the next major release of pandas (pandas 3.0),\n",
      "(to allow more performant data types, such as the Arrow string type, and better interoperability with other libraries)\n",
      "but was not found to be installed on your system.\n",
      "If this would cause problems for you,\n",
      "please provide us feedback at https://github.com/pandas-dev/pandas/issues/54466\n",
      "        \n",
      "  import pandas as pd\n"
     ]
    }
   ],
   "source": [
    "import json\n",
    "import pathlib\n",
    "\n",
    "import matplotlib.ticker\n",
    "import matplotlib.pylab as plt\n",
    "import numpy as np\n",
    "import pandas as pd\n",
    "\n",
    "from hubbardml import datasets\n",
    "from hubbardml import keys\n",
    "from hubbardml import plots\n",
    "\n",
    "import olivines"
   ]
  },
  {
   "cell_type": "code",
   "execution_count": 2,
   "metadata": {
    "ExecuteTime": {
     "end_time": "2023-12-21T16:57:34.241452813Z",
     "start_time": "2023-12-21T16:57:34.237713252Z"
    },
    "collapsed": false
   },
   "outputs": [],
   "source": [
    "# EXPERIMENT_DIR = pathlib.Path(\n",
    "#     \"outputs/train.batch_size=32,train.max_epochs=4000/2023-07-27_14-28-01\"\n",
    "# )\n",
    "# EXPERIMENT_DIR = pathlib.Path(\n",
    "#     \"outputs/train.batch_size=16,train.max_epochs=10000/2023-07-28_15-29-57\"\n",
    "# )\n",
    "# EXPERIMENT_DIR = pathlib.Path(\n",
    "#     \"outputs/train.batch_size=1024,train.max_epochs=10000/2023-08-08_09-55-09\"\n",
    "# )\n",
    "EXPERIMENT_DIR = pathlib.Path(\n",
    "    \"outputs/olivines/train.batch_size=1024,train.max_epochs=20000/2023-08-10_10-33-42\"\n",
    ")\n",
    "EXPERIMENT_DIR = pathlib.Path(\n",
    "    \"outputs/olivines/train.batch_size=32,train.max_epochs=20000/2023-08-10_22-53-27\"\n",
    ")\n",
    "EXPERIMENT_DIR = pathlib.Path(\n",
    "    \"outputs/olivines/batch_size=64,max_epochs=12000/2023-08-20_21-47-51\"\n",
    ")\n",
    "# EXPERIMENT_DIR = pathlib.Path(\n",
    "#     \"outputs/olivines/batch_size=32,max_epochs=12000/2023-08-21_10-38-09\"\n",
    "# )\n",
    "EXPERIMENT_DIR = pathlib.Path(\n",
    "    \"outputs/olivines/batch_size=32,max_epochs=12000/2023-08-22_13-43-01\"\n",
    ")\n",
    "EXPERIMENT_DIR = pathlib.Path(\n",
    "    \"outputs/olivines/batch_size=16,max_epochs=12000/2023-08-25_15-47-48\"\n",
    ")\n",
    "EXPERIMENT_DIR = pathlib.Path(\n",
    "    \"outputs/olivines/batch_size=8,max_epochs=12000/2023-08-27_12-03-46\"\n",
    ")\n",
    "EXPERIMENT_DIR = pathlib.Path(\n",
    "    \"outputs/olivines/batch_size=8,max_epochs=6000/2024-03-05_11-58-26\"\n",
    ")\n",
    "\n",
    "\n",
    "DATASET = \"dataset.json\"\n",
    "RESULTS_FILE = \"hubbard_u_olivines.json\""
   ]
  },
  {
   "cell_type": "code",
   "execution_count": 3,
   "metadata": {
    "ExecuteTime": {
     "end_time": "2023-12-21T16:57:34.334930518Z",
     "start_time": "2023-12-21T16:57:34.241452950Z"
    }
   },
   "outputs": [
    {
     "data": {
      "text/html": [
       "<div>\n",
       "<style scoped>\n",
       "    .dataframe tbody tr th:only-of-type {\n",
       "        vertical-align: middle;\n",
       "    }\n",
       "\n",
       "    .dataframe tbody tr th {\n",
       "        vertical-align: top;\n",
       "    }\n",
       "\n",
       "    .dataframe thead th {\n",
       "        text-align: right;\n",
       "    }\n",
       "</style>\n",
       "<table border=\"1\" class=\"dataframe\">\n",
       "  <thead>\n",
       "    <tr style=\"text-align: right;\">\n",
       "      <th></th>\n",
       "      <th>dir</th>\n",
       "      <th>material</th>\n",
       "      <th>is_vdw</th>\n",
       "      <th>uv_iter</th>\n",
       "      <th>formula</th>\n",
       "      <th>cell</th>\n",
       "      <th>n_atoms_uc</th>\n",
       "      <th>person</th>\n",
       "      <th>structure_index</th>\n",
       "      <th>pw_time_unix</th>\n",
       "      <th>...</th>\n",
       "      <th>atom_2_occs_2</th>\n",
       "      <th>atom_2_frac_coords</th>\n",
       "      <th>atom_2_starting_mag</th>\n",
       "      <th>atom_2_final_mag</th>\n",
       "      <th>param_delta</th>\n",
       "      <th>species</th>\n",
       "      <th>label</th>\n",
       "      <th>colour</th>\n",
       "      <th>sc_paths</th>\n",
       "      <th>occupation</th>\n",
       "    </tr>\n",
       "  </thead>\n",
       "  <tbody>\n",
       "    <tr>\n",
       "      <th>301432</th>\n",
       "      <td>/Users/azadoks/Data/uv_ml/iurii/Olivines/LiFe0...</td>\n",
       "      <td>A1_Li0.00Mn0.5Fe0.5PO4</td>\n",
       "      <td>False</td>\n",
       "      <td>1</td>\n",
       "      <td></td>\n",
       "      <td>[18.5936265225, -0.0009754750000000001, 0.0072...</td>\n",
       "      <td>24</td>\n",
       "      <td>iurii</td>\n",
       "      <td>156</td>\n",
       "      <td>1618231488</td>\n",
       "      <td>...</td>\n",
       "      <td>[[0.997, 0.0, 0.0, 0.0, 0.0], [0.0, 0.992, 0.0...</td>\n",
       "      <td>[-0.0073431, -0.00041139999999999997, -0.01556...</td>\n",
       "      <td>0.0</td>\n",
       "      <td>-3.9118</td>\n",
       "      <td>-0.1663</td>\n",
       "      <td>[Fe]</td>\n",
       "      <td>Fe</td>\n",
       "      <td>#E06633</td>\n",
       "      <td>/Users/azadoks/Data/uv_ml/iurii/Olivines/LiFe0...</td>\n",
       "      <td>0.0</td>\n",
       "    </tr>\n",
       "    <tr>\n",
       "      <th>301534</th>\n",
       "      <td>/Users/azadoks/Data/uv_ml/iurii/Olivines/LiFe0...</td>\n",
       "      <td>A1_Li0.00Mn0.5Fe0.5PO4</td>\n",
       "      <td>False</td>\n",
       "      <td>1</td>\n",
       "      <td></td>\n",
       "      <td>[18.5936265225, -0.0009754750000000001, 0.0072...</td>\n",
       "      <td>24</td>\n",
       "      <td>iurii</td>\n",
       "      <td>156</td>\n",
       "      <td>1618231488</td>\n",
       "      <td>...</td>\n",
       "      <td>[[0.092, 0.014, 0.0, -0.006, 0.0], [0.014, 0.1...</td>\n",
       "      <td>[-0.056849399999999994, 0.4995747, -0.51556099...</td>\n",
       "      <td>0.0</td>\n",
       "      <td>3.9077</td>\n",
       "      <td>-0.0563</td>\n",
       "      <td>[Fe]</td>\n",
       "      <td>Fe</td>\n",
       "      <td>#E06633</td>\n",
       "      <td>/Users/azadoks/Data/uv_ml/iurii/Olivines/LiFe0...</td>\n",
       "      <td>0.0</td>\n",
       "    </tr>\n",
       "    <tr>\n",
       "      <th>301654</th>\n",
       "      <td>/Users/azadoks/Data/uv_ml/iurii/Olivines/LiFe0...</td>\n",
       "      <td>A1_Li0.00Mn0.5Fe0.5PO4</td>\n",
       "      <td>False</td>\n",
       "      <td>1</td>\n",
       "      <td></td>\n",
       "      <td>[18.5936265225, -0.0009754750000000001, 0.0072...</td>\n",
       "      <td>24</td>\n",
       "      <td>iurii</td>\n",
       "      <td>156</td>\n",
       "      <td>1618231488</td>\n",
       "      <td>...</td>\n",
       "      <td>[[0.991, -0.033, 0.0, -0.039, 0.0], [-0.033, 0...</td>\n",
       "      <td>[0.5048417, -0.0004909, -0.39822029999999997]</td>\n",
       "      <td>0.0</td>\n",
       "      <td>-3.4365</td>\n",
       "      <td>0.9313</td>\n",
       "      <td>[Mn]</td>\n",
       "      <td>Mn</td>\n",
       "      <td>#9C7AC7</td>\n",
       "      <td>/Users/azadoks/Data/uv_ml/iurii/Olivines/LiFe0...</td>\n",
       "      <td>0.0</td>\n",
       "    </tr>\n",
       "    <tr>\n",
       "      <th>301774</th>\n",
       "      <td>/Users/azadoks/Data/uv_ml/iurii/Olivines/LiFe0...</td>\n",
       "      <td>A1_Li0.00Mn0.5Fe0.5PO4</td>\n",
       "      <td>False</td>\n",
       "      <td>1</td>\n",
       "      <td></td>\n",
       "      <td>[18.5936265225, -0.0009754750000000001, 0.0072...</td>\n",
       "      <td>24</td>\n",
       "      <td>iurii</td>\n",
       "      <td>156</td>\n",
       "      <td>1618231488</td>\n",
       "      <td>...</td>\n",
       "      <td>[[0.048, -0.008, 0.0, 0.016, 0.0], [-0.008, 0....</td>\n",
       "      <td>[0.43096, 0.4996846, -0.8981882999999999]</td>\n",
       "      <td>0.0</td>\n",
       "      <td>3.4364</td>\n",
       "      <td>0.9315</td>\n",
       "      <td>[Mn]</td>\n",
       "      <td>Mn</td>\n",
       "      <td>#9C7AC7</td>\n",
       "      <td>/Users/azadoks/Data/uv_ml/iurii/Olivines/LiFe0...</td>\n",
       "      <td>0.0</td>\n",
       "    </tr>\n",
       "    <tr>\n",
       "      <th>303650</th>\n",
       "      <td>/Users/azadoks/Data/uv_ml/iurii/Olivines/LiFe0...</td>\n",
       "      <td>A1_Li0.00Mn0.5Fe0.5PO4</td>\n",
       "      <td>False</td>\n",
       "      <td>2</td>\n",
       "      <td></td>\n",
       "      <td>[18.577492166, -0.0007413610000000001, 0.00680...</td>\n",
       "      <td>24</td>\n",
       "      <td>iurii</td>\n",
       "      <td>157</td>\n",
       "      <td>1618391955</td>\n",
       "      <td>...</td>\n",
       "      <td>[[0.997, 0.0, 0.0, 0.0, 0.0], [0.0, 0.991, 0.0...</td>\n",
       "      <td>[-0.0069193, -0.00040439999999999996, -0.01602...</td>\n",
       "      <td>0.0</td>\n",
       "      <td>-3.8419</td>\n",
       "      <td>0.1001</td>\n",
       "      <td>[Fe]</td>\n",
       "      <td>Fe</td>\n",
       "      <td>#E06633</td>\n",
       "      <td>/Users/azadoks/Data/uv_ml/iurii/Olivines/LiFe0...</td>\n",
       "      <td>0.0</td>\n",
       "    </tr>\n",
       "    <tr>\n",
       "      <th>...</th>\n",
       "      <td>...</td>\n",
       "      <td>...</td>\n",
       "      <td>...</td>\n",
       "      <td>...</td>\n",
       "      <td>...</td>\n",
       "      <td>...</td>\n",
       "      <td>...</td>\n",
       "      <td>...</td>\n",
       "      <td>...</td>\n",
       "      <td>...</td>\n",
       "      <td>...</td>\n",
       "      <td>...</td>\n",
       "      <td>...</td>\n",
       "      <td>...</td>\n",
       "      <td>...</td>\n",
       "      <td>...</td>\n",
       "      <td>...</td>\n",
       "      <td>...</td>\n",
       "      <td>...</td>\n",
       "      <td>...</td>\n",
       "      <td>...</td>\n",
       "    </tr>\n",
       "    <tr>\n",
       "      <th>438732</th>\n",
       "      <td>/Users/azadoks/Data/uv_ml/iurii/Olivines/LiMnP...</td>\n",
       "      <td>B5_Li1.00MnPO4</td>\n",
       "      <td>False</td>\n",
       "      <td>3</td>\n",
       "      <td></td>\n",
       "      <td>[19.7940850765, 0.0, 0.0, 0.0, 11.511736551, 0...</td>\n",
       "      <td>28</td>\n",
       "      <td>iurii</td>\n",
       "      <td>218</td>\n",
       "      <td>1594749234</td>\n",
       "      <td>...</td>\n",
       "      <td>[[0.996, -0.001, 0.0, -0.001, 0.0], [-0.001, 0...</td>\n",
       "      <td>[0.4372178, 0.5, -0.9466146]</td>\n",
       "      <td>0.0</td>\n",
       "      <td>-4.2040</td>\n",
       "      <td>0.1188</td>\n",
       "      <td>[Mn]</td>\n",
       "      <td>Mn</td>\n",
       "      <td>#9C7AC7</td>\n",
       "      <td>/Users/azadoks/Data/uv_ml/iurii/Olivines/LiMnP...</td>\n",
       "      <td>1.0</td>\n",
       "    </tr>\n",
       "    <tr>\n",
       "      <th>440618</th>\n",
       "      <td>/Users/azadoks/Data/uv_ml/iurii/Olivines/LiMnP...</td>\n",
       "      <td>B5_Li1.00MnPO4</td>\n",
       "      <td>False</td>\n",
       "      <td>4</td>\n",
       "      <td></td>\n",
       "      <td>[19.7940850765, 0.0, 0.0, 0.0, 11.511736551, 0...</td>\n",
       "      <td>28</td>\n",
       "      <td>iurii</td>\n",
       "      <td>219</td>\n",
       "      <td>1595848609</td>\n",
       "      <td>...</td>\n",
       "      <td>[[0.02, 0.002, 0.0, 0.006, 0.0], [0.002, 0.057...</td>\n",
       "      <td>[-0.001527, 0.0, 0.0021371999999999997]</td>\n",
       "      <td>0.0</td>\n",
       "      <td>4.2058</td>\n",
       "      <td>-0.0129</td>\n",
       "      <td>[Mn]</td>\n",
       "      <td>Mn</td>\n",
       "      <td>#9C7AC7</td>\n",
       "      <td>/Users/azadoks/Data/uv_ml/iurii/Olivines/LiMnP...</td>\n",
       "      <td>1.0</td>\n",
       "    </tr>\n",
       "    <tr>\n",
       "      <th>440720</th>\n",
       "      <td>/Users/azadoks/Data/uv_ml/iurii/Olivines/LiMnP...</td>\n",
       "      <td>B5_Li1.00MnPO4</td>\n",
       "      <td>False</td>\n",
       "      <td>4</td>\n",
       "      <td></td>\n",
       "      <td>[19.7940850765, 0.0, 0.0, 0.0, 11.511736551, 0...</td>\n",
       "      <td>28</td>\n",
       "      <td>iurii</td>\n",
       "      <td>219</td>\n",
       "      <td>1595848609</td>\n",
       "      <td>...</td>\n",
       "      <td>[[0.02, -0.002, 0.0, 0.006, 0.0], [-0.002, 0.0...</td>\n",
       "      <td>[0.4984724, 0.0, -0.4466148]</td>\n",
       "      <td>0.0</td>\n",
       "      <td>4.2058</td>\n",
       "      <td>-0.0129</td>\n",
       "      <td>[Mn]</td>\n",
       "      <td>Mn</td>\n",
       "      <td>#9C7AC7</td>\n",
       "      <td>/Users/azadoks/Data/uv_ml/iurii/Olivines/LiMnP...</td>\n",
       "      <td>1.0</td>\n",
       "    </tr>\n",
       "    <tr>\n",
       "      <th>440840</th>\n",
       "      <td>/Users/azadoks/Data/uv_ml/iurii/Olivines/LiMnP...</td>\n",
       "      <td>B5_Li1.00MnPO4</td>\n",
       "      <td>False</td>\n",
       "      <td>4</td>\n",
       "      <td></td>\n",
       "      <td>[19.7940850765, 0.0, 0.0, 0.0, 11.511736551, 0...</td>\n",
       "      <td>28</td>\n",
       "      <td>iurii</td>\n",
       "      <td>219</td>\n",
       "      <td>1595848609</td>\n",
       "      <td>...</td>\n",
       "      <td>[[0.996, 0.001, 0.0, -0.001, 0.0], [0.001, 0.9...</td>\n",
       "      <td>[-0.06278249999999999, 0.5, -0.4978627]</td>\n",
       "      <td>0.0</td>\n",
       "      <td>-4.2058</td>\n",
       "      <td>-0.0129</td>\n",
       "      <td>[Mn]</td>\n",
       "      <td>Mn</td>\n",
       "      <td>#9C7AC7</td>\n",
       "      <td>/Users/azadoks/Data/uv_ml/iurii/Olivines/LiMnP...</td>\n",
       "      <td>1.0</td>\n",
       "    </tr>\n",
       "    <tr>\n",
       "      <th>440960</th>\n",
       "      <td>/Users/azadoks/Data/uv_ml/iurii/Olivines/LiMnP...</td>\n",
       "      <td>B5_Li1.00MnPO4</td>\n",
       "      <td>False</td>\n",
       "      <td>4</td>\n",
       "      <td></td>\n",
       "      <td>[19.7940850765, 0.0, 0.0, 0.0, 11.511736551, 0...</td>\n",
       "      <td>28</td>\n",
       "      <td>iurii</td>\n",
       "      <td>219</td>\n",
       "      <td>1595848609</td>\n",
       "      <td>...</td>\n",
       "      <td>[[0.996, -0.001, 0.0, -0.001, 0.0], [-0.001, 0...</td>\n",
       "      <td>[0.4372178, 0.5, -0.9466146]</td>\n",
       "      <td>0.0</td>\n",
       "      <td>-4.2058</td>\n",
       "      <td>-0.0129</td>\n",
       "      <td>[Mn]</td>\n",
       "      <td>Mn</td>\n",
       "      <td>#9C7AC7</td>\n",
       "      <td>/Users/azadoks/Data/uv_ml/iurii/Olivines/LiMnP...</td>\n",
       "      <td>1.0</td>\n",
       "    </tr>\n",
       "  </tbody>\n",
       "</table>\n",
       "<p>256 rows × 50 columns</p>\n",
       "</div>"
      ],
      "text/plain": [
       "                                                      dir  \\\n",
       "301432  /Users/azadoks/Data/uv_ml/iurii/Olivines/LiFe0...   \n",
       "301534  /Users/azadoks/Data/uv_ml/iurii/Olivines/LiFe0...   \n",
       "301654  /Users/azadoks/Data/uv_ml/iurii/Olivines/LiFe0...   \n",
       "301774  /Users/azadoks/Data/uv_ml/iurii/Olivines/LiFe0...   \n",
       "303650  /Users/azadoks/Data/uv_ml/iurii/Olivines/LiFe0...   \n",
       "...                                                   ...   \n",
       "438732  /Users/azadoks/Data/uv_ml/iurii/Olivines/LiMnP...   \n",
       "440618  /Users/azadoks/Data/uv_ml/iurii/Olivines/LiMnP...   \n",
       "440720  /Users/azadoks/Data/uv_ml/iurii/Olivines/LiMnP...   \n",
       "440840  /Users/azadoks/Data/uv_ml/iurii/Olivines/LiMnP...   \n",
       "440960  /Users/azadoks/Data/uv_ml/iurii/Olivines/LiMnP...   \n",
       "\n",
       "                      material  is_vdw  uv_iter formula  \\\n",
       "301432  A1_Li0.00Mn0.5Fe0.5PO4   False        1           \n",
       "301534  A1_Li0.00Mn0.5Fe0.5PO4   False        1           \n",
       "301654  A1_Li0.00Mn0.5Fe0.5PO4   False        1           \n",
       "301774  A1_Li0.00Mn0.5Fe0.5PO4   False        1           \n",
       "303650  A1_Li0.00Mn0.5Fe0.5PO4   False        2           \n",
       "...                        ...     ...      ...     ...   \n",
       "438732          B5_Li1.00MnPO4   False        3           \n",
       "440618          B5_Li1.00MnPO4   False        4           \n",
       "440720          B5_Li1.00MnPO4   False        4           \n",
       "440840          B5_Li1.00MnPO4   False        4           \n",
       "440960          B5_Li1.00MnPO4   False        4           \n",
       "\n",
       "                                                     cell  n_atoms_uc person  \\\n",
       "301432  [18.5936265225, -0.0009754750000000001, 0.0072...          24  iurii   \n",
       "301534  [18.5936265225, -0.0009754750000000001, 0.0072...          24  iurii   \n",
       "301654  [18.5936265225, -0.0009754750000000001, 0.0072...          24  iurii   \n",
       "301774  [18.5936265225, -0.0009754750000000001, 0.0072...          24  iurii   \n",
       "303650  [18.577492166, -0.0007413610000000001, 0.00680...          24  iurii   \n",
       "...                                                   ...         ...    ...   \n",
       "438732  [19.7940850765, 0.0, 0.0, 0.0, 11.511736551, 0...          28  iurii   \n",
       "440618  [19.7940850765, 0.0, 0.0, 0.0, 11.511736551, 0...          28  iurii   \n",
       "440720  [19.7940850765, 0.0, 0.0, 0.0, 11.511736551, 0...          28  iurii   \n",
       "440840  [19.7940850765, 0.0, 0.0, 0.0, 11.511736551, 0...          28  iurii   \n",
       "440960  [19.7940850765, 0.0, 0.0, 0.0, 11.511736551, 0...          28  iurii   \n",
       "\n",
       "        structure_index  pw_time_unix  ...  \\\n",
       "301432              156    1618231488  ...   \n",
       "301534              156    1618231488  ...   \n",
       "301654              156    1618231488  ...   \n",
       "301774              156    1618231488  ...   \n",
       "303650              157    1618391955  ...   \n",
       "...                 ...           ...  ...   \n",
       "438732              218    1594749234  ...   \n",
       "440618              219    1595848609  ...   \n",
       "440720              219    1595848609  ...   \n",
       "440840              219    1595848609  ...   \n",
       "440960              219    1595848609  ...   \n",
       "\n",
       "                                            atom_2_occs_2  \\\n",
       "301432  [[0.997, 0.0, 0.0, 0.0, 0.0], [0.0, 0.992, 0.0...   \n",
       "301534  [[0.092, 0.014, 0.0, -0.006, 0.0], [0.014, 0.1...   \n",
       "301654  [[0.991, -0.033, 0.0, -0.039, 0.0], [-0.033, 0...   \n",
       "301774  [[0.048, -0.008, 0.0, 0.016, 0.0], [-0.008, 0....   \n",
       "303650  [[0.997, 0.0, 0.0, 0.0, 0.0], [0.0, 0.991, 0.0...   \n",
       "...                                                   ...   \n",
       "438732  [[0.996, -0.001, 0.0, -0.001, 0.0], [-0.001, 0...   \n",
       "440618  [[0.02, 0.002, 0.0, 0.006, 0.0], [0.002, 0.057...   \n",
       "440720  [[0.02, -0.002, 0.0, 0.006, 0.0], [-0.002, 0.0...   \n",
       "440840  [[0.996, 0.001, 0.0, -0.001, 0.0], [0.001, 0.9...   \n",
       "440960  [[0.996, -0.001, 0.0, -0.001, 0.0], [-0.001, 0...   \n",
       "\n",
       "                                       atom_2_frac_coords  \\\n",
       "301432  [-0.0073431, -0.00041139999999999997, -0.01556...   \n",
       "301534  [-0.056849399999999994, 0.4995747, -0.51556099...   \n",
       "301654      [0.5048417, -0.0004909, -0.39822029999999997]   \n",
       "301774          [0.43096, 0.4996846, -0.8981882999999999]   \n",
       "303650  [-0.0069193, -0.00040439999999999996, -0.01602...   \n",
       "...                                                   ...   \n",
       "438732                       [0.4372178, 0.5, -0.9466146]   \n",
       "440618            [-0.001527, 0.0, 0.0021371999999999997]   \n",
       "440720                       [0.4984724, 0.0, -0.4466148]   \n",
       "440840            [-0.06278249999999999, 0.5, -0.4978627]   \n",
       "440960                       [0.4372178, 0.5, -0.9466146]   \n",
       "\n",
       "        atom_2_starting_mag atom_2_final_mag  param_delta  species  label  \\\n",
       "301432                  0.0          -3.9118      -0.1663     [Fe]     Fe   \n",
       "301534                  0.0           3.9077      -0.0563     [Fe]     Fe   \n",
       "301654                  0.0          -3.4365       0.9313     [Mn]     Mn   \n",
       "301774                  0.0           3.4364       0.9315     [Mn]     Mn   \n",
       "303650                  0.0          -3.8419       0.1001     [Fe]     Fe   \n",
       "...                     ...              ...          ...      ...    ...   \n",
       "438732                  0.0          -4.2040       0.1188     [Mn]     Mn   \n",
       "440618                  0.0           4.2058      -0.0129     [Mn]     Mn   \n",
       "440720                  0.0           4.2058      -0.0129     [Mn]     Mn   \n",
       "440840                  0.0          -4.2058      -0.0129     [Mn]     Mn   \n",
       "440960                  0.0          -4.2058      -0.0129     [Mn]     Mn   \n",
       "\n",
       "         colour                                           sc_paths  occupation  \n",
       "301432  #E06633  /Users/azadoks/Data/uv_ml/iurii/Olivines/LiFe0...         0.0  \n",
       "301534  #E06633  /Users/azadoks/Data/uv_ml/iurii/Olivines/LiFe0...         0.0  \n",
       "301654  #9C7AC7  /Users/azadoks/Data/uv_ml/iurii/Olivines/LiFe0...         0.0  \n",
       "301774  #9C7AC7  /Users/azadoks/Data/uv_ml/iurii/Olivines/LiFe0...         0.0  \n",
       "303650  #E06633  /Users/azadoks/Data/uv_ml/iurii/Olivines/LiFe0...         0.0  \n",
       "...         ...                                                ...         ...  \n",
       "438732  #9C7AC7  /Users/azadoks/Data/uv_ml/iurii/Olivines/LiMnP...         1.0  \n",
       "440618  #9C7AC7  /Users/azadoks/Data/uv_ml/iurii/Olivines/LiMnP...         1.0  \n",
       "440720  #9C7AC7  /Users/azadoks/Data/uv_ml/iurii/Olivines/LiMnP...         1.0  \n",
       "440840  #9C7AC7  /Users/azadoks/Data/uv_ml/iurii/Olivines/LiMnP...         1.0  \n",
       "440960  #9C7AC7  /Users/azadoks/Data/uv_ml/iurii/Olivines/LiMnP...         1.0  \n",
       "\n",
       "[256 rows x 50 columns]"
      ]
     },
     "execution_count": 3,
     "metadata": {},
     "output_type": "execute_result"
    }
   ],
   "source": [
    "uv_data = pd.read_json(EXPERIMENT_DIR / DATASET)\n",
    "labels = {\n",
    "    'LiFePO4': 'Li$_{x}$FePO$_4$',\n",
    "    'LiMnPO4': 'Li$_{x}$MnPO$_4$',\n",
    "    \"LiFe0.5Mn0.5PO4\": \"Li$_{x}$Fe$_{0.5}$Mn$_{0.5}$PO$_4$\",\n",
    "}\n",
    "uv_data"
   ]
  },
  {
   "cell_type": "code",
   "execution_count": 4,
   "metadata": {
    "ExecuteTime": {
     "end_time": "2023-12-21T16:57:34.411667504Z",
     "start_time": "2023-12-21T16:57:34.337156432Z"
    },
    "collapsed": false
   },
   "outputs": [
    {
     "data": {
      "text/plain": [
       "Series([], Name: count, dtype: int64)"
      ]
     },
     "execution_count": 4,
     "metadata": {},
     "output_type": "execute_result"
    }
   ],
   "source": [
    "uv_data[uv_data[keys.PARAM_TYPE] == keys.PARAM_V].groupby(keys.MATERIAL).value_counts([olivines.Keys.OCCUPATION])"
   ]
  },
  {
   "cell_type": "code",
   "execution_count": 5,
   "metadata": {
    "ExecuteTime": {
     "end_time": "2023-12-21T16:57:34.412855286Z",
     "start_time": "2023-12-21T16:57:34.381590691Z"
    },
    "collapsed": false
   },
   "outputs": [
    {
     "data": {
      "text/plain": [
       "0"
      ]
     },
     "execution_count": 5,
     "metadata": {},
     "output_type": "execute_result"
    }
   ],
   "source": [
    "sum(uv_data[keys.PARAM_OUT] < 0.25)"
   ]
  },
  {
   "cell_type": "code",
   "execution_count": 6,
   "metadata": {
    "ExecuteTime": {
     "end_time": "2023-12-21T16:57:34.413564629Z",
     "start_time": "2023-12-21T16:57:34.382492785Z"
    }
   },
   "outputs": [],
   "source": [
    "def create_plots(df: pd.DataFrame, logy=False, scale=1.0):\n",
    "    comparison_plots = {}\n",
    "\n",
    "    if olivines.Keys.TRAIN_RMSE in df:\n",
    "        cols = [olivines.Keys.TRAIN_RMSE, olivines.Keys.MODEL_RMSE]\n",
    "        series_labels = 'ML (train)', 'ML (validate)'\n",
    "    else:\n",
    "        cols = [olivines.Keys.MODEL_RMSE]\n",
    "        series_labels = ('ML (validate)',)\n",
    "\n",
    "    for material in df[olivines.Keys.MATERIAL].unique():\n",
    "        frame = df[df[olivines.Keys.MATERIAL] == material]\n",
    "        ref_rmse = frame.iloc[0][olivines.Keys.REF_RMSE]  # They are all the same\n",
    "\n",
    "        grouped = frame.groupby(olivines.Keys.NUM_OCCUPATIONS)[cols]\n",
    "        mins = grouped.min()\n",
    "        maxs = grouped.max()\n",
    "        means = grouped.mean()\n",
    "\n",
    "        errors = [[means[c] - mins[c], maxs[c] - means[c]] for c in cols]\n",
    "\n",
    "        fig = plt.figure(figsize=(6 * scale, 4 * scale))\n",
    "        ax = fig.gca()\n",
    "\n",
    "        ax = means.plot(\n",
    "            ax=ax,\n",
    "            # colormap=plots.colourmap,\n",
    "            color=plots.train_validate_colours.values(),\n",
    "            yerr=errors,\n",
    "            fmt='o--',\n",
    "            logy=logy,\n",
    "            solid_capstyle='projecting',\n",
    "            capsize=5,\n",
    "            capthick=2,\n",
    "            title=labels[material],\n",
    "            # linewidth=3,\n",
    "            # alpha=0.5,\n",
    "            ylabel='RMSE (eV)',\n",
    "            xlabel='Num. training occupations',\n",
    "        );\n",
    "\n",
    "        # Plot the baseline RMSE\n",
    "        ax.plot(\n",
    "            [df[olivines.Keys.NUM_OCCUPATIONS].min(),\n",
    "             df[olivines.Keys.NUM_OCCUPATIONS].max()],\n",
    "            [ref_rmse, ref_rmse],\n",
    "            c=plots.train_validate_colours[keys.REFERENCE]\n",
    "        )\n",
    "\n",
    "        ax.legend((f\"Ref {ref_rmse * 1000:.0f} meV\",) + series_labels)\n",
    "        ax.xaxis.set_major_locator(matplotlib.ticker.MaxNLocator(integer=True))\n",
    "        # ax.set_ylim([0, 1.2])\n",
    "\n",
    "        comparison_plots[material] = ax\n",
    "\n",
    "    return comparison_plots"
   ]
  },
  {
   "cell_type": "markdown",
   "metadata": {},
   "source": [
    "# Olivines analysis"
   ]
  },
  {
   "cell_type": "code",
   "execution_count": 7,
   "metadata": {
    "ExecuteTime": {
     "end_time": "2023-12-21T16:57:34.414230430Z",
     "start_time": "2023-12-21T16:57:34.382977572Z"
    }
   },
   "outputs": [],
   "source": [
    "results_file = EXPERIMENT_DIR / RESULTS_FILE\n",
    "with open(results_file, 'r') as file:\n",
    "    hubbard_u_olivines = pd.DataFrame(json.load(file))\n",
    "hubbard_u_olivines;"
   ]
  },
  {
   "cell_type": "code",
   "execution_count": 8,
   "metadata": {
    "ExecuteTime": {
     "end_time": "2023-12-21T16:57:34.436785011Z",
     "start_time": "2023-12-21T16:57:34.383392004Z"
    },
    "collapsed": false
   },
   "outputs": [
    {
     "data": {
      "text/plain": [
       "PosixPath('outputs/olivines/batch_size=8,max_epochs=6000/2024-03-05_11-58-26/plots')"
      ]
     },
     "execution_count": 8,
     "metadata": {},
     "output_type": "execute_result"
    }
   ],
   "source": [
    "save_to = EXPERIMENT_DIR / \"plots\"\n",
    "save_to.mkdir(exist_ok=True)\n",
    "save_to"
   ]
  },
  {
   "cell_type": "code",
   "execution_count": 9,
   "metadata": {
    "ExecuteTime": {
     "end_time": "2023-12-21T16:57:36.116171080Z",
     "start_time": "2023-12-21T16:57:34.424247617Z"
    }
   },
   "outputs": [
    {
     "data": {
      "image/png": "[encoded data removed]",
      "text/plain": [
       "<Figure size 420x280 with 1 Axes>"
      ]
     },
     "metadata": {},
     "output_type": "display_data"
    },
    {
     "data": {
      "image/png": "[encoded data removed]",
      "text/plain": [
       "<Figure size 420x280 with 1 Axes>"
      ]
     },
     "metadata": {},
     "output_type": "display_data"
    },
    {
     "data": {
      "image/png": "[encoded data removed]",
      "text/plain": [
       "<Figure size 420x280 with 1 Axes>"
      ]
     },
     "metadata": {},
     "output_type": "display_data"
    }
   ],
   "source": [
    "for material, ax in create_plots(hubbard_u_olivines, scale=0.7).items():\n",
    "    ax.get_figure().savefig(save_to / f\"{material}_U_occs_comparison.pdf\", bbox_inches='tight')"
   ]
  },
  {
   "cell_type": "code",
   "execution_count": 10,
   "metadata": {
    "ExecuteTime": {
     "end_time": "2023-12-21T16:57:36.525467216Z",
     "start_time": "2023-12-21T16:57:36.118753449Z"
    }
   },
   "outputs": [
    {
     "ename": "FileNotFoundError",
     "evalue": "[Errno 2] No such file or directory: 'hubbard_v_olivines.json'",
     "output_type": "error",
     "traceback": [
      "\u001b[0;31m---------------------------------------------------------------------------\u001b[0m",
      "\u001b[0;31mFileNotFoundError\u001b[0m                         Traceback (most recent call last)",
      "Cell \u001b[0;32mIn[10], line 2\u001b[0m\n\u001b[1;32m      1\u001b[0m results_file \u001b[38;5;241m=\u001b[39m \u001b[38;5;124m'\u001b[39m\u001b[38;5;124mhubbard_v_olivines.json\u001b[39m\u001b[38;5;124m'\u001b[39m\n\u001b[0;32m----> 2\u001b[0m \u001b[38;5;28;01mwith\u001b[39;00m \u001b[38;5;28;43mopen\u001b[39;49m\u001b[43m(\u001b[49m\u001b[43mresults_file\u001b[49m\u001b[43m,\u001b[49m\u001b[43m \u001b[49m\u001b[38;5;124;43m'\u001b[39;49m\u001b[38;5;124;43mr\u001b[39;49m\u001b[38;5;124;43m'\u001b[39;49m\u001b[43m)\u001b[49m \u001b[38;5;28;01mas\u001b[39;00m file:\n\u001b[1;32m      3\u001b[0m     hubbard_v_olivines \u001b[38;5;241m=\u001b[39m pd\u001b[38;5;241m.\u001b[39mDataFrame(json\u001b[38;5;241m.\u001b[39mload(file))\n\u001b[1;32m      5\u001b[0m \u001b[38;5;28;01mfor\u001b[39;00m material, ax \u001b[38;5;129;01min\u001b[39;00m create_plots(hubbard_v_olivines, logy\u001b[38;5;241m=\u001b[39m\u001b[38;5;28;01mTrue\u001b[39;00m, scale\u001b[38;5;241m=\u001b[39m\u001b[38;5;241m0.7\u001b[39m)\u001b[38;5;241m.\u001b[39mitems():\n",
      "File \u001b[0;32m~/.local/miniconda3/envs/dftuv/lib/python3.10/site-packages/IPython/core/interactiveshell.py:310\u001b[0m, in \u001b[0;36m_modified_open\u001b[0;34m(file, *args, **kwargs)\u001b[0m\n\u001b[1;32m    303\u001b[0m \u001b[38;5;28;01mif\u001b[39;00m file \u001b[38;5;129;01min\u001b[39;00m {\u001b[38;5;241m0\u001b[39m, \u001b[38;5;241m1\u001b[39m, \u001b[38;5;241m2\u001b[39m}:\n\u001b[1;32m    304\u001b[0m     \u001b[38;5;28;01mraise\u001b[39;00m \u001b[38;5;167;01mValueError\u001b[39;00m(\n\u001b[1;32m    305\u001b[0m         \u001b[38;5;124mf\u001b[39m\u001b[38;5;124m\"\u001b[39m\u001b[38;5;124mIPython won\u001b[39m\u001b[38;5;124m'\u001b[39m\u001b[38;5;124mt let you open fd=\u001b[39m\u001b[38;5;132;01m{\u001b[39;00mfile\u001b[38;5;132;01m}\u001b[39;00m\u001b[38;5;124m by default \u001b[39m\u001b[38;5;124m\"\u001b[39m\n\u001b[1;32m    306\u001b[0m         \u001b[38;5;124m\"\u001b[39m\u001b[38;5;124mas it is likely to crash IPython. If you know what you are doing, \u001b[39m\u001b[38;5;124m\"\u001b[39m\n\u001b[1;32m    307\u001b[0m         \u001b[38;5;124m\"\u001b[39m\u001b[38;5;124myou can use builtins\u001b[39m\u001b[38;5;124m'\u001b[39m\u001b[38;5;124m open.\u001b[39m\u001b[38;5;124m\"\u001b[39m\n\u001b[1;32m    308\u001b[0m     )\n\u001b[0;32m--> 310\u001b[0m \u001b[38;5;28;01mreturn\u001b[39;00m \u001b[43mio_open\u001b[49m\u001b[43m(\u001b[49m\u001b[43mfile\u001b[49m\u001b[43m,\u001b[49m\u001b[43m \u001b[49m\u001b[38;5;241;43m*\u001b[39;49m\u001b[43margs\u001b[49m\u001b[43m,\u001b[49m\u001b[43m \u001b[49m\u001b[38;5;241;43m*\u001b[39;49m\u001b[38;5;241;43m*\u001b[39;49m\u001b[43mkwargs\u001b[49m\u001b[43m)\u001b[49m\n",
      "\u001b[0;31mFileNotFoundError\u001b[0m: [Errno 2] No such file or directory: 'hubbard_v_olivines.json'"
     ]
    }
   ],
   "source": [
    "results_file = 'hubbard_v_olivines.json'\n",
    "with open(results_file, 'r') as file:\n",
    "    hubbard_v_olivines = pd.DataFrame(json.load(file))\n",
    "\n",
    "for material, ax in create_plots(hubbard_v_olivines, logy=True, scale=0.7).items():\n",
    "    ax.get_figure().savefig(save_to / \"f{material}_V_occs_comparison.pdf\", bbox_inches='tight')\n",
    "    \n",
    "save_to"
   ]
  },
  {
   "cell_type": "code",
   "execution_count": null,
   "metadata": {
    "ExecuteTime": {
     "start_time": "2023-12-21T16:57:36.527568768Z"
    },
    "collapsed": false
   },
   "outputs": [],
   "source": []
  },
  {
   "cell_type": "code",
   "execution_count": null,
   "metadata": {
    "ExecuteTime": {
     "end_time": "2023-12-21T16:57:36.574039586Z",
     "start_time": "2023-12-21T16:57:36.568412355Z"
    },
    "collapsed": false
   },
   "outputs": [],
   "source": [
    "for material in olivines.MATERIALS:\n",
    "    print(material)\n",
    "    subset = uv_data[uv_data[keys.DIR].str.contains(material)]\n",
    "    elements = subset[keys.ATOM_1_ELEMENT].unique()\n",
    "    \n",
    "    for element in elements:\n",
    "        elementsubset = subset[subset[keys.ATOM_1_ELEMENT] == element]\n",
    "        minval = elementsubset[keys.PARAM_OUT].min()\n",
    "        maxval = elementsubset[keys.PARAM_OUT].max()\n",
    "        stdev = elementsubset[keys.PARAM_OUT].std()\n",
    "\n",
    "        meanval = elementsubset[keys.PARAM_OUT].mean()\n",
    "        print(len(elementsubset), element, minval, maxval, meanval, stdev)\n",
    "        "
   ]
  },
  {
   "cell_type": "code",
   "execution_count": null,
   "metadata": {
    "ExecuteTime": {
     "start_time": "2023-12-21T16:57:36.568643852Z"
    },
    "collapsed": false
   },
   "outputs": [],
   "source": [
    "olivines.MATERIALS"
   ]
  },
  {
   "cell_type": "code",
   "execution_count": null,
   "metadata": {
    "ExecuteTime": {
     "end_time": "2023-12-21T17:21:29.384752735Z",
     "start_time": "2023-12-21T17:21:29.342650022Z"
    },
    "collapsed": false
   },
   "outputs": [],
   "source": [
    "ds = pd.read_json(EXPERIMENT_DIR / \"LiMnPO4_2_0.25-0.50\" / DATASET)"
   ]
  },
  {
   "cell_type": "code",
   "execution_count": null,
   "metadata": {
    "ExecuteTime": {
     "end_time": "2023-12-21T17:21:29.753200965Z",
     "start_time": "2023-12-21T17:21:29.585472828Z"
    },
    "collapsed": false
   },
   "outputs": [],
   "source": [
    "def relative_error(row):\n",
    "    return np.abs((row[keys.PARAM_OUT_PREDICTED] - row[keys.PARAM_OUT]) / row[keys.PARAM_OUT]) \n",
    "\n",
    "\n",
    "ds[ds[keys.TRAINING_LABEL] == keys.VALIDATE].apply(relative_error, axis=1).hist()"
   ]
  },
  {
   "cell_type": "code",
   "execution_count": null,
   "metadata": {
    "collapsed": false
   },
   "outputs": [],
   "source": []
  }
 ],
 "metadata": {
  "kernelspec": {
   "display_name": "Python 3.9.12 ('dftuv')",
   "language": "python",
   "name": "python3"
  },
  "language_info": {
   "codemirror_mode": {
    "name": "ipython",
    "version": 3
   },
   "file_extension": ".py",
   "mimetype": "text/x-python",
   "name": "python",
   "nbconvert_exporter": "python",
   "pygments_lexer": "ipython3",
   "version": "3.10.13"
  },
  "orig_nbformat": 4,
  "vscode": {
   "interpreter": {
    "hash": "28c3805fb3fb891793baa5922281dfc0c3881e930afb491195de5fe855d16202"
   }
  }
 },
 "nbformat": 4,
 "nbformat_minor": 2
}
