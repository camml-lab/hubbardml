{
 "cells": [
  {
   "cell_type": "code",
   "execution_count": 15,
   "outputs": [],
   "source": [
    "import datetime\n",
    "\n",
    "import numpy as np\n",
    "import pandas as pd\n",
    "\n",
    "import e3psi\n",
    "from hubbardml import datasets\n",
    "from hubbardml import graphs\n",
    "from hubbardml import keys"
   ],
   "metadata": {
    "collapsed": false,
    "ExecuteTime": {
     "end_time": "2023-08-02T08:57:22.367794297Z",
     "start_time": "2023-08-02T08:57:22.279565936Z"
    }
   }
  },
  {
   "cell_type": "code",
   "execution_count": 16,
   "outputs": [],
   "source": [
    "TIMESTAMP = \"2023-07-23_10-38-27\"\n",
    "EXPERIMENTS = (\n",
    "    \"experiment=predict_final,model=u/2023-07-26_09-39-29\",\n",
    "    \"experiment=predict_final,model=v/2023-07-26_09-39-29\"\n",
    ")\n",
    "\n",
    "DATASET = \"dataset.json\"\n",
    "COLS = [keys.SC_PATHS, keys.PARAM_TYPE, keys.ATOM_1_ELEMENT, keys.ATOM_1_IDX, keys.ATOM_2_ELEMENT, keys.ATOM_2_IDX_UC, keys.ATOM_2_IDX, keys.PARAM_OUT, keys.PARAM_OUT_PREDICTED, keys.TRAINING_LABEL]"
   ],
   "metadata": {
    "collapsed": false,
    "ExecuteTime": {
     "end_time": "2023-08-02T08:57:22.390755007Z",
     "start_time": "2023-08-02T08:57:22.286517157Z"
    }
   }
  },
  {
   "cell_type": "code",
   "execution_count": 17,
   "outputs": [
    {
     "name": "stdout",
     "output_type": "stream",
     "text": [
      "outputs/experiment=predict_final,model=u/2023-07-26_09-39-29/dataset.json\n",
      "outputs/experiment=predict_final,model=v/2023-07-26_09-39-29/dataset.json\n"
     ]
    },
    {
     "data": {
      "text/plain": "                                                      dir material  is_vdw  \\\n0       /Users/azadoks/Data/uv_ml/luca/PrNiO3/by_type/...   b-type   False   \n78      /Users/azadoks/Data/uv_ml/luca/PrNiO3/by_type/...   b-type   False   \n118     /Users/azadoks/Data/uv_ml/luca/PrNiO3/by_type/...   b-type   False   \n161     /Users/azadoks/Data/uv_ml/luca/PrNiO3/by_type/...   b-type   False   \n197     /Users/azadoks/Data/uv_ml/luca/PrNiO3/by_type/...   b-type   False   \n...                                                   ...      ...     ...   \n106816  /Users/azadoks/Data/uv_ml/iurii/Spinel/LixMn2O...    Mn2O4   False   \n106817  /Users/azadoks/Data/uv_ml/iurii/Spinel/LixMn2O...    Mn2O4   False   \n106862  /Users/azadoks/Data/uv_ml/iurii/Spinel/LixMn2O...    Mn2O4   False   \n106863  /Users/azadoks/Data/uv_ml/iurii/Spinel/LixMn2O...    Mn2O4   False   \n106864  /Users/azadoks/Data/uv_ml/iurii/Spinel/LixMn2O...    Mn2O4   False   \n\n        uv_iter formula                                               cell  \\\n0             1          [20.4521, 0.0, 0.0, 0.0, 10.1708088779, 0.0, -...   \n78            1          [20.4521, 0.0, 0.0, 0.0, 10.1708088779, 0.0, -...   \n118           1          [20.4521, 0.0, 0.0, 0.0, 10.1708088779, 0.0, -...   \n161           1          [20.4521, 0.0, 0.0, 0.0, 10.1708088779, 0.0, -...   \n197           1          [20.4521, 0.0, 0.0, 0.0, 10.1708088779, 0.0, -...   \n...         ...     ...                                                ...   \n106816        3          [15.4309, 0.0, 0.0, 0.0, 15.4304216421, 0.0, 0...   \n106817        3          [15.4309, 0.0, 0.0, 0.0, 15.4304216421, 0.0, 0...   \n106862        3          [15.4309, 0.0, 0.0, 0.0, 15.4304216421, 0.0, 0...   \n106863        3          [15.4309, 0.0, 0.0, 0.0, 15.4304216421, 0.0, 0...   \n106864        3          [15.4309, 0.0, 0.0, 0.0, 15.4304216421, 0.0, 0...   \n\n        n_atoms_uc person  structure_index  pw_time_unix  ...  species  label  \\\n0               80   luca                1    1594004350  ...     [Ni]     Ni   \n78              80   luca                1    1594004350  ...     [Ni]     Ni   \n118             80   luca                1    1594004350  ...     [Ni]     Ni   \n161             80   luca                1    1594004350  ...     [Ni]     Ni   \n197             80   luca                1    1594004350  ...     [Ni]     Ni   \n...            ...    ...              ...           ...  ...      ...    ...   \n106816          48  iurii              122    1638445240  ...  [Mn, O]   Mn-O   \n106817          48  iurii              122    1638445240  ...  [Mn, O]   Mn-O   \n106862          48  iurii              122    1638445240  ...  [Mn, O]   Mn-O   \n106863          48  iurii              122    1638445240  ...  [Mn, O]   Mn-O   \n106864          48  iurii              122    1638445240  ...  [Mn, O]   Mn-O   \n\n         colour                                           sc_paths  \\\n0       #50D050  /Users/azadoks/Data/uv_ml/luca/PrNiO3/by_type/...   \n78      #50D050  /Users/azadoks/Data/uv_ml/luca/PrNiO3/by_type/...   \n118     #50D050  /Users/azadoks/Data/uv_ml/luca/PrNiO3/by_type/...   \n161     #50D050  /Users/azadoks/Data/uv_ml/luca/PrNiO3/by_type/...   \n197     #50D050  /Users/azadoks/Data/uv_ml/luca/PrNiO3/by_type/...   \n...         ...                                                ...   \n106816  #9C7AC7  /Users/azadoks/Data/uv_ml/iurii/Spinel/LixMn2O...   \n106817  #9C7AC7  /Users/azadoks/Data/uv_ml/iurii/Spinel/LixMn2O...   \n106862  #9C7AC7  /Users/azadoks/Data/uv_ml/iurii/Spinel/LixMn2O...   \n106863  #9C7AC7  /Users/azadoks/Data/uv_ml/iurii/Spinel/LixMn2O...   \n106864  #9C7AC7  /Users/azadoks/Data/uv_ml/iurii/Spinel/LixMn2O...   \n\n        param_final                            cluster_id  training_label  \\\n0            9.6441  1c543a33-20e8-43e9-831b-df69f0b43fe3           train   \n78           8.5407  1db6c2dd-6920-41f0-b470-6aa26a776082        validate   \n118          8.5407  1db6c2dd-6920-41f0-b470-6aa26a776082       duplicate   \n161          8.5407  1db6c2dd-6920-41f0-b470-6aa26a776082       duplicate   \n197          8.5407  1db6c2dd-6920-41f0-b470-6aa26a776082       duplicate   \n...             ...                                   ...             ...   \n106816       0.8509  5965c8da-5959-406d-86e6-dfa7901baf3d           train   \n106817       0.8509  f5bf68f4-8b9a-4a0b-b03d-61f46f8303d9           train   \n106862       0.8435  7d488c76-50a3-4b73-ab45-c04be052a182           train   \n106863       0.8509  5965c8da-5959-406d-86e6-dfa7901baf3d           train   \n106864       0.8509  f5bf68f4-8b9a-4a0b-b03d-61f46f8303d9           train   \n\n        param_out_predicted p_element  d_element  \n0                  9.696028       NaN        NaN  \n78                 8.505835       NaN        NaN  \n118                8.505835       NaN        NaN  \n161                8.505835       NaN        NaN  \n197                8.505835       NaN        NaN  \n...                     ...       ...        ...  \n106816             0.850134         O         Mn  \n106817             0.849279         O         Mn  \n106862             0.840075         O         Mn  \n106863             0.850134         O         Mn  \n106864             0.849279         O         Mn  \n\n[6696 rows x 55 columns]",
      "text/html": "<div>\n<style scoped>\n    .dataframe tbody tr th:only-of-type {\n        vertical-align: middle;\n    }\n\n    .dataframe tbody tr th {\n        vertical-align: top;\n    }\n\n    .dataframe thead th {\n        text-align: right;\n    }\n</style>\n<table border=\"1\" class=\"dataframe\">\n  <thead>\n    <tr style=\"text-align: right;\">\n      <th></th>\n      <th>dir</th>\n      <th>material</th>\n      <th>is_vdw</th>\n      <th>uv_iter</th>\n      <th>formula</th>\n      <th>cell</th>\n      <th>n_atoms_uc</th>\n      <th>person</th>\n      <th>structure_index</th>\n      <th>pw_time_unix</th>\n      <th>...</th>\n      <th>species</th>\n      <th>label</th>\n      <th>colour</th>\n      <th>sc_paths</th>\n      <th>param_final</th>\n      <th>cluster_id</th>\n      <th>training_label</th>\n      <th>param_out_predicted</th>\n      <th>p_element</th>\n      <th>d_element</th>\n    </tr>\n  </thead>\n  <tbody>\n    <tr>\n      <th>0</th>\n      <td>/Users/azadoks/Data/uv_ml/luca/PrNiO3/by_type/...</td>\n      <td>b-type</td>\n      <td>False</td>\n      <td>1</td>\n      <td></td>\n      <td>[20.4521, 0.0, 0.0, 0.0, 10.1708088779, 0.0, -...</td>\n      <td>80</td>\n      <td>luca</td>\n      <td>1</td>\n      <td>1594004350</td>\n      <td>...</td>\n      <td>[Ni]</td>\n      <td>Ni</td>\n      <td>#50D050</td>\n      <td>/Users/azadoks/Data/uv_ml/luca/PrNiO3/by_type/...</td>\n      <td>9.6441</td>\n      <td>1c543a33-20e8-43e9-831b-df69f0b43fe3</td>\n      <td>train</td>\n      <td>9.696028</td>\n      <td>NaN</td>\n      <td>NaN</td>\n    </tr>\n    <tr>\n      <th>78</th>\n      <td>/Users/azadoks/Data/uv_ml/luca/PrNiO3/by_type/...</td>\n      <td>b-type</td>\n      <td>False</td>\n      <td>1</td>\n      <td></td>\n      <td>[20.4521, 0.0, 0.0, 0.0, 10.1708088779, 0.0, -...</td>\n      <td>80</td>\n      <td>luca</td>\n      <td>1</td>\n      <td>1594004350</td>\n      <td>...</td>\n      <td>[Ni]</td>\n      <td>Ni</td>\n      <td>#50D050</td>\n      <td>/Users/azadoks/Data/uv_ml/luca/PrNiO3/by_type/...</td>\n      <td>8.5407</td>\n      <td>1db6c2dd-6920-41f0-b470-6aa26a776082</td>\n      <td>validate</td>\n      <td>8.505835</td>\n      <td>NaN</td>\n      <td>NaN</td>\n    </tr>\n    <tr>\n      <th>118</th>\n      <td>/Users/azadoks/Data/uv_ml/luca/PrNiO3/by_type/...</td>\n      <td>b-type</td>\n      <td>False</td>\n      <td>1</td>\n      <td></td>\n      <td>[20.4521, 0.0, 0.0, 0.0, 10.1708088779, 0.0, -...</td>\n      <td>80</td>\n      <td>luca</td>\n      <td>1</td>\n      <td>1594004350</td>\n      <td>...</td>\n      <td>[Ni]</td>\n      <td>Ni</td>\n      <td>#50D050</td>\n      <td>/Users/azadoks/Data/uv_ml/luca/PrNiO3/by_type/...</td>\n      <td>8.5407</td>\n      <td>1db6c2dd-6920-41f0-b470-6aa26a776082</td>\n      <td>duplicate</td>\n      <td>8.505835</td>\n      <td>NaN</td>\n      <td>NaN</td>\n    </tr>\n    <tr>\n      <th>161</th>\n      <td>/Users/azadoks/Data/uv_ml/luca/PrNiO3/by_type/...</td>\n      <td>b-type</td>\n      <td>False</td>\n      <td>1</td>\n      <td></td>\n      <td>[20.4521, 0.0, 0.0, 0.0, 10.1708088779, 0.0, -...</td>\n      <td>80</td>\n      <td>luca</td>\n      <td>1</td>\n      <td>1594004350</td>\n      <td>...</td>\n      <td>[Ni]</td>\n      <td>Ni</td>\n      <td>#50D050</td>\n      <td>/Users/azadoks/Data/uv_ml/luca/PrNiO3/by_type/...</td>\n      <td>8.5407</td>\n      <td>1db6c2dd-6920-41f0-b470-6aa26a776082</td>\n      <td>duplicate</td>\n      <td>8.505835</td>\n      <td>NaN</td>\n      <td>NaN</td>\n    </tr>\n    <tr>\n      <th>197</th>\n      <td>/Users/azadoks/Data/uv_ml/luca/PrNiO3/by_type/...</td>\n      <td>b-type</td>\n      <td>False</td>\n      <td>1</td>\n      <td></td>\n      <td>[20.4521, 0.0, 0.0, 0.0, 10.1708088779, 0.0, -...</td>\n      <td>80</td>\n      <td>luca</td>\n      <td>1</td>\n      <td>1594004350</td>\n      <td>...</td>\n      <td>[Ni]</td>\n      <td>Ni</td>\n      <td>#50D050</td>\n      <td>/Users/azadoks/Data/uv_ml/luca/PrNiO3/by_type/...</td>\n      <td>8.5407</td>\n      <td>1db6c2dd-6920-41f0-b470-6aa26a776082</td>\n      <td>duplicate</td>\n      <td>8.505835</td>\n      <td>NaN</td>\n      <td>NaN</td>\n    </tr>\n    <tr>\n      <th>...</th>\n      <td>...</td>\n      <td>...</td>\n      <td>...</td>\n      <td>...</td>\n      <td>...</td>\n      <td>...</td>\n      <td>...</td>\n      <td>...</td>\n      <td>...</td>\n      <td>...</td>\n      <td>...</td>\n      <td>...</td>\n      <td>...</td>\n      <td>...</td>\n      <td>...</td>\n      <td>...</td>\n      <td>...</td>\n      <td>...</td>\n      <td>...</td>\n      <td>...</td>\n      <td>...</td>\n    </tr>\n    <tr>\n      <th>106816</th>\n      <td>/Users/azadoks/Data/uv_ml/iurii/Spinel/LixMn2O...</td>\n      <td>Mn2O4</td>\n      <td>False</td>\n      <td>3</td>\n      <td></td>\n      <td>[15.4309, 0.0, 0.0, 0.0, 15.4304216421, 0.0, 0...</td>\n      <td>48</td>\n      <td>iurii</td>\n      <td>122</td>\n      <td>1638445240</td>\n      <td>...</td>\n      <td>[Mn, O]</td>\n      <td>Mn-O</td>\n      <td>#9C7AC7</td>\n      <td>/Users/azadoks/Data/uv_ml/iurii/Spinel/LixMn2O...</td>\n      <td>0.8509</td>\n      <td>5965c8da-5959-406d-86e6-dfa7901baf3d</td>\n      <td>train</td>\n      <td>0.850134</td>\n      <td>O</td>\n      <td>Mn</td>\n    </tr>\n    <tr>\n      <th>106817</th>\n      <td>/Users/azadoks/Data/uv_ml/iurii/Spinel/LixMn2O...</td>\n      <td>Mn2O4</td>\n      <td>False</td>\n      <td>3</td>\n      <td></td>\n      <td>[15.4309, 0.0, 0.0, 0.0, 15.4304216421, 0.0, 0...</td>\n      <td>48</td>\n      <td>iurii</td>\n      <td>122</td>\n      <td>1638445240</td>\n      <td>...</td>\n      <td>[Mn, O]</td>\n      <td>Mn-O</td>\n      <td>#9C7AC7</td>\n      <td>/Users/azadoks/Data/uv_ml/iurii/Spinel/LixMn2O...</td>\n      <td>0.8509</td>\n      <td>f5bf68f4-8b9a-4a0b-b03d-61f46f8303d9</td>\n      <td>train</td>\n      <td>0.849279</td>\n      <td>O</td>\n      <td>Mn</td>\n    </tr>\n    <tr>\n      <th>106862</th>\n      <td>/Users/azadoks/Data/uv_ml/iurii/Spinel/LixMn2O...</td>\n      <td>Mn2O4</td>\n      <td>False</td>\n      <td>3</td>\n      <td></td>\n      <td>[15.4309, 0.0, 0.0, 0.0, 15.4304216421, 0.0, 0...</td>\n      <td>48</td>\n      <td>iurii</td>\n      <td>122</td>\n      <td>1638445240</td>\n      <td>...</td>\n      <td>[Mn, O]</td>\n      <td>Mn-O</td>\n      <td>#9C7AC7</td>\n      <td>/Users/azadoks/Data/uv_ml/iurii/Spinel/LixMn2O...</td>\n      <td>0.8435</td>\n      <td>7d488c76-50a3-4b73-ab45-c04be052a182</td>\n      <td>train</td>\n      <td>0.840075</td>\n      <td>O</td>\n      <td>Mn</td>\n    </tr>\n    <tr>\n      <th>106863</th>\n      <td>/Users/azadoks/Data/uv_ml/iurii/Spinel/LixMn2O...</td>\n      <td>Mn2O4</td>\n      <td>False</td>\n      <td>3</td>\n      <td></td>\n      <td>[15.4309, 0.0, 0.0, 0.0, 15.4304216421, 0.0, 0...</td>\n      <td>48</td>\n      <td>iurii</td>\n      <td>122</td>\n      <td>1638445240</td>\n      <td>...</td>\n      <td>[Mn, O]</td>\n      <td>Mn-O</td>\n      <td>#9C7AC7</td>\n      <td>/Users/azadoks/Data/uv_ml/iurii/Spinel/LixMn2O...</td>\n      <td>0.8509</td>\n      <td>5965c8da-5959-406d-86e6-dfa7901baf3d</td>\n      <td>train</td>\n      <td>0.850134</td>\n      <td>O</td>\n      <td>Mn</td>\n    </tr>\n    <tr>\n      <th>106864</th>\n      <td>/Users/azadoks/Data/uv_ml/iurii/Spinel/LixMn2O...</td>\n      <td>Mn2O4</td>\n      <td>False</td>\n      <td>3</td>\n      <td></td>\n      <td>[15.4309, 0.0, 0.0, 0.0, 15.4304216421, 0.0, 0...</td>\n      <td>48</td>\n      <td>iurii</td>\n      <td>122</td>\n      <td>1638445240</td>\n      <td>...</td>\n      <td>[Mn, O]</td>\n      <td>Mn-O</td>\n      <td>#9C7AC7</td>\n      <td>/Users/azadoks/Data/uv_ml/iurii/Spinel/LixMn2O...</td>\n      <td>0.8509</td>\n      <td>f5bf68f4-8b9a-4a0b-b03d-61f46f8303d9</td>\n      <td>train</td>\n      <td>0.849279</td>\n      <td>O</td>\n      <td>Mn</td>\n    </tr>\n  </tbody>\n</table>\n<p>6696 rows × 55 columns</p>\n</div>"
     },
     "execution_count": 17,
     "metadata": {},
     "output_type": "execute_result"
    }
   ],
   "source": [
    "frames = []\n",
    "for experiment in EXPERIMENTS:\n",
    "    path = f\"outputs/{experiment}/{DATASET}\"\n",
    "    print(path)\n",
    "    frames.append(pd.read_json(path))\n",
    "\n",
    "df = pd.concat(frames)\n",
    "df\n"
   ],
   "metadata": {
    "collapsed": false,
    "ExecuteTime": {
     "end_time": "2023-08-02T08:57:22.624508581Z",
     "start_time": "2023-08-02T08:57:22.293126040Z"
    }
   }
  },
  {
   "cell_type": "code",
   "execution_count": 18,
   "outputs": [
    {
     "data": {
      "text/plain": "array(['/Users/azadoks/Data/uv_ml/luca/PrNiO3/by_type/b-type',\n       '/Users/azadoks/Data/uv_ml/luca/PrNiO3/by_type/ferro',\n       '/Users/azadoks/Data/uv_ml/luca/PrNiO3/by_type/s-type',\n       '/Users/azadoks/Data/uv_ml/luca/PrNiO3/by_type/t-type',\n       '/Users/azadoks/Data/uv_ml/iurii/Layered/2_LixNiO2/1_LiNiO2_DFT_plus_UV_v3',\n       '/Users/azadoks/Data/uv_ml/iurii/Layered/2_LixNiO2/1_NiO2_DFT_plus_UV',\n       '/Users/azadoks/Data/uv_ml/iurii/Layered/3_LixMnO2/3_LiMnO2_DFT_plus_UV_v3',\n       '/Users/azadoks/Data/uv_ml/iurii/Layered/3_LixMnO2/3_MnO2_DFT_plus_UV',\n       '/Users/azadoks/Data/uv_ml/iurii/Olivines/LiFe0.5Mn0.5PO4/A1_Li0.00Mn0.5Fe0.5PO4/DFT_plus_UV',\n       '/Users/azadoks/Data/uv_ml/iurii/Olivines/LiFePO4/C1_Li0.00FePO4/DFT_plus_UV',\n       '/Users/azadoks/Data/uv_ml/iurii/Olivines/LiFePO4/C2_Li0.25FePO4/DFT_plus_UV',\n       '/Users/azadoks/Data/uv_ml/iurii/Olivines/LiFePO4/C3_Li0.50FePO4/DFT_plus_UV',\n       '/Users/azadoks/Data/uv_ml/iurii/Olivines/LiFePO4/C4_Li0.75FePO4/DFT_plus_UV',\n       '/Users/azadoks/Data/uv_ml/iurii/Olivines/LiFePO4/C5_Li1.00FePO4/DFT_plus_UV',\n       '/Users/azadoks/Data/uv_ml/iurii/Olivines/LiMnPO4/B1_Li0.00MnPO4/DFT_plus_UV',\n       '/Users/azadoks/Data/uv_ml/iurii/Olivines/LiMnPO4/B2_Li0.25MnPO4/DFT_plus_UV',\n       '/Users/azadoks/Data/uv_ml/iurii/Olivines/LiMnPO4/B3_Li0.50MnPO4/DFT_plus_UV',\n       '/Users/azadoks/Data/uv_ml/iurii/Olivines/LiMnPO4/B4_Li0.75MnPO4/DFT_plus_UV',\n       '/Users/azadoks/Data/uv_ml/iurii/Olivines/LiMnPO4/B5_Li1.00MnPO4/DFT_plus_UV',\n       '/Users/azadoks/Data/uv_ml/iurii/Spinel/LixMn1.5Ni0.5O4/DFT_plus_UV/LiMn1.5Ni0.5O4',\n       '/Users/azadoks/Data/uv_ml/iurii/Spinel/LixMn1.5Ni0.5O4/DFT_plus_UV/Mn1.5Ni0.5O4',\n       '/Users/azadoks/Data/uv_ml/iurii/Spinel/LixMn2O4/DFT_plus_UV/LiMn2O4',\n       '/Users/azadoks/Data/uv_ml/iurii/Spinel/LixMn2O4/DFT_plus_UV/Mn2O4',\n       '/Users/azadoks/Data/uv_ml/iurii/Layered/1_LixCoO2/1_CoO2_DFT_plus_UV',\n       '/Users/azadoks/Data/uv_ml/iurii/Layered/1_LixCoO2/1_LiCoO2_DFT_plus_UV',\n       '/Users/azadoks/Data/uv_ml/iurii/Layered/4_LixTiS2/4_LiTiS2_DFT_plus_UV',\n       '/Users/azadoks/Data/uv_ml/iurii/Layered/4_LixTiS2/4_TiS2_DFT_plus_UV'],\n      dtype=object)"
     },
     "execution_count": 18,
     "metadata": {},
     "output_type": "execute_result"
    }
   ],
   "source": [
    "df[keys.SC_PATHS].unique()"
   ],
   "metadata": {
    "collapsed": false,
    "ExecuteTime": {
     "end_time": "2023-08-02T08:57:24.100413561Z",
     "start_time": "2023-08-02T08:57:24.076278283Z"
    }
   }
  },
  {
   "cell_type": "code",
   "execution_count": 14,
   "outputs": [
    {
     "name": "stdout",
     "output_type": "stream",
     "text": [
      "Li0.00MnPO4: 216\n",
      "Li1.00MnPO4: 208\n",
      "Li0.00FePO4: 208\n",
      "Li1.00FePO4: 156\n",
      "Li0.00Mn0.5Fe0.5PO4: 156\n",
      "Li0.50Mn0.5Fe0.5PO4: 0\n",
      "Li1.00Mn0.5Fe0.5PO4: 0\n"
     ]
    }
   ],
   "source": [
    "li_concentrations = [\"0.00\", \"0.50\", \"1.00\"]\n",
    "ions = [\"Mn\", \"Fe\", \"Mn0.5Fe0.5\"]\n",
    "\n",
    "frames = []\n",
    "for ion in ions:\n",
    "    for li_concentration in li_concentrations:\n",
    "        if ion in (\"Mn\", \"Fe\") and li_concentration == \"0.50\":\n",
    "            continue\n",
    "\n",
    "        composition = f\"Li{li_concentration}{ion}PO4\"\n",
    "        print(f\"{composition}: {sum(df[keys.SC_PATHS].str.contains(composition))}\")\n",
    "        frames.append(df[df[keys.SC_PATHS].str.contains(composition) & (df[keys.UV_ITER] == 1)])\n",
    "\n",
    "subframe = pd.concat(frames)"
   ],
   "metadata": {
    "collapsed": false,
    "ExecuteTime": {
     "end_time": "2023-08-02T08:56:34.290589141Z",
     "start_time": "2023-08-02T08:56:34.247921823Z"
    }
   }
  },
  {
   "cell_type": "code",
   "execution_count": 11,
   "outputs": [
    {
     "data": {
      "text/plain": "                                                sc_paths param_type  \\\n32563  /Users/azadoks/Data/uv_ml/iurii/Olivines/LiFe0...          U   \n32564  /Users/azadoks/Data/uv_ml/iurii/Olivines/LiFe0...          V   \n32565  /Users/azadoks/Data/uv_ml/iurii/Olivines/LiFe0...          V   \n32566  /Users/azadoks/Data/uv_ml/iurii/Olivines/LiFe0...          V   \n32567  /Users/azadoks/Data/uv_ml/iurii/Olivines/LiFe0...          V   \n...                                                  ...        ...   \n64250  /Users/azadoks/Data/uv_ml/iurii/Olivines/LiMnP...          V   \n64271  /Users/azadoks/Data/uv_ml/iurii/Olivines/LiMnP...          V   \n64272  /Users/azadoks/Data/uv_ml/iurii/Olivines/LiMnP...          V   \n64293  /Users/azadoks/Data/uv_ml/iurii/Olivines/LiMnP...          V   \n64294  /Users/azadoks/Data/uv_ml/iurii/Olivines/LiMnP...          V   \n\n      atom_1_element  atom_1_idx atom_2_element  atom_2_idx_uc  atom_2_idx  \\\n32563             Fe           1             Fe              1           1   \n32564             Fe           1              O              9         345   \n32565             Fe           1              O              5           5   \n32566             Fe           1              O             14          14   \n32567             Fe           1              O             13         277   \n...              ...         ...            ...            ...         ...   \n64250              O          18             Mn              1         365   \n64271              O          19             Mn              4         312   \n64272              O          19             Mn              2           2   \n64293              O          20             Mn              4           4   \n64294              O          20             Mn              2           2   \n\n       param_out  param_out_predicted training_label  \n32563     5.4332             5.776473       validate  \n32564     1.1219             1.124132          train  \n32565     1.0879             1.108817          train  \n32566     0.8008             0.663519       validate  \n32567     0.8008             0.663514      duplicate  \n...          ...                  ...            ...  \n64250     0.4174             0.462314          train  \n64271     0.7801             0.673023          train  \n64272     0.4174             0.462227          train  \n64293     0.7801             0.673023          train  \n64294     0.4174             0.462227          train  \n\n[268 rows x 10 columns]",
      "text/html": "<div>\n<style scoped>\n    .dataframe tbody tr th:only-of-type {\n        vertical-align: middle;\n    }\n\n    .dataframe tbody tr th {\n        vertical-align: top;\n    }\n\n    .dataframe thead th {\n        text-align: right;\n    }\n</style>\n<table border=\"1\" class=\"dataframe\">\n  <thead>\n    <tr style=\"text-align: right;\">\n      <th></th>\n      <th>sc_paths</th>\n      <th>param_type</th>\n      <th>atom_1_element</th>\n      <th>atom_1_idx</th>\n      <th>atom_2_element</th>\n      <th>atom_2_idx_uc</th>\n      <th>atom_2_idx</th>\n      <th>param_out</th>\n      <th>param_out_predicted</th>\n      <th>training_label</th>\n    </tr>\n  </thead>\n  <tbody>\n    <tr>\n      <th>32563</th>\n      <td>/Users/azadoks/Data/uv_ml/iurii/Olivines/LiFe0...</td>\n      <td>U</td>\n      <td>Fe</td>\n      <td>1</td>\n      <td>Fe</td>\n      <td>1</td>\n      <td>1</td>\n      <td>5.4332</td>\n      <td>5.776473</td>\n      <td>validate</td>\n    </tr>\n    <tr>\n      <th>32564</th>\n      <td>/Users/azadoks/Data/uv_ml/iurii/Olivines/LiFe0...</td>\n      <td>V</td>\n      <td>Fe</td>\n      <td>1</td>\n      <td>O</td>\n      <td>9</td>\n      <td>345</td>\n      <td>1.1219</td>\n      <td>1.124132</td>\n      <td>train</td>\n    </tr>\n    <tr>\n      <th>32565</th>\n      <td>/Users/azadoks/Data/uv_ml/iurii/Olivines/LiFe0...</td>\n      <td>V</td>\n      <td>Fe</td>\n      <td>1</td>\n      <td>O</td>\n      <td>5</td>\n      <td>5</td>\n      <td>1.0879</td>\n      <td>1.108817</td>\n      <td>train</td>\n    </tr>\n    <tr>\n      <th>32566</th>\n      <td>/Users/azadoks/Data/uv_ml/iurii/Olivines/LiFe0...</td>\n      <td>V</td>\n      <td>Fe</td>\n      <td>1</td>\n      <td>O</td>\n      <td>14</td>\n      <td>14</td>\n      <td>0.8008</td>\n      <td>0.663519</td>\n      <td>validate</td>\n    </tr>\n    <tr>\n      <th>32567</th>\n      <td>/Users/azadoks/Data/uv_ml/iurii/Olivines/LiFe0...</td>\n      <td>V</td>\n      <td>Fe</td>\n      <td>1</td>\n      <td>O</td>\n      <td>13</td>\n      <td>277</td>\n      <td>0.8008</td>\n      <td>0.663514</td>\n      <td>duplicate</td>\n    </tr>\n    <tr>\n      <th>...</th>\n      <td>...</td>\n      <td>...</td>\n      <td>...</td>\n      <td>...</td>\n      <td>...</td>\n      <td>...</td>\n      <td>...</td>\n      <td>...</td>\n      <td>...</td>\n      <td>...</td>\n    </tr>\n    <tr>\n      <th>64250</th>\n      <td>/Users/azadoks/Data/uv_ml/iurii/Olivines/LiMnP...</td>\n      <td>V</td>\n      <td>O</td>\n      <td>18</td>\n      <td>Mn</td>\n      <td>1</td>\n      <td>365</td>\n      <td>0.4174</td>\n      <td>0.462314</td>\n      <td>train</td>\n    </tr>\n    <tr>\n      <th>64271</th>\n      <td>/Users/azadoks/Data/uv_ml/iurii/Olivines/LiMnP...</td>\n      <td>V</td>\n      <td>O</td>\n      <td>19</td>\n      <td>Mn</td>\n      <td>4</td>\n      <td>312</td>\n      <td>0.7801</td>\n      <td>0.673023</td>\n      <td>train</td>\n    </tr>\n    <tr>\n      <th>64272</th>\n      <td>/Users/azadoks/Data/uv_ml/iurii/Olivines/LiMnP...</td>\n      <td>V</td>\n      <td>O</td>\n      <td>19</td>\n      <td>Mn</td>\n      <td>2</td>\n      <td>2</td>\n      <td>0.4174</td>\n      <td>0.462227</td>\n      <td>train</td>\n    </tr>\n    <tr>\n      <th>64293</th>\n      <td>/Users/azadoks/Data/uv_ml/iurii/Olivines/LiMnP...</td>\n      <td>V</td>\n      <td>O</td>\n      <td>20</td>\n      <td>Mn</td>\n      <td>4</td>\n      <td>4</td>\n      <td>0.7801</td>\n      <td>0.673023</td>\n      <td>train</td>\n    </tr>\n    <tr>\n      <th>64294</th>\n      <td>/Users/azadoks/Data/uv_ml/iurii/Olivines/LiMnP...</td>\n      <td>V</td>\n      <td>O</td>\n      <td>20</td>\n      <td>Mn</td>\n      <td>2</td>\n      <td>2</td>\n      <td>0.4174</td>\n      <td>0.462227</td>\n      <td>train</td>\n    </tr>\n  </tbody>\n</table>\n<p>268 rows × 10 columns</p>\n</div>"
     },
     "execution_count": 11,
     "metadata": {},
     "output_type": "execute_result"
    }
   ],
   "source": [
    "outs = subframe[COLS].sort_values([keys.SC_PATHS, keys.ATOM_1_IDX, keys.PARAM_TYPE])\n",
    "outs"
   ],
   "metadata": {
    "collapsed": false,
    "ExecuteTime": {
     "end_time": "2023-08-02T08:53:44.121194043Z",
     "start_time": "2023-08-02T08:53:44.035437340Z"
    }
   }
  },
  {
   "cell_type": "code",
   "execution_count": 12,
   "outputs": [],
   "source": [
    "\n",
    "dt_string = datetime.date.today()\n",
    "outs.to_excel(f\"/tmp/uv_dataset_{dt_string}.ods\", engine=\"odf\")\n"
   ],
   "metadata": {
    "collapsed": false,
    "ExecuteTime": {
     "end_time": "2023-08-02T08:53:46.350564460Z",
     "start_time": "2023-08-02T08:53:45.952178369Z"
    }
   }
  },
  {
   "cell_type": "code",
   "execution_count": 7,
   "outputs": [
    {
     "data": {
      "text/plain": "                                                     dir  \\\n48310  /Users/azadoks/Data/uv_ml/iurii/Olivines/LiMnP...   \n48395  /Users/azadoks/Data/uv_ml/iurii/Olivines/LiMnP...   \n48495  /Users/azadoks/Data/uv_ml/iurii/Olivines/LiMnP...   \n48595  /Users/azadoks/Data/uv_ml/iurii/Olivines/LiMnP...   \n48311  /Users/azadoks/Data/uv_ml/iurii/Olivines/LiMnP...   \n...                                                  ...   \n33286  /Users/azadoks/Data/uv_ml/iurii/Olivines/LiFe0...   \n33307  /Users/azadoks/Data/uv_ml/iurii/Olivines/LiFe0...   \n33308  /Users/azadoks/Data/uv_ml/iurii/Olivines/LiFe0...   \n33329  /Users/azadoks/Data/uv_ml/iurii/Olivines/LiFe0...   \n33330  /Users/azadoks/Data/uv_ml/iurii/Olivines/LiFe0...   \n\n                     material  is_vdw  uv_iter formula  \\\n48310          B1_Li0.00MnPO4   False        1           \n48395          B1_Li0.00MnPO4   False        1           \n48495          B1_Li0.00MnPO4   False        1           \n48595          B1_Li0.00MnPO4   False        1           \n48311          B1_Li0.00MnPO4   False        1           \n...                       ...     ...      ...     ...   \n33286  A1_Li0.00Mn0.5Fe0.5PO4   False        1           \n33307  A1_Li0.00Mn0.5Fe0.5PO4   False        1           \n33308  A1_Li0.00Mn0.5Fe0.5PO4   False        1           \n33329  A1_Li0.00Mn0.5Fe0.5PO4   False        1           \n33330  A1_Li0.00Mn0.5Fe0.5PO4   False        1           \n\n                                                    cell  n_atoms_uc person  \\\n48310  [18.3958782305, 0.0, 0.0, 0.0, 11.1750611095, ...          24  iurii   \n48395  [18.3958782305, 0.0, 0.0, 0.0, 11.1750611095, ...          24  iurii   \n48495  [18.3958782305, 0.0, 0.0, 0.0, 11.1750611095, ...          24  iurii   \n48595  [18.3958782305, 0.0, 0.0, 0.0, 11.1750611095, ...          24  iurii   \n48311  [18.3958782305, 0.0, 0.0, 0.0, 11.1750611095, ...          24  iurii   \n...                                                  ...         ...    ...   \n33286  [18.5936265225, -0.0009754750000000001, 0.0072...          24  iurii   \n33307  [18.5936265225, -0.0009754750000000001, 0.0072...          24  iurii   \n33308  [18.5936265225, -0.0009754750000000001, 0.0072...          24  iurii   \n33329  [18.5936265225, -0.0009754750000000001, 0.0072...          24  iurii   \n33330  [18.5936265225, -0.0009754750000000001, 0.0072...          24  iurii   \n\n       structure_index  pw_time_unix  ...  species  label   colour  \\\n48310               89    1594912769  ...     [Mn]     Mn  #9C7AC7   \n48395               89    1594912769  ...     [Mn]     Mn  #9C7AC7   \n48495               89    1594912769  ...     [Mn]     Mn  #9C7AC7   \n48595               89    1594912769  ...     [Mn]     Mn  #9C7AC7   \n48311               89    1594912769  ...  [Mn, O]   Mn-O  #9C7AC7   \n...                ...           ...  ...      ...    ...      ...   \n33286               68    1618231488  ...  [Fe, O]   Fe-O  #E06633   \n33307               68    1618231488  ...  [Mn, O]   Mn-O  #9C7AC7   \n33308               68    1618231488  ...  [Mn, O]   Mn-O  #9C7AC7   \n33329               68    1618231488  ...  [Mn, O]   Mn-O  #9C7AC7   \n33330               68    1618231488  ...  [Mn, O]   Mn-O  #9C7AC7   \n\n                                                sc_paths  param_final  \\\n48310  /Users/azadoks/Data/uv_ml/iurii/Olivines/LiMnP...       6.2564   \n48395  /Users/azadoks/Data/uv_ml/iurii/Olivines/LiMnP...       6.2564   \n48495  /Users/azadoks/Data/uv_ml/iurii/Olivines/LiMnP...       6.2564   \n48595  /Users/azadoks/Data/uv_ml/iurii/Olivines/LiMnP...       6.2564   \n48311  /Users/azadoks/Data/uv_ml/iurii/Olivines/LiMnP...       1.0675   \n...                                                  ...          ...   \n33286  /Users/azadoks/Data/uv_ml/iurii/Olivines/LiFe0...       0.5973   \n33307  /Users/azadoks/Data/uv_ml/iurii/Olivines/LiFe0...       0.9164   \n33308  /Users/azadoks/Data/uv_ml/iurii/Olivines/LiFe0...       0.5528   \n33329  /Users/azadoks/Data/uv_ml/iurii/Olivines/LiFe0...       0.9167   \n33330  /Users/azadoks/Data/uv_ml/iurii/Olivines/LiFe0...       0.5507   \n\n                                 cluster_id  training_label  \\\n48310  6b54b0cc-1f21-42dd-a12a-fbe02f0504fb           train   \n48395  6b54b0cc-1f21-42dd-a12a-fbe02f0504fb           train   \n48495  6b54b0cc-1f21-42dd-a12a-fbe02f0504fb           train   \n48595  6b54b0cc-1f21-42dd-a12a-fbe02f0504fb           train   \n48311  abc8d538-d5a6-473a-90c7-934b729e4011           train   \n...                                     ...             ...   \n33286  e01095b1-dbba-4937-a085-b3fc72134eae           train   \n33307  b1bfd203-c54c-42f6-83a2-ea6ee2e974a3           train   \n33308  547abdba-211b-4ee7-a07f-93b1ee7ae74b           train   \n33329  b1bfd203-c54c-42f6-83a2-ea6ee2e974a3           train   \n33330  547abdba-211b-4ee7-a07f-93b1ee7ae74b           train   \n\n       param_out_predicted p_element  d_element  \n48310             6.257326       NaN        NaN  \n48395             6.257326       NaN        NaN  \n48495             6.257326       NaN        NaN  \n48595             6.257326       NaN        NaN  \n48311             1.081703         O         Mn  \n...                    ...       ...        ...  \n33286             0.644458         O         Fe  \n33307             0.937680         O         Mn  \n33308             0.584834         O         Mn  \n33329             0.934387         O         Mn  \n33330             0.577422         O         Mn  \n\n[268 rows x 55 columns]",
      "text/html": "<div>\n<style scoped>\n    .dataframe tbody tr th:only-of-type {\n        vertical-align: middle;\n    }\n\n    .dataframe tbody tr th {\n        vertical-align: top;\n    }\n\n    .dataframe thead th {\n        text-align: right;\n    }\n</style>\n<table border=\"1\" class=\"dataframe\">\n  <thead>\n    <tr style=\"text-align: right;\">\n      <th></th>\n      <th>dir</th>\n      <th>material</th>\n      <th>is_vdw</th>\n      <th>uv_iter</th>\n      <th>formula</th>\n      <th>cell</th>\n      <th>n_atoms_uc</th>\n      <th>person</th>\n      <th>structure_index</th>\n      <th>pw_time_unix</th>\n      <th>...</th>\n      <th>species</th>\n      <th>label</th>\n      <th>colour</th>\n      <th>sc_paths</th>\n      <th>param_final</th>\n      <th>cluster_id</th>\n      <th>training_label</th>\n      <th>param_out_predicted</th>\n      <th>p_element</th>\n      <th>d_element</th>\n    </tr>\n  </thead>\n  <tbody>\n    <tr>\n      <th>48310</th>\n      <td>/Users/azadoks/Data/uv_ml/iurii/Olivines/LiMnP...</td>\n      <td>B1_Li0.00MnPO4</td>\n      <td>False</td>\n      <td>1</td>\n      <td></td>\n      <td>[18.3958782305, 0.0, 0.0, 0.0, 11.1750611095, ...</td>\n      <td>24</td>\n      <td>iurii</td>\n      <td>89</td>\n      <td>1594912769</td>\n      <td>...</td>\n      <td>[Mn]</td>\n      <td>Mn</td>\n      <td>#9C7AC7</td>\n      <td>/Users/azadoks/Data/uv_ml/iurii/Olivines/LiMnP...</td>\n      <td>6.2564</td>\n      <td>6b54b0cc-1f21-42dd-a12a-fbe02f0504fb</td>\n      <td>train</td>\n      <td>6.257326</td>\n      <td>NaN</td>\n      <td>NaN</td>\n    </tr>\n    <tr>\n      <th>48395</th>\n      <td>/Users/azadoks/Data/uv_ml/iurii/Olivines/LiMnP...</td>\n      <td>B1_Li0.00MnPO4</td>\n      <td>False</td>\n      <td>1</td>\n      <td></td>\n      <td>[18.3958782305, 0.0, 0.0, 0.0, 11.1750611095, ...</td>\n      <td>24</td>\n      <td>iurii</td>\n      <td>89</td>\n      <td>1594912769</td>\n      <td>...</td>\n      <td>[Mn]</td>\n      <td>Mn</td>\n      <td>#9C7AC7</td>\n      <td>/Users/azadoks/Data/uv_ml/iurii/Olivines/LiMnP...</td>\n      <td>6.2564</td>\n      <td>6b54b0cc-1f21-42dd-a12a-fbe02f0504fb</td>\n      <td>train</td>\n      <td>6.257326</td>\n      <td>NaN</td>\n      <td>NaN</td>\n    </tr>\n    <tr>\n      <th>48495</th>\n      <td>/Users/azadoks/Data/uv_ml/iurii/Olivines/LiMnP...</td>\n      <td>B1_Li0.00MnPO4</td>\n      <td>False</td>\n      <td>1</td>\n      <td></td>\n      <td>[18.3958782305, 0.0, 0.0, 0.0, 11.1750611095, ...</td>\n      <td>24</td>\n      <td>iurii</td>\n      <td>89</td>\n      <td>1594912769</td>\n      <td>...</td>\n      <td>[Mn]</td>\n      <td>Mn</td>\n      <td>#9C7AC7</td>\n      <td>/Users/azadoks/Data/uv_ml/iurii/Olivines/LiMnP...</td>\n      <td>6.2564</td>\n      <td>6b54b0cc-1f21-42dd-a12a-fbe02f0504fb</td>\n      <td>train</td>\n      <td>6.257326</td>\n      <td>NaN</td>\n      <td>NaN</td>\n    </tr>\n    <tr>\n      <th>48595</th>\n      <td>/Users/azadoks/Data/uv_ml/iurii/Olivines/LiMnP...</td>\n      <td>B1_Li0.00MnPO4</td>\n      <td>False</td>\n      <td>1</td>\n      <td></td>\n      <td>[18.3958782305, 0.0, 0.0, 0.0, 11.1750611095, ...</td>\n      <td>24</td>\n      <td>iurii</td>\n      <td>89</td>\n      <td>1594912769</td>\n      <td>...</td>\n      <td>[Mn]</td>\n      <td>Mn</td>\n      <td>#9C7AC7</td>\n      <td>/Users/azadoks/Data/uv_ml/iurii/Olivines/LiMnP...</td>\n      <td>6.2564</td>\n      <td>6b54b0cc-1f21-42dd-a12a-fbe02f0504fb</td>\n      <td>train</td>\n      <td>6.257326</td>\n      <td>NaN</td>\n      <td>NaN</td>\n    </tr>\n    <tr>\n      <th>48311</th>\n      <td>/Users/azadoks/Data/uv_ml/iurii/Olivines/LiMnP...</td>\n      <td>B1_Li0.00MnPO4</td>\n      <td>False</td>\n      <td>1</td>\n      <td></td>\n      <td>[18.3958782305, 0.0, 0.0, 0.0, 11.1750611095, ...</td>\n      <td>24</td>\n      <td>iurii</td>\n      <td>89</td>\n      <td>1594912769</td>\n      <td>...</td>\n      <td>[Mn, O]</td>\n      <td>Mn-O</td>\n      <td>#9C7AC7</td>\n      <td>/Users/azadoks/Data/uv_ml/iurii/Olivines/LiMnP...</td>\n      <td>1.0675</td>\n      <td>abc8d538-d5a6-473a-90c7-934b729e4011</td>\n      <td>train</td>\n      <td>1.081703</td>\n      <td>O</td>\n      <td>Mn</td>\n    </tr>\n    <tr>\n      <th>...</th>\n      <td>...</td>\n      <td>...</td>\n      <td>...</td>\n      <td>...</td>\n      <td>...</td>\n      <td>...</td>\n      <td>...</td>\n      <td>...</td>\n      <td>...</td>\n      <td>...</td>\n      <td>...</td>\n      <td>...</td>\n      <td>...</td>\n      <td>...</td>\n      <td>...</td>\n      <td>...</td>\n      <td>...</td>\n      <td>...</td>\n      <td>...</td>\n      <td>...</td>\n      <td>...</td>\n    </tr>\n    <tr>\n      <th>33286</th>\n      <td>/Users/azadoks/Data/uv_ml/iurii/Olivines/LiFe0...</td>\n      <td>A1_Li0.00Mn0.5Fe0.5PO4</td>\n      <td>False</td>\n      <td>1</td>\n      <td></td>\n      <td>[18.5936265225, -0.0009754750000000001, 0.0072...</td>\n      <td>24</td>\n      <td>iurii</td>\n      <td>68</td>\n      <td>1618231488</td>\n      <td>...</td>\n      <td>[Fe, O]</td>\n      <td>Fe-O</td>\n      <td>#E06633</td>\n      <td>/Users/azadoks/Data/uv_ml/iurii/Olivines/LiFe0...</td>\n      <td>0.5973</td>\n      <td>e01095b1-dbba-4937-a085-b3fc72134eae</td>\n      <td>train</td>\n      <td>0.644458</td>\n      <td>O</td>\n      <td>Fe</td>\n    </tr>\n    <tr>\n      <th>33307</th>\n      <td>/Users/azadoks/Data/uv_ml/iurii/Olivines/LiFe0...</td>\n      <td>A1_Li0.00Mn0.5Fe0.5PO4</td>\n      <td>False</td>\n      <td>1</td>\n      <td></td>\n      <td>[18.5936265225, -0.0009754750000000001, 0.0072...</td>\n      <td>24</td>\n      <td>iurii</td>\n      <td>68</td>\n      <td>1618231488</td>\n      <td>...</td>\n      <td>[Mn, O]</td>\n      <td>Mn-O</td>\n      <td>#9C7AC7</td>\n      <td>/Users/azadoks/Data/uv_ml/iurii/Olivines/LiFe0...</td>\n      <td>0.9164</td>\n      <td>b1bfd203-c54c-42f6-83a2-ea6ee2e974a3</td>\n      <td>train</td>\n      <td>0.937680</td>\n      <td>O</td>\n      <td>Mn</td>\n    </tr>\n    <tr>\n      <th>33308</th>\n      <td>/Users/azadoks/Data/uv_ml/iurii/Olivines/LiFe0...</td>\n      <td>A1_Li0.00Mn0.5Fe0.5PO4</td>\n      <td>False</td>\n      <td>1</td>\n      <td></td>\n      <td>[18.5936265225, -0.0009754750000000001, 0.0072...</td>\n      <td>24</td>\n      <td>iurii</td>\n      <td>68</td>\n      <td>1618231488</td>\n      <td>...</td>\n      <td>[Mn, O]</td>\n      <td>Mn-O</td>\n      <td>#9C7AC7</td>\n      <td>/Users/azadoks/Data/uv_ml/iurii/Olivines/LiFe0...</td>\n      <td>0.5528</td>\n      <td>547abdba-211b-4ee7-a07f-93b1ee7ae74b</td>\n      <td>train</td>\n      <td>0.584834</td>\n      <td>O</td>\n      <td>Mn</td>\n    </tr>\n    <tr>\n      <th>33329</th>\n      <td>/Users/azadoks/Data/uv_ml/iurii/Olivines/LiFe0...</td>\n      <td>A1_Li0.00Mn0.5Fe0.5PO4</td>\n      <td>False</td>\n      <td>1</td>\n      <td></td>\n      <td>[18.5936265225, -0.0009754750000000001, 0.0072...</td>\n      <td>24</td>\n      <td>iurii</td>\n      <td>68</td>\n      <td>1618231488</td>\n      <td>...</td>\n      <td>[Mn, O]</td>\n      <td>Mn-O</td>\n      <td>#9C7AC7</td>\n      <td>/Users/azadoks/Data/uv_ml/iurii/Olivines/LiFe0...</td>\n      <td>0.9167</td>\n      <td>b1bfd203-c54c-42f6-83a2-ea6ee2e974a3</td>\n      <td>train</td>\n      <td>0.934387</td>\n      <td>O</td>\n      <td>Mn</td>\n    </tr>\n    <tr>\n      <th>33330</th>\n      <td>/Users/azadoks/Data/uv_ml/iurii/Olivines/LiFe0...</td>\n      <td>A1_Li0.00Mn0.5Fe0.5PO4</td>\n      <td>False</td>\n      <td>1</td>\n      <td></td>\n      <td>[18.5936265225, -0.0009754750000000001, 0.0072...</td>\n      <td>24</td>\n      <td>iurii</td>\n      <td>68</td>\n      <td>1618231488</td>\n      <td>...</td>\n      <td>[Mn, O]</td>\n      <td>Mn-O</td>\n      <td>#9C7AC7</td>\n      <td>/Users/azadoks/Data/uv_ml/iurii/Olivines/LiFe0...</td>\n      <td>0.5507</td>\n      <td>547abdba-211b-4ee7-a07f-93b1ee7ae74b</td>\n      <td>train</td>\n      <td>0.577422</td>\n      <td>O</td>\n      <td>Mn</td>\n    </tr>\n  </tbody>\n</table>\n<p>268 rows × 55 columns</p>\n</div>"
     },
     "execution_count": 7,
     "metadata": {},
     "output_type": "execute_result"
    }
   ],
   "source": [
    "subframe\n"
   ],
   "metadata": {
    "collapsed": false,
    "ExecuteTime": {
     "end_time": "2023-07-26T12:25:39.903170685Z",
     "start_time": "2023-07-26T12:25:39.896222050Z"
    }
   }
  },
  {
   "cell_type": "code",
   "execution_count": 37,
   "outputs": [
    {
     "data": {
      "text/plain": "                                                sc_paths param_type  \\\n46275  /Users/azadoks/Data/uv_ml/iurii/Olivines/LiFeP...          U   \n46276  /Users/azadoks/Data/uv_ml/iurii/Olivines/LiFeP...          V   \n46277  /Users/azadoks/Data/uv_ml/iurii/Olivines/LiFeP...          V   \n46278  /Users/azadoks/Data/uv_ml/iurii/Olivines/LiFeP...          V   \n46279  /Users/azadoks/Data/uv_ml/iurii/Olivines/LiFeP...          V   \n46280  /Users/azadoks/Data/uv_ml/iurii/Olivines/LiFeP...          V   \n46281  /Users/azadoks/Data/uv_ml/iurii/Olivines/LiFeP...          V   \n46360  /Users/azadoks/Data/uv_ml/iurii/Olivines/LiFeP...          U   \n46361  /Users/azadoks/Data/uv_ml/iurii/Olivines/LiFeP...          V   \n46362  /Users/azadoks/Data/uv_ml/iurii/Olivines/LiFeP...          V   \n46363  /Users/azadoks/Data/uv_ml/iurii/Olivines/LiFeP...          V   \n46364  /Users/azadoks/Data/uv_ml/iurii/Olivines/LiFeP...          V   \n46365  /Users/azadoks/Data/uv_ml/iurii/Olivines/LiFeP...          V   \n46366  /Users/azadoks/Data/uv_ml/iurii/Olivines/LiFeP...          V   \n46460  /Users/azadoks/Data/uv_ml/iurii/Olivines/LiFeP...          U   \n46461  /Users/azadoks/Data/uv_ml/iurii/Olivines/LiFeP...          V   \n46462  /Users/azadoks/Data/uv_ml/iurii/Olivines/LiFeP...          V   \n46463  /Users/azadoks/Data/uv_ml/iurii/Olivines/LiFeP...          V   \n46464  /Users/azadoks/Data/uv_ml/iurii/Olivines/LiFeP...          V   \n46465  /Users/azadoks/Data/uv_ml/iurii/Olivines/LiFeP...          V   \n46466  /Users/azadoks/Data/uv_ml/iurii/Olivines/LiFeP...          V   \n46560  /Users/azadoks/Data/uv_ml/iurii/Olivines/LiFeP...          U   \n46561  /Users/azadoks/Data/uv_ml/iurii/Olivines/LiFeP...          V   \n46562  /Users/azadoks/Data/uv_ml/iurii/Olivines/LiFeP...          V   \n46563  /Users/azadoks/Data/uv_ml/iurii/Olivines/LiFeP...          V   \n46564  /Users/azadoks/Data/uv_ml/iurii/Olivines/LiFeP...          V   \n46565  /Users/azadoks/Data/uv_ml/iurii/Olivines/LiFeP...          V   \n46566  /Users/azadoks/Data/uv_ml/iurii/Olivines/LiFeP...          V   \n46645  /Users/azadoks/Data/uv_ml/iurii/Olivines/LiFeP...          V   \n46662  /Users/azadoks/Data/uv_ml/iurii/Olivines/LiFeP...          V   \n46679  /Users/azadoks/Data/uv_ml/iurii/Olivines/LiFeP...          V   \n46696  /Users/azadoks/Data/uv_ml/iurii/Olivines/LiFeP...          V   \n46713  /Users/azadoks/Data/uv_ml/iurii/Olivines/LiFeP...          V   \n46729  /Users/azadoks/Data/uv_ml/iurii/Olivines/LiFeP...          V   \n46745  /Users/azadoks/Data/uv_ml/iurii/Olivines/LiFeP...          V   \n46761  /Users/azadoks/Data/uv_ml/iurii/Olivines/LiFeP...          V   \n46777  /Users/azadoks/Data/uv_ml/iurii/Olivines/LiFeP...          V   \n46778  /Users/azadoks/Data/uv_ml/iurii/Olivines/LiFeP...          V   \n46799  /Users/azadoks/Data/uv_ml/iurii/Olivines/LiFeP...          V   \n46800  /Users/azadoks/Data/uv_ml/iurii/Olivines/LiFeP...          V   \n46821  /Users/azadoks/Data/uv_ml/iurii/Olivines/LiFeP...          V   \n46822  /Users/azadoks/Data/uv_ml/iurii/Olivines/LiFeP...          V   \n46843  /Users/azadoks/Data/uv_ml/iurii/Olivines/LiFeP...          V   \n46844  /Users/azadoks/Data/uv_ml/iurii/Olivines/LiFeP...          V   \n46865  /Users/azadoks/Data/uv_ml/iurii/Olivines/LiFeP...          V   \n46866  /Users/azadoks/Data/uv_ml/iurii/Olivines/LiFeP...          V   \n46887  /Users/azadoks/Data/uv_ml/iurii/Olivines/LiFeP...          V   \n46888  /Users/azadoks/Data/uv_ml/iurii/Olivines/LiFeP...          V   \n46909  /Users/azadoks/Data/uv_ml/iurii/Olivines/LiFeP...          V   \n46910  /Users/azadoks/Data/uv_ml/iurii/Olivines/LiFeP...          V   \n46931  /Users/azadoks/Data/uv_ml/iurii/Olivines/LiFeP...          V   \n46932  /Users/azadoks/Data/uv_ml/iurii/Olivines/LiFeP...          V   \n\n      atom_1_element  atom_1_idx atom_2_element  atom_2_idx_uc  atom_2_idx  \\\n46275             Fe           1             Fe              1           1   \n46276             Fe           1              O             14          14   \n46277             Fe           1              O             13         321   \n46278             Fe           1              O              9         401   \n46279             Fe           1              O              5           5   \n46280             Fe           1              O             18         410   \n46281             Fe           1              O             17         409   \n46360             Fe           2             Fe              2           2   \n46361             Fe           2              O             16          16   \n46362             Fe           2              O             15         323   \n46363             Fe           2              O             12          12   \n46364             Fe           2              O              8           8   \n46365             Fe           2              O             20          20   \n46366             Fe           2              O             19          19   \n46460             Fe           3             Fe              3           3   \n46461             Fe           3              O             11          11   \n46462             Fe           3              O             17         465   \n46463             Fe           3              O             18          18   \n46464             Fe           3              O              7           7   \n46465             Fe           3              O             13          13   \n46466             Fe           3              O             14          14   \n46560             Fe           4             Fe              4           4   \n46561             Fe           4              O             19         467   \n46562             Fe           4              O             20          20   \n46563             Fe           4              O             10         374   \n46564             Fe           4              O              6           6   \n46565             Fe           4              O             15         379   \n46566             Fe           4              O             16         380   \n46645              O           5             Fe              1           1   \n46662              O           6             Fe              4           4   \n46679              O           7             Fe              3           3   \n46696              O           8             Fe              2           2   \n46713              O           9             Fe              1         365   \n46729              O          10             Fe              4         396   \n46745              O          11             Fe              3           3   \n46761              O          12             Fe              2           2   \n46777              O          13             Fe              1         449   \n46778              O          13             Fe              3           3   \n46799              O          14             Fe              1           1   \n46800              O          14             Fe              3           3   \n46821              O          15             Fe              2         450   \n46822              O          15             Fe              4         396   \n46843              O          16             Fe              2           2   \n46844              O          16             Fe              4         396   \n46865              O          17             Fe              3         311   \n46866              O          17             Fe              1         365   \n46887              O          18             Fe              3           3   \n46888              O          18             Fe              1         365   \n46909              O          19             Fe              4         312   \n46910              O          19             Fe              2           2   \n46931              O          20             Fe              4           4   \n46932              O          20             Fe              2           2   \n\n       param_out  param_out_predicted training_label  \n46275     5.2907             5.333199          train  \n46276     0.8953             0.902766          train  \n46277     0.8953             0.902766          train  \n46278     0.7813             0.790559          train  \n46279     0.5537             0.540007       validate  \n46280     0.4172             0.417728          train  \n46281     0.4172             0.417728          train  \n46360     5.2902             5.298331          train  \n46361     0.8957             0.915291          train  \n46362     0.8957             0.915291          train  \n46363     0.7812             0.743665          train  \n46364     0.5525             0.525739          train  \n46365     0.4173             0.422916          train  \n46366     0.4173             0.422916          train  \n46460     5.2951             5.326479          train  \n46461     0.7637             0.762144          train  \n46462     0.9042             0.911000          train  \n46463     0.9042             0.911000          train  \n46464     0.5420             0.530130       validate  \n46465     0.4228             0.445947          train  \n46466     0.4228             0.445947          train  \n46560     5.2959             5.332754       validate  \n46561     0.9008             0.913119          train  \n46562     0.9008             0.913119          train  \n46563     0.7720             0.793382          train  \n46564     0.5476             0.547537       validate  \n46565     0.4200             0.415225       validate  \n46566     0.4200             0.415225      duplicate  \n46645     0.5537             0.540007      duplicate  \n46662     0.5476             0.547537      duplicate  \n46679     0.5420             0.530130      duplicate  \n46696     0.5525             0.525739          train  \n46713     0.7813             0.790559          train  \n46729     0.7720             0.793382          train  \n46745     0.7637             0.762144          train  \n46761     0.7812             0.743665          train  \n46777     0.8953             0.902766          train  \n46778     0.4228             0.445947          train  \n46799     0.8953             0.902766          train  \n46800     0.4228             0.445947          train  \n46821     0.8957             0.915291          train  \n46822     0.4200             0.415225      duplicate  \n46843     0.8957             0.915291          train  \n46844     0.4200             0.415225      duplicate  \n46865     0.9042             0.911000          train  \n46866     0.4172             0.417728          train  \n46887     0.9042             0.911000          train  \n46888     0.4172             0.417728          train  \n46909     0.9008             0.913119          train  \n46910     0.4173             0.422916          train  \n46931     0.9008             0.913119          train  \n46932     0.4173             0.422916          train  ",
      "text/html": "<div>\n<style scoped>\n    .dataframe tbody tr th:only-of-type {\n        vertical-align: middle;\n    }\n\n    .dataframe tbody tr th {\n        vertical-align: top;\n    }\n\n    .dataframe thead th {\n        text-align: right;\n    }\n</style>\n<table border=\"1\" class=\"dataframe\">\n  <thead>\n    <tr style=\"text-align: right;\">\n      <th></th>\n      <th>sc_paths</th>\n      <th>param_type</th>\n      <th>atom_1_element</th>\n      <th>atom_1_idx</th>\n      <th>atom_2_element</th>\n      <th>atom_2_idx_uc</th>\n      <th>atom_2_idx</th>\n      <th>param_out</th>\n      <th>param_out_predicted</th>\n      <th>training_label</th>\n    </tr>\n  </thead>\n  <tbody>\n    <tr>\n      <th>46275</th>\n      <td>/Users/azadoks/Data/uv_ml/iurii/Olivines/LiFeP...</td>\n      <td>U</td>\n      <td>Fe</td>\n      <td>1</td>\n      <td>Fe</td>\n      <td>1</td>\n      <td>1</td>\n      <td>5.2907</td>\n      <td>5.333199</td>\n      <td>train</td>\n    </tr>\n    <tr>\n      <th>46276</th>\n      <td>/Users/azadoks/Data/uv_ml/iurii/Olivines/LiFeP...</td>\n      <td>V</td>\n      <td>Fe</td>\n      <td>1</td>\n      <td>O</td>\n      <td>14</td>\n      <td>14</td>\n      <td>0.8953</td>\n      <td>0.902766</td>\n      <td>train</td>\n    </tr>\n    <tr>\n      <th>46277</th>\n      <td>/Users/azadoks/Data/uv_ml/iurii/Olivines/LiFeP...</td>\n      <td>V</td>\n      <td>Fe</td>\n      <td>1</td>\n      <td>O</td>\n      <td>13</td>\n      <td>321</td>\n      <td>0.8953</td>\n      <td>0.902766</td>\n      <td>train</td>\n    </tr>\n    <tr>\n      <th>46278</th>\n      <td>/Users/azadoks/Data/uv_ml/iurii/Olivines/LiFeP...</td>\n      <td>V</td>\n      <td>Fe</td>\n      <td>1</td>\n      <td>O</td>\n      <td>9</td>\n      <td>401</td>\n      <td>0.7813</td>\n      <td>0.790559</td>\n      <td>train</td>\n    </tr>\n    <tr>\n      <th>46279</th>\n      <td>/Users/azadoks/Data/uv_ml/iurii/Olivines/LiFeP...</td>\n      <td>V</td>\n      <td>Fe</td>\n      <td>1</td>\n      <td>O</td>\n      <td>5</td>\n      <td>5</td>\n      <td>0.5537</td>\n      <td>0.540007</td>\n      <td>validate</td>\n    </tr>\n    <tr>\n      <th>46280</th>\n      <td>/Users/azadoks/Data/uv_ml/iurii/Olivines/LiFeP...</td>\n      <td>V</td>\n      <td>Fe</td>\n      <td>1</td>\n      <td>O</td>\n      <td>18</td>\n      <td>410</td>\n      <td>0.4172</td>\n      <td>0.417728</td>\n      <td>train</td>\n    </tr>\n    <tr>\n      <th>46281</th>\n      <td>/Users/azadoks/Data/uv_ml/iurii/Olivines/LiFeP...</td>\n      <td>V</td>\n      <td>Fe</td>\n      <td>1</td>\n      <td>O</td>\n      <td>17</td>\n      <td>409</td>\n      <td>0.4172</td>\n      <td>0.417728</td>\n      <td>train</td>\n    </tr>\n    <tr>\n      <th>46360</th>\n      <td>/Users/azadoks/Data/uv_ml/iurii/Olivines/LiFeP...</td>\n      <td>U</td>\n      <td>Fe</td>\n      <td>2</td>\n      <td>Fe</td>\n      <td>2</td>\n      <td>2</td>\n      <td>5.2902</td>\n      <td>5.298331</td>\n      <td>train</td>\n    </tr>\n    <tr>\n      <th>46361</th>\n      <td>/Users/azadoks/Data/uv_ml/iurii/Olivines/LiFeP...</td>\n      <td>V</td>\n      <td>Fe</td>\n      <td>2</td>\n      <td>O</td>\n      <td>16</td>\n      <td>16</td>\n      <td>0.8957</td>\n      <td>0.915291</td>\n      <td>train</td>\n    </tr>\n    <tr>\n      <th>46362</th>\n      <td>/Users/azadoks/Data/uv_ml/iurii/Olivines/LiFeP...</td>\n      <td>V</td>\n      <td>Fe</td>\n      <td>2</td>\n      <td>O</td>\n      <td>15</td>\n      <td>323</td>\n      <td>0.8957</td>\n      <td>0.915291</td>\n      <td>train</td>\n    </tr>\n    <tr>\n      <th>46363</th>\n      <td>/Users/azadoks/Data/uv_ml/iurii/Olivines/LiFeP...</td>\n      <td>V</td>\n      <td>Fe</td>\n      <td>2</td>\n      <td>O</td>\n      <td>12</td>\n      <td>12</td>\n      <td>0.7812</td>\n      <td>0.743665</td>\n      <td>train</td>\n    </tr>\n    <tr>\n      <th>46364</th>\n      <td>/Users/azadoks/Data/uv_ml/iurii/Olivines/LiFeP...</td>\n      <td>V</td>\n      <td>Fe</td>\n      <td>2</td>\n      <td>O</td>\n      <td>8</td>\n      <td>8</td>\n      <td>0.5525</td>\n      <td>0.525739</td>\n      <td>train</td>\n    </tr>\n    <tr>\n      <th>46365</th>\n      <td>/Users/azadoks/Data/uv_ml/iurii/Olivines/LiFeP...</td>\n      <td>V</td>\n      <td>Fe</td>\n      <td>2</td>\n      <td>O</td>\n      <td>20</td>\n      <td>20</td>\n      <td>0.4173</td>\n      <td>0.422916</td>\n      <td>train</td>\n    </tr>\n    <tr>\n      <th>46366</th>\n      <td>/Users/azadoks/Data/uv_ml/iurii/Olivines/LiFeP...</td>\n      <td>V</td>\n      <td>Fe</td>\n      <td>2</td>\n      <td>O</td>\n      <td>19</td>\n      <td>19</td>\n      <td>0.4173</td>\n      <td>0.422916</td>\n      <td>train</td>\n    </tr>\n    <tr>\n      <th>46460</th>\n      <td>/Users/azadoks/Data/uv_ml/iurii/Olivines/LiFeP...</td>\n      <td>U</td>\n      <td>Fe</td>\n      <td>3</td>\n      <td>Fe</td>\n      <td>3</td>\n      <td>3</td>\n      <td>5.2951</td>\n      <td>5.326479</td>\n      <td>train</td>\n    </tr>\n    <tr>\n      <th>46461</th>\n      <td>/Users/azadoks/Data/uv_ml/iurii/Olivines/LiFeP...</td>\n      <td>V</td>\n      <td>Fe</td>\n      <td>3</td>\n      <td>O</td>\n      <td>11</td>\n      <td>11</td>\n      <td>0.7637</td>\n      <td>0.762144</td>\n      <td>train</td>\n    </tr>\n    <tr>\n      <th>46462</th>\n      <td>/Users/azadoks/Data/uv_ml/iurii/Olivines/LiFeP...</td>\n      <td>V</td>\n      <td>Fe</td>\n      <td>3</td>\n      <td>O</td>\n      <td>17</td>\n      <td>465</td>\n      <td>0.9042</td>\n      <td>0.911000</td>\n      <td>train</td>\n    </tr>\n    <tr>\n      <th>46463</th>\n      <td>/Users/azadoks/Data/uv_ml/iurii/Olivines/LiFeP...</td>\n      <td>V</td>\n      <td>Fe</td>\n      <td>3</td>\n      <td>O</td>\n      <td>18</td>\n      <td>18</td>\n      <td>0.9042</td>\n      <td>0.911000</td>\n      <td>train</td>\n    </tr>\n    <tr>\n      <th>46464</th>\n      <td>/Users/azadoks/Data/uv_ml/iurii/Olivines/LiFeP...</td>\n      <td>V</td>\n      <td>Fe</td>\n      <td>3</td>\n      <td>O</td>\n      <td>7</td>\n      <td>7</td>\n      <td>0.5420</td>\n      <td>0.530130</td>\n      <td>validate</td>\n    </tr>\n    <tr>\n      <th>46465</th>\n      <td>/Users/azadoks/Data/uv_ml/iurii/Olivines/LiFeP...</td>\n      <td>V</td>\n      <td>Fe</td>\n      <td>3</td>\n      <td>O</td>\n      <td>13</td>\n      <td>13</td>\n      <td>0.4228</td>\n      <td>0.445947</td>\n      <td>train</td>\n    </tr>\n    <tr>\n      <th>46466</th>\n      <td>/Users/azadoks/Data/uv_ml/iurii/Olivines/LiFeP...</td>\n      <td>V</td>\n      <td>Fe</td>\n      <td>3</td>\n      <td>O</td>\n      <td>14</td>\n      <td>14</td>\n      <td>0.4228</td>\n      <td>0.445947</td>\n      <td>train</td>\n    </tr>\n    <tr>\n      <th>46560</th>\n      <td>/Users/azadoks/Data/uv_ml/iurii/Olivines/LiFeP...</td>\n      <td>U</td>\n      <td>Fe</td>\n      <td>4</td>\n      <td>Fe</td>\n      <td>4</td>\n      <td>4</td>\n      <td>5.2959</td>\n      <td>5.332754</td>\n      <td>validate</td>\n    </tr>\n    <tr>\n      <th>46561</th>\n      <td>/Users/azadoks/Data/uv_ml/iurii/Olivines/LiFeP...</td>\n      <td>V</td>\n      <td>Fe</td>\n      <td>4</td>\n      <td>O</td>\n      <td>19</td>\n      <td>467</td>\n      <td>0.9008</td>\n      <td>0.913119</td>\n      <td>train</td>\n    </tr>\n    <tr>\n      <th>46562</th>\n      <td>/Users/azadoks/Data/uv_ml/iurii/Olivines/LiFeP...</td>\n      <td>V</td>\n      <td>Fe</td>\n      <td>4</td>\n      <td>O</td>\n      <td>20</td>\n      <td>20</td>\n      <td>0.9008</td>\n      <td>0.913119</td>\n      <td>train</td>\n    </tr>\n    <tr>\n      <th>46563</th>\n      <td>/Users/azadoks/Data/uv_ml/iurii/Olivines/LiFeP...</td>\n      <td>V</td>\n      <td>Fe</td>\n      <td>4</td>\n      <td>O</td>\n      <td>10</td>\n      <td>374</td>\n      <td>0.7720</td>\n      <td>0.793382</td>\n      <td>train</td>\n    </tr>\n    <tr>\n      <th>46564</th>\n      <td>/Users/azadoks/Data/uv_ml/iurii/Olivines/LiFeP...</td>\n      <td>V</td>\n      <td>Fe</td>\n      <td>4</td>\n      <td>O</td>\n      <td>6</td>\n      <td>6</td>\n      <td>0.5476</td>\n      <td>0.547537</td>\n      <td>validate</td>\n    </tr>\n    <tr>\n      <th>46565</th>\n      <td>/Users/azadoks/Data/uv_ml/iurii/Olivines/LiFeP...</td>\n      <td>V</td>\n      <td>Fe</td>\n      <td>4</td>\n      <td>O</td>\n      <td>15</td>\n      <td>379</td>\n      <td>0.4200</td>\n      <td>0.415225</td>\n      <td>validate</td>\n    </tr>\n    <tr>\n      <th>46566</th>\n      <td>/Users/azadoks/Data/uv_ml/iurii/Olivines/LiFeP...</td>\n      <td>V</td>\n      <td>Fe</td>\n      <td>4</td>\n      <td>O</td>\n      <td>16</td>\n      <td>380</td>\n      <td>0.4200</td>\n      <td>0.415225</td>\n      <td>duplicate</td>\n    </tr>\n    <tr>\n      <th>46645</th>\n      <td>/Users/azadoks/Data/uv_ml/iurii/Olivines/LiFeP...</td>\n      <td>V</td>\n      <td>O</td>\n      <td>5</td>\n      <td>Fe</td>\n      <td>1</td>\n      <td>1</td>\n      <td>0.5537</td>\n      <td>0.540007</td>\n      <td>duplicate</td>\n    </tr>\n    <tr>\n      <th>46662</th>\n      <td>/Users/azadoks/Data/uv_ml/iurii/Olivines/LiFeP...</td>\n      <td>V</td>\n      <td>O</td>\n      <td>6</td>\n      <td>Fe</td>\n      <td>4</td>\n      <td>4</td>\n      <td>0.5476</td>\n      <td>0.547537</td>\n      <td>duplicate</td>\n    </tr>\n    <tr>\n      <th>46679</th>\n      <td>/Users/azadoks/Data/uv_ml/iurii/Olivines/LiFeP...</td>\n      <td>V</td>\n      <td>O</td>\n      <td>7</td>\n      <td>Fe</td>\n      <td>3</td>\n      <td>3</td>\n      <td>0.5420</td>\n      <td>0.530130</td>\n      <td>duplicate</td>\n    </tr>\n    <tr>\n      <th>46696</th>\n      <td>/Users/azadoks/Data/uv_ml/iurii/Olivines/LiFeP...</td>\n      <td>V</td>\n      <td>O</td>\n      <td>8</td>\n      <td>Fe</td>\n      <td>2</td>\n      <td>2</td>\n      <td>0.5525</td>\n      <td>0.525739</td>\n      <td>train</td>\n    </tr>\n    <tr>\n      <th>46713</th>\n      <td>/Users/azadoks/Data/uv_ml/iurii/Olivines/LiFeP...</td>\n      <td>V</td>\n      <td>O</td>\n      <td>9</td>\n      <td>Fe</td>\n      <td>1</td>\n      <td>365</td>\n      <td>0.7813</td>\n      <td>0.790559</td>\n      <td>train</td>\n    </tr>\n    <tr>\n      <th>46729</th>\n      <td>/Users/azadoks/Data/uv_ml/iurii/Olivines/LiFeP...</td>\n      <td>V</td>\n      <td>O</td>\n      <td>10</td>\n      <td>Fe</td>\n      <td>4</td>\n      <td>396</td>\n      <td>0.7720</td>\n      <td>0.793382</td>\n      <td>train</td>\n    </tr>\n    <tr>\n      <th>46745</th>\n      <td>/Users/azadoks/Data/uv_ml/iurii/Olivines/LiFeP...</td>\n      <td>V</td>\n      <td>O</td>\n      <td>11</td>\n      <td>Fe</td>\n      <td>3</td>\n      <td>3</td>\n      <td>0.7637</td>\n      <td>0.762144</td>\n      <td>train</td>\n    </tr>\n    <tr>\n      <th>46761</th>\n      <td>/Users/azadoks/Data/uv_ml/iurii/Olivines/LiFeP...</td>\n      <td>V</td>\n      <td>O</td>\n      <td>12</td>\n      <td>Fe</td>\n      <td>2</td>\n      <td>2</td>\n      <td>0.7812</td>\n      <td>0.743665</td>\n      <td>train</td>\n    </tr>\n    <tr>\n      <th>46777</th>\n      <td>/Users/azadoks/Data/uv_ml/iurii/Olivines/LiFeP...</td>\n      <td>V</td>\n      <td>O</td>\n      <td>13</td>\n      <td>Fe</td>\n      <td>1</td>\n      <td>449</td>\n      <td>0.8953</td>\n      <td>0.902766</td>\n      <td>train</td>\n    </tr>\n    <tr>\n      <th>46778</th>\n      <td>/Users/azadoks/Data/uv_ml/iurii/Olivines/LiFeP...</td>\n      <td>V</td>\n      <td>O</td>\n      <td>13</td>\n      <td>Fe</td>\n      <td>3</td>\n      <td>3</td>\n      <td>0.4228</td>\n      <td>0.445947</td>\n      <td>train</td>\n    </tr>\n    <tr>\n      <th>46799</th>\n      <td>/Users/azadoks/Data/uv_ml/iurii/Olivines/LiFeP...</td>\n      <td>V</td>\n      <td>O</td>\n      <td>14</td>\n      <td>Fe</td>\n      <td>1</td>\n      <td>1</td>\n      <td>0.8953</td>\n      <td>0.902766</td>\n      <td>train</td>\n    </tr>\n    <tr>\n      <th>46800</th>\n      <td>/Users/azadoks/Data/uv_ml/iurii/Olivines/LiFeP...</td>\n      <td>V</td>\n      <td>O</td>\n      <td>14</td>\n      <td>Fe</td>\n      <td>3</td>\n      <td>3</td>\n      <td>0.4228</td>\n      <td>0.445947</td>\n      <td>train</td>\n    </tr>\n    <tr>\n      <th>46821</th>\n      <td>/Users/azadoks/Data/uv_ml/iurii/Olivines/LiFeP...</td>\n      <td>V</td>\n      <td>O</td>\n      <td>15</td>\n      <td>Fe</td>\n      <td>2</td>\n      <td>450</td>\n      <td>0.8957</td>\n      <td>0.915291</td>\n      <td>train</td>\n    </tr>\n    <tr>\n      <th>46822</th>\n      <td>/Users/azadoks/Data/uv_ml/iurii/Olivines/LiFeP...</td>\n      <td>V</td>\n      <td>O</td>\n      <td>15</td>\n      <td>Fe</td>\n      <td>4</td>\n      <td>396</td>\n      <td>0.4200</td>\n      <td>0.415225</td>\n      <td>duplicate</td>\n    </tr>\n    <tr>\n      <th>46843</th>\n      <td>/Users/azadoks/Data/uv_ml/iurii/Olivines/LiFeP...</td>\n      <td>V</td>\n      <td>O</td>\n      <td>16</td>\n      <td>Fe</td>\n      <td>2</td>\n      <td>2</td>\n      <td>0.8957</td>\n      <td>0.915291</td>\n      <td>train</td>\n    </tr>\n    <tr>\n      <th>46844</th>\n      <td>/Users/azadoks/Data/uv_ml/iurii/Olivines/LiFeP...</td>\n      <td>V</td>\n      <td>O</td>\n      <td>16</td>\n      <td>Fe</td>\n      <td>4</td>\n      <td>396</td>\n      <td>0.4200</td>\n      <td>0.415225</td>\n      <td>duplicate</td>\n    </tr>\n    <tr>\n      <th>46865</th>\n      <td>/Users/azadoks/Data/uv_ml/iurii/Olivines/LiFeP...</td>\n      <td>V</td>\n      <td>O</td>\n      <td>17</td>\n      <td>Fe</td>\n      <td>3</td>\n      <td>311</td>\n      <td>0.9042</td>\n      <td>0.911000</td>\n      <td>train</td>\n    </tr>\n    <tr>\n      <th>46866</th>\n      <td>/Users/azadoks/Data/uv_ml/iurii/Olivines/LiFeP...</td>\n      <td>V</td>\n      <td>O</td>\n      <td>17</td>\n      <td>Fe</td>\n      <td>1</td>\n      <td>365</td>\n      <td>0.4172</td>\n      <td>0.417728</td>\n      <td>train</td>\n    </tr>\n    <tr>\n      <th>46887</th>\n      <td>/Users/azadoks/Data/uv_ml/iurii/Olivines/LiFeP...</td>\n      <td>V</td>\n      <td>O</td>\n      <td>18</td>\n      <td>Fe</td>\n      <td>3</td>\n      <td>3</td>\n      <td>0.9042</td>\n      <td>0.911000</td>\n      <td>train</td>\n    </tr>\n    <tr>\n      <th>46888</th>\n      <td>/Users/azadoks/Data/uv_ml/iurii/Olivines/LiFeP...</td>\n      <td>V</td>\n      <td>O</td>\n      <td>18</td>\n      <td>Fe</td>\n      <td>1</td>\n      <td>365</td>\n      <td>0.4172</td>\n      <td>0.417728</td>\n      <td>train</td>\n    </tr>\n    <tr>\n      <th>46909</th>\n      <td>/Users/azadoks/Data/uv_ml/iurii/Olivines/LiFeP...</td>\n      <td>V</td>\n      <td>O</td>\n      <td>19</td>\n      <td>Fe</td>\n      <td>4</td>\n      <td>312</td>\n      <td>0.9008</td>\n      <td>0.913119</td>\n      <td>train</td>\n    </tr>\n    <tr>\n      <th>46910</th>\n      <td>/Users/azadoks/Data/uv_ml/iurii/Olivines/LiFeP...</td>\n      <td>V</td>\n      <td>O</td>\n      <td>19</td>\n      <td>Fe</td>\n      <td>2</td>\n      <td>2</td>\n      <td>0.4173</td>\n      <td>0.422916</td>\n      <td>train</td>\n    </tr>\n    <tr>\n      <th>46931</th>\n      <td>/Users/azadoks/Data/uv_ml/iurii/Olivines/LiFeP...</td>\n      <td>V</td>\n      <td>O</td>\n      <td>20</td>\n      <td>Fe</td>\n      <td>4</td>\n      <td>4</td>\n      <td>0.9008</td>\n      <td>0.913119</td>\n      <td>train</td>\n    </tr>\n    <tr>\n      <th>46932</th>\n      <td>/Users/azadoks/Data/uv_ml/iurii/Olivines/LiFeP...</td>\n      <td>V</td>\n      <td>O</td>\n      <td>20</td>\n      <td>Fe</td>\n      <td>2</td>\n      <td>2</td>\n      <td>0.4173</td>\n      <td>0.422916</td>\n      <td>train</td>\n    </tr>\n  </tbody>\n</table>\n</div>"
     },
     "execution_count": 37,
     "metadata": {},
     "output_type": "execute_result"
    }
   ],
   "source": [
    "outs[outs[keys.SC_PATHS].str.contains(\"Li1.00FePO4\") ]\n"
   ],
   "metadata": {
    "collapsed": false,
    "ExecuteTime": {
     "end_time": "2023-07-26T12:28:37.471157220Z",
     "start_time": "2023-07-26T12:28:37.455369413Z"
    }
   }
  },
  {
   "cell_type": "code",
   "execution_count": 9,
   "outputs": [
    {
     "data": {
      "text/plain": "63637    4.562446\n63822    4.562446\nName: param_out_predicted, dtype: float64"
     },
     "execution_count": 9,
     "metadata": {},
     "output_type": "execute_result"
    }
   ],
   "source": [
    "two_sites = subframe[\n",
    "    subframe[keys.SC_PATHS].str.contains(\"Li1.00MnPO4\") &\\\n",
    "    (subframe[keys.ATOM_1_IDX].isin([1, 3]))  &\\\n",
    "    subframe[keys.ATOM_2_IDX].isin([1, 3]) & \\\n",
    "    (subframe[keys.PARAM_TYPE] == \"U\")\n",
    "]\n",
    "two_sites[keys.PARAM_OUT_PREDICTED]"
   ],
   "metadata": {
    "collapsed": false,
    "ExecuteTime": {
     "end_time": "2023-07-26T12:25:39.923397005Z",
     "start_time": "2023-07-26T12:25:39.915200163Z"
    }
   }
  },
  {
   "cell_type": "code",
   "execution_count": 10,
   "outputs": [],
   "source": [
    "site1 = two_sites.iloc[0]\n",
    "site2 = two_sites.iloc[1]\n"
   ],
   "metadata": {
    "collapsed": false,
    "ExecuteTime": {
     "end_time": "2023-07-26T12:25:40.045564418Z",
     "start_time": "2023-07-26T12:25:39.924960773Z"
    }
   }
  },
  {
   "cell_type": "code",
   "execution_count": 11,
   "outputs": [
    {
     "name": "stdout",
     "output_type": "stream",
     "text": [
      "Diff param_in:\n",
      "0.0\n",
      "Diff atom_1_occs_1:\n",
      "[[-0.96  -0.001  0.     0.01   0.   ]\n",
      " [-0.001 -0.909  0.     0.03   0.   ]\n",
      " [ 0.     0.    -0.917  0.    -0.029]\n",
      " [ 0.01   0.03   0.    -0.91   0.   ]\n",
      " [ 0.     0.    -0.029  0.    -0.925]]\n",
      "Diff atom_1_occs_2:\n",
      "[[ 0.96  -0.001  0.    -0.01   0.   ]\n",
      " [-0.001  0.909  0.     0.03   0.   ]\n",
      " [ 0.     0.     0.917  0.    -0.029]\n",
      " [-0.01   0.03   0.     0.91   0.   ]\n",
      " [ 0.     0.    -0.029  0.     0.925]]\n",
      "Diff atom_2_occs_1:\n",
      "[[-0.96  -0.001  0.     0.01   0.   ]\n",
      " [-0.001 -0.909  0.     0.03   0.   ]\n",
      " [ 0.     0.    -0.917  0.    -0.029]\n",
      " [ 0.01   0.03   0.    -0.91   0.   ]\n",
      " [ 0.     0.    -0.029  0.    -0.925]]\n",
      "Diff atom_2_occs_2:\n",
      "[[ 0.96  -0.001  0.    -0.01   0.   ]\n",
      " [-0.001  0.909  0.     0.03   0.   ]\n",
      " [ 0.     0.     0.917  0.    -0.029]\n",
      " [-0.01   0.03   0.     0.91   0.   ]\n",
      " [ 0.     0.    -0.029  0.     0.925]]\n",
      "Diff dist_bohr_in:\n",
      "0.0\n",
      "Diff dist_bohr_out:\n",
      "0.0\n"
     ]
    }
   ],
   "source": [
    "for col in [keys.PARAM_IN, keys.ATOM_1_OCCS_1, keys.ATOM_1_OCCS_2, keys.ATOM_2_OCCS_1, keys.ATOM_2_OCCS_2, keys.DIST_IN, keys.DIST_OUT]:\n",
    "\n",
    "    val1 = np.array(site1[col])\n",
    "    val2 = np.array(site2[col])\n",
    "    print(f\"Diff {col}:\\n{val2 - val1}\")\n"
   ],
   "metadata": {
    "collapsed": false,
    "ExecuteTime": {
     "end_time": "2023-07-26T12:25:40.046074821Z",
     "start_time": "2023-07-26T12:25:39.966050440Z"
    }
   }
  },
  {
   "cell_type": "code",
   "execution_count": 12,
   "outputs": [],
   "source": [
    "## Check similarities"
   ],
   "metadata": {
    "collapsed": false,
    "ExecuteTime": {
     "end_time": "2023-07-26T12:25:40.046223039Z",
     "start_time": "2023-07-26T12:25:39.966319430Z"
    }
   }
  },
  {
   "cell_type": "code",
   "execution_count": 13,
   "outputs": [
    {
     "data": {
      "text/plain": "       atom_1_idx  atom_2_idx  param_out param_type  param_out_predicted  \\\n48311           1           5     1.0675          V             1.081703   \n48312           1         345     1.0716          V             1.097874   \n48313           1         277     0.9087          V             0.924753   \n48314           1          14     0.9087          V             0.924753   \n48315           1         352     0.5350          V             0.546376   \n...           ...         ...        ...        ...                  ...   \n33242          16         340     0.5507          V             0.579224   \n33307          19         268     0.9164          V             0.937680   \n33308          19           3     0.5528          V             0.584834   \n33329          20           4     0.9167          V             0.934387   \n33330          20           3     0.5507          V             0.577422   \n\n       dist_bohr_in  \n48311      3.495442  \n48312      3.515624  \n48313      3.698725  \n48314      3.698725  \n48315      4.394293  \n...             ...  \n33242      4.400829  \n33307      3.745574  \n33308      4.395477  \n33329      3.743521  \n33330      4.401005  \n\n[128 rows x 6 columns]",
      "text/html": "<div>\n<style scoped>\n    .dataframe tbody tr th:only-of-type {\n        vertical-align: middle;\n    }\n\n    .dataframe tbody tr th {\n        vertical-align: top;\n    }\n\n    .dataframe thead th {\n        text-align: right;\n    }\n</style>\n<table border=\"1\" class=\"dataframe\">\n  <thead>\n    <tr style=\"text-align: right;\">\n      <th></th>\n      <th>atom_1_idx</th>\n      <th>atom_2_idx</th>\n      <th>param_out</th>\n      <th>param_type</th>\n      <th>param_out_predicted</th>\n      <th>dist_bohr_in</th>\n    </tr>\n  </thead>\n  <tbody>\n    <tr>\n      <th>48311</th>\n      <td>1</td>\n      <td>5</td>\n      <td>1.0675</td>\n      <td>V</td>\n      <td>1.081703</td>\n      <td>3.495442</td>\n    </tr>\n    <tr>\n      <th>48312</th>\n      <td>1</td>\n      <td>345</td>\n      <td>1.0716</td>\n      <td>V</td>\n      <td>1.097874</td>\n      <td>3.515624</td>\n    </tr>\n    <tr>\n      <th>48313</th>\n      <td>1</td>\n      <td>277</td>\n      <td>0.9087</td>\n      <td>V</td>\n      <td>0.924753</td>\n      <td>3.698725</td>\n    </tr>\n    <tr>\n      <th>48314</th>\n      <td>1</td>\n      <td>14</td>\n      <td>0.9087</td>\n      <td>V</td>\n      <td>0.924753</td>\n      <td>3.698725</td>\n    </tr>\n    <tr>\n      <th>48315</th>\n      <td>1</td>\n      <td>352</td>\n      <td>0.5350</td>\n      <td>V</td>\n      <td>0.546376</td>\n      <td>4.394293</td>\n    </tr>\n    <tr>\n      <th>...</th>\n      <td>...</td>\n      <td>...</td>\n      <td>...</td>\n      <td>...</td>\n      <td>...</td>\n      <td>...</td>\n    </tr>\n    <tr>\n      <th>33242</th>\n      <td>16</td>\n      <td>340</td>\n      <td>0.5507</td>\n      <td>V</td>\n      <td>0.579224</td>\n      <td>4.400829</td>\n    </tr>\n    <tr>\n      <th>33307</th>\n      <td>19</td>\n      <td>268</td>\n      <td>0.9164</td>\n      <td>V</td>\n      <td>0.937680</td>\n      <td>3.745574</td>\n    </tr>\n    <tr>\n      <th>33308</th>\n      <td>19</td>\n      <td>3</td>\n      <td>0.5528</td>\n      <td>V</td>\n      <td>0.584834</td>\n      <td>4.395477</td>\n    </tr>\n    <tr>\n      <th>33329</th>\n      <td>20</td>\n      <td>4</td>\n      <td>0.9167</td>\n      <td>V</td>\n      <td>0.934387</td>\n      <td>3.743521</td>\n    </tr>\n    <tr>\n      <th>33330</th>\n      <td>20</td>\n      <td>3</td>\n      <td>0.5507</td>\n      <td>V</td>\n      <td>0.577422</td>\n      <td>4.401005</td>\n    </tr>\n  </tbody>\n</table>\n<p>128 rows × 6 columns</p>\n</div>"
     },
     "execution_count": 13,
     "metadata": {},
     "output_type": "execute_result"
    }
   ],
   "source": [
    "subframe[\n",
    "    (subframe[\"d_element\"] == \"Mn\") & \\\n",
    "    (subframe[\"p_element\"] == \"O\")\n",
    "][[keys.ATOM_1_IDX, keys.ATOM_2_IDX, keys.PARAM_OUT, keys.PARAM_TYPE, keys.PARAM_OUT_PREDICTED, keys.DIST_IN]]\n"
   ],
   "metadata": {
    "collapsed": false,
    "ExecuteTime": {
     "end_time": "2023-07-26T12:25:40.046461425Z",
     "start_time": "2023-07-26T12:25:39.966535620Z"
    }
   }
  },
  {
   "cell_type": "code",
   "execution_count": 14,
   "outputs": [
    {
     "name": "stdout",
     "output_type": "stream",
     "text": [
      "6.2564 48310    6.257326\n",
      "48395    6.257326\n",
      "48495    6.257326\n",
      "48595    6.257326\n",
      "Name: param_out_predicted, dtype: float64\n",
      "1.0675 48311    1.081703\n",
      "48496    1.081692\n",
      "48680    1.081703\n",
      "48714    1.081692\n",
      "Name: param_out_predicted, dtype: float64\n",
      "1.0716 48312    1.097874\n",
      "48397    1.097867\n",
      "48497    1.097873\n",
      "48597    1.097866\n",
      "48748    1.097874\n",
      "48764    1.097866\n",
      "48780    1.097873\n",
      "48796    1.097867\n",
      "Name: param_out_predicted, dtype: float64\n",
      "0.9087000000000001 48313    0.924753\n",
      "48314    0.924753\n",
      "48398    0.924861\n",
      "48399    0.924861\n",
      "48498    0.924741\n",
      "48499    0.924741\n",
      "48598    0.924843\n",
      "48599    0.924843\n",
      "48812    0.924753\n",
      "48834    0.924753\n",
      "48856    0.924741\n",
      "48878    0.924741\n",
      "48900    0.924861\n",
      "48922    0.924861\n",
      "48944    0.924843\n",
      "48966    0.924843\n",
      "Name: param_out_predicted, dtype: float64\n",
      "0.535 48315    0.546376\n",
      "48316    0.546376\n",
      "48500    0.546413\n",
      "48501    0.546413\n",
      "48813    0.546413\n",
      "48835    0.546413\n",
      "48857    0.546376\n",
      "48879    0.546376\n",
      "Name: param_out_predicted, dtype: float64\n",
      "0.11270000000000001 48326    0.118900\n",
      "48411    0.118950\n",
      "48511    0.118901\n",
      "48611    0.118947\n",
      "48752    0.118900\n",
      "48768    0.118947\n",
      "48784    0.118901\n",
      "48800    0.118950\n",
      "Name: param_out_predicted, dtype: float64\n",
      "1.0676 48396    1.081701\n",
      "48596    1.081687\n",
      "48697    1.081687\n",
      "48731    1.081701\n",
      "Name: param_out_predicted, dtype: float64\n",
      "0.5351 48400    0.546187\n",
      "48401    0.546187\n",
      "48600    0.546238\n",
      "48601    0.546238\n",
      "48901    0.546238\n",
      "48923    0.546238\n",
      "48945    0.546187\n",
      "48967    0.546187\n",
      "Name: param_out_predicted, dtype: float64\n",
      "4.5618 63637    4.562446\n",
      "63722    4.562446\n",
      "63822    4.562446\n",
      "63922    4.562446\n",
      "Name: param_out_predicted, dtype: float64\n",
      "0.7801 63638    0.672961\n",
      "63639    0.672961\n",
      "63723    0.673024\n",
      "63724    0.673024\n",
      "63823    0.672964\n",
      "63824    0.672964\n",
      "63923    0.673023\n",
      "63924    0.673023\n",
      "64139    0.672961\n",
      "64161    0.672961\n",
      "64183    0.673024\n",
      "64205    0.673024\n",
      "64227    0.672964\n",
      "64249    0.672964\n",
      "64271    0.673023\n",
      "64293    0.673023\n",
      "Name: param_out_predicted, dtype: float64\n",
      "0.7811 63640    0.794791\n",
      "63725    0.794729\n",
      "63825    0.794801\n",
      "63925    0.794731\n",
      "64075    0.794791\n",
      "64091    0.794731\n",
      "64107    0.794801\n",
      "64123    0.794729\n",
      "Name: param_out_predicted, dtype: float64\n",
      "0.5196000000000001 63641    0.642166\n",
      "63726    0.642246\n",
      "63826    0.642159\n",
      "63926    0.642252\n",
      "64007    0.642166\n",
      "64024    0.642252\n",
      "64041    0.642159\n",
      "64058    0.642246\n",
      "Name: param_out_predicted, dtype: float64\n",
      "0.4174 63642    0.462314\n",
      "63643    0.462314\n",
      "63727    0.462227\n",
      "63728    0.462227\n",
      "63827    0.462304\n",
      "63828    0.462304\n",
      "63927    0.462223\n",
      "63928    0.462223\n",
      "64140    0.462304\n",
      "64162    0.462304\n",
      "64184    0.462223\n",
      "64206    0.462223\n",
      "64228    0.462314\n",
      "64250    0.462314\n",
      "64272    0.462227\n",
      "64294    0.462227\n",
      "Name: param_out_predicted, dtype: float64\n",
      "5.4327 34927    5.436726\n",
      "Name: param_out_predicted, dtype: float64\n",
      "5.4328 35012    5.436726\n",
      "Name: param_out_predicted, dtype: float64\n",
      "5.432 35112    5.436726\n",
      "35212    5.436726\n",
      "Name: param_out_predicted, dtype: float64\n",
      "1.0838 34928    1.066555\n",
      "35013    1.066555\n",
      "35297    1.066555\n",
      "35348    1.066555\n",
      "Name: param_out_predicted, dtype: float64\n",
      "1.0624 34929    1.088978\n",
      "35365    1.088978\n",
      "Name: param_out_predicted, dtype: float64\n",
      "0.8321000000000001 34930    0.742341\n",
      "34931    0.742341\n",
      "35015    0.742343\n",
      "35016    0.742343\n",
      "35429    0.742341\n",
      "35451    0.742341\n",
      "35517    0.742343\n",
      "35539    0.742343\n",
      "Name: param_out_predicted, dtype: float64\n",
      "0.6001000000000001 34932    0.68551\n",
      "34933    0.68551\n",
      "35474    0.68551\n",
      "35496    0.68551\n",
      "Name: param_out_predicted, dtype: float64\n",
      "1.0625 35014    1.088978\n",
      "35413    1.088978\n",
      "Name: param_out_predicted, dtype: float64\n",
      "0.6002000000000001 35017    0.685514\n",
      "35018    0.685514\n",
      "35562    0.685514\n",
      "35584    0.685514\n",
      "Name: param_out_predicted, dtype: float64\n",
      "1.0757 35113    1.066555\n",
      "35213    1.066555\n",
      "35314    1.066555\n",
      "35331    1.066555\n",
      "Name: param_out_predicted, dtype: float64\n",
      "1.0548 35114    1.088978\n",
      "35397    1.088978\n",
      "Name: param_out_predicted, dtype: float64\n",
      "0.835 35115    0.742345\n",
      "35116    0.742345\n",
      "35473    0.742345\n",
      "35495    0.742345\n",
      "Name: param_out_predicted, dtype: float64\n",
      "0.6022000000000001 35117    0.685511\n",
      "35118    0.685511\n",
      "35217    0.685512\n",
      "35218    0.685512\n",
      "35430    0.685511\n",
      "35452    0.685511\n",
      "35518    0.685512\n",
      "35540    0.685512\n",
      "Name: param_out_predicted, dtype: float64\n",
      "1.0549 35214    1.088979\n",
      "35381    1.088979\n",
      "Name: param_out_predicted, dtype: float64\n",
      "0.8349000000000001 35215    0.742341\n",
      "35216    0.742341\n",
      "35561    0.742341\n",
      "35583    0.742341\n",
      "Name: param_out_predicted, dtype: float64\n",
      "5.2907 46275    5.333199\n",
      "Name: param_out_predicted, dtype: float64\n",
      "5.2902000000000005 46360    5.298331\n",
      "Name: param_out_predicted, dtype: float64\n",
      "5.2951 46460    5.326479\n",
      "Name: param_out_predicted, dtype: float64\n",
      "5.2959 46560    5.332754\n",
      "Name: param_out_predicted, dtype: float64\n",
      "0.8953000000000001 46276    0.902766\n",
      "46277    0.902766\n",
      "46777    0.902766\n",
      "46799    0.902766\n",
      "Name: param_out_predicted, dtype: float64\n",
      "0.7813 46278    0.790559\n",
      "46713    0.790559\n",
      "Name: param_out_predicted, dtype: float64\n",
      "0.5537000000000001 46279    0.540007\n",
      "46645    0.540007\n",
      "Name: param_out_predicted, dtype: float64\n",
      "0.4172 46280    0.417728\n",
      "46281    0.417728\n",
      "46866    0.417728\n",
      "46888    0.417728\n",
      "Name: param_out_predicted, dtype: float64\n",
      "0.8957 46361    0.915291\n",
      "46362    0.915291\n",
      "46821    0.915291\n",
      "46843    0.915291\n",
      "Name: param_out_predicted, dtype: float64\n",
      "0.7812 46363    0.743665\n",
      "46761    0.743665\n",
      "Name: param_out_predicted, dtype: float64\n",
      "0.5525 46364    0.525739\n",
      "46696    0.525739\n",
      "Name: param_out_predicted, dtype: float64\n",
      "0.4173 46365    0.422916\n",
      "46366    0.422916\n",
      "46910    0.422916\n",
      "46932    0.422916\n",
      "Name: param_out_predicted, dtype: float64\n",
      "0.7637 46461    0.762144\n",
      "46745    0.762144\n",
      "Name: param_out_predicted, dtype: float64\n",
      "0.9042 46462    0.911\n",
      "46463    0.911\n",
      "46865    0.911\n",
      "46887    0.911\n",
      "Name: param_out_predicted, dtype: float64\n",
      "0.542 46464    0.53013\n",
      "46679    0.53013\n",
      "Name: param_out_predicted, dtype: float64\n",
      "0.4228 46465    0.445947\n",
      "46466    0.445947\n",
      "46778    0.445947\n",
      "46800    0.445947\n",
      "Name: param_out_predicted, dtype: float64\n",
      "0.9008 46561    0.913119\n",
      "46562    0.913119\n",
      "46909    0.913119\n",
      "46931    0.913119\n",
      "Name: param_out_predicted, dtype: float64\n",
      "0.772 46563    0.793382\n",
      "46729    0.793382\n",
      "Name: param_out_predicted, dtype: float64\n",
      "0.5476 46564    0.547537\n",
      "46662    0.547537\n",
      "Name: param_out_predicted, dtype: float64\n",
      "0.42 46565    0.415225\n",
      "46566    0.415225\n",
      "46822    0.415225\n",
      "46844    0.415225\n",
      "Name: param_out_predicted, dtype: float64\n",
      "5.4332 32563    5.776473\n",
      "32663    5.754386\n",
      "Name: param_out_predicted, dtype: float64\n",
      "6.2741 32781    6.29002\n",
      "Name: param_out_predicted, dtype: float64\n",
      "6.274 32899    6.288964\n",
      "Name: param_out_predicted, dtype: float64\n",
      "1.1219000000000001 32564    1.124132\n",
      "32664    1.123502\n",
      "33087    1.124132\n",
      "33131    1.123502\n",
      "Name: param_out_predicted, dtype: float64\n",
      "1.0879 32565    1.108817\n",
      "32665    1.107863\n",
      "32999    1.108817\n",
      "33043    1.107863\n",
      "Name: param_out_predicted, dtype: float64\n",
      "0.8008000000000001 32566    0.663519\n",
      "32567    0.663514\n",
      "32666    0.661285\n",
      "32667    0.661253\n",
      "33175    0.663514\n",
      "33197    0.663519\n",
      "33263    0.661253\n",
      "33285    0.661285\n",
      "Name: param_out_predicted, dtype: float64\n",
      "0.5974 32568    0.644465\n",
      "32668    0.638249\n",
      "33176    0.638249\n",
      "33264    0.644465\n",
      "Name: param_out_predicted, dtype: float64\n",
      "0.5973 32569    0.644458\n",
      "32669    0.638163\n",
      "33198    0.638163\n",
      "33286    0.644458\n",
      "Name: param_out_predicted, dtype: float64\n",
      "1.046 32782    1.059087\n",
      "32900    1.058160\n",
      "33021    1.058160\n",
      "33065    1.059087\n",
      "Name: param_out_predicted, dtype: float64\n",
      "1.0304 32783    1.028104\n",
      "32901    1.027632\n",
      "33109    1.027632\n",
      "33153    1.028104\n",
      "Name: param_out_predicted, dtype: float64\n",
      "0.9167000000000001 32784    0.933451\n",
      "32902    0.934387\n",
      "33241    0.933451\n",
      "33329    0.934387\n",
      "Name: param_out_predicted, dtype: float64\n",
      "0.9164 32785    0.936745\n",
      "32903    0.937680\n",
      "33219    0.936745\n",
      "33307    0.937680\n",
      "Name: param_out_predicted, dtype: float64\n",
      "0.5528000000000001 32786    0.584834\n",
      "32904    0.586278\n",
      "33220    0.586278\n",
      "33308    0.584834\n",
      "Name: param_out_predicted, dtype: float64\n",
      "0.5507000000000001 32787    0.577422\n",
      "32905    0.579224\n",
      "33242    0.579224\n",
      "33330    0.577422\n",
      "Name: param_out_predicted, dtype: float64\n"
     ]
    }
   ],
   "source": [
    "for param_out in subframe[keys.PARAM_OUT].unique():\n",
    "    matching = subframe[subframe[keys.PARAM_OUT] == param_out]\n",
    "    print(param_out, matching[keys.PARAM_OUT_PREDICTED])"
   ],
   "metadata": {
    "collapsed": false,
    "ExecuteTime": {
     "end_time": "2023-07-26T12:25:40.107098174Z",
     "start_time": "2023-07-26T12:25:40.009917995Z"
    }
   }
  },
  {
   "cell_type": "markdown",
   "source": [],
   "metadata": {
    "collapsed": false
   }
  },
  {
   "cell_type": "code",
   "execution_count": 15,
   "outputs": [
    {
     "data": {
      "text/plain": "      param_type  atom_1_idx  param_in  param_out  param_out_predicted  \\\n48310          U           1       0.0     6.2564             6.257326   \n48395          U           2       0.0     6.2564             6.257326   \n48495          U           3       0.0     6.2564             6.257326   \n48595          U           4       0.0     6.2564             6.257326   \n\n                                           atom_1_occs_1  \\\n48310  [[0.985, 0.031, 0.0, -0.042, 0.0], [0.031, 0.7...   \n48395  [[0.985, -0.031, 0.0, -0.042, 0.0], [-0.031, 0...   \n48495  [[0.098, 0.009000000000000001, 0.0, 0.019, 0.0...   \n48595  [[0.098, -0.009000000000000001, 0.0, 0.019, 0....   \n\n                                           atom_1_occs_2  \n48310  [[0.098, -0.009000000000000001, 0.0, 0.019, 0....  \n48395  [[0.098, 0.009000000000000001, 0.0, 0.019, 0.0...  \n48495  [[0.985, -0.031, 0.0, -0.042, 0.0], [-0.031, 0...  \n48595  [[0.985, 0.031, 0.0, -0.042, 0.0], [0.031, 0.7...  ",
      "text/html": "<div>\n<style scoped>\n    .dataframe tbody tr th:only-of-type {\n        vertical-align: middle;\n    }\n\n    .dataframe tbody tr th {\n        vertical-align: top;\n    }\n\n    .dataframe thead th {\n        text-align: right;\n    }\n</style>\n<table border=\"1\" class=\"dataframe\">\n  <thead>\n    <tr style=\"text-align: right;\">\n      <th></th>\n      <th>param_type</th>\n      <th>atom_1_idx</th>\n      <th>param_in</th>\n      <th>param_out</th>\n      <th>param_out_predicted</th>\n      <th>atom_1_occs_1</th>\n      <th>atom_1_occs_2</th>\n    </tr>\n  </thead>\n  <tbody>\n    <tr>\n      <th>48310</th>\n      <td>U</td>\n      <td>1</td>\n      <td>0.0</td>\n      <td>6.2564</td>\n      <td>6.257326</td>\n      <td>[[0.985, 0.031, 0.0, -0.042, 0.0], [0.031, 0.7...</td>\n      <td>[[0.098, -0.009000000000000001, 0.0, 0.019, 0....</td>\n    </tr>\n    <tr>\n      <th>48395</th>\n      <td>U</td>\n      <td>2</td>\n      <td>0.0</td>\n      <td>6.2564</td>\n      <td>6.257326</td>\n      <td>[[0.985, -0.031, 0.0, -0.042, 0.0], [-0.031, 0...</td>\n      <td>[[0.098, 0.009000000000000001, 0.0, 0.019, 0.0...</td>\n    </tr>\n    <tr>\n      <th>48495</th>\n      <td>U</td>\n      <td>3</td>\n      <td>0.0</td>\n      <td>6.2564</td>\n      <td>6.257326</td>\n      <td>[[0.098, 0.009000000000000001, 0.0, 0.019, 0.0...</td>\n      <td>[[0.985, -0.031, 0.0, -0.042, 0.0], [-0.031, 0...</td>\n    </tr>\n    <tr>\n      <th>48595</th>\n      <td>U</td>\n      <td>4</td>\n      <td>0.0</td>\n      <td>6.2564</td>\n      <td>6.257326</td>\n      <td>[[0.098, -0.009000000000000001, 0.0, 0.019, 0....</td>\n      <td>[[0.985, 0.031, 0.0, -0.042, 0.0], [0.031, 0.7...</td>\n    </tr>\n  </tbody>\n</table>\n</div>"
     },
     "execution_count": 15,
     "metadata": {},
     "output_type": "execute_result"
    }
   ],
   "source": [
    "fr = subframe[subframe[keys.PARAM_OUT] == subframe[keys.PARAM_OUT].unique()[0]][\n",
    "    [keys.PARAM_TYPE, keys.ATOM_1_IDX, keys.PARAM_IN, keys.PARAM_OUT, keys.PARAM_OUT_PREDICTED, keys.ATOM_1_OCCS_1, keys.ATOM_1_OCCS_2]\n",
    "]\n",
    "fr"
   ],
   "metadata": {
    "collapsed": false,
    "ExecuteTime": {
     "end_time": "2023-07-26T12:25:40.108032394Z",
     "start_time": "2023-07-26T12:25:40.010243201Z"
    }
   }
  },
  {
   "cell_type": "code",
   "execution_count": 16,
   "outputs": [
    {
     "data": {
      "text/plain": "array([[ 0.985,  0.031,  0.   , -0.042,  0.   ],\n       [ 0.031,  0.745,  0.   ,  0.278,  0.   ],\n       [ 0.   ,  0.   ,  0.984,  0.   , -0.006],\n       [-0.042,  0.278,  0.   ,  0.672,  0.   ],\n       [ 0.   ,  0.   , -0.006,  0.   ,  0.988]])"
     },
     "execution_count": 16,
     "metadata": {},
     "output_type": "execute_result"
    }
   ],
   "source": [
    "np.array(fr.loc[48310][keys.ATOM_1_OCCS_1])"
   ],
   "metadata": {
    "collapsed": false,
    "ExecuteTime": {
     "end_time": "2023-07-26T12:25:40.108342211Z",
     "start_time": "2023-07-26T12:25:40.030346664Z"
    }
   }
  },
  {
   "cell_type": "code",
   "execution_count": 17,
   "outputs": [
    {
     "data": {
      "text/plain": "array([[ 0.098, -0.009,  0.   ,  0.019,  0.   ],\n       [-0.009,  0.175,  0.   , -0.082,  0.   ],\n       [ 0.   ,  0.   ,  0.133,  0.   ,  0.007],\n       [ 0.019, -0.082,  0.   ,  0.188,  0.   ],\n       [ 0.   ,  0.   ,  0.007,  0.   ,  0.153]])"
     },
     "execution_count": 17,
     "metadata": {},
     "output_type": "execute_result"
    }
   ],
   "source": [
    "np.array(fr.loc[48310][keys.ATOM_1_OCCS_2])\n"
   ],
   "metadata": {
    "collapsed": false,
    "ExecuteTime": {
     "end_time": "2023-07-26T12:25:40.108633079Z",
     "start_time": "2023-07-26T12:25:40.030896656Z"
    }
   }
  },
  {
   "cell_type": "code",
   "execution_count": 18,
   "outputs": [
    {
     "data": {
      "text/plain": "array([[1.083, 0.04 , 0.   , 0.061, 0.   ],\n       [0.04 , 0.92 , 0.   , 0.36 , 0.   ],\n       [0.   , 0.   , 1.117, 0.   , 0.013],\n       [0.061, 0.36 , 0.   , 0.86 , 0.   ],\n       [0.   , 0.   , 0.013, 0.   , 1.141]])"
     },
     "execution_count": 18,
     "metadata": {},
     "output_type": "execute_result"
    }
   ],
   "source": [
    "abs(np.array(fr.loc[48310][keys.ATOM_1_OCCS_1])) + abs(np.array(fr.loc[48310][keys.ATOM_1_OCCS_2]))"
   ],
   "metadata": {
    "collapsed": false,
    "ExecuteTime": {
     "end_time": "2023-07-26T12:25:40.190282671Z",
     "start_time": "2023-07-26T12:25:40.036674152Z"
    }
   }
  },
  {
   "cell_type": "code",
   "execution_count": 19,
   "outputs": [
    {
     "data": {
      "text/plain": "array([[ 0.098,  0.009,  0.   ,  0.019,  0.   ],\n       [ 0.009,  0.175,  0.   ,  0.082,  0.   ],\n       [ 0.   ,  0.   ,  0.133,  0.   , -0.007],\n       [ 0.019,  0.082,  0.   ,  0.188,  0.   ],\n       [ 0.   ,  0.   , -0.007,  0.   ,  0.153]])"
     },
     "execution_count": 19,
     "metadata": {},
     "output_type": "execute_result"
    }
   ],
   "source": [
    "np.array(fr.loc[48495][keys.ATOM_1_OCCS_1])\n"
   ],
   "metadata": {
    "collapsed": false,
    "ExecuteTime": {
     "end_time": "2023-07-26T12:25:40.190792451Z",
     "start_time": "2023-07-26T12:25:40.078970253Z"
    }
   }
  },
  {
   "cell_type": "code",
   "execution_count": 20,
   "outputs": [
    {
     "data": {
      "text/plain": "array([[ 0.985, -0.031,  0.   , -0.042,  0.   ],\n       [-0.031,  0.745,  0.   , -0.278,  0.   ],\n       [ 0.   ,  0.   ,  0.984,  0.   ,  0.006],\n       [-0.042, -0.278,  0.   ,  0.672,  0.   ],\n       [ 0.   ,  0.   ,  0.006,  0.   ,  0.988]])"
     },
     "execution_count": 20,
     "metadata": {},
     "output_type": "execute_result"
    }
   ],
   "source": [
    "np.array(fr.loc[48495][keys.ATOM_1_OCCS_2])\n"
   ],
   "metadata": {
    "collapsed": false,
    "ExecuteTime": {
     "end_time": "2023-07-26T12:25:40.191045079Z",
     "start_time": "2023-07-26T12:25:40.079151695Z"
    }
   }
  },
  {
   "cell_type": "code",
   "execution_count": 21,
   "outputs": [
    {
     "data": {
      "text/plain": "array([[1.083, 0.04 , 0.   , 0.061, 0.   ],\n       [0.04 , 0.92 , 0.   , 0.36 , 0.   ],\n       [0.   , 0.   , 1.117, 0.   , 0.013],\n       [0.061, 0.36 , 0.   , 0.86 , 0.   ],\n       [0.   , 0.   , 0.013, 0.   , 1.141]])"
     },
     "execution_count": 21,
     "metadata": {},
     "output_type": "execute_result"
    }
   ],
   "source": [
    "abs(np.array(fr.loc[48495][keys.ATOM_1_OCCS_1])) + abs(np.array(fr.loc[48495][keys.ATOM_1_OCCS_2]))\n"
   ],
   "metadata": {
    "collapsed": false,
    "ExecuteTime": {
     "end_time": "2023-07-26T12:25:40.191307992Z",
     "start_time": "2023-07-26T12:25:40.079261100Z"
    }
   }
  },
  {
   "cell_type": "code",
   "execution_count": 22,
   "outputs": [
    {
     "data": {
      "text/plain": "array([[0., 0., 0., 0., 0.],\n       [0., 0., 0., 0., 0.],\n       [0., 0., 0., 0., 0.],\n       [0., 0., 0., 0., 0.],\n       [0., 0., 0., 0., 0.]])"
     },
     "execution_count": 22,
     "metadata": {},
     "output_type": "execute_result"
    }
   ],
   "source": [
    "abs(np.array(fr.loc[48310][keys.ATOM_1_OCCS_1])) + abs(np.array(fr.loc[48310][keys.ATOM_1_OCCS_2])) - (abs(np.array(fr.loc[48495][keys.ATOM_1_OCCS_1])) + abs(np.array(fr.loc[48495][keys.ATOM_1_OCCS_2])))\n"
   ],
   "metadata": {
    "collapsed": false,
    "ExecuteTime": {
     "end_time": "2023-07-26T12:25:40.191651259Z",
     "start_time": "2023-07-26T12:25:40.079358729Z"
    }
   }
  },
  {
   "cell_type": "code",
   "execution_count": 23,
   "outputs": [
    {
     "data": {
      "text/plain": "array([[0., 0., 0., 0., 0.],\n       [0., 0., 0., 0., 0.],\n       [0., 0., 0., 0., 0.],\n       [0., 0., 0., 0., 0.],\n       [0., 0., 0., 0., 0.]])"
     },
     "execution_count": 23,
     "metadata": {},
     "output_type": "execute_result"
    }
   ],
   "source": [
    "np.multiply(abs(np.array(fr.loc[48310][keys.ATOM_1_OCCS_1])), abs(np.array(fr.loc[48310][keys.ATOM_1_OCCS_2]))) - np.multiply(abs(np.array(fr.loc[48495][keys.ATOM_1_OCCS_1])), abs(np.array(fr.loc[48495][keys.ATOM_1_OCCS_2])))\n"
   ],
   "metadata": {
    "collapsed": false,
    "ExecuteTime": {
     "end_time": "2023-07-26T12:25:40.191904971Z",
     "start_time": "2023-07-26T12:25:40.079501017Z"
    }
   }
  },
  {
   "cell_type": "code",
   "execution_count": 24,
   "outputs": [
    {
     "name": "stderr",
     "output_type": "stream",
     "text": [
      "/home/martin/.local/miniconda3/envs/dftuv/lib/python3.10/site-packages/torch/jit/_check.py:172: UserWarning: The TorchScript type system doesn't support instance-level annotations on empty non-base types in `__init__`. Instead, either 1) use a type annotation in the class body, or 2) wrap the type in `torch.jit.Attribute`.\n",
      "  warnings.warn(\"The TorchScript type system doesn't support \"\n"
     ]
    }
   ],
   "source": [
    "graph = graphs.UGraph([\"Mn\", \"Fe\", \"Ni\"])\n",
    "row1 = graph.create_inputs(subframe.loc[48310])\n",
    "row2 = graph.create_inputs(subframe.loc[48495])\n"
   ],
   "metadata": {
    "collapsed": false,
    "ExecuteTime": {
     "end_time": "2023-07-26T12:25:40.706233818Z",
     "start_time": "2023-07-26T12:25:40.079602050Z"
    }
   }
  },
  {
   "cell_type": "code",
   "execution_count": 25,
   "outputs": [
    {
     "data": {
      "text/plain": "tensor(3.7253e-09, dtype=torch.float64)"
     },
     "execution_count": 25,
     "metadata": {},
     "output_type": "execute_result"
    }
   ],
   "source": [
    "(row1['site'] - row2['site']).abs().max()\n"
   ],
   "metadata": {
    "collapsed": false,
    "ExecuteTime": {
     "end_time": "2023-07-26T12:25:40.754468917Z",
     "start_time": "2023-07-26T12:25:40.708710199Z"
    }
   }
  },
  {
   "cell_type": "code",
   "execution_count": 26,
   "outputs": [],
   "source": [
    "row = subframe.loc[48310]\n",
    "inp1 = graph.site.create_inputs(\n",
    "    row[keys.ATOM_1_ELEMENT],\n",
    "    *datasets.get_occupation_matrices(row, 1),\n",
    "    row[keys.PARAM_IN],\n",
    ")\n",
    "row = subframe.loc[48495]\n",
    "inp2 = graph.site.create_inputs(\n",
    "    row[keys.ATOM_1_ELEMENT],\n",
    "    *datasets.get_occupation_matrices(row, 1),\n",
    "    row[keys.PARAM_IN],\n",
    ")"
   ],
   "metadata": {
    "collapsed": false,
    "ExecuteTime": {
     "end_time": "2023-07-26T12:25:40.758961733Z",
     "start_time": "2023-07-26T12:25:40.754797749Z"
    }
   }
  },
  {
   "cell_type": "code",
   "execution_count": 27,
   "outputs": [
    {
     "data": {
      "text/plain": "tensor(3.7253e-09)"
     },
     "execution_count": 27,
     "metadata": {},
     "output_type": "execute_result"
    }
   ],
   "source": [
    "(inp1['occs_prod'] - inp2['occs_prod']).abs().max()\n"
   ],
   "metadata": {
    "collapsed": false,
    "ExecuteTime": {
     "end_time": "2023-07-26T12:25:40.759518126Z",
     "start_time": "2023-07-26T12:25:40.754972338Z"
    }
   }
  },
  {
   "cell_type": "code",
   "execution_count": 28,
   "outputs": [
    {
     "data": {
      "text/plain": "tensor(0.)"
     },
     "execution_count": 28,
     "metadata": {},
     "output_type": "execute_result"
    }
   ],
   "source": [
    "(inp1['occs_sum'] - inp2['occs_sum']).abs().max()\n"
   ],
   "metadata": {
    "collapsed": false,
    "ExecuteTime": {
     "end_time": "2023-07-26T12:25:40.760062577Z",
     "start_time": "2023-07-26T12:25:40.755074711Z"
    }
   }
  },
  {
   "cell_type": "code",
   "execution_count": 29,
   "outputs": [
    {
     "data": {
      "text/plain": "tensor([False, False, False, False, False, False, False, False, False, False,\n        False, False, False, False, False, False, False, False, False, False,\n        False, False, False, False, False, False, False, False, False, False,\n        False, False, False, False, False, False, False, False, False, False,\n        False, False, False, False, False, False, False, False, False, False,\n        False, False, False, False, False, False, False, False, False, False,\n        False])"
     },
     "execution_count": 29,
     "metadata": {},
     "output_type": "execute_result"
    }
   ],
   "source": [
    "(graph.site.occs_prod.create_tensor(\n",
    "    list(map(np.abs, [np.array(fr.loc[48310][keys.ATOM_1_OCCS_1]), np.array(fr.loc[48310][keys.ATOM_1_OCCS_2])]))\n",
    ") -\\\n",
    "graph.site.occs_prod.create_tensor(\n",
    "    list(map(np.abs, [np.array(fr.loc[48495][keys.ATOM_1_OCCS_1]), np.array(fr.loc[48495][keys.ATOM_1_OCCS_2])]))\n",
    ")).abs() > 1e-4\n"
   ],
   "metadata": {
    "collapsed": false,
    "ExecuteTime": {
     "end_time": "2023-07-26T12:25:40.760313195Z",
     "start_time": "2023-07-26T12:25:40.755170474Z"
    }
   }
  },
  {
   "cell_type": "code",
   "execution_count": 30,
   "outputs": [
    {
     "data": {
      "text/plain": "tensor([ 6.5348e-01,  3.4508e-02,  4.0212e-03,  4.4788e-03, -2.8955e-02,\n         7.1872e-03,  9.0804e-04, -4.0418e-03,  2.9660e-03, -1.3035e-03,\n        -3.0401e-03, -2.9141e-03, -2.5372e-03, -1.2797e-03, -6.5471e-03,\n        -2.2958e-02,  4.2597e-02, -6.5062e-03,  2.1819e-03, -4.3390e-03,\n         6.6587e-03, -7.9564e-03,  1.2585e-03, -5.6764e-03, -2.0653e-02,\n         1.3265e-03, -3.5578e-02,  1.5277e-03, -5.5412e-03,  3.1104e-03,\n        -2.2849e-02, -1.1870e-02, -2.3436e-03,  9.4177e-04, -3.5147e-03,\n         6.6554e-03, -7.4064e-03, -4.4866e-02, -1.0892e-02,  3.6037e-04,\n         2.4574e-03, -3.9040e-02, -4.7543e-03,  5.3451e-04,  0.0000e+00,\n         1.8267e-03,  7.6661e-03, -5.6427e-03,  1.0714e-03,  3.6938e-04,\n         8.8637e-03,  9.5188e-04, -3.6652e-03,  3.6531e-03,  5.5252e-03,\n         2.6111e-03, -2.1872e-02, -9.4447e-03, -1.5341e-03, -1.3367e-03,\n         1.2733e-04])"
     },
     "execution_count": 30,
     "metadata": {},
     "output_type": "execute_result"
    }
   ],
   "source": [
    "graph.site.occs_prod.create_tensor(\n",
    "    list(map(np.abs, [np.array(fr.loc[48495][keys.ATOM_1_OCCS_1]), np.array(fr.loc[48495][keys.ATOM_1_OCCS_2])]))\n",
    ")\n"
   ],
   "metadata": {
    "collapsed": false,
    "ExecuteTime": {
     "end_time": "2023-07-26T12:25:40.760532215Z",
     "start_time": "2023-07-26T12:25:40.755330592Z"
    }
   }
  },
  {
   "cell_type": "code",
   "execution_count": 31,
   "outputs": [
    {
     "data": {
      "text/plain": "(<Figure size 640x480 with 1 Axes>, <AxesSubplot: >)"
     },
     "execution_count": 31,
     "metadata": {},
     "output_type": "execute_result"
    },
    {
     "data": {
      "text/plain": "<Figure size 640x480 with 1 Axes>",
      "image/png": "[encoded data removed]"
     },
     "metadata": {},
     "output_type": "display_data"
    }
   ],
   "source": [
    "graph.site.occs_prod._tp.visualize()\n"
   ],
   "metadata": {
    "collapsed": false,
    "ExecuteTime": {
     "end_time": "2023-07-26T12:25:41.285708775Z",
     "start_time": "2023-07-26T12:25:40.755555788Z"
    }
   }
  },
  {
   "cell_type": "code",
   "execution_count": 32,
   "outputs": [],
   "source": [
    "from e3nn import o3\n"
   ],
   "metadata": {
    "collapsed": false,
    "ExecuteTime": {
     "end_time": "2023-07-26T12:25:41.340980420Z",
     "start_time": "2023-07-26T12:25:41.286439929Z"
    }
   }
  },
  {
   "cell_type": "code",
   "execution_count": 33,
   "outputs": [
    {
     "data": {
      "text/plain": "(<Figure size 640x480 with 1 Axes>, <AxesSubplot: >)"
     },
     "execution_count": 33,
     "metadata": {},
     "output_type": "execute_result"
    },
    {
     "data": {
      "text/plain": "<Figure size 640x480 with 1 Axes>",
      "image/png": "[encoded data removed]"
     },
     "metadata": {},
     "output_type": "display_data"
    }
   ],
   "source": [
    "irps = o3.Irreps('4e')\n",
    "o3.FullTensorProduct(irps, irps).visualize()\n"
   ],
   "metadata": {
    "collapsed": false,
    "ExecuteTime": {
     "end_time": "2023-07-26T12:25:41.509971356Z",
     "start_time": "2023-07-26T12:25:41.333928400Z"
    }
   }
  },
  {
   "cell_type": "code",
   "execution_count": 34,
   "outputs": [
    {
     "data": {
      "text/plain": "                                                      dir material  is_vdw  \\\n0       /Users/azadoks/Data/uv_ml/luca/PrNiO3/by_type/...   b-type   False   \n78      /Users/azadoks/Data/uv_ml/luca/PrNiO3/by_type/...   b-type   False   \n118     /Users/azadoks/Data/uv_ml/luca/PrNiO3/by_type/...   b-type   False   \n161     /Users/azadoks/Data/uv_ml/luca/PrNiO3/by_type/...   b-type   False   \n197     /Users/azadoks/Data/uv_ml/luca/PrNiO3/by_type/...   b-type   False   \n...                                                   ...      ...     ...   \n106361  /Users/azadoks/Data/uv_ml/iurii/Spinel/LixMn2O...    Mn2O4   False   \n106487  /Users/azadoks/Data/uv_ml/iurii/Spinel/LixMn2O...    Mn2O4   False   \n106563  /Users/azadoks/Data/uv_ml/iurii/Spinel/LixMn2O...    Mn2O4   False   \n106564  /Users/azadoks/Data/uv_ml/iurii/Spinel/LixMn2O...    Mn2O4   False   \n106565  /Users/azadoks/Data/uv_ml/iurii/Spinel/LixMn2O...    Mn2O4   False   \n\n        uv_iter formula                                               cell  \\\n0             1          [20.4521, 0.0, 0.0, 0.0, 10.1708088779, 0.0, -...   \n78            1          [20.4521, 0.0, 0.0, 0.0, 10.1708088779, 0.0, -...   \n118           1          [20.4521, 0.0, 0.0, 0.0, 10.1708088779, 0.0, -...   \n161           1          [20.4521, 0.0, 0.0, 0.0, 10.1708088779, 0.0, -...   \n197           1          [20.4521, 0.0, 0.0, 0.0, 10.1708088779, 0.0, -...   \n...         ...     ...                                                ...   \n106361        3          [15.4309, 0.0, 0.0, 0.0, 15.4304216421, 0.0, 0...   \n106487        3          [15.4309, 0.0, 0.0, 0.0, 15.4304216421, 0.0, 0...   \n106563        3          [15.4309, 0.0, 0.0, 0.0, 15.4304216421, 0.0, 0...   \n106564        3          [15.4309, 0.0, 0.0, 0.0, 15.4304216421, 0.0, 0...   \n106565        3          [15.4309, 0.0, 0.0, 0.0, 15.4304216421, 0.0, 0...   \n\n        n_atoms_uc person  structure_index  pw_time_unix  ...  species  label  \\\n0               80   luca                1    1594004350  ...     [Ni]     Ni   \n78              80   luca                1    1594004350  ...     [Ni]     Ni   \n118             80   luca                1    1594004350  ...     [Ni]     Ni   \n161             80   luca                1    1594004350  ...     [Ni]     Ni   \n197             80   luca                1    1594004350  ...     [Ni]     Ni   \n...            ...    ...              ...           ...  ...      ...    ...   \n106361          48  iurii              122    1638445240  ...  [Mn, O]   Mn-O   \n106487          48  iurii              122    1638445240  ...  [Mn, O]   Mn-O   \n106563          48  iurii              122    1638445240  ...  [Mn, O]   Mn-O   \n106564          48  iurii              122    1638445240  ...  [Mn, O]   Mn-O   \n106565          48  iurii              122    1638445240  ...  [Mn, O]   Mn-O   \n\n         colour                                           sc_paths  \\\n0       #50D050  /Users/azadoks/Data/uv_ml/luca/PrNiO3/by_type/...   \n78      #50D050  /Users/azadoks/Data/uv_ml/luca/PrNiO3/by_type/...   \n118     #50D050  /Users/azadoks/Data/uv_ml/luca/PrNiO3/by_type/...   \n161     #50D050  /Users/azadoks/Data/uv_ml/luca/PrNiO3/by_type/...   \n197     #50D050  /Users/azadoks/Data/uv_ml/luca/PrNiO3/by_type/...   \n...         ...                                                ...   \n106361  #9C7AC7  /Users/azadoks/Data/uv_ml/iurii/Spinel/LixMn2O...   \n106487  #9C7AC7  /Users/azadoks/Data/uv_ml/iurii/Spinel/LixMn2O...   \n106563  #9C7AC7  /Users/azadoks/Data/uv_ml/iurii/Spinel/LixMn2O...   \n106564  #9C7AC7  /Users/azadoks/Data/uv_ml/iurii/Spinel/LixMn2O...   \n106565  #9C7AC7  /Users/azadoks/Data/uv_ml/iurii/Spinel/LixMn2O...   \n\n        param_final                            cluster_id  training_label  \\\n0            9.6441  1c543a33-20e8-43e9-831b-df69f0b43fe3           train   \n78           8.5407  1db6c2dd-6920-41f0-b470-6aa26a776082        validate   \n118          8.5407  1db6c2dd-6920-41f0-b470-6aa26a776082       duplicate   \n161          8.5407  1db6c2dd-6920-41f0-b470-6aa26a776082       duplicate   \n197          8.5407  1db6c2dd-6920-41f0-b470-6aa26a776082       duplicate   \n...             ...                                   ...             ...   \n106361       0.1693  bde5b107-1127-4d01-806b-4eaf0c0a7d79       duplicate   \n106487       0.1511  bde5b107-1127-4d01-806b-4eaf0c0a7d79       duplicate   \n106563       0.1655  05f5a831-aa50-4007-8cc7-ad1f03a88c26           train   \n106564       0.1645  05f5a831-aa50-4007-8cc7-ad1f03a88c26           train   \n106565       0.1645  05f5a831-aa50-4007-8cc7-ad1f03a88c26           train   \n\n        param_out_predicted p_element  d_element  \n0                  9.696028       NaN        NaN  \n78                 8.505835       NaN        NaN  \n118                8.505835       NaN        NaN  \n161                8.505835       NaN        NaN  \n197                8.505835       NaN        NaN  \n...                     ...       ...        ...  \n106361             0.148060         O         Mn  \n106487             0.148362         O         Mn  \n106563             0.157257         O         Mn  \n106564             0.156744         O         Mn  \n106565             0.156744         O         Mn  \n\n[1319 rows x 55 columns]",
      "text/html": "<div>\n<style scoped>\n    .dataframe tbody tr th:only-of-type {\n        vertical-align: middle;\n    }\n\n    .dataframe tbody tr th {\n        vertical-align: top;\n    }\n\n    .dataframe thead th {\n        text-align: right;\n    }\n</style>\n<table border=\"1\" class=\"dataframe\">\n  <thead>\n    <tr style=\"text-align: right;\">\n      <th></th>\n      <th>dir</th>\n      <th>material</th>\n      <th>is_vdw</th>\n      <th>uv_iter</th>\n      <th>formula</th>\n      <th>cell</th>\n      <th>n_atoms_uc</th>\n      <th>person</th>\n      <th>structure_index</th>\n      <th>pw_time_unix</th>\n      <th>...</th>\n      <th>species</th>\n      <th>label</th>\n      <th>colour</th>\n      <th>sc_paths</th>\n      <th>param_final</th>\n      <th>cluster_id</th>\n      <th>training_label</th>\n      <th>param_out_predicted</th>\n      <th>p_element</th>\n      <th>d_element</th>\n    </tr>\n  </thead>\n  <tbody>\n    <tr>\n      <th>0</th>\n      <td>/Users/azadoks/Data/uv_ml/luca/PrNiO3/by_type/...</td>\n      <td>b-type</td>\n      <td>False</td>\n      <td>1</td>\n      <td></td>\n      <td>[20.4521, 0.0, 0.0, 0.0, 10.1708088779, 0.0, -...</td>\n      <td>80</td>\n      <td>luca</td>\n      <td>1</td>\n      <td>1594004350</td>\n      <td>...</td>\n      <td>[Ni]</td>\n      <td>Ni</td>\n      <td>#50D050</td>\n      <td>/Users/azadoks/Data/uv_ml/luca/PrNiO3/by_type/...</td>\n      <td>9.6441</td>\n      <td>1c543a33-20e8-43e9-831b-df69f0b43fe3</td>\n      <td>train</td>\n      <td>9.696028</td>\n      <td>NaN</td>\n      <td>NaN</td>\n    </tr>\n    <tr>\n      <th>78</th>\n      <td>/Users/azadoks/Data/uv_ml/luca/PrNiO3/by_type/...</td>\n      <td>b-type</td>\n      <td>False</td>\n      <td>1</td>\n      <td></td>\n      <td>[20.4521, 0.0, 0.0, 0.0, 10.1708088779, 0.0, -...</td>\n      <td>80</td>\n      <td>luca</td>\n      <td>1</td>\n      <td>1594004350</td>\n      <td>...</td>\n      <td>[Ni]</td>\n      <td>Ni</td>\n      <td>#50D050</td>\n      <td>/Users/azadoks/Data/uv_ml/luca/PrNiO3/by_type/...</td>\n      <td>8.5407</td>\n      <td>1db6c2dd-6920-41f0-b470-6aa26a776082</td>\n      <td>validate</td>\n      <td>8.505835</td>\n      <td>NaN</td>\n      <td>NaN</td>\n    </tr>\n    <tr>\n      <th>118</th>\n      <td>/Users/azadoks/Data/uv_ml/luca/PrNiO3/by_type/...</td>\n      <td>b-type</td>\n      <td>False</td>\n      <td>1</td>\n      <td></td>\n      <td>[20.4521, 0.0, 0.0, 0.0, 10.1708088779, 0.0, -...</td>\n      <td>80</td>\n      <td>luca</td>\n      <td>1</td>\n      <td>1594004350</td>\n      <td>...</td>\n      <td>[Ni]</td>\n      <td>Ni</td>\n      <td>#50D050</td>\n      <td>/Users/azadoks/Data/uv_ml/luca/PrNiO3/by_type/...</td>\n      <td>8.5407</td>\n      <td>1db6c2dd-6920-41f0-b470-6aa26a776082</td>\n      <td>duplicate</td>\n      <td>8.505835</td>\n      <td>NaN</td>\n      <td>NaN</td>\n    </tr>\n    <tr>\n      <th>161</th>\n      <td>/Users/azadoks/Data/uv_ml/luca/PrNiO3/by_type/...</td>\n      <td>b-type</td>\n      <td>False</td>\n      <td>1</td>\n      <td></td>\n      <td>[20.4521, 0.0, 0.0, 0.0, 10.1708088779, 0.0, -...</td>\n      <td>80</td>\n      <td>luca</td>\n      <td>1</td>\n      <td>1594004350</td>\n      <td>...</td>\n      <td>[Ni]</td>\n      <td>Ni</td>\n      <td>#50D050</td>\n      <td>/Users/azadoks/Data/uv_ml/luca/PrNiO3/by_type/...</td>\n      <td>8.5407</td>\n      <td>1db6c2dd-6920-41f0-b470-6aa26a776082</td>\n      <td>duplicate</td>\n      <td>8.505835</td>\n      <td>NaN</td>\n      <td>NaN</td>\n    </tr>\n    <tr>\n      <th>197</th>\n      <td>/Users/azadoks/Data/uv_ml/luca/PrNiO3/by_type/...</td>\n      <td>b-type</td>\n      <td>False</td>\n      <td>1</td>\n      <td></td>\n      <td>[20.4521, 0.0, 0.0, 0.0, 10.1708088779, 0.0, -...</td>\n      <td>80</td>\n      <td>luca</td>\n      <td>1</td>\n      <td>1594004350</td>\n      <td>...</td>\n      <td>[Ni]</td>\n      <td>Ni</td>\n      <td>#50D050</td>\n      <td>/Users/azadoks/Data/uv_ml/luca/PrNiO3/by_type/...</td>\n      <td>8.5407</td>\n      <td>1db6c2dd-6920-41f0-b470-6aa26a776082</td>\n      <td>duplicate</td>\n      <td>8.505835</td>\n      <td>NaN</td>\n      <td>NaN</td>\n    </tr>\n    <tr>\n      <th>...</th>\n      <td>...</td>\n      <td>...</td>\n      <td>...</td>\n      <td>...</td>\n      <td>...</td>\n      <td>...</td>\n      <td>...</td>\n      <td>...</td>\n      <td>...</td>\n      <td>...</td>\n      <td>...</td>\n      <td>...</td>\n      <td>...</td>\n      <td>...</td>\n      <td>...</td>\n      <td>...</td>\n      <td>...</td>\n      <td>...</td>\n      <td>...</td>\n      <td>...</td>\n      <td>...</td>\n    </tr>\n    <tr>\n      <th>106361</th>\n      <td>/Users/azadoks/Data/uv_ml/iurii/Spinel/LixMn2O...</td>\n      <td>Mn2O4</td>\n      <td>False</td>\n      <td>3</td>\n      <td></td>\n      <td>[15.4309, 0.0, 0.0, 0.0, 15.4304216421, 0.0, 0...</td>\n      <td>48</td>\n      <td>iurii</td>\n      <td>122</td>\n      <td>1638445240</td>\n      <td>...</td>\n      <td>[Mn, O]</td>\n      <td>Mn-O</td>\n      <td>#9C7AC7</td>\n      <td>/Users/azadoks/Data/uv_ml/iurii/Spinel/LixMn2O...</td>\n      <td>0.1693</td>\n      <td>bde5b107-1127-4d01-806b-4eaf0c0a7d79</td>\n      <td>duplicate</td>\n      <td>0.148060</td>\n      <td>O</td>\n      <td>Mn</td>\n    </tr>\n    <tr>\n      <th>106487</th>\n      <td>/Users/azadoks/Data/uv_ml/iurii/Spinel/LixMn2O...</td>\n      <td>Mn2O4</td>\n      <td>False</td>\n      <td>3</td>\n      <td></td>\n      <td>[15.4309, 0.0, 0.0, 0.0, 15.4304216421, 0.0, 0...</td>\n      <td>48</td>\n      <td>iurii</td>\n      <td>122</td>\n      <td>1638445240</td>\n      <td>...</td>\n      <td>[Mn, O]</td>\n      <td>Mn-O</td>\n      <td>#9C7AC7</td>\n      <td>/Users/azadoks/Data/uv_ml/iurii/Spinel/LixMn2O...</td>\n      <td>0.1511</td>\n      <td>bde5b107-1127-4d01-806b-4eaf0c0a7d79</td>\n      <td>duplicate</td>\n      <td>0.148362</td>\n      <td>O</td>\n      <td>Mn</td>\n    </tr>\n    <tr>\n      <th>106563</th>\n      <td>/Users/azadoks/Data/uv_ml/iurii/Spinel/LixMn2O...</td>\n      <td>Mn2O4</td>\n      <td>False</td>\n      <td>3</td>\n      <td></td>\n      <td>[15.4309, 0.0, 0.0, 0.0, 15.4304216421, 0.0, 0...</td>\n      <td>48</td>\n      <td>iurii</td>\n      <td>122</td>\n      <td>1638445240</td>\n      <td>...</td>\n      <td>[Mn, O]</td>\n      <td>Mn-O</td>\n      <td>#9C7AC7</td>\n      <td>/Users/azadoks/Data/uv_ml/iurii/Spinel/LixMn2O...</td>\n      <td>0.1655</td>\n      <td>05f5a831-aa50-4007-8cc7-ad1f03a88c26</td>\n      <td>train</td>\n      <td>0.157257</td>\n      <td>O</td>\n      <td>Mn</td>\n    </tr>\n    <tr>\n      <th>106564</th>\n      <td>/Users/azadoks/Data/uv_ml/iurii/Spinel/LixMn2O...</td>\n      <td>Mn2O4</td>\n      <td>False</td>\n      <td>3</td>\n      <td></td>\n      <td>[15.4309, 0.0, 0.0, 0.0, 15.4304216421, 0.0, 0...</td>\n      <td>48</td>\n      <td>iurii</td>\n      <td>122</td>\n      <td>1638445240</td>\n      <td>...</td>\n      <td>[Mn, O]</td>\n      <td>Mn-O</td>\n      <td>#9C7AC7</td>\n      <td>/Users/azadoks/Data/uv_ml/iurii/Spinel/LixMn2O...</td>\n      <td>0.1645</td>\n      <td>05f5a831-aa50-4007-8cc7-ad1f03a88c26</td>\n      <td>train</td>\n      <td>0.156744</td>\n      <td>O</td>\n      <td>Mn</td>\n    </tr>\n    <tr>\n      <th>106565</th>\n      <td>/Users/azadoks/Data/uv_ml/iurii/Spinel/LixMn2O...</td>\n      <td>Mn2O4</td>\n      <td>False</td>\n      <td>3</td>\n      <td></td>\n      <td>[15.4309, 0.0, 0.0, 0.0, 15.4304216421, 0.0, 0...</td>\n      <td>48</td>\n      <td>iurii</td>\n      <td>122</td>\n      <td>1638445240</td>\n      <td>...</td>\n      <td>[Mn, O]</td>\n      <td>Mn-O</td>\n      <td>#9C7AC7</td>\n      <td>/Users/azadoks/Data/uv_ml/iurii/Spinel/LixMn2O...</td>\n      <td>0.1645</td>\n      <td>05f5a831-aa50-4007-8cc7-ad1f03a88c26</td>\n      <td>train</td>\n      <td>0.156744</td>\n      <td>O</td>\n      <td>Mn</td>\n    </tr>\n  </tbody>\n</table>\n<p>1319 rows × 55 columns</p>\n</div>"
     },
     "execution_count": 34,
     "metadata": {},
     "output_type": "execute_result"
    }
   ],
   "source": [
    "df[df[keys.PARAM_IN] == 0.]\n"
   ],
   "metadata": {
    "collapsed": false,
    "ExecuteTime": {
     "end_time": "2023-07-26T12:25:41.573061354Z",
     "start_time": "2023-07-26T12:25:41.513637497Z"
    }
   }
  },
  {
   "cell_type": "code",
   "execution_count": 34,
   "outputs": [],
   "source": [],
   "metadata": {
    "collapsed": false,
    "ExecuteTime": {
     "end_time": "2023-07-26T12:25:41.573274769Z",
     "start_time": "2023-07-26T12:25:41.554020428Z"
    }
   }
  }
 ],
 "metadata": {
  "kernelspec": {
   "display_name": "Python 3",
   "language": "python",
   "name": "python3"
  },
  "language_info": {
   "codemirror_mode": {
    "name": "ipython",
    "version": 2
   },
   "file_extension": ".py",
   "mimetype": "text/x-python",
   "name": "python",
   "nbconvert_exporter": "python",
   "pygments_lexer": "ipython2",
   "version": "2.7.6"
  }
 },
 "nbformat": 4,
 "nbformat_minor": 0
}
