{
 "cells": [
  {
   "cell_type": "code",
   "execution_count": 1,
   "id": "ec207719",
   "metadata": {
    "ExecuteTime": {
     "end_time": "2023-07-20T17:21:34.932732030Z",
     "start_time": "2023-07-20T17:21:32.359318327Z"
    }
   },
   "outputs": [
    {
     "name": "stderr",
     "output_type": "stream",
     "text": [
      "/home/martin/.local/miniconda3/envs/dftuv/lib/python3.10/site-packages/torch/cuda/__init__.py:107: UserWarning: CUDA initialization: CUDA unknown error - this may be due to an incorrectly set up environment, e.g. changing env variable CUDA_VISIBLE_DEVICES after program start. Setting the available devices to be zero. (Triggered internally at ../c10/cuda/CUDAFunctions.cpp:109.)\n",
      "  return torch._C._cuda_getDeviceCount() > 0\n"
     ]
    },
    {
     "data": {
      "text/plain": "('cpu', torch.float32)"
     },
     "execution_count": 1,
     "metadata": {},
     "output_type": "execute_result"
    }
   ],
   "source": [
    "import random\n",
    "\n",
    "import numpy as np\n",
    "import matplotlib.pyplot as plt\n",
    "import pandas as pd\n",
    "import torch\n",
    "\n",
    "import hubbardml\n",
    "from hubbardml import models\n",
    "from hubbardml import datasets\n",
    "from hubbardml import keys\n",
    "\n",
    "random.seed(0xDEADBEEF)\n",
    "torch.manual_seed(0xDEADBEEF)\n",
    "\n",
    "\n",
    "dtype = torch.float32\n",
    "torch.set_default_dtype(dtype)\n",
    "device = \"cuda\" if torch.cuda.is_available() else \"cpu\"\n",
    "device, torch.get_default_dtype()"
   ]
  },
  {
   "cell_type": "markdown",
   "source": [],
   "metadata": {
    "collapsed": false
   }
  },
  {
   "cell_type": "code",
   "execution_count": 2,
   "id": "e8798433",
   "metadata": {
    "ExecuteTime": {
     "end_time": "2023-07-20T17:21:34.936731893Z",
     "start_time": "2023-07-20T17:21:34.933997077Z"
    }
   },
   "outputs": [],
   "source": [
    "TEST_PERCENTAGE = 0.2\n",
    "\n",
    "P_ELEMENT = 'p_element'\n",
    "D_ELEMENT = 'd_element'\n",
    "SAVEFIGS = False\n",
    "\n",
    "TARGET_PARAM_TYPE = 'V'\n",
    "# DATASET = 'data_uv_unique_inout_2022_10_13.json'\n",
    "\n",
    "# DATASET = 'data_uv_unique_inout_2022_10_13.json'\n",
    "DATASET = 'data_uv_unique_inout_2023_2_8.json'\n",
    "\n",
    "def plotfile(label: str):\n",
    "    return f'plots/{DATASET}_{label}.pdf'"
   ]
  },
  {
   "cell_type": "markdown",
   "id": "142036f9",
   "metadata": {},
   "source": [
    "# Inputs\n",
    "\n",
    "Load the dataset to be used"
   ]
  },
  {
   "cell_type": "code",
   "execution_count": 3,
   "id": "31f1c0b4",
   "metadata": {
    "ExecuteTime": {
     "end_time": "2023-07-20T17:21:43.339222802Z",
     "start_time": "2023-07-20T17:21:34.937006322Z"
    }
   },
   "outputs": [],
   "source": [
    "df = hubbardml.datasets.load(f'../data/{DATASET}')"
   ]
  },
  {
   "cell_type": "markdown",
   "source": [
    "## Filtering\n",
    "\n",
    "Filter the DF to keep things we want"
   ],
   "metadata": {
    "collapsed": false
   }
  },
  {
   "cell_type": "code",
   "execution_count": 4,
   "outputs": [
    {
     "name": "stdout",
     "output_type": "stream",
     "text": [
      "4714\n"
     ]
    }
   ],
   "source": [
    "df = hubbardml.VGraph.prepare_dataset(df)\n",
    "df = df[df[keys.PARAM_IN] > 0.5]\n",
    "print(len(df))"
   ],
   "metadata": {
    "collapsed": false,
    "ExecuteTime": {
     "end_time": "2023-07-20T17:21:48.515626859Z",
     "start_time": "2023-07-20T17:21:43.325431187Z"
    }
   }
  },
  {
   "cell_type": "code",
   "execution_count": 5,
   "id": "cd16411c",
   "metadata": {
    "ExecuteTime": {
     "end_time": "2023-07-20T17:21:48.632784682Z",
     "start_time": "2023-07-20T17:21:48.525088650Z"
    }
   },
   "outputs": [
    {
     "data": {
      "text/plain": "                                                     dir        material  \\\n28844  /Users/azadoks/Data/uv_ml/iurii/Layered/2_LixN...     1_LiNiO2_v3   \n28845  /Users/azadoks/Data/uv_ml/iurii/Layered/2_LixN...     1_LiNiO2_v3   \n44258  /Users/azadoks/Data/uv_ml/iurii/Olivines/LiFeP...  C3_Li0.50FePO4   \n44465  /Users/azadoks/Data/uv_ml/iurii/Olivines/LiFeP...  C3_Li0.50FePO4   \n53415  /Users/azadoks/Data/uv_ml/iurii/Olivines/LiMnP...  B2_Li0.25MnPO4   \n53632  /Users/azadoks/Data/uv_ml/iurii/Olivines/LiMnP...  B2_Li0.25MnPO4   \n53848  /Users/azadoks/Data/uv_ml/iurii/Olivines/LiMnP...  B2_Li0.25MnPO4   \n54002  /Users/azadoks/Data/uv_ml/iurii/Olivines/LiMnP...  B2_Li0.25MnPO4   \n54421  /Users/azadoks/Data/uv_ml/iurii/Olivines/LiMnP...  B2_Li0.25MnPO4   \n54422  /Users/azadoks/Data/uv_ml/iurii/Olivines/LiMnP...  B2_Li0.25MnPO4   \n54856  /Users/azadoks/Data/uv_ml/iurii/Olivines/LiMnP...  B2_Li0.25MnPO4   \n54966  /Users/azadoks/Data/uv_ml/iurii/Olivines/LiMnP...  B2_Li0.25MnPO4   \n54989  /Users/azadoks/Data/uv_ml/iurii/Olivines/LiMnP...  B2_Li0.25MnPO4   \n54990  /Users/azadoks/Data/uv_ml/iurii/Olivines/LiMnP...  B2_Li0.25MnPO4   \n54991  /Users/azadoks/Data/uv_ml/iurii/Olivines/LiMnP...  B2_Li0.25MnPO4   \n54992  /Users/azadoks/Data/uv_ml/iurii/Olivines/LiMnP...  B2_Li0.25MnPO4   \n55207  /Users/azadoks/Data/uv_ml/iurii/Olivines/LiMnP...  B2_Li0.25MnPO4   \n55208  /Users/azadoks/Data/uv_ml/iurii/Olivines/LiMnP...  B2_Li0.25MnPO4   \n55209  /Users/azadoks/Data/uv_ml/iurii/Olivines/LiMnP...  B2_Li0.25MnPO4   \n55210  /Users/azadoks/Data/uv_ml/iurii/Olivines/LiMnP...  B2_Li0.25MnPO4   \n55424  /Users/azadoks/Data/uv_ml/iurii/Olivines/LiMnP...  B2_Li0.25MnPO4   \n55490  /Users/azadoks/Data/uv_ml/iurii/Olivines/LiMnP...  B2_Li0.25MnPO4   \n55512  /Users/azadoks/Data/uv_ml/iurii/Olivines/LiMnP...  B2_Li0.25MnPO4   \n55578  /Users/azadoks/Data/uv_ml/iurii/Olivines/LiMnP...  B2_Li0.25MnPO4   \n55600  /Users/azadoks/Data/uv_ml/iurii/Olivines/LiMnP...  B2_Li0.25MnPO4   \n55622  /Users/azadoks/Data/uv_ml/iurii/Olivines/LiMnP...  B2_Li0.25MnPO4   \n55644  /Users/azadoks/Data/uv_ml/iurii/Olivines/LiMnP...  B2_Li0.25MnPO4   \n55754  /Users/azadoks/Data/uv_ml/iurii/Olivines/LiMnP...  B2_Li0.25MnPO4   \n62407  /Users/azadoks/Data/uv_ml/iurii/Olivines/LiMnP...  B4_Li0.75MnPO4   \n62613  /Users/azadoks/Data/uv_ml/iurii/Olivines/LiMnP...  B4_Li0.75MnPO4   \n62859  /Users/azadoks/Data/uv_ml/iurii/Olivines/LiMnP...  B4_Li0.75MnPO4   \n63373  /Users/azadoks/Data/uv_ml/iurii/Olivines/LiMnP...  B4_Li0.75MnPO4   \n\n       is_vdw  uv_iter formula  \\\n28844   False        2           \n28845   False        2           \n44258   False        4           \n44465   False        4           \n53415   False        8           \n53632   False        8           \n53848   False        8           \n54002   False        8           \n54421   False        9           \n54422   False        9           \n54856   False        9           \n54966   False        9           \n54989   False       10           \n54990   False       10           \n54991   False       10           \n54992   False       10           \n55207   False       10           \n55208   False       10           \n55209   False       10           \n55210   False       10           \n55424   False       10           \n55490   False       10           \n55512   False       10           \n55578   False       10           \n55600   False       10           \n55622   False       10           \n55644   False       10           \n55754   False       10           \n62407   False        3           \n62613   False        3           \n62859   False        4           \n63373   False        4           \n\n                                                    cell  n_atoms_uc person  \\\n28844  [-2.744273874, -4.7696729615999995, -0.0002036...           4  iurii   \n28845  [-2.744273874, -4.7696729615999995, -0.0002036...           4  iurii   \n44258  [19.180999039, 0.0114910955, -0.05404131499999...          26  iurii   \n44465  [19.180999039, 0.0114910955, -0.05404131499999...          26  iurii   \n53415  [18.754950578, 0.14624321199999998, 0.21042946...          25  iurii   \n53632  [18.754950578, 0.14624321199999998, 0.21042946...          25  iurii   \n53848  [18.754950578, 0.14624321199999998, 0.21042946...          25  iurii   \n54002  [18.754950578, 0.14624321199999998, 0.21042946...          25  iurii   \n54421  [18.7564918285, 0.14657487349999998, 0.2109562...          25  iurii   \n54422  [18.7564918285, 0.14657487349999998, 0.2109562...          25  iurii   \n54856  [18.7564918285, 0.14657487349999998, 0.2109562...          25  iurii   \n54966  [18.7564918285, 0.14657487349999998, 0.2109562...          25  iurii   \n54989  [18.757252699, 0.1465358545, 0.210975733, 0.08...          25  iurii   \n54990  [18.757252699, 0.1465358545, 0.210975733, 0.08...          25  iurii   \n54991  [18.757252699, 0.1465358545, 0.210975733, 0.08...          25  iurii   \n54992  [18.757252699, 0.1465358545, 0.210975733, 0.08...          25  iurii   \n55207  [18.757252699, 0.1465358545, 0.210975733, 0.08...          25  iurii   \n55208  [18.757252699, 0.1465358545, 0.210975733, 0.08...          25  iurii   \n55209  [18.757252699, 0.1465358545, 0.210975733, 0.08...          25  iurii   \n55210  [18.757252699, 0.1465358545, 0.210975733, 0.08...          25  iurii   \n55424  [18.757252699, 0.1465358545, 0.210975733, 0.08...          25  iurii   \n55490  [18.757252699, 0.1465358545, 0.210975733, 0.08...          25  iurii   \n55512  [18.757252699, 0.1465358545, 0.210975733, 0.08...          25  iurii   \n55578  [18.757252699, 0.1465358545, 0.210975733, 0.08...          25  iurii   \n55600  [18.757252699, 0.1465358545, 0.210975733, 0.08...          25  iurii   \n55622  [18.757252699, 0.1465358545, 0.210975733, 0.08...          25  iurii   \n55644  [18.757252699, 0.1465358545, 0.210975733, 0.08...          25  iurii   \n55754  [18.757252699, 0.1465358545, 0.210975733, 0.08...          25  iurii   \n62407  [19.4186052395, -0.0557386415, 0.130869726, -0...          27  iurii   \n62613  [19.4186052395, -0.0557386415, 0.130869726, -0...          27  iurii   \n62859  [19.4188783725, -0.055465508499999996, 0.12999...          27  iurii   \n63373  [19.4188783725, -0.055465508499999996, 0.12999...          27  iurii   \n\n       structure_index  pw_time_unix  ...  \\\n28844               34  1.634741e+09  ...   \n28845               34  1.634741e+09  ...   \n44258               83  1.626259e+09  ...   \n44465               83  1.626259e+09  ...   \n53415               96  1.619954e+09  ...   \n53632               96  1.619954e+09  ...   \n53848               96  1.619954e+09  ...   \n54002               96  1.619954e+09  ...   \n54421               97  1.620056e+09  ...   \n54422               97  1.620056e+09  ...   \n54856               97  1.620056e+09  ...   \n54966               97  1.620056e+09  ...   \n54989               98  1.620130e+09  ...   \n54990               98  1.620130e+09  ...   \n54991               98  1.620130e+09  ...   \n54992               98  1.620130e+09  ...   \n55207               98  1.620130e+09  ...   \n55208               98  1.620130e+09  ...   \n55209               98  1.620130e+09  ...   \n55210               98  1.620130e+09  ...   \n55424               98  1.620130e+09  ...   \n55490               98  1.620130e+09  ...   \n55512               98  1.620130e+09  ...   \n55578               98  1.620130e+09  ...   \n55600               98  1.620130e+09  ...   \n55622               98  1.620130e+09  ...   \n55644               98  1.620130e+09  ...   \n55754               98  1.620130e+09  ...   \n62407              107  1.619955e+09  ...   \n62613              107  1.619955e+09  ...   \n62859              108  1.620060e+09  ...   \n63373              108  1.620060e+09  ...   \n\n                                       atom_1_occs_inv_2  \\\n28844  [[0.629338, 0.000105, 3.2999999999999996e-05],...   \n28845  [[0.629338, 0.000105, 3.2999999999999996e-05],...   \n44258  [[0.092721, -1e-06, -0.0, -0.0, -0.0], [-1e-06...   \n44465  [[0.7211879999999999, 0.000203, 6.3e-05], [0.0...   \n53415  [[0.052258, -0.000132, 0.0, -0.001325, 0.0], [...   \n53632  [[0.057536000000000004, -0.000429, 1.1e-05, -0...   \n53848  [[0.580644, 0.0015680000000000002, 0.000182], ...   \n54002  [[0.714738, -0.00012099999999999999, 0.000144]...   \n54421  [[0.057536000000000004, -0.000429, 1.1e-05, -0...   \n54422  [[0.057536000000000004, -0.000429, 1.1e-05, -0...   \n54856  [[0.717393, 0.000621, -0.00017], [0.000621, 0....   \n54966  [[0.6814079999999999, 0.00285, 0.00017], [0.00...   \n54989  [[0.052258, -0.000132, 0.0, -0.001325, 0.0], [...   \n54990  [[0.052258, -0.000132, 0.0, -0.001325, 0.0], [...   \n54991  [[0.052258, -0.000132, 0.0, -0.001325, 0.0], [...   \n54992  [[0.052258, -0.000132, 0.0, -0.001325, 0.0], [...   \n55207  [[0.057536000000000004, -0.000429, 1.1e-05, -0...   \n55208  [[0.057536000000000004, -0.000429, 1.1e-05, -0...   \n55209  [[0.057536000000000004, -0.000429, 1.1e-05, -0...   \n55210  [[0.057536000000000004, -0.000429, 1.1e-05, -0...   \n55424  [[0.580644, 0.0015680000000000002, 0.000182], ...   \n55490  [[0.576834, 0.00266, -8e-06], [0.00266, 0.6656...   \n55512  [[0.7000000000000001, 0.00075, 1.1e-05], [0.00...   \n55578  [[0.714738, -0.00012099999999999999, 0.000144]...   \n55600  [[0.708843, 0.000952, -0.000306], [0.000952, 0...   \n55622  [[0.6947159999999999, 0.0019779999999999997, -...   \n55644  [[0.717393, 0.000621, -0.00017], [0.000621, 0....   \n55754  [[0.6814079999999999, 0.00285, 0.00017], [0.00...   \n62407  [[0.020916, -2e-06, 0.0, 0.0, -2e-06], [-2e-06...   \n62613  [[0.711472, 0.0008680000000000001, 1e-06], [0....   \n62859  [[0.020937, -4e-06, -0.0, -4e-06, -0.0], [-4e-...   \n63373  [[0.703912, 0.0009299999999999999, 0.0], [0.00...   \n\n                                       atom_2_occs_inv_1  \\\n28844  [[1.693, -0.34700000000000003, 0.2, -0.067, 0....   \n28845  [[1.693, -0.34700000000000003, 0.2, -0.067, 0....   \n44258  [[1.6989999999999998, -0.036000000000000004, 0...   \n44465  [[1.09, 0.0, 0.02, 0.017, 0.002], [0.0, 1.172,...   \n53415  [[1.524, 0.081, 0.027], [0.081, 1.621, 0.011],...   \n53632  [[1.6909999999999998, 0.0, -0.025], [0.0, 1.47...   \n53848  [[1.039, 0.029, -0.002, -0.027999999999999997,...   \n54002  [[1.05, -0.020000000000000004, 0.012, -0.022, ...   \n54421  [[1.694, -0.05, 0.007000000000000001], [-0.05,...   \n54422  [[1.6509999999999998, 0.10700000000000001, 0.0...   \n54856  [[1.05, -0.020000000000000004, 0.012, -0.022, ...   \n54966  [[1.05, -0.020000000000000004, 0.012, -0.022, ...   \n54989  [[1.675, 0.065, 0.012], [0.065, 1.472, 0.007],...   \n54990  [[1.684, 0.062, -0.0009999999999999974], [0.06...   \n54991  [[1.524, 0.081, 0.027], [0.081, 1.621, 0.011],...   \n54992  [[1.6669999999999998, 0.089, -0.00099999999999...   \n55207  [[1.5190000000000001, -0.10800000000000001, 0....   \n55208  [[1.6909999999999998, 0.0, -0.025], [0.0, 1.47...   \n55209  [[1.694, -0.05, 0.007000000000000001], [-0.05,...   \n55210  [[1.6509999999999998, 0.10700000000000001, 0.0...   \n55424  [[1.039, 0.029, -0.002, -0.027999999999999997,...   \n55490  [[1.05, -0.020000000000000004, 0.012, -0.022, ...   \n55512  [[1.039, 0.029, -0.002, -0.027999999999999997,...   \n55578  [[1.05, -0.020000000000000004, 0.012, -0.022, ...   \n55600  [[1.039, 0.029, -0.002, -0.027999999999999997,...   \n55622  [[1.039, 0.029, -0.002, -0.027999999999999997,...   \n55644  [[1.05, -0.020000000000000004, 0.012, -0.022, ...   \n55754  [[1.05, -0.020000000000000004, 0.012, -0.022, ...   \n62407  [[1.6869999999999998, -0.059, -0.002], [-0.059...   \n62613  [[1.017, 0.001, 0.005, 0.003, 0.001], [0.001, ...   \n62859  [[1.678, -0.061, -0.0], [-0.061, 1.536, -0.002...   \n63373  [[1.018, 0.0, 0.003, 0.003, 0.001], [0.0, 1.05...   \n\n                                       atom_2_occs_inv_2 param_delta  species  \\\n28844  [[0.6995319999999999, 0.0068460000000000005, 0...         0.0  (O, Ni)   \n28845  [[0.6995319999999999, 0.0068460000000000005, 0...         0.0  (O, Ni)   \n44258  [[0.7211879999999999, 0.000203, 6.3e-05], [0.0...         0.0  (O, Fe)   \n44465  [[0.092721, -1e-06, -0.0, -0.0, -0.0], [-1e-06...         0.0  (O, Fe)   \n53415  [[0.580644, 0.0015680000000000002, 0.000182], ...         0.0  (O, Mn)   \n53632  [[0.714738, -0.00012099999999999999, 0.000144]...         0.0  (O, Mn)   \n53848  [[0.052258, -0.000132, 0.0, -0.001325, 0.0], [...         0.0  (O, Mn)   \n54002  [[0.057536000000000004, -0.000429, 1.1e-05, -0...         0.0  (O, Mn)   \n54421  [[0.717393, 0.000621, -0.00017], [0.000621, 0....         0.0  (O, Mn)   \n54422  [[0.6814079999999999, 0.00285, 0.00017], [0.00...         0.0  (O, Mn)   \n54856  [[0.057536000000000004, -0.000429, 1.1e-05, -0...         0.0  (O, Mn)   \n54966  [[0.057536000000000004, -0.000429, 1.1e-05, -0...         0.0  (O, Mn)   \n54989  [[0.7000000000000001, 0.00075, 1.1e-05], [0.00...         0.0  (O, Mn)   \n54990  [[0.708843, 0.000952, -0.000306], [0.000952, 0...         0.0  (O, Mn)   \n54991  [[0.580644, 0.0015680000000000002, 0.000182], ...         0.0  (O, Mn)   \n54992  [[0.6947159999999999, 0.0019779999999999997, -...         0.0  (O, Mn)   \n55207  [[0.576834, 0.00266, -8e-06], [0.00266, 0.6656...         0.0  (O, Mn)   \n55208  [[0.714738, -0.00012099999999999999, 0.000144]...         0.0  (O, Mn)   \n55209  [[0.717393, 0.000621, -0.00017], [0.000621, 0....         0.0  (O, Mn)   \n55210  [[0.6814079999999999, 0.00285, 0.00017], [0.00...         0.0  (O, Mn)   \n55424  [[0.052258, -0.000132, 0.0, -0.001325, 0.0], [...         0.0  (O, Mn)   \n55490  [[0.057536000000000004, -0.000429, 1.1e-05, -0...         0.0  (O, Mn)   \n55512  [[0.052258, -0.000132, 0.0, -0.001325, 0.0], [...         0.0  (O, Mn)   \n55578  [[0.057536000000000004, -0.000429, 1.1e-05, -0...         0.0  (O, Mn)   \n55600  [[0.052258, -0.000132, 0.0, -0.001325, 0.0], [...         0.0  (O, Mn)   \n55622  [[0.052258, -0.000132, 0.0, -0.001325, 0.0], [...         0.0  (O, Mn)   \n55644  [[0.057536000000000004, -0.000429, 1.1e-05, -0...         0.0  (O, Mn)   \n55754  [[0.057536000000000004, -0.000429, 1.1e-05, -0...         0.0  (O, Mn)   \n62407  [[0.711472, 0.0008680000000000001, 1e-06], [0....         0.0  (O, Mn)   \n62613  [[0.020916, -2e-06, 0.0, 0.0, -2e-06], [-2e-06...         0.0  (O, Mn)   \n62859  [[0.703912, 0.0009299999999999999, 0.0], [0.00...         0.0  (O, Mn)   \n63373  [[0.020937, -4e-06, -0.0, -4e-06, -0.0], [-4e-...         0.0  (O, Mn)   \n\n       p_element  d_element  label   colour  \\\n28844          O         Ni   Ni-O  #50D050   \n28845          O         Ni   Ni-O  #50D050   \n44258          O         Fe   Fe-O  #E06633   \n44465          O         Fe   Fe-O  #E06633   \n53415          O         Mn   Mn-O  #9C7AC7   \n53632          O         Mn   Mn-O  #9C7AC7   \n53848          O         Mn   Mn-O  #9C7AC7   \n54002          O         Mn   Mn-O  #9C7AC7   \n54421          O         Mn   Mn-O  #9C7AC7   \n54422          O         Mn   Mn-O  #9C7AC7   \n54856          O         Mn   Mn-O  #9C7AC7   \n54966          O         Mn   Mn-O  #9C7AC7   \n54989          O         Mn   Mn-O  #9C7AC7   \n54990          O         Mn   Mn-O  #9C7AC7   \n54991          O         Mn   Mn-O  #9C7AC7   \n54992          O         Mn   Mn-O  #9C7AC7   \n55207          O         Mn   Mn-O  #9C7AC7   \n55208          O         Mn   Mn-O  #9C7AC7   \n55209          O         Mn   Mn-O  #9C7AC7   \n55210          O         Mn   Mn-O  #9C7AC7   \n55424          O         Mn   Mn-O  #9C7AC7   \n55490          O         Mn   Mn-O  #9C7AC7   \n55512          O         Mn   Mn-O  #9C7AC7   \n55578          O         Mn   Mn-O  #9C7AC7   \n55600          O         Mn   Mn-O  #9C7AC7   \n55622          O         Mn   Mn-O  #9C7AC7   \n55644          O         Mn   Mn-O  #9C7AC7   \n55754          O         Mn   Mn-O  #9C7AC7   \n62407          O         Mn   Mn-O  #9C7AC7   \n62613          O         Mn   Mn-O  #9C7AC7   \n62859          O         Mn   Mn-O  #9C7AC7   \n63373          O         Mn   Mn-O  #9C7AC7   \n\n                                                sc_paths  \n28844  /Users/azadoks/Data/uv_ml/iurii/Layered/2_LixN...  \n28845  /Users/azadoks/Data/uv_ml/iurii/Layered/2_LixN...  \n44258  /Users/azadoks/Data/uv_ml/iurii/Olivines/LiFeP...  \n44465  /Users/azadoks/Data/uv_ml/iurii/Olivines/LiFeP...  \n53415  /Users/azadoks/Data/uv_ml/iurii/Olivines/LiMnP...  \n53632  /Users/azadoks/Data/uv_ml/iurii/Olivines/LiMnP...  \n53848  /Users/azadoks/Data/uv_ml/iurii/Olivines/LiMnP...  \n54002  /Users/azadoks/Data/uv_ml/iurii/Olivines/LiMnP...  \n54421  /Users/azadoks/Data/uv_ml/iurii/Olivines/LiMnP...  \n54422  /Users/azadoks/Data/uv_ml/iurii/Olivines/LiMnP...  \n54856  /Users/azadoks/Data/uv_ml/iurii/Olivines/LiMnP...  \n54966  /Users/azadoks/Data/uv_ml/iurii/Olivines/LiMnP...  \n54989  /Users/azadoks/Data/uv_ml/iurii/Olivines/LiMnP...  \n54990  /Users/azadoks/Data/uv_ml/iurii/Olivines/LiMnP...  \n54991  /Users/azadoks/Data/uv_ml/iurii/Olivines/LiMnP...  \n54992  /Users/azadoks/Data/uv_ml/iurii/Olivines/LiMnP...  \n55207  /Users/azadoks/Data/uv_ml/iurii/Olivines/LiMnP...  \n55208  /Users/azadoks/Data/uv_ml/iurii/Olivines/LiMnP...  \n55209  /Users/azadoks/Data/uv_ml/iurii/Olivines/LiMnP...  \n55210  /Users/azadoks/Data/uv_ml/iurii/Olivines/LiMnP...  \n55424  /Users/azadoks/Data/uv_ml/iurii/Olivines/LiMnP...  \n55490  /Users/azadoks/Data/uv_ml/iurii/Olivines/LiMnP...  \n55512  /Users/azadoks/Data/uv_ml/iurii/Olivines/LiMnP...  \n55578  /Users/azadoks/Data/uv_ml/iurii/Olivines/LiMnP...  \n55600  /Users/azadoks/Data/uv_ml/iurii/Olivines/LiMnP...  \n55622  /Users/azadoks/Data/uv_ml/iurii/Olivines/LiMnP...  \n55644  /Users/azadoks/Data/uv_ml/iurii/Olivines/LiMnP...  \n55754  /Users/azadoks/Data/uv_ml/iurii/Olivines/LiMnP...  \n62407  /Users/azadoks/Data/uv_ml/iurii/Olivines/LiMnP...  \n62613  /Users/azadoks/Data/uv_ml/iurii/Olivines/LiMnP...  \n62859  /Users/azadoks/Data/uv_ml/iurii/Olivines/LiMnP...  \n63373  /Users/azadoks/Data/uv_ml/iurii/Olivines/LiMnP...  \n\n[32 rows x 55 columns]",
      "text/html": "<div>\n<style scoped>\n    .dataframe tbody tr th:only-of-type {\n        vertical-align: middle;\n    }\n\n    .dataframe tbody tr th {\n        vertical-align: top;\n    }\n\n    .dataframe thead th {\n        text-align: right;\n    }\n</style>\n<table border=\"1\" class=\"dataframe\">\n  <thead>\n    <tr style=\"text-align: right;\">\n      <th></th>\n      <th>dir</th>\n      <th>material</th>\n      <th>is_vdw</th>\n      <th>uv_iter</th>\n      <th>formula</th>\n      <th>cell</th>\n      <th>n_atoms_uc</th>\n      <th>person</th>\n      <th>structure_index</th>\n      <th>pw_time_unix</th>\n      <th>...</th>\n      <th>atom_1_occs_inv_2</th>\n      <th>atom_2_occs_inv_1</th>\n      <th>atom_2_occs_inv_2</th>\n      <th>param_delta</th>\n      <th>species</th>\n      <th>p_element</th>\n      <th>d_element</th>\n      <th>label</th>\n      <th>colour</th>\n      <th>sc_paths</th>\n    </tr>\n  </thead>\n  <tbody>\n    <tr>\n      <th>28844</th>\n      <td>/Users/azadoks/Data/uv_ml/iurii/Layered/2_LixN...</td>\n      <td>1_LiNiO2_v3</td>\n      <td>False</td>\n      <td>2</td>\n      <td></td>\n      <td>[-2.744273874, -4.7696729615999995, -0.0002036...</td>\n      <td>4</td>\n      <td>iurii</td>\n      <td>34</td>\n      <td>1.634741e+09</td>\n      <td>...</td>\n      <td>[[0.629338, 0.000105, 3.2999999999999996e-05],...</td>\n      <td>[[1.693, -0.34700000000000003, 0.2, -0.067, 0....</td>\n      <td>[[0.6995319999999999, 0.0068460000000000005, 0...</td>\n      <td>0.0</td>\n      <td>(O, Ni)</td>\n      <td>O</td>\n      <td>Ni</td>\n      <td>Ni-O</td>\n      <td>#50D050</td>\n      <td>/Users/azadoks/Data/uv_ml/iurii/Layered/2_LixN...</td>\n    </tr>\n    <tr>\n      <th>28845</th>\n      <td>/Users/azadoks/Data/uv_ml/iurii/Layered/2_LixN...</td>\n      <td>1_LiNiO2_v3</td>\n      <td>False</td>\n      <td>2</td>\n      <td></td>\n      <td>[-2.744273874, -4.7696729615999995, -0.0002036...</td>\n      <td>4</td>\n      <td>iurii</td>\n      <td>34</td>\n      <td>1.634741e+09</td>\n      <td>...</td>\n      <td>[[0.629338, 0.000105, 3.2999999999999996e-05],...</td>\n      <td>[[1.693, -0.34700000000000003, 0.2, -0.067, 0....</td>\n      <td>[[0.6995319999999999, 0.0068460000000000005, 0...</td>\n      <td>0.0</td>\n      <td>(O, Ni)</td>\n      <td>O</td>\n      <td>Ni</td>\n      <td>Ni-O</td>\n      <td>#50D050</td>\n      <td>/Users/azadoks/Data/uv_ml/iurii/Layered/2_LixN...</td>\n    </tr>\n    <tr>\n      <th>44258</th>\n      <td>/Users/azadoks/Data/uv_ml/iurii/Olivines/LiFeP...</td>\n      <td>C3_Li0.50FePO4</td>\n      <td>False</td>\n      <td>4</td>\n      <td></td>\n      <td>[19.180999039, 0.0114910955, -0.05404131499999...</td>\n      <td>26</td>\n      <td>iurii</td>\n      <td>83</td>\n      <td>1.626259e+09</td>\n      <td>...</td>\n      <td>[[0.092721, -1e-06, -0.0, -0.0, -0.0], [-1e-06...</td>\n      <td>[[1.6989999999999998, -0.036000000000000004, 0...</td>\n      <td>[[0.7211879999999999, 0.000203, 6.3e-05], [0.0...</td>\n      <td>0.0</td>\n      <td>(O, Fe)</td>\n      <td>O</td>\n      <td>Fe</td>\n      <td>Fe-O</td>\n      <td>#E06633</td>\n      <td>/Users/azadoks/Data/uv_ml/iurii/Olivines/LiFeP...</td>\n    </tr>\n    <tr>\n      <th>44465</th>\n      <td>/Users/azadoks/Data/uv_ml/iurii/Olivines/LiFeP...</td>\n      <td>C3_Li0.50FePO4</td>\n      <td>False</td>\n      <td>4</td>\n      <td></td>\n      <td>[19.180999039, 0.0114910955, -0.05404131499999...</td>\n      <td>26</td>\n      <td>iurii</td>\n      <td>83</td>\n      <td>1.626259e+09</td>\n      <td>...</td>\n      <td>[[0.7211879999999999, 0.000203, 6.3e-05], [0.0...</td>\n      <td>[[1.09, 0.0, 0.02, 0.017, 0.002], [0.0, 1.172,...</td>\n      <td>[[0.092721, -1e-06, -0.0, -0.0, -0.0], [-1e-06...</td>\n      <td>0.0</td>\n      <td>(O, Fe)</td>\n      <td>O</td>\n      <td>Fe</td>\n      <td>Fe-O</td>\n      <td>#E06633</td>\n      <td>/Users/azadoks/Data/uv_ml/iurii/Olivines/LiFeP...</td>\n    </tr>\n    <tr>\n      <th>53415</th>\n      <td>/Users/azadoks/Data/uv_ml/iurii/Olivines/LiMnP...</td>\n      <td>B2_Li0.25MnPO4</td>\n      <td>False</td>\n      <td>8</td>\n      <td></td>\n      <td>[18.754950578, 0.14624321199999998, 0.21042946...</td>\n      <td>25</td>\n      <td>iurii</td>\n      <td>96</td>\n      <td>1.619954e+09</td>\n      <td>...</td>\n      <td>[[0.052258, -0.000132, 0.0, -0.001325, 0.0], [...</td>\n      <td>[[1.524, 0.081, 0.027], [0.081, 1.621, 0.011],...</td>\n      <td>[[0.580644, 0.0015680000000000002, 0.000182], ...</td>\n      <td>0.0</td>\n      <td>(O, Mn)</td>\n      <td>O</td>\n      <td>Mn</td>\n      <td>Mn-O</td>\n      <td>#9C7AC7</td>\n      <td>/Users/azadoks/Data/uv_ml/iurii/Olivines/LiMnP...</td>\n    </tr>\n    <tr>\n      <th>53632</th>\n      <td>/Users/azadoks/Data/uv_ml/iurii/Olivines/LiMnP...</td>\n      <td>B2_Li0.25MnPO4</td>\n      <td>False</td>\n      <td>8</td>\n      <td></td>\n      <td>[18.754950578, 0.14624321199999998, 0.21042946...</td>\n      <td>25</td>\n      <td>iurii</td>\n      <td>96</td>\n      <td>1.619954e+09</td>\n      <td>...</td>\n      <td>[[0.057536000000000004, -0.000429, 1.1e-05, -0...</td>\n      <td>[[1.6909999999999998, 0.0, -0.025], [0.0, 1.47...</td>\n      <td>[[0.714738, -0.00012099999999999999, 0.000144]...</td>\n      <td>0.0</td>\n      <td>(O, Mn)</td>\n      <td>O</td>\n      <td>Mn</td>\n      <td>Mn-O</td>\n      <td>#9C7AC7</td>\n      <td>/Users/azadoks/Data/uv_ml/iurii/Olivines/LiMnP...</td>\n    </tr>\n    <tr>\n      <th>53848</th>\n      <td>/Users/azadoks/Data/uv_ml/iurii/Olivines/LiMnP...</td>\n      <td>B2_Li0.25MnPO4</td>\n      <td>False</td>\n      <td>8</td>\n      <td></td>\n      <td>[18.754950578, 0.14624321199999998, 0.21042946...</td>\n      <td>25</td>\n      <td>iurii</td>\n      <td>96</td>\n      <td>1.619954e+09</td>\n      <td>...</td>\n      <td>[[0.580644, 0.0015680000000000002, 0.000182], ...</td>\n      <td>[[1.039, 0.029, -0.002, -0.027999999999999997,...</td>\n      <td>[[0.052258, -0.000132, 0.0, -0.001325, 0.0], [...</td>\n      <td>0.0</td>\n      <td>(O, Mn)</td>\n      <td>O</td>\n      <td>Mn</td>\n      <td>Mn-O</td>\n      <td>#9C7AC7</td>\n      <td>/Users/azadoks/Data/uv_ml/iurii/Olivines/LiMnP...</td>\n    </tr>\n    <tr>\n      <th>54002</th>\n      <td>/Users/azadoks/Data/uv_ml/iurii/Olivines/LiMnP...</td>\n      <td>B2_Li0.25MnPO4</td>\n      <td>False</td>\n      <td>8</td>\n      <td></td>\n      <td>[18.754950578, 0.14624321199999998, 0.21042946...</td>\n      <td>25</td>\n      <td>iurii</td>\n      <td>96</td>\n      <td>1.619954e+09</td>\n      <td>...</td>\n      <td>[[0.714738, -0.00012099999999999999, 0.000144]...</td>\n      <td>[[1.05, -0.020000000000000004, 0.012, -0.022, ...</td>\n      <td>[[0.057536000000000004, -0.000429, 1.1e-05, -0...</td>\n      <td>0.0</td>\n      <td>(O, Mn)</td>\n      <td>O</td>\n      <td>Mn</td>\n      <td>Mn-O</td>\n      <td>#9C7AC7</td>\n      <td>/Users/azadoks/Data/uv_ml/iurii/Olivines/LiMnP...</td>\n    </tr>\n    <tr>\n      <th>54421</th>\n      <td>/Users/azadoks/Data/uv_ml/iurii/Olivines/LiMnP...</td>\n      <td>B2_Li0.25MnPO4</td>\n      <td>False</td>\n      <td>9</td>\n      <td></td>\n      <td>[18.7564918285, 0.14657487349999998, 0.2109562...</td>\n      <td>25</td>\n      <td>iurii</td>\n      <td>97</td>\n      <td>1.620056e+09</td>\n      <td>...</td>\n      <td>[[0.057536000000000004, -0.000429, 1.1e-05, -0...</td>\n      <td>[[1.694, -0.05, 0.007000000000000001], [-0.05,...</td>\n      <td>[[0.717393, 0.000621, -0.00017], [0.000621, 0....</td>\n      <td>0.0</td>\n      <td>(O, Mn)</td>\n      <td>O</td>\n      <td>Mn</td>\n      <td>Mn-O</td>\n      <td>#9C7AC7</td>\n      <td>/Users/azadoks/Data/uv_ml/iurii/Olivines/LiMnP...</td>\n    </tr>\n    <tr>\n      <th>54422</th>\n      <td>/Users/azadoks/Data/uv_ml/iurii/Olivines/LiMnP...</td>\n      <td>B2_Li0.25MnPO4</td>\n      <td>False</td>\n      <td>9</td>\n      <td></td>\n      <td>[18.7564918285, 0.14657487349999998, 0.2109562...</td>\n      <td>25</td>\n      <td>iurii</td>\n      <td>97</td>\n      <td>1.620056e+09</td>\n      <td>...</td>\n      <td>[[0.057536000000000004, -0.000429, 1.1e-05, -0...</td>\n      <td>[[1.6509999999999998, 0.10700000000000001, 0.0...</td>\n      <td>[[0.6814079999999999, 0.00285, 0.00017], [0.00...</td>\n      <td>0.0</td>\n      <td>(O, Mn)</td>\n      <td>O</td>\n      <td>Mn</td>\n      <td>Mn-O</td>\n      <td>#9C7AC7</td>\n      <td>/Users/azadoks/Data/uv_ml/iurii/Olivines/LiMnP...</td>\n    </tr>\n    <tr>\n      <th>54856</th>\n      <td>/Users/azadoks/Data/uv_ml/iurii/Olivines/LiMnP...</td>\n      <td>B2_Li0.25MnPO4</td>\n      <td>False</td>\n      <td>9</td>\n      <td></td>\n      <td>[18.7564918285, 0.14657487349999998, 0.2109562...</td>\n      <td>25</td>\n      <td>iurii</td>\n      <td>97</td>\n      <td>1.620056e+09</td>\n      <td>...</td>\n      <td>[[0.717393, 0.000621, -0.00017], [0.000621, 0....</td>\n      <td>[[1.05, -0.020000000000000004, 0.012, -0.022, ...</td>\n      <td>[[0.057536000000000004, -0.000429, 1.1e-05, -0...</td>\n      <td>0.0</td>\n      <td>(O, Mn)</td>\n      <td>O</td>\n      <td>Mn</td>\n      <td>Mn-O</td>\n      <td>#9C7AC7</td>\n      <td>/Users/azadoks/Data/uv_ml/iurii/Olivines/LiMnP...</td>\n    </tr>\n    <tr>\n      <th>54966</th>\n      <td>/Users/azadoks/Data/uv_ml/iurii/Olivines/LiMnP...</td>\n      <td>B2_Li0.25MnPO4</td>\n      <td>False</td>\n      <td>9</td>\n      <td></td>\n      <td>[18.7564918285, 0.14657487349999998, 0.2109562...</td>\n      <td>25</td>\n      <td>iurii</td>\n      <td>97</td>\n      <td>1.620056e+09</td>\n      <td>...</td>\n      <td>[[0.6814079999999999, 0.00285, 0.00017], [0.00...</td>\n      <td>[[1.05, -0.020000000000000004, 0.012, -0.022, ...</td>\n      <td>[[0.057536000000000004, -0.000429, 1.1e-05, -0...</td>\n      <td>0.0</td>\n      <td>(O, Mn)</td>\n      <td>O</td>\n      <td>Mn</td>\n      <td>Mn-O</td>\n      <td>#9C7AC7</td>\n      <td>/Users/azadoks/Data/uv_ml/iurii/Olivines/LiMnP...</td>\n    </tr>\n    <tr>\n      <th>54989</th>\n      <td>/Users/azadoks/Data/uv_ml/iurii/Olivines/LiMnP...</td>\n      <td>B2_Li0.25MnPO4</td>\n      <td>False</td>\n      <td>10</td>\n      <td></td>\n      <td>[18.757252699, 0.1465358545, 0.210975733, 0.08...</td>\n      <td>25</td>\n      <td>iurii</td>\n      <td>98</td>\n      <td>1.620130e+09</td>\n      <td>...</td>\n      <td>[[0.052258, -0.000132, 0.0, -0.001325, 0.0], [...</td>\n      <td>[[1.675, 0.065, 0.012], [0.065, 1.472, 0.007],...</td>\n      <td>[[0.7000000000000001, 0.00075, 1.1e-05], [0.00...</td>\n      <td>0.0</td>\n      <td>(O, Mn)</td>\n      <td>O</td>\n      <td>Mn</td>\n      <td>Mn-O</td>\n      <td>#9C7AC7</td>\n      <td>/Users/azadoks/Data/uv_ml/iurii/Olivines/LiMnP...</td>\n    </tr>\n    <tr>\n      <th>54990</th>\n      <td>/Users/azadoks/Data/uv_ml/iurii/Olivines/LiMnP...</td>\n      <td>B2_Li0.25MnPO4</td>\n      <td>False</td>\n      <td>10</td>\n      <td></td>\n      <td>[18.757252699, 0.1465358545, 0.210975733, 0.08...</td>\n      <td>25</td>\n      <td>iurii</td>\n      <td>98</td>\n      <td>1.620130e+09</td>\n      <td>...</td>\n      <td>[[0.052258, -0.000132, 0.0, -0.001325, 0.0], [...</td>\n      <td>[[1.684, 0.062, -0.0009999999999999974], [0.06...</td>\n      <td>[[0.708843, 0.000952, -0.000306], [0.000952, 0...</td>\n      <td>0.0</td>\n      <td>(O, Mn)</td>\n      <td>O</td>\n      <td>Mn</td>\n      <td>Mn-O</td>\n      <td>#9C7AC7</td>\n      <td>/Users/azadoks/Data/uv_ml/iurii/Olivines/LiMnP...</td>\n    </tr>\n    <tr>\n      <th>54991</th>\n      <td>/Users/azadoks/Data/uv_ml/iurii/Olivines/LiMnP...</td>\n      <td>B2_Li0.25MnPO4</td>\n      <td>False</td>\n      <td>10</td>\n      <td></td>\n      <td>[18.757252699, 0.1465358545, 0.210975733, 0.08...</td>\n      <td>25</td>\n      <td>iurii</td>\n      <td>98</td>\n      <td>1.620130e+09</td>\n      <td>...</td>\n      <td>[[0.052258, -0.000132, 0.0, -0.001325, 0.0], [...</td>\n      <td>[[1.524, 0.081, 0.027], [0.081, 1.621, 0.011],...</td>\n      <td>[[0.580644, 0.0015680000000000002, 0.000182], ...</td>\n      <td>0.0</td>\n      <td>(O, Mn)</td>\n      <td>O</td>\n      <td>Mn</td>\n      <td>Mn-O</td>\n      <td>#9C7AC7</td>\n      <td>/Users/azadoks/Data/uv_ml/iurii/Olivines/LiMnP...</td>\n    </tr>\n    <tr>\n      <th>54992</th>\n      <td>/Users/azadoks/Data/uv_ml/iurii/Olivines/LiMnP...</td>\n      <td>B2_Li0.25MnPO4</td>\n      <td>False</td>\n      <td>10</td>\n      <td></td>\n      <td>[18.757252699, 0.1465358545, 0.210975733, 0.08...</td>\n      <td>25</td>\n      <td>iurii</td>\n      <td>98</td>\n      <td>1.620130e+09</td>\n      <td>...</td>\n      <td>[[0.052258, -0.000132, 0.0, -0.001325, 0.0], [...</td>\n      <td>[[1.6669999999999998, 0.089, -0.00099999999999...</td>\n      <td>[[0.6947159999999999, 0.0019779999999999997, -...</td>\n      <td>0.0</td>\n      <td>(O, Mn)</td>\n      <td>O</td>\n      <td>Mn</td>\n      <td>Mn-O</td>\n      <td>#9C7AC7</td>\n      <td>/Users/azadoks/Data/uv_ml/iurii/Olivines/LiMnP...</td>\n    </tr>\n    <tr>\n      <th>55207</th>\n      <td>/Users/azadoks/Data/uv_ml/iurii/Olivines/LiMnP...</td>\n      <td>B2_Li0.25MnPO4</td>\n      <td>False</td>\n      <td>10</td>\n      <td></td>\n      <td>[18.757252699, 0.1465358545, 0.210975733, 0.08...</td>\n      <td>25</td>\n      <td>iurii</td>\n      <td>98</td>\n      <td>1.620130e+09</td>\n      <td>...</td>\n      <td>[[0.057536000000000004, -0.000429, 1.1e-05, -0...</td>\n      <td>[[1.5190000000000001, -0.10800000000000001, 0....</td>\n      <td>[[0.576834, 0.00266, -8e-06], [0.00266, 0.6656...</td>\n      <td>0.0</td>\n      <td>(O, Mn)</td>\n      <td>O</td>\n      <td>Mn</td>\n      <td>Mn-O</td>\n      <td>#9C7AC7</td>\n      <td>/Users/azadoks/Data/uv_ml/iurii/Olivines/LiMnP...</td>\n    </tr>\n    <tr>\n      <th>55208</th>\n      <td>/Users/azadoks/Data/uv_ml/iurii/Olivines/LiMnP...</td>\n      <td>B2_Li0.25MnPO4</td>\n      <td>False</td>\n      <td>10</td>\n      <td></td>\n      <td>[18.757252699, 0.1465358545, 0.210975733, 0.08...</td>\n      <td>25</td>\n      <td>iurii</td>\n      <td>98</td>\n      <td>1.620130e+09</td>\n      <td>...</td>\n      <td>[[0.057536000000000004, -0.000429, 1.1e-05, -0...</td>\n      <td>[[1.6909999999999998, 0.0, -0.025], [0.0, 1.47...</td>\n      <td>[[0.714738, -0.00012099999999999999, 0.000144]...</td>\n      <td>0.0</td>\n      <td>(O, Mn)</td>\n      <td>O</td>\n      <td>Mn</td>\n      <td>Mn-O</td>\n      <td>#9C7AC7</td>\n      <td>/Users/azadoks/Data/uv_ml/iurii/Olivines/LiMnP...</td>\n    </tr>\n    <tr>\n      <th>55209</th>\n      <td>/Users/azadoks/Data/uv_ml/iurii/Olivines/LiMnP...</td>\n      <td>B2_Li0.25MnPO4</td>\n      <td>False</td>\n      <td>10</td>\n      <td></td>\n      <td>[18.757252699, 0.1465358545, 0.210975733, 0.08...</td>\n      <td>25</td>\n      <td>iurii</td>\n      <td>98</td>\n      <td>1.620130e+09</td>\n      <td>...</td>\n      <td>[[0.057536000000000004, -0.000429, 1.1e-05, -0...</td>\n      <td>[[1.694, -0.05, 0.007000000000000001], [-0.05,...</td>\n      <td>[[0.717393, 0.000621, -0.00017], [0.000621, 0....</td>\n      <td>0.0</td>\n      <td>(O, Mn)</td>\n      <td>O</td>\n      <td>Mn</td>\n      <td>Mn-O</td>\n      <td>#9C7AC7</td>\n      <td>/Users/azadoks/Data/uv_ml/iurii/Olivines/LiMnP...</td>\n    </tr>\n    <tr>\n      <th>55210</th>\n      <td>/Users/azadoks/Data/uv_ml/iurii/Olivines/LiMnP...</td>\n      <td>B2_Li0.25MnPO4</td>\n      <td>False</td>\n      <td>10</td>\n      <td></td>\n      <td>[18.757252699, 0.1465358545, 0.210975733, 0.08...</td>\n      <td>25</td>\n      <td>iurii</td>\n      <td>98</td>\n      <td>1.620130e+09</td>\n      <td>...</td>\n      <td>[[0.057536000000000004, -0.000429, 1.1e-05, -0...</td>\n      <td>[[1.6509999999999998, 0.10700000000000001, 0.0...</td>\n      <td>[[0.6814079999999999, 0.00285, 0.00017], [0.00...</td>\n      <td>0.0</td>\n      <td>(O, Mn)</td>\n      <td>O</td>\n      <td>Mn</td>\n      <td>Mn-O</td>\n      <td>#9C7AC7</td>\n      <td>/Users/azadoks/Data/uv_ml/iurii/Olivines/LiMnP...</td>\n    </tr>\n    <tr>\n      <th>55424</th>\n      <td>/Users/azadoks/Data/uv_ml/iurii/Olivines/LiMnP...</td>\n      <td>B2_Li0.25MnPO4</td>\n      <td>False</td>\n      <td>10</td>\n      <td></td>\n      <td>[18.757252699, 0.1465358545, 0.210975733, 0.08...</td>\n      <td>25</td>\n      <td>iurii</td>\n      <td>98</td>\n      <td>1.620130e+09</td>\n      <td>...</td>\n      <td>[[0.580644, 0.0015680000000000002, 0.000182], ...</td>\n      <td>[[1.039, 0.029, -0.002, -0.027999999999999997,...</td>\n      <td>[[0.052258, -0.000132, 0.0, -0.001325, 0.0], [...</td>\n      <td>0.0</td>\n      <td>(O, Mn)</td>\n      <td>O</td>\n      <td>Mn</td>\n      <td>Mn-O</td>\n      <td>#9C7AC7</td>\n      <td>/Users/azadoks/Data/uv_ml/iurii/Olivines/LiMnP...</td>\n    </tr>\n    <tr>\n      <th>55490</th>\n      <td>/Users/azadoks/Data/uv_ml/iurii/Olivines/LiMnP...</td>\n      <td>B2_Li0.25MnPO4</td>\n      <td>False</td>\n      <td>10</td>\n      <td></td>\n      <td>[18.757252699, 0.1465358545, 0.210975733, 0.08...</td>\n      <td>25</td>\n      <td>iurii</td>\n      <td>98</td>\n      <td>1.620130e+09</td>\n      <td>...</td>\n      <td>[[0.576834, 0.00266, -8e-06], [0.00266, 0.6656...</td>\n      <td>[[1.05, -0.020000000000000004, 0.012, -0.022, ...</td>\n      <td>[[0.057536000000000004, -0.000429, 1.1e-05, -0...</td>\n      <td>0.0</td>\n      <td>(O, Mn)</td>\n      <td>O</td>\n      <td>Mn</td>\n      <td>Mn-O</td>\n      <td>#9C7AC7</td>\n      <td>/Users/azadoks/Data/uv_ml/iurii/Olivines/LiMnP...</td>\n    </tr>\n    <tr>\n      <th>55512</th>\n      <td>/Users/azadoks/Data/uv_ml/iurii/Olivines/LiMnP...</td>\n      <td>B2_Li0.25MnPO4</td>\n      <td>False</td>\n      <td>10</td>\n      <td></td>\n      <td>[18.757252699, 0.1465358545, 0.210975733, 0.08...</td>\n      <td>25</td>\n      <td>iurii</td>\n      <td>98</td>\n      <td>1.620130e+09</td>\n      <td>...</td>\n      <td>[[0.7000000000000001, 0.00075, 1.1e-05], [0.00...</td>\n      <td>[[1.039, 0.029, -0.002, -0.027999999999999997,...</td>\n      <td>[[0.052258, -0.000132, 0.0, -0.001325, 0.0], [...</td>\n      <td>0.0</td>\n      <td>(O, Mn)</td>\n      <td>O</td>\n      <td>Mn</td>\n      <td>Mn-O</td>\n      <td>#9C7AC7</td>\n      <td>/Users/azadoks/Data/uv_ml/iurii/Olivines/LiMnP...</td>\n    </tr>\n    <tr>\n      <th>55578</th>\n      <td>/Users/azadoks/Data/uv_ml/iurii/Olivines/LiMnP...</td>\n      <td>B2_Li0.25MnPO4</td>\n      <td>False</td>\n      <td>10</td>\n      <td></td>\n      <td>[18.757252699, 0.1465358545, 0.210975733, 0.08...</td>\n      <td>25</td>\n      <td>iurii</td>\n      <td>98</td>\n      <td>1.620130e+09</td>\n      <td>...</td>\n      <td>[[0.714738, -0.00012099999999999999, 0.000144]...</td>\n      <td>[[1.05, -0.020000000000000004, 0.012, -0.022, ...</td>\n      <td>[[0.057536000000000004, -0.000429, 1.1e-05, -0...</td>\n      <td>0.0</td>\n      <td>(O, Mn)</td>\n      <td>O</td>\n      <td>Mn</td>\n      <td>Mn-O</td>\n      <td>#9C7AC7</td>\n      <td>/Users/azadoks/Data/uv_ml/iurii/Olivines/LiMnP...</td>\n    </tr>\n    <tr>\n      <th>55600</th>\n      <td>/Users/azadoks/Data/uv_ml/iurii/Olivines/LiMnP...</td>\n      <td>B2_Li0.25MnPO4</td>\n      <td>False</td>\n      <td>10</td>\n      <td></td>\n      <td>[18.757252699, 0.1465358545, 0.210975733, 0.08...</td>\n      <td>25</td>\n      <td>iurii</td>\n      <td>98</td>\n      <td>1.620130e+09</td>\n      <td>...</td>\n      <td>[[0.708843, 0.000952, -0.000306], [0.000952, 0...</td>\n      <td>[[1.039, 0.029, -0.002, -0.027999999999999997,...</td>\n      <td>[[0.052258, -0.000132, 0.0, -0.001325, 0.0], [...</td>\n      <td>0.0</td>\n      <td>(O, Mn)</td>\n      <td>O</td>\n      <td>Mn</td>\n      <td>Mn-O</td>\n      <td>#9C7AC7</td>\n      <td>/Users/azadoks/Data/uv_ml/iurii/Olivines/LiMnP...</td>\n    </tr>\n    <tr>\n      <th>55622</th>\n      <td>/Users/azadoks/Data/uv_ml/iurii/Olivines/LiMnP...</td>\n      <td>B2_Li0.25MnPO4</td>\n      <td>False</td>\n      <td>10</td>\n      <td></td>\n      <td>[18.757252699, 0.1465358545, 0.210975733, 0.08...</td>\n      <td>25</td>\n      <td>iurii</td>\n      <td>98</td>\n      <td>1.620130e+09</td>\n      <td>...</td>\n      <td>[[0.6947159999999999, 0.0019779999999999997, -...</td>\n      <td>[[1.039, 0.029, -0.002, -0.027999999999999997,...</td>\n      <td>[[0.052258, -0.000132, 0.0, -0.001325, 0.0], [...</td>\n      <td>0.0</td>\n      <td>(O, Mn)</td>\n      <td>O</td>\n      <td>Mn</td>\n      <td>Mn-O</td>\n      <td>#9C7AC7</td>\n      <td>/Users/azadoks/Data/uv_ml/iurii/Olivines/LiMnP...</td>\n    </tr>\n    <tr>\n      <th>55644</th>\n      <td>/Users/azadoks/Data/uv_ml/iurii/Olivines/LiMnP...</td>\n      <td>B2_Li0.25MnPO4</td>\n      <td>False</td>\n      <td>10</td>\n      <td></td>\n      <td>[18.757252699, 0.1465358545, 0.210975733, 0.08...</td>\n      <td>25</td>\n      <td>iurii</td>\n      <td>98</td>\n      <td>1.620130e+09</td>\n      <td>...</td>\n      <td>[[0.717393, 0.000621, -0.00017], [0.000621, 0....</td>\n      <td>[[1.05, -0.020000000000000004, 0.012, -0.022, ...</td>\n      <td>[[0.057536000000000004, -0.000429, 1.1e-05, -0...</td>\n      <td>0.0</td>\n      <td>(O, Mn)</td>\n      <td>O</td>\n      <td>Mn</td>\n      <td>Mn-O</td>\n      <td>#9C7AC7</td>\n      <td>/Users/azadoks/Data/uv_ml/iurii/Olivines/LiMnP...</td>\n    </tr>\n    <tr>\n      <th>55754</th>\n      <td>/Users/azadoks/Data/uv_ml/iurii/Olivines/LiMnP...</td>\n      <td>B2_Li0.25MnPO4</td>\n      <td>False</td>\n      <td>10</td>\n      <td></td>\n      <td>[18.757252699, 0.1465358545, 0.210975733, 0.08...</td>\n      <td>25</td>\n      <td>iurii</td>\n      <td>98</td>\n      <td>1.620130e+09</td>\n      <td>...</td>\n      <td>[[0.6814079999999999, 0.00285, 0.00017], [0.00...</td>\n      <td>[[1.05, -0.020000000000000004, 0.012, -0.022, ...</td>\n      <td>[[0.057536000000000004, -0.000429, 1.1e-05, -0...</td>\n      <td>0.0</td>\n      <td>(O, Mn)</td>\n      <td>O</td>\n      <td>Mn</td>\n      <td>Mn-O</td>\n      <td>#9C7AC7</td>\n      <td>/Users/azadoks/Data/uv_ml/iurii/Olivines/LiMnP...</td>\n    </tr>\n    <tr>\n      <th>62407</th>\n      <td>/Users/azadoks/Data/uv_ml/iurii/Olivines/LiMnP...</td>\n      <td>B4_Li0.75MnPO4</td>\n      <td>False</td>\n      <td>3</td>\n      <td></td>\n      <td>[19.4186052395, -0.0557386415, 0.130869726, -0...</td>\n      <td>27</td>\n      <td>iurii</td>\n      <td>107</td>\n      <td>1.619955e+09</td>\n      <td>...</td>\n      <td>[[0.020916, -2e-06, 0.0, 0.0, -2e-06], [-2e-06...</td>\n      <td>[[1.6869999999999998, -0.059, -0.002], [-0.059...</td>\n      <td>[[0.711472, 0.0008680000000000001, 1e-06], [0....</td>\n      <td>0.0</td>\n      <td>(O, Mn)</td>\n      <td>O</td>\n      <td>Mn</td>\n      <td>Mn-O</td>\n      <td>#9C7AC7</td>\n      <td>/Users/azadoks/Data/uv_ml/iurii/Olivines/LiMnP...</td>\n    </tr>\n    <tr>\n      <th>62613</th>\n      <td>/Users/azadoks/Data/uv_ml/iurii/Olivines/LiMnP...</td>\n      <td>B4_Li0.75MnPO4</td>\n      <td>False</td>\n      <td>3</td>\n      <td></td>\n      <td>[19.4186052395, -0.0557386415, 0.130869726, -0...</td>\n      <td>27</td>\n      <td>iurii</td>\n      <td>107</td>\n      <td>1.619955e+09</td>\n      <td>...</td>\n      <td>[[0.711472, 0.0008680000000000001, 1e-06], [0....</td>\n      <td>[[1.017, 0.001, 0.005, 0.003, 0.001], [0.001, ...</td>\n      <td>[[0.020916, -2e-06, 0.0, 0.0, -2e-06], [-2e-06...</td>\n      <td>0.0</td>\n      <td>(O, Mn)</td>\n      <td>O</td>\n      <td>Mn</td>\n      <td>Mn-O</td>\n      <td>#9C7AC7</td>\n      <td>/Users/azadoks/Data/uv_ml/iurii/Olivines/LiMnP...</td>\n    </tr>\n    <tr>\n      <th>62859</th>\n      <td>/Users/azadoks/Data/uv_ml/iurii/Olivines/LiMnP...</td>\n      <td>B4_Li0.75MnPO4</td>\n      <td>False</td>\n      <td>4</td>\n      <td></td>\n      <td>[19.4188783725, -0.055465508499999996, 0.12999...</td>\n      <td>27</td>\n      <td>iurii</td>\n      <td>108</td>\n      <td>1.620060e+09</td>\n      <td>...</td>\n      <td>[[0.020937, -4e-06, -0.0, -4e-06, -0.0], [-4e-...</td>\n      <td>[[1.678, -0.061, -0.0], [-0.061, 1.536, -0.002...</td>\n      <td>[[0.703912, 0.0009299999999999999, 0.0], [0.00...</td>\n      <td>0.0</td>\n      <td>(O, Mn)</td>\n      <td>O</td>\n      <td>Mn</td>\n      <td>Mn-O</td>\n      <td>#9C7AC7</td>\n      <td>/Users/azadoks/Data/uv_ml/iurii/Olivines/LiMnP...</td>\n    </tr>\n    <tr>\n      <th>63373</th>\n      <td>/Users/azadoks/Data/uv_ml/iurii/Olivines/LiMnP...</td>\n      <td>B4_Li0.75MnPO4</td>\n      <td>False</td>\n      <td>4</td>\n      <td></td>\n      <td>[19.4188783725, -0.055465508499999996, 0.12999...</td>\n      <td>27</td>\n      <td>iurii</td>\n      <td>108</td>\n      <td>1.620060e+09</td>\n      <td>...</td>\n      <td>[[0.703912, 0.0009299999999999999, 0.0], [0.00...</td>\n      <td>[[1.018, 0.0, 0.003, 0.003, 0.001], [0.0, 1.05...</td>\n      <td>[[0.020937, -4e-06, -0.0, -4e-06, -0.0], [-4e-...</td>\n      <td>0.0</td>\n      <td>(O, Mn)</td>\n      <td>O</td>\n      <td>Mn</td>\n      <td>Mn-O</td>\n      <td>#9C7AC7</td>\n      <td>/Users/azadoks/Data/uv_ml/iurii/Olivines/LiMnP...</td>\n    </tr>\n  </tbody>\n</table>\n<p>32 rows × 55 columns</p>\n</div>"
     },
     "execution_count": 5,
     "metadata": {},
     "output_type": "execute_result"
    }
   ],
   "source": [
    "df[df[keys.PARAM_IN] == df.param_out]"
   ]
  },
  {
   "cell_type": "markdown",
   "id": "865e8d39",
   "metadata": {},
   "source": [
    "## Model creation\n",
    "\n",
    "Find out which species we have to support"
   ]
  },
  {
   "cell_type": "code",
   "execution_count": 6,
   "outputs": [
    {
     "name": "stdout",
     "output_type": "stream",
     "text": [
      "Found species ['Ni', 'O', 'Co', 'Mn', 'Ti', 'S', 'Fe']\n"
     ]
    }
   ],
   "source": [
    "species = list(pd.concat((df[keys.ATOM_1_ELEMENT], df[keys.ATOM_2_ELEMENT])).unique())\n",
    "print(f'Found species {species}')"
   ],
   "metadata": {
    "collapsed": false,
    "ExecuteTime": {
     "end_time": "2023-07-20T17:21:48.636814547Z",
     "start_time": "2023-07-20T17:21:48.631753222Z"
    }
   }
  },
  {
   "cell_type": "code",
   "execution_count": 7,
   "id": "61e416bc",
   "metadata": {
    "ExecuteTime": {
     "end_time": "2023-07-20T17:21:48.725956856Z",
     "start_time": "2023-07-20T17:21:48.636641807Z"
    }
   },
   "outputs": [
    {
     "data": {
      "text/plain": "Ni    2184\nMn    1806\nFe     702\nCo      18\nTi       4\nName: d_element, dtype: int64"
     },
     "execution_count": 7,
     "metadata": {},
     "output_type": "execute_result"
    }
   ],
   "source": [
    "df[D_ELEMENT].value_counts()"
   ]
  },
  {
   "cell_type": "markdown",
   "id": "150c9a8e",
   "metadata": {},
   "source": [
    "## Model"
   ]
  },
  {
   "cell_type": "code",
   "execution_count": 8,
   "id": "0b614b90",
   "metadata": {
    "ExecuteTime": {
     "end_time": "2023-07-20T17:21:51.568671587Z",
     "start_time": "2023-07-20T17:21:48.686974762Z"
    }
   },
   "outputs": [
    {
     "name": "stderr",
     "output_type": "stream",
     "text": [
      "/home/martin/.local/miniconda3/envs/dftuv/lib/python3.10/site-packages/torch/jit/_check.py:172: UserWarning: The TorchScript type system doesn't support instance-level annotations on empty non-base types in `__init__`. Instead, either 1) use a type annotation in the class body, or 2) wrap the type in `torch.jit.Attribute`.\n",
      "  warnings.warn(\"The TorchScript type system doesn't support \"\n"
     ]
    },
    {
     "data": {
      "text/plain": "VModel(\n  (layers): ModuleList(\n    (0): Gate (12x0e+4x1e+4x2e -> 4x0e+4x1e+4x2e)\n    (1): TensorSquare(4x0e+4x1e+4x2e -> 12x0e+4x1e+4x2e | 744 paths | 744 weights)\n    (2): Gate (12x0e+4x1e+4x2e -> 4x0e+4x1e+4x2e)\n    (3): TensorSquare(4x0e+4x1e+4x2e -> 1x0e | 30 paths | 30 weights)\n    (4): Rescaler()\n  )\n  (node_node_tp): FullyConnectedTensorProduct(8x0e+1x2e+2x0e+1x1e+1x2e+1x3e+1x4e x 8x0e+1x2e+1x4e+2x0e+1x1e+1x2e+1x3e+1x4e+1x0e+1x1e+1x2e+1x3e+1x4e+1x5e+1x6e+1x7e+1x8e -> 4x0e+4x1e+4x2e | 1148 paths | 1148 weights)\n  (node_node_edge_tp): FullyConnectedTensorProduct(4x0e+4x1e+4x2e x 2x0e -> 12x0e+4x1e+4x2e | 160 paths | 160 weights)\n)"
     },
     "execution_count": 8,
     "metadata": {},
     "output_type": "execute_result"
    }
   ],
   "source": [
    "graph = hubbardml.VGraph(species)\n",
    "model = hubbardml.VModel(\n",
    "    graph,\n",
    "    feature_irreps=\"4x0e + 4x1e + 4x2e\",\n",
    "    rescaler = hubbardml.models.Rescaler.from_data(df[keys.PARAM_OUT], method=\"mean\"),\n",
    "    hidden_layers=2,\n",
    ")\n",
    "model.to(dtype=dtype, device=device)"
   ]
  },
  {
   "cell_type": "markdown",
   "id": "8a65a477",
   "metadata": {},
   "source": [
    "## Split test/train"
   ]
  },
  {
   "cell_type": "code",
   "execution_count": 9,
   "outputs": [
    {
     "data": {
      "text/plain": "                                                      dir material  is_vdw  \\\n643     /Users/azadoks/Data/uv_ml/luca/PrNiO3/by_type/...   b-type   False   \n644     /Users/azadoks/Data/uv_ml/luca/PrNiO3/by_type/...   b-type   False   \n645     /Users/azadoks/Data/uv_ml/luca/PrNiO3/by_type/...   b-type   False   \n646     /Users/azadoks/Data/uv_ml/luca/PrNiO3/by_type/...   b-type   False   \n647     /Users/azadoks/Data/uv_ml/luca/PrNiO3/by_type/...   b-type   False   \n...                                                   ...      ...     ...   \n106816  /Users/azadoks/Data/uv_ml/iurii/Spinel/LixMn2O...    Mn2O4   False   \n106817  /Users/azadoks/Data/uv_ml/iurii/Spinel/LixMn2O...    Mn2O4   False   \n106862  /Users/azadoks/Data/uv_ml/iurii/Spinel/LixMn2O...    Mn2O4   False   \n106863  /Users/azadoks/Data/uv_ml/iurii/Spinel/LixMn2O...    Mn2O4   False   \n106864  /Users/azadoks/Data/uv_ml/iurii/Spinel/LixMn2O...    Mn2O4   False   \n\n        uv_iter formula                                               cell  \\\n643           2          [20.579721104, 0.0, -0.052459636500000004, 0.0...   \n644           2          [20.579721104, 0.0, -0.052459636500000004, 0.0...   \n645           2          [20.579721104, 0.0, -0.052459636500000004, 0.0...   \n646           2          [20.579721104, 0.0, -0.052459636500000004, 0.0...   \n647           2          [20.579721104, 0.0, -0.052459636500000004, 0.0...   \n...         ...     ...                                                ...   \n106816        3          [15.4309, 0.0, 0.0, 0.0, 15.430421642099999, 0...   \n106817        3          [15.4309, 0.0, 0.0, 0.0, 15.430421642099999, 0...   \n106862        3          [15.4309, 0.0, 0.0, 0.0, 15.430421642099999, 0...   \n106863        3          [15.4309, 0.0, 0.0, 0.0, 15.430421642099999, 0...   \n106864        3          [15.4309, 0.0, 0.0, 0.0, 15.430421642099999, 0...   \n\n        n_atoms_uc person  structure_index  pw_time_unix  ...  \\\n643             80   luca                2  1.597510e+09  ...   \n644             80   luca                2  1.597510e+09  ...   \n645             80   luca                2  1.597510e+09  ...   \n646             80   luca                2  1.597510e+09  ...   \n647             80   luca                2  1.597510e+09  ...   \n...            ...    ...              ...           ...  ...   \n106816          48  iurii              122  1.638445e+09  ...   \n106817          48  iurii              122  1.638445e+09  ...   \n106862          48  iurii              122  1.638445e+09  ...   \n106863          48  iurii              122  1.638445e+09  ...   \n106864          48  iurii              122  1.638445e+09  ...   \n\n                                        atom_2_occs_inv_1  \\\n643     [[1.374, -0.054000000000000006, -0.016], [-0.0...   \n644     [[1.374, -0.054000000000000006, -0.016], [-0.0...   \n645     [[1.6669999999999998, 0.028999999999999998, -0...   \n646     [[1.6669999999999998, 0.028999999999999998, -0...   \n647     [[1.6709999999999998, 0.031, 0.033], [0.031, 1...   \n...                                                   ...   \n106816  [[0.898, 0.003000000000000001, 0.0, -0.005, 0....   \n106817  [[0.898, 0.0, -0.002, 0.005, 0.008], [0.0, 1.0...   \n106862  [[0.8899999999999999, -0.006999999999999999, 0...   \n106863  [[0.898, 0.003000000000000001, 0.0, -0.005, 0....   \n106864  [[0.898, 0.0, -0.002, 0.005, 0.008], [0.0, 1.0...   \n\n                                        atom_2_occs_inv_2  param_delta  \\\n643     [[0.471744, 0.000693, 6e-05], [0.000693, 0.683...      -0.3565   \n644     [[0.471744, 0.000693, 6e-05], [0.000693, 0.683...      -0.3565   \n645     [[0.6947199999999999, 0.00021, 0.000192], [0.0...      -0.4453   \n646     [[0.6947199999999999, 0.00021, 0.000192], [0.0...      -0.4453   \n647     [[0.698058, 0.000238, 0.00027200000000000005],...      -0.4419   \n...                                                   ...          ...   \n106816  [[0.17304000000000003, -0.000108, -0.0001, -2....       0.0011   \n106817  [[0.17304000000000003, -0.0001, -9.89999999999...       0.0011   \n106862  [[0.17670899999999998, -0.00012, -0.00012, 0.0...       0.0009   \n106863  [[0.17304000000000003, -0.000108, -0.0001, -2....       0.0011   \n106864  [[0.17304000000000003, -0.0001, -9.89999999999...       0.0011   \n\n        species  p_element  d_element  label   colour  \\\n643     (Ni, O)          O         Ni   Ni-O  #50D050   \n644     (Ni, O)          O         Ni   Ni-O  #50D050   \n645     (Ni, O)          O         Ni   Ni-O  #50D050   \n646     (Ni, O)          O         Ni   Ni-O  #50D050   \n647     (Ni, O)          O         Ni   Ni-O  #50D050   \n...         ...        ...        ...    ...      ...   \n106816  (O, Mn)          O         Mn   Mn-O  #9C7AC7   \n106817  (O, Mn)          O         Mn   Mn-O  #9C7AC7   \n106862  (O, Mn)          O         Mn   Mn-O  #9C7AC7   \n106863  (O, Mn)          O         Mn   Mn-O  #9C7AC7   \n106864  (O, Mn)          O         Mn   Mn-O  #9C7AC7   \n\n                                                 sc_paths  training_label  \n643     /Users/azadoks/Data/uv_ml/luca/PrNiO3/by_type/...           train  \n644     /Users/azadoks/Data/uv_ml/luca/PrNiO3/by_type/...           train  \n645     /Users/azadoks/Data/uv_ml/luca/PrNiO3/by_type/...           train  \n646     /Users/azadoks/Data/uv_ml/luca/PrNiO3/by_type/...           train  \n647     /Users/azadoks/Data/uv_ml/luca/PrNiO3/by_type/...        validate  \n...                                                   ...             ...  \n106816  /Users/azadoks/Data/uv_ml/iurii/Spinel/LixMn2O...           train  \n106817  /Users/azadoks/Data/uv_ml/iurii/Spinel/LixMn2O...        validate  \n106862  /Users/azadoks/Data/uv_ml/iurii/Spinel/LixMn2O...        validate  \n106863  /Users/azadoks/Data/uv_ml/iurii/Spinel/LixMn2O...           train  \n106864  /Users/azadoks/Data/uv_ml/iurii/Spinel/LixMn2O...           train  \n\n[4714 rows x 56 columns]",
      "text/html": "<div>\n<style scoped>\n    .dataframe tbody tr th:only-of-type {\n        vertical-align: middle;\n    }\n\n    .dataframe tbody tr th {\n        vertical-align: top;\n    }\n\n    .dataframe thead th {\n        text-align: right;\n    }\n</style>\n<table border=\"1\" class=\"dataframe\">\n  <thead>\n    <tr style=\"text-align: right;\">\n      <th></th>\n      <th>dir</th>\n      <th>material</th>\n      <th>is_vdw</th>\n      <th>uv_iter</th>\n      <th>formula</th>\n      <th>cell</th>\n      <th>n_atoms_uc</th>\n      <th>person</th>\n      <th>structure_index</th>\n      <th>pw_time_unix</th>\n      <th>...</th>\n      <th>atom_2_occs_inv_1</th>\n      <th>atom_2_occs_inv_2</th>\n      <th>param_delta</th>\n      <th>species</th>\n      <th>p_element</th>\n      <th>d_element</th>\n      <th>label</th>\n      <th>colour</th>\n      <th>sc_paths</th>\n      <th>training_label</th>\n    </tr>\n  </thead>\n  <tbody>\n    <tr>\n      <th>643</th>\n      <td>/Users/azadoks/Data/uv_ml/luca/PrNiO3/by_type/...</td>\n      <td>b-type</td>\n      <td>False</td>\n      <td>2</td>\n      <td></td>\n      <td>[20.579721104, 0.0, -0.052459636500000004, 0.0...</td>\n      <td>80</td>\n      <td>luca</td>\n      <td>2</td>\n      <td>1.597510e+09</td>\n      <td>...</td>\n      <td>[[1.374, -0.054000000000000006, -0.016], [-0.0...</td>\n      <td>[[0.471744, 0.000693, 6e-05], [0.000693, 0.683...</td>\n      <td>-0.3565</td>\n      <td>(Ni, O)</td>\n      <td>O</td>\n      <td>Ni</td>\n      <td>Ni-O</td>\n      <td>#50D050</td>\n      <td>/Users/azadoks/Data/uv_ml/luca/PrNiO3/by_type/...</td>\n      <td>train</td>\n    </tr>\n    <tr>\n      <th>644</th>\n      <td>/Users/azadoks/Data/uv_ml/luca/PrNiO3/by_type/...</td>\n      <td>b-type</td>\n      <td>False</td>\n      <td>2</td>\n      <td></td>\n      <td>[20.579721104, 0.0, -0.052459636500000004, 0.0...</td>\n      <td>80</td>\n      <td>luca</td>\n      <td>2</td>\n      <td>1.597510e+09</td>\n      <td>...</td>\n      <td>[[1.374, -0.054000000000000006, -0.016], [-0.0...</td>\n      <td>[[0.471744, 0.000693, 6e-05], [0.000693, 0.683...</td>\n      <td>-0.3565</td>\n      <td>(Ni, O)</td>\n      <td>O</td>\n      <td>Ni</td>\n      <td>Ni-O</td>\n      <td>#50D050</td>\n      <td>/Users/azadoks/Data/uv_ml/luca/PrNiO3/by_type/...</td>\n      <td>train</td>\n    </tr>\n    <tr>\n      <th>645</th>\n      <td>/Users/azadoks/Data/uv_ml/luca/PrNiO3/by_type/...</td>\n      <td>b-type</td>\n      <td>False</td>\n      <td>2</td>\n      <td></td>\n      <td>[20.579721104, 0.0, -0.052459636500000004, 0.0...</td>\n      <td>80</td>\n      <td>luca</td>\n      <td>2</td>\n      <td>1.597510e+09</td>\n      <td>...</td>\n      <td>[[1.6669999999999998, 0.028999999999999998, -0...</td>\n      <td>[[0.6947199999999999, 0.00021, 0.000192], [0.0...</td>\n      <td>-0.4453</td>\n      <td>(Ni, O)</td>\n      <td>O</td>\n      <td>Ni</td>\n      <td>Ni-O</td>\n      <td>#50D050</td>\n      <td>/Users/azadoks/Data/uv_ml/luca/PrNiO3/by_type/...</td>\n      <td>train</td>\n    </tr>\n    <tr>\n      <th>646</th>\n      <td>/Users/azadoks/Data/uv_ml/luca/PrNiO3/by_type/...</td>\n      <td>b-type</td>\n      <td>False</td>\n      <td>2</td>\n      <td></td>\n      <td>[20.579721104, 0.0, -0.052459636500000004, 0.0...</td>\n      <td>80</td>\n      <td>luca</td>\n      <td>2</td>\n      <td>1.597510e+09</td>\n      <td>...</td>\n      <td>[[1.6669999999999998, 0.028999999999999998, -0...</td>\n      <td>[[0.6947199999999999, 0.00021, 0.000192], [0.0...</td>\n      <td>-0.4453</td>\n      <td>(Ni, O)</td>\n      <td>O</td>\n      <td>Ni</td>\n      <td>Ni-O</td>\n      <td>#50D050</td>\n      <td>/Users/azadoks/Data/uv_ml/luca/PrNiO3/by_type/...</td>\n      <td>train</td>\n    </tr>\n    <tr>\n      <th>647</th>\n      <td>/Users/azadoks/Data/uv_ml/luca/PrNiO3/by_type/...</td>\n      <td>b-type</td>\n      <td>False</td>\n      <td>2</td>\n      <td></td>\n      <td>[20.579721104, 0.0, -0.052459636500000004, 0.0...</td>\n      <td>80</td>\n      <td>luca</td>\n      <td>2</td>\n      <td>1.597510e+09</td>\n      <td>...</td>\n      <td>[[1.6709999999999998, 0.031, 0.033], [0.031, 1...</td>\n      <td>[[0.698058, 0.000238, 0.00027200000000000005],...</td>\n      <td>-0.4419</td>\n      <td>(Ni, O)</td>\n      <td>O</td>\n      <td>Ni</td>\n      <td>Ni-O</td>\n      <td>#50D050</td>\n      <td>/Users/azadoks/Data/uv_ml/luca/PrNiO3/by_type/...</td>\n      <td>validate</td>\n    </tr>\n    <tr>\n      <th>...</th>\n      <td>...</td>\n      <td>...</td>\n      <td>...</td>\n      <td>...</td>\n      <td>...</td>\n      <td>...</td>\n      <td>...</td>\n      <td>...</td>\n      <td>...</td>\n      <td>...</td>\n      <td>...</td>\n      <td>...</td>\n      <td>...</td>\n      <td>...</td>\n      <td>...</td>\n      <td>...</td>\n      <td>...</td>\n      <td>...</td>\n      <td>...</td>\n      <td>...</td>\n      <td>...</td>\n    </tr>\n    <tr>\n      <th>106816</th>\n      <td>/Users/azadoks/Data/uv_ml/iurii/Spinel/LixMn2O...</td>\n      <td>Mn2O4</td>\n      <td>False</td>\n      <td>3</td>\n      <td></td>\n      <td>[15.4309, 0.0, 0.0, 0.0, 15.430421642099999, 0...</td>\n      <td>48</td>\n      <td>iurii</td>\n      <td>122</td>\n      <td>1.638445e+09</td>\n      <td>...</td>\n      <td>[[0.898, 0.003000000000000001, 0.0, -0.005, 0....</td>\n      <td>[[0.17304000000000003, -0.000108, -0.0001, -2....</td>\n      <td>0.0011</td>\n      <td>(O, Mn)</td>\n      <td>O</td>\n      <td>Mn</td>\n      <td>Mn-O</td>\n      <td>#9C7AC7</td>\n      <td>/Users/azadoks/Data/uv_ml/iurii/Spinel/LixMn2O...</td>\n      <td>train</td>\n    </tr>\n    <tr>\n      <th>106817</th>\n      <td>/Users/azadoks/Data/uv_ml/iurii/Spinel/LixMn2O...</td>\n      <td>Mn2O4</td>\n      <td>False</td>\n      <td>3</td>\n      <td></td>\n      <td>[15.4309, 0.0, 0.0, 0.0, 15.430421642099999, 0...</td>\n      <td>48</td>\n      <td>iurii</td>\n      <td>122</td>\n      <td>1.638445e+09</td>\n      <td>...</td>\n      <td>[[0.898, 0.0, -0.002, 0.005, 0.008], [0.0, 1.0...</td>\n      <td>[[0.17304000000000003, -0.0001, -9.89999999999...</td>\n      <td>0.0011</td>\n      <td>(O, Mn)</td>\n      <td>O</td>\n      <td>Mn</td>\n      <td>Mn-O</td>\n      <td>#9C7AC7</td>\n      <td>/Users/azadoks/Data/uv_ml/iurii/Spinel/LixMn2O...</td>\n      <td>validate</td>\n    </tr>\n    <tr>\n      <th>106862</th>\n      <td>/Users/azadoks/Data/uv_ml/iurii/Spinel/LixMn2O...</td>\n      <td>Mn2O4</td>\n      <td>False</td>\n      <td>3</td>\n      <td></td>\n      <td>[15.4309, 0.0, 0.0, 0.0, 15.430421642099999, 0...</td>\n      <td>48</td>\n      <td>iurii</td>\n      <td>122</td>\n      <td>1.638445e+09</td>\n      <td>...</td>\n      <td>[[0.8899999999999999, -0.006999999999999999, 0...</td>\n      <td>[[0.17670899999999998, -0.00012, -0.00012, 0.0...</td>\n      <td>0.0009</td>\n      <td>(O, Mn)</td>\n      <td>O</td>\n      <td>Mn</td>\n      <td>Mn-O</td>\n      <td>#9C7AC7</td>\n      <td>/Users/azadoks/Data/uv_ml/iurii/Spinel/LixMn2O...</td>\n      <td>validate</td>\n    </tr>\n    <tr>\n      <th>106863</th>\n      <td>/Users/azadoks/Data/uv_ml/iurii/Spinel/LixMn2O...</td>\n      <td>Mn2O4</td>\n      <td>False</td>\n      <td>3</td>\n      <td></td>\n      <td>[15.4309, 0.0, 0.0, 0.0, 15.430421642099999, 0...</td>\n      <td>48</td>\n      <td>iurii</td>\n      <td>122</td>\n      <td>1.638445e+09</td>\n      <td>...</td>\n      <td>[[0.898, 0.003000000000000001, 0.0, -0.005, 0....</td>\n      <td>[[0.17304000000000003, -0.000108, -0.0001, -2....</td>\n      <td>0.0011</td>\n      <td>(O, Mn)</td>\n      <td>O</td>\n      <td>Mn</td>\n      <td>Mn-O</td>\n      <td>#9C7AC7</td>\n      <td>/Users/azadoks/Data/uv_ml/iurii/Spinel/LixMn2O...</td>\n      <td>train</td>\n    </tr>\n    <tr>\n      <th>106864</th>\n      <td>/Users/azadoks/Data/uv_ml/iurii/Spinel/LixMn2O...</td>\n      <td>Mn2O4</td>\n      <td>False</td>\n      <td>3</td>\n      <td></td>\n      <td>[15.4309, 0.0, 0.0, 0.0, 15.430421642099999, 0...</td>\n      <td>48</td>\n      <td>iurii</td>\n      <td>122</td>\n      <td>1.638445e+09</td>\n      <td>...</td>\n      <td>[[0.898, 0.0, -0.002, 0.005, 0.008], [0.0, 1.0...</td>\n      <td>[[0.17304000000000003, -0.0001, -9.89999999999...</td>\n      <td>0.0011</td>\n      <td>(O, Mn)</td>\n      <td>O</td>\n      <td>Mn</td>\n      <td>Mn-O</td>\n      <td>#9C7AC7</td>\n      <td>/Users/azadoks/Data/uv_ml/iurii/Spinel/LixMn2O...</td>\n      <td>train</td>\n    </tr>\n  </tbody>\n</table>\n<p>4714 rows × 56 columns</p>\n</div>"
     },
     "execution_count": 9,
     "metadata": {},
     "output_type": "execute_result"
    }
   ],
   "source": [
    "hubbardml.datasets.split(df, method='category', frac=0.2, category=['species'])"
   ],
   "metadata": {
    "collapsed": false,
    "ExecuteTime": {
     "end_time": "2023-07-20T17:21:51.625241286Z",
     "start_time": "2023-07-20T17:21:51.569562323Z"
    }
   }
  },
  {
   "cell_type": "code",
   "execution_count": 10,
   "id": "72f9e8d1",
   "metadata": {
    "ExecuteTime": {
     "end_time": "2023-07-20T17:21:51.644054777Z",
     "start_time": "2023-07-20T17:21:51.626394Z"
    }
   },
   "outputs": [
    {
     "name": "stdout",
     "output_type": "stream",
     "text": [
      "(Ni, O)    1747\n",
      "(O, Mn)    1445\n",
      "(O, Fe)     562\n",
      "(O, Co)      14\n",
      "(S, Ti)       3\n",
      "Name: species, dtype: int64\n",
      "(Ni, O)    437\n",
      "(O, Mn)    361\n",
      "(O, Fe)    140\n",
      "(O, Co)      4\n",
      "(S, Ti)      1\n",
      "Name: species, dtype: int64\n"
     ]
    }
   ],
   "source": [
    "# Get the indices of the training and test data\n",
    "train_idx = df[df[keys.TRAINING_LABEL] == keys.TRAIN].index\n",
    "validate_idx = df[df[keys.TRAINING_LABEL] == keys.VALIDATE].index\n",
    "\n",
    "print(df.loc[train_idx]['species'].value_counts())\n",
    "print(df.loc[validate_idx]['species'].value_counts())"
   ]
  },
  {
   "cell_type": "code",
   "execution_count": 11,
   "id": "5031da0a",
   "metadata": {
    "ExecuteTime": {
     "end_time": "2023-07-20T17:21:51.740916313Z",
     "start_time": "2023-07-20T17:21:51.643452347Z"
    }
   },
   "outputs": [],
   "source": [
    "trainer = hubbardml.training.Trainer.from_frame(\n",
    "    model = model,\n",
    "    opt = torch.optim.Adam(model.parameters(), lr=0.001),\n",
    "    loss_fn = torch.nn.MSELoss(),\n",
    "    frame = df\n",
    ")"
   ]
  },
  {
   "cell_type": "code",
   "execution_count": 12,
   "outputs": [],
   "source": [
    "trainer._opt = torch.optim.Adam(model.parameters(), lr=0.01)"
   ],
   "metadata": {
    "collapsed": false,
    "ExecuteTime": {
     "end_time": "2023-07-20T17:21:51.741446786Z",
     "start_time": "2023-07-20T17:21:51.698117137Z"
    }
   }
  },
  {
   "cell_type": "code",
   "execution_count": 13,
   "id": "425a0e52",
   "metadata": {
    "ExecuteTime": {
     "end_time": "2023-07-20T17:21:52.946680877Z",
     "start_time": "2023-07-20T17:21:51.698423332Z"
    }
   },
   "outputs": [
    {
     "ename": "RuntimeError",
     "evalue": "einsum(): subscript i has size 5 for operand 1 which does not broadcast with previously seen size 3",
     "output_type": "error",
     "traceback": [
      "\u001B[0;31m---------------------------------------------------------------------------\u001B[0m",
      "\u001B[0;31mRuntimeError\u001B[0m                              Traceback (most recent call last)",
      "Cell \u001B[0;32mIn[13], line 7\u001B[0m\n\u001B[1;32m      3\u001B[0m \u001B[38;5;28;01mdef\u001B[39;00m \u001B[38;5;21mprogress\u001B[39m(trainer):\n\u001B[1;32m      4\u001B[0m     \u001B[38;5;28mprint\u001B[39m(\n\u001B[1;32m      5\u001B[0m         \u001B[38;5;124mf\u001B[39m\u001B[38;5;124m\"\u001B[39m\u001B[38;5;132;01m{\u001B[39;00mtrainer\u001B[38;5;241m.\u001B[39mepoch\u001B[38;5;132;01m}\u001B[39;00m\u001B[38;5;124m \u001B[39m\u001B[38;5;132;01m{\u001B[39;00mtrainer\u001B[38;5;241m.\u001B[39mtraining\u001B[38;5;241m.\u001B[39mmetrics[\u001B[38;5;124m'\u001B[39m\u001B[38;5;124mmse\u001B[39m\u001B[38;5;124m'\u001B[39m]\u001B[38;5;132;01m:\u001B[39;00m\u001B[38;5;124m.5f\u001B[39m\u001B[38;5;132;01m}\u001B[39;00m\u001B[38;5;124m \u001B[39m\u001B[38;5;132;01m{\u001B[39;00mtrainer\u001B[38;5;241m.\u001B[39mvalidation\u001B[38;5;241m.\u001B[39mmetrics[\u001B[38;5;124m'\u001B[39m\u001B[38;5;124mmse\u001B[39m\u001B[38;5;124m'\u001B[39m]\u001B[38;5;132;01m:\u001B[39;00m\u001B[38;5;124m.5f\u001B[39m\u001B[38;5;132;01m}\u001B[39;00m\u001B[38;5;124m \u001B[39m\u001B[38;5;132;01m{\u001B[39;00mtrainer\u001B[38;5;241m.\u001B[39mvalidation\u001B[38;5;241m.\u001B[39mmetrics[\u001B[38;5;124m'\u001B[39m\u001B[38;5;124mrmse\u001B[39m\u001B[38;5;124m'\u001B[39m]\u001B[38;5;132;01m:\u001B[39;00m\u001B[38;5;124m.4f\u001B[39m\u001B[38;5;132;01m}\u001B[39;00m\u001B[38;5;124m\"\u001B[39m)\n\u001B[0;32m----> 7\u001B[0m \u001B[43mtrainer\u001B[49m\u001B[38;5;241;43m.\u001B[39;49m\u001B[43mtrain\u001B[49m\u001B[43m(\u001B[49m\n\u001B[1;32m      8\u001B[0m \u001B[43m    \u001B[49m\u001B[43mcallback\u001B[49m\u001B[38;5;241;43m=\u001B[39;49m\u001B[43mprogress\u001B[49m\u001B[43m,\u001B[49m\n\u001B[1;32m      9\u001B[0m \u001B[43m    \u001B[49m\u001B[43mcallback_period\u001B[49m\u001B[38;5;241;43m=\u001B[39;49m\u001B[38;5;241;43m50\u001B[39;49m\u001B[43m,\u001B[49m\n\u001B[1;32m     10\u001B[0m \u001B[43m    \u001B[49m\u001B[43mmax_epochs\u001B[49m\u001B[38;5;241;43m=\u001B[39;49m\u001B[38;5;241;43m1_000\u001B[39;49m\n\u001B[1;32m     11\u001B[0m \u001B[43m)\u001B[49m\n",
      "File \u001B[0;32m~/docs/academic/projects/hubbardml/hubbardml/training.py:321\u001B[0m, in \u001B[0;36mTrainer.train\u001B[0;34m(self, min_epochs, max_epochs, callback, callback_period)\u001B[0m\n\u001B[1;32m    319\u001B[0m \u001B[38;5;66;03m# Iterate over batches\u001B[39;00m\n\u001B[1;32m    320\u001B[0m \u001B[38;5;28mself\u001B[39m\u001B[38;5;241m.\u001B[39m_opt\u001B[38;5;241m.\u001B[39mzero_grad()\n\u001B[0;32m--> 321\u001B[0m \u001B[38;5;28;01mfor\u001B[39;00m batch_idx, x, y, y_pred \u001B[38;5;129;01min\u001B[39;00m \u001B[38;5;28mself\u001B[39m\u001B[38;5;241m.\u001B[39mtraining\u001B[38;5;241m.\u001B[39mstep(\u001B[38;5;28mself\u001B[39m\u001B[38;5;241m.\u001B[39m_train_loader):\n\u001B[1;32m    322\u001B[0m     loss \u001B[38;5;241m=\u001B[39m \u001B[38;5;28mself\u001B[39m\u001B[38;5;241m.\u001B[39m_loss_fn(y_pred, y)\n\u001B[1;32m    323\u001B[0m     loss\u001B[38;5;241m.\u001B[39mbackward()\n",
      "File \u001B[0;32m~/docs/academic/projects/hubbardml/hubbardml/engines.py:133\u001B[0m, in \u001B[0;36mEngine.step\u001B[0;34m(self, data)\u001B[0m\n\u001B[1;32m    130\u001B[0m device \u001B[38;5;241m=\u001B[39m \u001B[38;5;28mself\u001B[39m\u001B[38;5;241m.\u001B[39m_model\u001B[38;5;241m.\u001B[39mdevice\n\u001B[1;32m    132\u001B[0m total_batch_size \u001B[38;5;241m=\u001B[39m \u001B[38;5;241m0\u001B[39m\n\u001B[0;32m--> 133\u001B[0m \u001B[38;5;28;01mfor\u001B[39;00m batch_idx, batch \u001B[38;5;129;01min\u001B[39;00m \u001B[38;5;28menumerate\u001B[39m(data):\n\u001B[1;32m    134\u001B[0m     x, y \u001B[38;5;241m=\u001B[39m _to(batch[\u001B[38;5;241m0\u001B[39m], device\u001B[38;5;241m=\u001B[39mdevice), _to(batch[\u001B[38;5;241m1\u001B[39m], device\u001B[38;5;241m=\u001B[39mdevice)\n\u001B[1;32m    135\u001B[0m     \u001B[38;5;28mself\u001B[39m\u001B[38;5;241m.\u001B[39m_events\u001B[38;5;241m.\u001B[39mfire_event(EngineListener\u001B[38;5;241m.\u001B[39mbatch_starting, \u001B[38;5;28mself\u001B[39m, batch_idx, x, y)\n",
      "File \u001B[0;32m~/.local/miniconda3/envs/dftuv/lib/python3.10/site-packages/torch/utils/data/dataloader.py:634\u001B[0m, in \u001B[0;36m_BaseDataLoaderIter.__next__\u001B[0;34m(self)\u001B[0m\n\u001B[1;32m    631\u001B[0m \u001B[38;5;28;01mif\u001B[39;00m \u001B[38;5;28mself\u001B[39m\u001B[38;5;241m.\u001B[39m_sampler_iter \u001B[38;5;129;01mis\u001B[39;00m \u001B[38;5;28;01mNone\u001B[39;00m:\n\u001B[1;32m    632\u001B[0m     \u001B[38;5;66;03m# TODO(https://github.com/pytorch/pytorch/issues/76750)\u001B[39;00m\n\u001B[1;32m    633\u001B[0m     \u001B[38;5;28mself\u001B[39m\u001B[38;5;241m.\u001B[39m_reset()  \u001B[38;5;66;03m# type: ignore[call-arg]\u001B[39;00m\n\u001B[0;32m--> 634\u001B[0m data \u001B[38;5;241m=\u001B[39m \u001B[38;5;28;43mself\u001B[39;49m\u001B[38;5;241;43m.\u001B[39;49m\u001B[43m_next_data\u001B[49m\u001B[43m(\u001B[49m\u001B[43m)\u001B[49m\n\u001B[1;32m    635\u001B[0m \u001B[38;5;28mself\u001B[39m\u001B[38;5;241m.\u001B[39m_num_yielded \u001B[38;5;241m+\u001B[39m\u001B[38;5;241m=\u001B[39m \u001B[38;5;241m1\u001B[39m\n\u001B[1;32m    636\u001B[0m \u001B[38;5;28;01mif\u001B[39;00m \u001B[38;5;28mself\u001B[39m\u001B[38;5;241m.\u001B[39m_dataset_kind \u001B[38;5;241m==\u001B[39m _DatasetKind\u001B[38;5;241m.\u001B[39mIterable \u001B[38;5;129;01mand\u001B[39;00m \\\n\u001B[1;32m    637\u001B[0m         \u001B[38;5;28mself\u001B[39m\u001B[38;5;241m.\u001B[39m_IterableDataset_len_called \u001B[38;5;129;01mis\u001B[39;00m \u001B[38;5;129;01mnot\u001B[39;00m \u001B[38;5;28;01mNone\u001B[39;00m \u001B[38;5;129;01mand\u001B[39;00m \\\n\u001B[1;32m    638\u001B[0m         \u001B[38;5;28mself\u001B[39m\u001B[38;5;241m.\u001B[39m_num_yielded \u001B[38;5;241m>\u001B[39m \u001B[38;5;28mself\u001B[39m\u001B[38;5;241m.\u001B[39m_IterableDataset_len_called:\n",
      "File \u001B[0;32m~/.local/miniconda3/envs/dftuv/lib/python3.10/site-packages/torch/utils/data/dataloader.py:678\u001B[0m, in \u001B[0;36m_SingleProcessDataLoaderIter._next_data\u001B[0;34m(self)\u001B[0m\n\u001B[1;32m    676\u001B[0m \u001B[38;5;28;01mdef\u001B[39;00m \u001B[38;5;21m_next_data\u001B[39m(\u001B[38;5;28mself\u001B[39m):\n\u001B[1;32m    677\u001B[0m     index \u001B[38;5;241m=\u001B[39m \u001B[38;5;28mself\u001B[39m\u001B[38;5;241m.\u001B[39m_next_index()  \u001B[38;5;66;03m# may raise StopIteration\u001B[39;00m\n\u001B[0;32m--> 678\u001B[0m     data \u001B[38;5;241m=\u001B[39m \u001B[38;5;28;43mself\u001B[39;49m\u001B[38;5;241;43m.\u001B[39;49m\u001B[43m_dataset_fetcher\u001B[49m\u001B[38;5;241;43m.\u001B[39;49m\u001B[43mfetch\u001B[49m\u001B[43m(\u001B[49m\u001B[43mindex\u001B[49m\u001B[43m)\u001B[49m  \u001B[38;5;66;03m# may raise StopIteration\u001B[39;00m\n\u001B[1;32m    679\u001B[0m     \u001B[38;5;28;01mif\u001B[39;00m \u001B[38;5;28mself\u001B[39m\u001B[38;5;241m.\u001B[39m_pin_memory:\n\u001B[1;32m    680\u001B[0m         data \u001B[38;5;241m=\u001B[39m _utils\u001B[38;5;241m.\u001B[39mpin_memory\u001B[38;5;241m.\u001B[39mpin_memory(data, \u001B[38;5;28mself\u001B[39m\u001B[38;5;241m.\u001B[39m_pin_memory_device)\n",
      "File \u001B[0;32m~/.local/miniconda3/envs/dftuv/lib/python3.10/site-packages/torch/utils/data/_utils/fetch.py:51\u001B[0m, in \u001B[0;36m_MapDatasetFetcher.fetch\u001B[0;34m(self, possibly_batched_index)\u001B[0m\n\u001B[1;32m     49\u001B[0m         data \u001B[38;5;241m=\u001B[39m \u001B[38;5;28mself\u001B[39m\u001B[38;5;241m.\u001B[39mdataset\u001B[38;5;241m.\u001B[39m__getitems__(possibly_batched_index)\n\u001B[1;32m     50\u001B[0m     \u001B[38;5;28;01melse\u001B[39;00m:\n\u001B[0;32m---> 51\u001B[0m         data \u001B[38;5;241m=\u001B[39m [\u001B[38;5;28mself\u001B[39m\u001B[38;5;241m.\u001B[39mdataset[idx] \u001B[38;5;28;01mfor\u001B[39;00m idx \u001B[38;5;129;01min\u001B[39;00m possibly_batched_index]\n\u001B[1;32m     52\u001B[0m \u001B[38;5;28;01melse\u001B[39;00m:\n\u001B[1;32m     53\u001B[0m     data \u001B[38;5;241m=\u001B[39m \u001B[38;5;28mself\u001B[39m\u001B[38;5;241m.\u001B[39mdataset[possibly_batched_index]\n",
      "File \u001B[0;32m~/.local/miniconda3/envs/dftuv/lib/python3.10/site-packages/torch/utils/data/_utils/fetch.py:51\u001B[0m, in \u001B[0;36m<listcomp>\u001B[0;34m(.0)\u001B[0m\n\u001B[1;32m     49\u001B[0m         data \u001B[38;5;241m=\u001B[39m \u001B[38;5;28mself\u001B[39m\u001B[38;5;241m.\u001B[39mdataset\u001B[38;5;241m.\u001B[39m__getitems__(possibly_batched_index)\n\u001B[1;32m     50\u001B[0m     \u001B[38;5;28;01melse\u001B[39;00m:\n\u001B[0;32m---> 51\u001B[0m         data \u001B[38;5;241m=\u001B[39m [\u001B[38;5;28;43mself\u001B[39;49m\u001B[38;5;241;43m.\u001B[39;49m\u001B[43mdataset\u001B[49m\u001B[43m[\u001B[49m\u001B[43midx\u001B[49m\u001B[43m]\u001B[49m \u001B[38;5;28;01mfor\u001B[39;00m idx \u001B[38;5;129;01min\u001B[39;00m possibly_batched_index]\n\u001B[1;32m     52\u001B[0m \u001B[38;5;28;01melse\u001B[39;00m:\n\u001B[1;32m     53\u001B[0m     data \u001B[38;5;241m=\u001B[39m \u001B[38;5;28mself\u001B[39m\u001B[38;5;241m.\u001B[39mdataset[possibly_batched_index]\n",
      "File \u001B[0;32m~/docs/academic/projects/hubbardml/hubbardml/graphs.py:443\u001B[0m, in \u001B[0;36mHubbardDataset.__getitem__\u001B[0;34m(self, item)\u001B[0m\n\u001B[1;32m    440\u001B[0m     \u001B[38;5;28;01mpass\u001B[39;00m\n\u001B[1;32m    442\u001B[0m row \u001B[38;5;241m=\u001B[39m \u001B[38;5;28mself\u001B[39m\u001B[38;5;241m.\u001B[39m_df\u001B[38;5;241m.\u001B[39miloc[item]\n\u001B[0;32m--> 443\u001B[0m inp \u001B[38;5;241m=\u001B[39m \u001B[38;5;28;43mself\u001B[39;49m\u001B[38;5;241;43m.\u001B[39;49m\u001B[43m_graph\u001B[49m\u001B[38;5;241;43m.\u001B[39;49m\u001B[43mcreate_inputs\u001B[49m\u001B[43m(\u001B[49m\u001B[43mrow\u001B[49m\u001B[43m,\u001B[49m\u001B[43m \u001B[49m\u001B[43mdtype\u001B[49m\u001B[38;5;241;43m=\u001B[39;49m\u001B[38;5;28;43mself\u001B[39;49m\u001B[38;5;241;43m.\u001B[39;49m\u001B[43m_dtype\u001B[49m\u001B[43m,\u001B[49m\u001B[43m \u001B[49m\u001B[43mdevice\u001B[49m\u001B[38;5;241;43m=\u001B[39;49m\u001B[38;5;28;43mself\u001B[39;49m\u001B[38;5;241;43m.\u001B[39;49m\u001B[43m_device\u001B[49m\u001B[43m)\u001B[49m\n\u001B[1;32m    444\u001B[0m label \u001B[38;5;241m=\u001B[39m torch\u001B[38;5;241m.\u001B[39mtensor([row[\u001B[38;5;28mself\u001B[39m\u001B[38;5;241m.\u001B[39m_target_column]], dtype\u001B[38;5;241m=\u001B[39m\u001B[38;5;28mself\u001B[39m\u001B[38;5;241m.\u001B[39m_dtype, device\u001B[38;5;241m=\u001B[39m\u001B[38;5;28mself\u001B[39m\u001B[38;5;241m.\u001B[39m_device)\n\u001B[1;32m    445\u001B[0m \u001B[38;5;28mself\u001B[39m\u001B[38;5;241m.\u001B[39m_cache[item] \u001B[38;5;241m=\u001B[39m inp, label\n",
      "File \u001B[0;32m~/docs/academic/projects/hubbardml/hubbardml/graphs.py:293\u001B[0m, in \u001B[0;36mVGraph.create_inputs\u001B[0;34m(self, row, dtype, device)\u001B[0m\n\u001B[1;32m    290\u001B[0m _check_shape(row, key(\u001B[38;5;124m\"\u001B[39m\u001B[38;5;124moccs_inv\u001B[39m\u001B[38;5;124m\"\u001B[39m, didx, \u001B[38;5;241m1\u001B[39m), (\u001B[38;5;241m5\u001B[39m, \u001B[38;5;241m5\u001B[39m))\n\u001B[1;32m    291\u001B[0m _check_shape(row, key(\u001B[38;5;124m\"\u001B[39m\u001B[38;5;124moccs_inv\u001B[39m\u001B[38;5;124m\"\u001B[39m, didx, \u001B[38;5;241m2\u001B[39m), (\u001B[38;5;241m5\u001B[39m, \u001B[38;5;241m5\u001B[39m))\n\u001B[0;32m--> 293\u001B[0m psite_inputs \u001B[38;5;241m=\u001B[39m \u001B[38;5;28;43mself\u001B[39;49m\u001B[38;5;241;43m.\u001B[39;49m\u001B[43msite1\u001B[49m\u001B[38;5;241;43m.\u001B[39;49m\u001B[43mcreate_inputs\u001B[49m\u001B[43m(\u001B[49m\u001B[43mrow\u001B[49m\u001B[43m,\u001B[49m\u001B[43m \u001B[49m\u001B[43mdtype\u001B[49m\u001B[38;5;241;43m=\u001B[39;49m\u001B[43mdtype\u001B[49m\u001B[43m,\u001B[49m\u001B[43m \u001B[49m\u001B[43mdevice\u001B[49m\u001B[38;5;241;43m=\u001B[39;49m\u001B[43mdevice\u001B[49m\u001B[43m)\u001B[49m\n\u001B[1;32m    294\u001B[0m psite_tensor \u001B[38;5;241m=\u001B[39m torch\u001B[38;5;241m.\u001B[39mhstack(\n\u001B[1;32m    295\u001B[0m     \u001B[38;5;28mtuple\u001B[39m(\n\u001B[1;32m    296\u001B[0m         \u001B[38;5;66;03m# Use tensorial_attrs() so that the order is guaranteed to be correct\u001B[39;00m\n\u001B[1;32m    297\u001B[0m         psite_inputs[key] \u001B[38;5;28;01mfor\u001B[39;00m key \u001B[38;5;129;01min\u001B[39;00m e3psi\u001B[38;5;241m.\u001B[39mtensorial_attrs(\u001B[38;5;28mself\u001B[39m\u001B[38;5;241m.\u001B[39msite1)\u001B[38;5;241m.\u001B[39mkeys()\n\u001B[1;32m    298\u001B[0m     )\n\u001B[1;32m    299\u001B[0m )\n\u001B[1;32m    301\u001B[0m dsite_inputs \u001B[38;5;241m=\u001B[39m \u001B[38;5;28mself\u001B[39m\u001B[38;5;241m.\u001B[39msite2\u001B[38;5;241m.\u001B[39mcreate_inputs(row, dtype\u001B[38;5;241m=\u001B[39mdtype, device\u001B[38;5;241m=\u001B[39mdevice)\n",
      "File \u001B[0;32m~/docs/academic/projects/hubbardml/hubbardml/graphs.py:118\u001B[0m, in \u001B[0;36mSite.create_inputs\u001B[0;34m(self, raw_data, dtype, device)\u001B[0m\n\u001B[1;32m    112\u001B[0m occupations \u001B[38;5;241m=\u001B[39m \u001B[38;5;28mlist\u001B[39m(\u001B[38;5;28mmap\u001B[39m(\u001B[38;5;28;01mlambda\u001B[39;00m occs: np\u001B[38;5;241m.\u001B[39mabs(np\u001B[38;5;241m.\u001B[39marray(occs)), occupations))\n\u001B[1;32m    114\u001B[0m tensor_kwargs \u001B[38;5;241m=\u001B[39m \u001B[38;5;28mdict\u001B[39m(dtype\u001B[38;5;241m=\u001B[39mdtype, device\u001B[38;5;241m=\u001B[39mdevice)\n\u001B[1;32m    115\u001B[0m \u001B[38;5;28;01mreturn\u001B[39;00m \u001B[38;5;28mdict\u001B[39m(\n\u001B[1;32m    116\u001B[0m     specie\u001B[38;5;241m=\u001B[39me3psi\u001B[38;5;241m.\u001B[39mcreate_tensor(\u001B[38;5;28mself\u001B[39m\u001B[38;5;241m.\u001B[39mspecie, raw_data[keys\u001B[38;5;241m.\u001B[39mATOM_1_ELEMENT], \u001B[38;5;241m*\u001B[39m\u001B[38;5;241m*\u001B[39mtensor_kwargs),\n\u001B[1;32m    117\u001B[0m     \u001B[38;5;66;03m# Pass the same up/down occupation matrices to both the sum and product\u001B[39;00m\n\u001B[0;32m--> 118\u001B[0m     occs_sum\u001B[38;5;241m=\u001B[39m\u001B[43me3psi\u001B[49m\u001B[38;5;241;43m.\u001B[39;49m\u001B[43mcreate_tensor\u001B[49m\u001B[43m(\u001B[49m\u001B[38;5;28;43mself\u001B[39;49m\u001B[38;5;241;43m.\u001B[39;49m\u001B[43moccs_sum\u001B[49m\u001B[43m,\u001B[49m\u001B[43m \u001B[49m\u001B[43moccupations\u001B[49m\u001B[43m,\u001B[49m\u001B[43m \u001B[49m\u001B[38;5;241;43m*\u001B[39;49m\u001B[38;5;241;43m*\u001B[39;49m\u001B[43mtensor_kwargs\u001B[49m\u001B[43m)\u001B[49m,\n\u001B[1;32m    119\u001B[0m     occs_prod\u001B[38;5;241m=\u001B[39me3psi\u001B[38;5;241m.\u001B[39mcreate_tensor(\u001B[38;5;28mself\u001B[39m\u001B[38;5;241m.\u001B[39moccs_prod, occupations, \u001B[38;5;241m*\u001B[39m\u001B[38;5;241m*\u001B[39mtensor_kwargs),\n\u001B[1;32m    120\u001B[0m )\n",
      "File \u001B[0;32m~/.local/miniconda3/envs/dftuv/lib/python3.10/functools.py:889\u001B[0m, in \u001B[0;36msingledispatch.<locals>.wrapper\u001B[0;34m(*args, **kw)\u001B[0m\n\u001B[1;32m    885\u001B[0m \u001B[38;5;28;01mif\u001B[39;00m \u001B[38;5;129;01mnot\u001B[39;00m args:\n\u001B[1;32m    886\u001B[0m     \u001B[38;5;28;01mraise\u001B[39;00m \u001B[38;5;167;01mTypeError\u001B[39;00m(\u001B[38;5;124mf\u001B[39m\u001B[38;5;124m'\u001B[39m\u001B[38;5;132;01m{\u001B[39;00mfuncname\u001B[38;5;132;01m}\u001B[39;00m\u001B[38;5;124m requires at least \u001B[39m\u001B[38;5;124m'\u001B[39m\n\u001B[1;32m    887\u001B[0m                     \u001B[38;5;124m'\u001B[39m\u001B[38;5;124m1 positional argument\u001B[39m\u001B[38;5;124m'\u001B[39m)\n\u001B[0;32m--> 889\u001B[0m \u001B[38;5;28;01mreturn\u001B[39;00m \u001B[43mdispatch\u001B[49m\u001B[43m(\u001B[49m\u001B[43margs\u001B[49m\u001B[43m[\u001B[49m\u001B[38;5;241;43m0\u001B[39;49m\u001B[43m]\u001B[49m\u001B[38;5;241;43m.\u001B[39;49m\u001B[38;5;18;43m__class__\u001B[39;49m\u001B[43m)\u001B[49m\u001B[43m(\u001B[49m\u001B[38;5;241;43m*\u001B[39;49m\u001B[43margs\u001B[49m\u001B[43m,\u001B[49m\u001B[43m \u001B[49m\u001B[38;5;241;43m*\u001B[39;49m\u001B[38;5;241;43m*\u001B[39;49m\u001B[43mkw\u001B[49m\u001B[43m)\u001B[49m\n",
      "File \u001B[0;32m~/src/e3psi/e3psi/base.py:152\u001B[0m, in \u001B[0;36m_\u001B[0;34m(attr, value, dtype, device)\u001B[0m\n\u001B[1;32m    150\u001B[0m \u001B[38;5;129m@create_tensor\u001B[39m\u001B[38;5;241m.\u001B[39mregister\n\u001B[1;32m    151\u001B[0m \u001B[38;5;28;01mdef\u001B[39;00m \u001B[38;5;21m_\u001B[39m(attr: Attr, value, dtype\u001B[38;5;241m=\u001B[39m\u001B[38;5;28;01mNone\u001B[39;00m, device\u001B[38;5;241m=\u001B[39m\u001B[38;5;28;01mNone\u001B[39;00m) \u001B[38;5;241m-\u001B[39m\u001B[38;5;241m>\u001B[39m torch\u001B[38;5;241m.\u001B[39mTensor:\n\u001B[0;32m--> 152\u001B[0m     \u001B[38;5;28;01mreturn\u001B[39;00m \u001B[43mattr\u001B[49m\u001B[38;5;241;43m.\u001B[39;49m\u001B[43mcreate_tensor\u001B[49m\u001B[43m(\u001B[49m\u001B[43mvalue\u001B[49m\u001B[43m,\u001B[49m\u001B[43m \u001B[49m\u001B[43mdtype\u001B[49m\u001B[38;5;241;43m=\u001B[39;49m\u001B[43mdtype\u001B[49m\u001B[43m,\u001B[49m\u001B[43m \u001B[49m\u001B[43mdevice\u001B[49m\u001B[38;5;241;43m=\u001B[39;49m\u001B[43mdevice\u001B[49m\u001B[43m)\u001B[49m\n",
      "File \u001B[0;32m~/docs/academic/projects/hubbardml/hubbardml/graphs.py:71\u001B[0m, in \u001B[0;36mTensorSum.create_tensor\u001B[0;34m(self, value, dtype, device)\u001B[0m\n\u001B[1;32m     69\u001B[0m \u001B[38;5;28;01mdef\u001B[39;00m \u001B[38;5;21mcreate_tensor\u001B[39m(\u001B[38;5;28mself\u001B[39m, value: List, dtype\u001B[38;5;241m=\u001B[39m\u001B[38;5;28;01mNone\u001B[39;00m, device\u001B[38;5;241m=\u001B[39m\u001B[38;5;28;01mNone\u001B[39;00m) \u001B[38;5;241m-\u001B[39m\u001B[38;5;241m>\u001B[39m torch\u001B[38;5;241m.\u001B[39mTensor:\n\u001B[1;32m     70\u001B[0m     create \u001B[38;5;241m=\u001B[39m functools\u001B[38;5;241m.\u001B[39mpartial(\u001B[38;5;28mself\u001B[39m\u001B[38;5;241m.\u001B[39m_attr\u001B[38;5;241m.\u001B[39mcreate_tensor, dtype\u001B[38;5;241m=\u001B[39mdtype, device\u001B[38;5;241m=\u001B[39mdevice)\n\u001B[0;32m---> 71\u001B[0m     \u001B[38;5;28;01mreturn\u001B[39;00m \u001B[38;5;28;43msum\u001B[39;49m\u001B[43m(\u001B[49m\u001B[38;5;28;43mmap\u001B[39;49m\u001B[43m(\u001B[49m\u001B[43mcreate\u001B[49m\u001B[43m,\u001B[49m\u001B[43m \u001B[49m\u001B[43mvalue\u001B[49m\u001B[43m)\u001B[49m\u001B[43m)\u001B[49m\n",
      "File \u001B[0;32m~/src/e3psi/e3psi/graphs.py:76\u001B[0m, in \u001B[0;36mOccuMtx.create_tensor\u001B[0;34m(self, occ_mtx, dtype, device)\u001B[0m\n\u001B[1;32m     74\u001B[0m occ \u001B[38;5;241m=\u001B[39m torch\u001B[38;5;241m.\u001B[39mtensor(occ_mtx, dtype\u001B[38;5;241m=\u001B[39mdtype \u001B[38;5;129;01mor\u001B[39;00m torch\u001B[38;5;241m.\u001B[39mget_default_dtype(), device\u001B[38;5;241m=\u001B[39mdevice)\n\u001B[1;32m     75\u001B[0m cob \u001B[38;5;241m=\u001B[39m \u001B[38;5;28mself\u001B[39m\u001B[38;5;241m.\u001B[39mtp\u001B[38;5;241m.\u001B[39mchange_of_basis\u001B[38;5;241m.\u001B[39mto(dtype\u001B[38;5;241m=\u001B[39mdtype, device\u001B[38;5;241m=\u001B[39mdevice)\n\u001B[0;32m---> 76\u001B[0m \u001B[38;5;28;01mreturn\u001B[39;00m \u001B[43mtorch\u001B[49m\u001B[38;5;241;43m.\u001B[39;49m\u001B[43meinsum\u001B[49m\u001B[43m(\u001B[49m\u001B[38;5;124;43m\"\u001B[39;49m\u001B[38;5;124;43mzij,ij->z\u001B[39;49m\u001B[38;5;124;43m\"\u001B[39;49m\u001B[43m,\u001B[49m\u001B[43m \u001B[49m\u001B[43mcob\u001B[49m\u001B[43m,\u001B[49m\u001B[43m \u001B[49m\u001B[43mocc\u001B[49m\u001B[43m)\u001B[49m\n",
      "File \u001B[0;32m~/.local/miniconda3/envs/dftuv/lib/python3.10/site-packages/torch/functional.py:378\u001B[0m, in \u001B[0;36meinsum\u001B[0;34m(*args)\u001B[0m\n\u001B[1;32m    373\u001B[0m     \u001B[38;5;28;01mreturn\u001B[39;00m einsum(equation, \u001B[38;5;241m*\u001B[39m_operands)\n\u001B[1;32m    375\u001B[0m \u001B[38;5;28;01mif\u001B[39;00m \u001B[38;5;28mlen\u001B[39m(operands) \u001B[38;5;241m<\u001B[39m\u001B[38;5;241m=\u001B[39m \u001B[38;5;241m2\u001B[39m \u001B[38;5;129;01mor\u001B[39;00m \u001B[38;5;129;01mnot\u001B[39;00m opt_einsum\u001B[38;5;241m.\u001B[39menabled:\n\u001B[1;32m    376\u001B[0m     \u001B[38;5;66;03m# the path for contracting 0 or 1 time(s) is already optimized\u001B[39;00m\n\u001B[1;32m    377\u001B[0m     \u001B[38;5;66;03m# or the user has disabled using opt_einsum\u001B[39;00m\n\u001B[0;32m--> 378\u001B[0m     \u001B[38;5;28;01mreturn\u001B[39;00m \u001B[43m_VF\u001B[49m\u001B[38;5;241;43m.\u001B[39;49m\u001B[43meinsum\u001B[49m\u001B[43m(\u001B[49m\u001B[43mequation\u001B[49m\u001B[43m,\u001B[49m\u001B[43m \u001B[49m\u001B[43moperands\u001B[49m\u001B[43m)\u001B[49m  \u001B[38;5;66;03m# type: ignore[attr-defined]\u001B[39;00m\n\u001B[1;32m    380\u001B[0m path \u001B[38;5;241m=\u001B[39m \u001B[38;5;28;01mNone\u001B[39;00m\n\u001B[1;32m    381\u001B[0m \u001B[38;5;28;01mif\u001B[39;00m opt_einsum\u001B[38;5;241m.\u001B[39mis_available():\n",
      "\u001B[0;31mRuntimeError\u001B[0m: einsum(): subscript i has size 5 for operand 1 which does not broadcast with previously seen size 3"
     ]
    }
   ],
   "source": [
    "trainer.overfitting_window = 600\n",
    "\n",
    "def progress(trainer):\n",
    "    print(\n",
    "        f\"{trainer.epoch} {trainer.training.metrics['mse']:.5f} {trainer.validation.metrics['mse']:.5f} {trainer.validation.metrics['rmse']:.4f}\")\n",
    "\n",
    "trainer.train(\n",
    "    callback=progress,\n",
    "    callback_period=50,\n",
    "    max_epochs=1_000\n",
    ")"
   ]
  },
  {
   "cell_type": "code",
   "execution_count": null,
   "id": "e1e95dd0",
   "metadata": {},
   "outputs": [],
   "source": [
    "trainer.plot_training_curves();"
   ]
  },
  {
   "cell_type": "code",
   "execution_count": null,
   "id": "8f92bd90",
   "metadata": {},
   "outputs": [],
   "source": [
    "predicted = model(trainer.validation_data.all_inputs()).detach().cpu().numpy().reshape(-1)\n",
    "input_train = model(trainer.training_data.all_inputs()).detach().cpu().numpy().reshape(-1)\n",
    "\n",
    "df.loc[validate_idx, keys.PARAM_OUT_PREDICTED] = predicted\n",
    "df.loc[train_idx, keys.PARAM_OUT_PREDICTED] = input_train"
   ]
  },
  {
   "cell_type": "code",
   "execution_count": null,
   "id": "4184511b",
   "metadata": {},
   "outputs": [],
   "source": [
    "df_test = df.loc[validate_idx]\n",
    "test_rmse = hubbardml.datasets.rmse(df)"
   ]
  },
  {
   "cell_type": "code",
   "execution_count": null,
   "id": "9da2617c",
   "metadata": {},
   "outputs": [],
   "source": [
    "hubbardml.plots.create_parity_plot(\n",
    "    df,\n",
    "    axis_label='Hubbard V (eV)',\n",
    "    title=f'RMSE = {test_rmse:.3f} ({TEST_PERCENTAGE} holdout)'\n",
    ");"
   ]
  },
  {
   "cell_type": "code",
   "execution_count": null,
   "id": "d785a0bf",
   "metadata": {},
   "outputs": [],
   "source": [
    "fig = hubbardml.plots.split_plot(\n",
    "    df_test, D_ELEMENT,\n",
    "    axis_label='Hubbard V (eV)',\n",
    "    title=f'Test data ({TEST_PERCENTAGE * 100:.0f}%), RMSE = {test_rmse:.3f} eV'\n",
    ");\n",
    "if SAVEFIGS:\n",
    "    fig.savefig(plotfile('+V_parity_species'), bbox_inches='tight')"
   ]
  },
  {
   "cell_type": "code",
   "execution_count": null,
   "id": "7cd4d5cb",
   "metadata": {},
   "outputs": [],
   "source": [
    "df_ref = df_test.copy()\n",
    "df_ref[keys.PARAM_OUT_PREDICTED] = df_ref[keys.PARAM_IN]\n",
    "df_ref = df_ref[~(df_ref[keys.UV_ITER] == 1)]\n",
    "fig = hubbardml.plots.split_plot(\n",
    "    df_ref,\n",
    "    D_ELEMENT,\n",
    "    axis_label='Hubbard V (eV)',\n",
    "    title=f'Baseline model, RMSE {hubbardml.datasets.rmse(df_ref):.3f} eV'\n",
    ");\n",
    "if SAVEFIGS:\n",
    "    fig.savefig(plotfile('+V_parity_species_ref'), bbox_inches='tight')"
   ]
  },
  {
   "cell_type": "code",
   "execution_count": null,
   "id": "03e17b71",
   "metadata": {},
   "outputs": [],
   "source": [
    "dirs = set()\n",
    "for directory in df['dir'].unique():\n",
    "    dirs.add('/'.join(directory.split('/')[:-1]))\n",
    "\n",
    "res = []\n",
    "for directory in dirs:\n",
    "    res.append(hubbardml.plots.create_progression_plots(df[df['dir'].str.startswith(directory)], yrange=0.4))"
   ]
  },
  {
   "cell_type": "code",
   "execution_count": null,
   "id": "0a4909d8",
   "metadata": {},
   "outputs": [],
   "source": [
    "if SAVEFIGS:\n",
    "    idx = 0\n",
    "    for figgroup in res:\n",
    "        for fig in figgroup.values():\n",
    "            fig.savefig(f'plots/hubbard_v/steps_{idx}_+V.pdf', bbox_inches='tight')\n",
    "            idx += 1\n"
   ]
  },
  {
   "cell_type": "code",
   "execution_count": null,
   "outputs": [],
   "source": [],
   "metadata": {
    "collapsed": false
   }
  }
 ],
 "metadata": {
  "@webio": {
   "lastCommId": null,
   "lastKernelId": null
  },
  "kernelspec": {
   "display_name": "Python 3.9.12 ('dftuv')",
   "language": "python",
   "name": "python3"
  },
  "language_info": {
   "codemirror_mode": {
    "name": "ipython",
    "version": 3
   },
   "file_extension": ".py",
   "mimetype": "text/x-python",
   "name": "python",
   "nbconvert_exporter": "python",
   "pygments_lexer": "ipython3",
   "version": "3.9.12"
  },
  "vscode": {
   "interpreter": {
    "hash": "28c3805fb3fb891793baa5922281dfc0c3881e930afb491195de5fe855d16202"
   }
  }
 },
 "nbformat": 4,
 "nbformat_minor": 5
}
