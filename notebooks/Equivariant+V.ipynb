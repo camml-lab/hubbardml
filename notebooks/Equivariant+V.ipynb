{
 "cells": [
  {
   "cell_type": "code",
   "execution_count": null,
   "id": "ec207719",
   "metadata": {},
   "outputs": [],
   "source": [
    "import random\n",
    "\n",
    "import numpy as np\n",
    "import matplotlib.pyplot as plt\n",
    "import pandas as pd\n",
    "import torch\n",
    "\n",
    "import hubbardml\n",
    "from hubbardml import models\n",
    "from hubbardml import datasets\n",
    "from hubbardml import keys\n",
    "\n",
    "random.seed(0xDEADBEEF)\n",
    "torch.manual_seed(0xDEADBEEF)\n",
    "\n",
    "\n",
    "dtype = torch.float32\n",
    "torch.set_default_dtype(dtype)\n",
    "device = \"cuda\" if torch.cuda.is_available() else \"cpu\"\n",
    "device, torch.get_default_dtype()"
   ]
  },
  {
   "cell_type": "markdown",
   "id": "7a5c8cc7df619a94",
   "metadata": {},
   "source": []
  },
  {
   "cell_type": "code",
   "execution_count": null,
   "id": "e8798433",
   "metadata": {},
   "outputs": [],
   "source": [
    "TEST_PERCENTAGE = 0.2\n",
    "\n",
    "P_ELEMENT = 'p_element'\n",
    "D_ELEMENT = 'd_element'\n",
    "SAVEFIGS = False\n",
    "\n",
    "TARGET_PARAM_TYPE = 'V'\n",
    "# DATASET = 'data_uv_unique_inout_2022_10_13.json'\n",
    "\n",
    "# DATASET = 'data_uv_unique_inout_2022_10_13.json'\n",
    "DATASET = 'data_uv_unique_inout_2023_2_8.json'\n",
    "\n",
    "def plotfile(label: str):\n",
    "    return f'plots/{DATASET}_{label}.pdf'"
   ]
  },
  {
   "cell_type": "markdown",
   "id": "142036f9",
   "metadata": {},
   "source": [
    "# Inputs\n",
    "\n",
    "Load the dataset to be used"
   ]
  },
  {
   "cell_type": "code",
   "execution_count": null,
   "id": "31f1c0b4",
   "metadata": {},
   "outputs": [],
   "source": [
    "df = hubbardml.datasets.load(f'../data/{DATASET}')"
   ]
  },
  {
   "cell_type": "markdown",
   "id": "ad28230a22dbfe42",
   "metadata": {},
   "source": [
    "## Filtering\n",
    "\n",
    "Filter the DF to keep things we want"
   ]
  },
  {
   "cell_type": "code",
   "execution_count": null,
   "id": "8a8a8a55d49e0fed",
   "metadata": {},
   "outputs": [],
   "source": [
    "df = hubbardml.VGraph.prepare_dataset(df)\n",
    "df = df[df[keys.PARAM_IN] > 0.5]\n",
    "print(len(df))"
   ]
  },
  {
   "cell_type": "code",
   "execution_count": null,
   "id": "cd16411c",
   "metadata": {},
   "outputs": [],
   "source": [
    "df[df[keys.PARAM_IN] == df.param_out]"
   ]
  },
  {
   "cell_type": "markdown",
   "id": "865e8d39",
   "metadata": {},
   "source": [
    "## Model creation\n",
    "\n",
    "Find out which species we have to support"
   ]
  },
  {
   "cell_type": "code",
   "execution_count": null,
   "id": "e725caae13503683",
   "metadata": {},
   "outputs": [],
   "source": [
    "species = list(pd.concat((df[keys.ATOM_1_ELEMENT], df[keys.ATOM_2_ELEMENT])).unique())\n",
    "print(f'Found species {species}')"
   ]
  },
  {
   "cell_type": "code",
   "execution_count": null,
   "id": "61e416bc",
   "metadata": {},
   "outputs": [],
   "source": [
    "df[D_ELEMENT].value_counts()"
   ]
  },
  {
   "cell_type": "markdown",
   "id": "150c9a8e",
   "metadata": {},
   "source": [
    "## Model"
   ]
  },
  {
   "cell_type": "code",
   "execution_count": null,
   "id": "0b614b90",
   "metadata": {},
   "outputs": [],
   "source": [
    "graph = hubbardml.VGraph(species)\n",
    "model = hubbardml.VModel(\n",
    "    graph,\n",
    "    feature_irreps=\"4x0e + 4x1e + 4x2e\",\n",
    "    rescaler = hubbardml.models.Rescaler.from_data(df[keys.PARAM_OUT], method=\"mean\"),\n",
    "    hidden_layers=2,\n",
    ")\n",
    "model.to(dtype=dtype, device=device)"
   ]
  },
  {
   "cell_type": "markdown",
   "id": "8a65a477",
   "metadata": {},
   "source": [
    "## Split test/train"
   ]
  },
  {
   "cell_type": "code",
   "execution_count": null,
   "id": "3ce6576d4fbcbd3f",
   "metadata": {},
   "outputs": [],
   "source": [
    "hubbardml.datasets.split(df, method='category', frac=0.2, category=['species'])"
   ]
  },
  {
   "cell_type": "code",
   "execution_count": null,
   "id": "72f9e8d1",
   "metadata": {},
   "outputs": [],
   "source": [
    "# Get the indices of the training and test data\n",
    "train_idx = df[df[keys.TRAINING_LABEL] == keys.TRAIN].index\n",
    "validate_idx = df[df[keys.TRAINING_LABEL] == keys.VALIDATE].index\n",
    "\n",
    "print(df.loc[train_idx]['species'].value_counts())\n",
    "print(df.loc[validate_idx]['species'].value_counts())"
   ]
  },
  {
   "cell_type": "code",
   "execution_count": null,
   "id": "5031da0a",
   "metadata": {},
   "outputs": [],
   "source": [
    "trainer = hubbardml.training.Trainer.from_frame(\n",
    "    model = model,\n",
    "    opt = torch.optim.Adam(model.parameters(), lr=0.001),\n",
    "    loss_fn = torch.nn.MSELoss(),\n",
    "    frame = df\n",
    ")"
   ]
  },
  {
   "cell_type": "code",
   "execution_count": null,
   "id": "fbfa678675e3bc9e",
   "metadata": {},
   "outputs": [],
   "source": [
    "trainer._opt = torch.optim.Adam(model.parameters(), lr=0.01)"
   ]
  },
  {
   "cell_type": "code",
   "execution_count": null,
   "id": "425a0e52",
   "metadata": {},
   "outputs": [],
   "source": [
    "trainer.overfitting_window = 600\n",
    "\n",
    "def progress(trainer):\n",
    "    print(\n",
    "        f\"{trainer.epoch} {trainer.training.metrics['mse']:.5f} {trainer.validation.metrics['mse']:.5f} {trainer.validation.metrics['rmse']:.4f}\")\n",
    "\n",
    "trainer.train(\n",
    "    callback=progress,\n",
    "    callback_period=50,\n",
    "    max_epochs=1_000\n",
    ")"
   ]
  },
  {
   "cell_type": "code",
   "execution_count": null,
   "id": "e1e95dd0",
   "metadata": {},
   "outputs": [],
   "source": [
    "trainer.plot_training_curves();"
   ]
  },
  {
   "cell_type": "code",
   "execution_count": null,
   "id": "8f92bd90",
   "metadata": {},
   "outputs": [],
   "source": [
    "predicted = model(trainer.validation_data.all_inputs()).detach().cpu().numpy().reshape(-1)\n",
    "input_train = model(trainer.training_data.all_inputs()).detach().cpu().numpy().reshape(-1)\n",
    "\n",
    "df.loc[validate_idx, keys.PARAM_OUT_PREDICTED] = predicted\n",
    "df.loc[train_idx, keys.PARAM_OUT_PREDICTED] = input_train"
   ]
  },
  {
   "cell_type": "code",
   "execution_count": null,
   "id": "4184511b",
   "metadata": {},
   "outputs": [],
   "source": [
    "df_test = df.loc[validate_idx]\n",
    "test_rmse = hubbardml.datasets.rmse(df)"
   ]
  },
  {
   "cell_type": "code",
   "execution_count": null,
   "id": "9da2617c",
   "metadata": {},
   "outputs": [],
   "source": [
    "hubbardml.plots.create_parity_plot(\n",
    "    df,\n",
    "    axis_label='Hubbard V (eV)',\n",
    "    title=f'RMSE = {test_rmse:.3f} ({TEST_PERCENTAGE} holdout)'\n",
    ");"
   ]
  },
  {
   "cell_type": "code",
   "execution_count": null,
   "id": "d785a0bf",
   "metadata": {},
   "outputs": [],
   "source": [
    "fig = hubbardml.plots.split_plot(\n",
    "    df_test, D_ELEMENT,\n",
    "    axis_label='Hubbard V (eV)',\n",
    "    title=f'Test data ({TEST_PERCENTAGE * 100:.0f}%), RMSE = {test_rmse:.3f} eV'\n",
    ");\n",
    "if SAVEFIGS:\n",
    "    fig.savefig(plotfile('+V_parity_species'), bbox_inches='tight')"
   ]
  },
  {
   "cell_type": "code",
   "execution_count": null,
   "id": "7cd4d5cb",
   "metadata": {},
   "outputs": [],
   "source": [
    "df_ref = df_test.copy()\n",
    "df_ref[keys.PARAM_OUT_PREDICTED] = df_ref[keys.PARAM_IN]\n",
    "df_ref = df_ref[~(df_ref[keys.UV_ITER] == 1)]\n",
    "fig = hubbardml.plots.split_plot(\n",
    "    df_ref,\n",
    "    D_ELEMENT,\n",
    "    axis_label='Hubbard V (eV)',\n",
    "    title=f'Baseline model, RMSE {hubbardml.datasets.rmse(df_ref):.3f} eV'\n",
    ");\n",
    "if SAVEFIGS:\n",
    "    fig.savefig(plotfile('+V_parity_species_ref'), bbox_inches='tight')"
   ]
  },
  {
   "cell_type": "code",
   "execution_count": null,
   "id": "03e17b71",
   "metadata": {},
   "outputs": [],
   "source": [
    "dirs = set()\n",
    "for directory in df['dir'].unique():\n",
    "    dirs.add('/'.join(directory.split('/')[:-1]))\n",
    "\n",
    "res = []\n",
    "for directory in dirs:\n",
    "    res.append(hubbardml.plots.create_progression_plots(df[df['dir'].str.startswith(directory)], yrange=0.4))"
   ]
  },
  {
   "cell_type": "code",
   "execution_count": null,
   "id": "0a4909d8",
   "metadata": {},
   "outputs": [],
   "source": [
    "if SAVEFIGS:\n",
    "    idx = 0\n",
    "    for figgroup in res:\n",
    "        for fig in figgroup.values():\n",
    "            fig.savefig(f'plots/hubbard_v/steps_{idx}_+V.pdf', bbox_inches='tight')\n",
    "            idx += 1\n"
   ]
  },
  {
   "cell_type": "code",
   "execution_count": null,
   "id": "eabc7a001c36a3e3",
   "metadata": {},
   "outputs": [],
   "source": []
  }
 ],
 "metadata": {
  "@webio": {
   "lastCommId": null,
   "lastKernelId": null
  },
  "kernelspec": {
   "display_name": "Python 3.9.12 ('dftuv')",
   "language": "python",
   "name": "python3"
  },
  "language_info": {
   "codemirror_mode": {
    "name": "ipython",
    "version": 3
   },
   "file_extension": ".py",
   "mimetype": "text/x-python",
   "name": "python",
   "nbconvert_exporter": "python",
   "pygments_lexer": "ipython3"
  },
  "vscode": {
   "interpreter": {
    "hash": "28c3805fb3fb891793baa5922281dfc0c3881e930afb491195de5fe855d16202"
   }
  }
 },
 "nbformat": 4,
 "nbformat_minor": 5
}
