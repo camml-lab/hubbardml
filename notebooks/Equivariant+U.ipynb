{
 "cells": [
  {
   "cell_type": "code",
   "execution_count": null,
   "id": "ec207719",
   "metadata": {},
   "outputs": [],
   "source": [
    "import pathlib\n",
    "\n",
    "import hubbardml\n",
    "from hubbardml import keys, plots, similarities\n",
    "import numpy as np\n",
    "import torch\n",
    "\n",
    "hubbardml.utils.random_seed()\n",
    "\n",
    "dtype = torch.float32\n",
    "torch.set_default_dtype(dtype)\n",
    "device = \"cuda\" if torch.cuda.is_available() else \"cpu\"\n",
    "# device = 'cpu'\n",
    "device, torch.get_default_dtype()"
   ]
  },
  {
   "cell_type": "code",
   "execution_count": null,
   "id": "e8798433",
   "metadata": {},
   "outputs": [],
   "source": [
    "VALIDATE_PERCENTAGE = 0.2\n",
    "DATASET = \"../data/data_uv_unique_inout_2023_2_8.json\"\n",
    "DATASET = \"../data/data_uv_2023_8_2.json\"\n",
    "\n",
    "SAVEFIGS = False\n",
    "TARGET_PARAM = 'U'\n",
    "\n",
    "\n",
    "def plotfile(label: str):\n",
    "    return f'plots/{DATASET}_{label}.pdf'"
   ]
  },
  {
   "cell_type": "code",
   "execution_count": null,
   "id": "31f1c0b4",
   "metadata": {},
   "outputs": [],
   "source": [
    "df = hubbardml.datasets.load(DATASET)"
   ]
  },
  {
   "cell_type": "markdown",
   "id": "20c2d4cd",
   "metadata": {},
   "source": [
    "## Input creation\n",
    "\n",
    "Filter the DF to keep things we want"
   ]
  },
  {
   "cell_type": "code",
   "execution_count": null,
   "id": "deb97a01",
   "metadata": {},
   "outputs": [],
   "source": [
    "species = list(df[keys.ATOM_1_ELEMENT].unique())\n",
    "# species = (\"Mn\", \"Fe\", \"Ni\")\n",
    "graph = hubbardml.graphs.UGraph(species)\n",
    "\n",
    "df = graph.prepare_dataset(df)\n",
    "print(len(df))\n",
    "\n",
    "df = graph.identify_duplicates(\n",
    "    df,\n",
    "    # tolerances=dict(occs_tol=2e-4, param_tol=1e-3)\n",
    ")\n",
    "print(len(df[df[keys.TRAINING_LABEL] == keys.DUPLICATE]))\n",
    "print(len(df[similarities.CLUSTER_ID].unique()))"
   ]
  },
  {
   "cell_type": "code",
   "execution_count": null,
   "id": "35dc5db48e6f1a18",
   "metadata": {},
   "outputs": [],
   "source": [
    "print(f\"Data splits set:\\n{df[keys.TRAINING_LABEL].value_counts()}\")"
   ]
  },
  {
   "cell_type": "markdown",
   "id": "fc939883",
   "metadata": {},
   "source": [
    "## Model creation"
   ]
  },
  {
   "cell_type": "code",
   "execution_count": null,
   "id": "4bad964a",
   "metadata": {},
   "outputs": [],
   "source": [
    "model = hubbardml.models.UModel(\n",
    "    graph,\n",
    "    feature_irreps=\"4x0e + 4x1e + 4x2e+ 4x3e\",\n",
    "    hidden_layers=2,\n",
    "    rescaler=hubbardml.models.Rescaler.from_data(df[keys.PARAM_OUT], method=\"mean\"),\n",
    "    irrep_normalization=\"component\",\n",
    ")\n",
    "model.to(dtype=dtype, device=device)"
   ]
  },
  {
   "cell_type": "markdown",
   "id": "9f2782ae",
   "metadata": {},
   "source": [
    "## Split test/train"
   ]
  },
  {
   "cell_type": "code",
   "execution_count": null,
   "id": "32174437783ef9c4",
   "metadata": {},
   "outputs": [],
   "source": [
    "# hubbardml.datasets.split(df, method='category', frac=0.2, category=[\"species\"])\n",
    "df = hubbardml.datasets.split_by_cluster(\n",
    "    df, \n",
    "    frac=0.2, \n",
    "    category=[\"species\", keys.SC_PATHS], \n",
    "    ignore_already_labelled=True\n",
    ")"
   ]
  },
  {
   "cell_type": "code",
   "execution_count": null,
   "id": "2004494e",
   "metadata": {},
   "outputs": [],
   "source": [
    "# Get the indices of the training and validation data\n",
    "train_idx = df[df[keys.TRAINING_LABEL] == keys.TRAIN].index\n",
    "validate_idx = df[df[keys.TRAINING_LABEL] == keys.VALIDATE].index\n",
    "\n",
    "print(df.groupby([keys.TRAINING_LABEL, keys.ATOM_1_ELEMENT]).size())"
   ]
  },
  {
   "cell_type": "code",
   "execution_count": null,
   "id": "9d39af46",
   "metadata": {},
   "outputs": [],
   "source": [
    "trainer = hubbardml.Trainer.from_frame(\n",
    "    model=model,\n",
    "    opt=torch.optim.AdamW(model.parameters(), lr=0.01),\n",
    "    loss_fn=torch.nn.MSELoss(),\n",
    "    frame=df,\n",
    "    target_column=keys.PARAM_OUT,\n",
    "    batch_size=128,\n",
    ")"
   ]
  },
  {
   "cell_type": "code",
   "execution_count": null,
   "id": "b6f65230cd9e7c5",
   "metadata": {},
   "outputs": [],
   "source": [
    "trainer.overfitting_window = 400\n",
    "\n",
    "trainer.train(\n",
    "    callback=lambda trainer: print(trainer.status()),\n",
    "    callback_period=50,\n",
    "    max_epochs=10_000,\n",
    ")"
   ]
  },
  {
   "cell_type": "code",
   "execution_count": null,
   "id": "b7d62d6c",
   "metadata": {},
   "outputs": [],
   "source": [
    "fig = trainer.plot_training_curves();\n",
    "if SAVEFIGS:\n",
    "    fig.savefig(plotfile('+U_training'), bbox_inches='tight')\n",
    "fig.gca().set_xscale(\"log\")"
   ]
  },
  {
   "cell_type": "code",
   "execution_count": null,
   "id": "49932db1",
   "metadata": {},
   "outputs": [],
   "source": [
    "with torch.no_grad():\n",
    "    train_predicted = hubbardml.engines.evaluate(trainer.best_model, trainer.train_loader).detach().cpu().numpy().reshape(-1)\n",
    "    val_predicted = hubbardml.engines.evaluate(trainer.best_model, trainer.validate_loader).detach().cpu().numpy().reshape(-1)\n",
    "\n",
    "df.loc[validate_idx, keys.PARAM_OUT_PREDICTED] = val_predicted\n",
    "df.loc[train_idx, keys.PARAM_OUT_PREDICTED] = train_predicted"
   ]
  },
  {
   "cell_type": "code",
   "execution_count": null,
   "id": "f2d1f979",
   "metadata": {},
   "outputs": [],
   "source": [
    "def rmse(y1, y2):\n",
    "    return np.sqrt(((y1 - y2) ** 2).mean())\n",
    "\n",
    "\n",
    "df_validate = df.loc[validate_idx]\n",
    "validate_rmse = hubbardml.datasets.rmse(df_validate)\n",
    "plots.create_parity_plot(df, title=f'RMSE = {validate_rmse:.3f} ({VALIDATE_PERCENTAGE} holdout)',\n",
    "                         axis_label=f'${TARGET_PARAM}$ value (eV)');"
   ]
  },
  {
   "cell_type": "code",
   "execution_count": null,
   "id": "e1c3606adf75b7fc",
   "metadata": {},
   "outputs": [],
   "source": [
    "for label in df[keys.ATOM_1_ELEMENT].unique():\n",
    "    frame = df[df[keys.LABEL] == label]\n",
    "    series = frame[keys.PARAM_OUT_PREDICTED]\n",
    "    ax = series.plot.hist(\n",
    "        alpha=0.6,\n",
    "        label=label,\n",
    "        color=frame.iloc[0][keys.COLOUR],\n",
    "        density=True,\n",
    "        # histtype='step',\n",
    "        xlabel=\"Energy difference (eV)\",\n",
    "        # bins=50,\n",
    "        # range=(-0.4, 0.4),\n",
    "\n",
    "    )"
   ]
  },
  {
   "cell_type": "markdown",
   "id": "5873a94c457f2587",
   "metadata": {},
   "source": [
    "# Training"
   ]
  },
  {
   "cell_type": "code",
   "execution_count": null,
   "id": "5c1a4a2a5163ece1",
   "metadata": {},
   "outputs": [],
   "source": [
    "df_train = df.loc[train_idx]"
   ]
  },
  {
   "cell_type": "code",
   "execution_count": null,
   "id": "4c41b2c27d5034a5",
   "metadata": {},
   "outputs": [],
   "source": [
    "fig = plots.split_plot(df_train, keys.ATOM_1_ELEMENT,\n",
    "                       axis_label='$U$ value (eV)',\n",
    "                       title=f'Validation data ({VALIDATE_PERCENTAGE * 100:.0f}%), RMSE = {validate_rmse:.2f} eV');\n",
    "\n",
    "if SAVEFIGS:\n",
    "    fig.savefig(plotfile('+U_parity_species'), bbox_inches='tight')"
   ]
  },
  {
   "cell_type": "markdown",
   "id": "e4995ad2bce0ad2f",
   "metadata": {},
   "source": [
    "# Validation"
   ]
  },
  {
   "cell_type": "code",
   "execution_count": null,
   "id": "e7fd54f1",
   "metadata": {},
   "outputs": [],
   "source": [
    "fig = plots.split_plot(df_validate, keys.ATOM_1_ELEMENT,\n",
    "                       axis_label='$U$ value (eV)',\n",
    "                       title=f'Validation data ({VALIDATE_PERCENTAGE * 100:.0f}%), RMSE = {validate_rmse:.2f} eV');\n",
    "\n",
    "if SAVEFIGS:\n",
    "    fig.savefig(plotfile('+U_parity_species'), bbox_inches='tight')"
   ]
  },
  {
   "cell_type": "code",
   "execution_count": null,
   "id": "09d4effb",
   "metadata": {},
   "outputs": [],
   "source": [
    "df_ref = df.copy()\n",
    "df_ref[keys.PARAM_OUT_PREDICTED] = df_ref[keys.PARAM_IN]\n",
    "df_ref = df_ref[~(df_ref[keys.UV_ITER] == 1)]\n",
    "fig = plots.split_plot(df_ref, keys.ATOM_1_ELEMENT, axis_label=f'Hubbard {TARGET_PARAM} (eV)',\n",
    "                       title=f'Baseline model, RMSE = {hubbardml.datasets.rmse(df_ref):.2f} eV');\n",
    "\n",
    "if SAVEFIGS:\n",
    "    fig.savefig(plotfile('U_parity_species_ref'), bbox_inches='tight')"
   ]
  },
  {
   "cell_type": "code",
   "execution_count": null,
   "id": "d4d95bea293f82d7",
   "metadata": {},
   "outputs": [],
   "source": [
    "df_ref = df.copy()\n",
    "df_ref[keys.PARAM_OUT_PREDICTED] = df_ref[keys.PARAM_IN]\n",
    "df_ref = df_ref[~(df_ref[keys.UV_ITER] == 1)]\n",
    "fig = plots.split_plot(\n",
    "    df_ref,\n",
    "    keys.ATOM_1_ELEMENT,\n",
    "    axis_label=f'Hubbard {TARGET_PARAM} (eV)',\n",
    "    title=f'Baseline model, RMSE = {hubbardml.datasets.rmse(df_ref, label=\"both\"):.2f} eV',\n",
    ");\n",
    "\n",
    "if SAVEFIGS:\n",
    "    fig.savefig(plotfile('U_parity_species_ref'), bbox_inches='tight')"
   ]
  },
  {
   "cell_type": "code",
   "execution_count": null,
   "id": "707ad2ed98cd88fc",
   "metadata": {},
   "outputs": [],
   "source": [
    "{str(pathlib.Path(directory).parent) for directory in df[keys.DIR].unique()}"
   ]
  },
  {
   "cell_type": "code",
   "execution_count": null,
   "id": "d392f86d",
   "metadata": {},
   "outputs": [],
   "source": [
    "max_range = df[keys.PARAM_OUT].max() - df[keys.PARAM_OUT].min()\n",
    "max_range = max(max_range, (df[keys.PARAM_OUT_PREDICTED].max() - df[keys.PARAM_OUT_PREDICTED].min()))\n",
    "print(max_range)\n",
    "\n",
    "plots.create_progression_plots(\n",
    "    df,\n",
    "    '/home/azadoks/Projects/uv_ml/data/iurii/Olivines/LiMnPO4/B2_Li0.25MnPO4/DFT_plus_UV',\n",
    "    yrange=1.2\n",
    ");"
   ]
  },
  {
   "cell_type": "code",
   "execution_count": null,
   "id": "3ad01b99",
   "metadata": {},
   "outputs": [],
   "source": [
    "if SAVEFIGS:\n",
    "    idx = 0\n",
    "    for figgroup in res:\n",
    "        for fig in figgroup.values():\n",
    "            fig.savefig(f'plots/hubbard_u/steps_{idx}_+U.pdf', bbox_inches='tight')\n",
    "            idx += 1"
   ]
  },
  {
   "cell_type": "code",
   "execution_count": null,
   "id": "a4aff008",
   "metadata": {},
   "outputs": [],
   "source": [
    "import copy\n",
    "\n",
    "fig, ax = copy.deepcopy(model.tp1).cpu().visualize()\n",
    "# ax.get_lines()[0].set_color('black')\n",
    "for patch in ax.patches:\n",
    "    patch.set_color(plots.plot_colours[2])\n",
    "\n",
    "if SAVEFIGS:\n",
    "    fig.savefig('plots/hubbard_u_tp.pdf', bbox_inches='tight')"
   ]
  },
  {
   "cell_type": "code",
   "execution_count": null,
   "id": "2335af3c5168d47c",
   "metadata": {},
   "outputs": [],
   "source": [
    "df[df[keys.PARAM_IN] == 0.][keys.TRAINING_LABEL]\n"
   ]
  },
  {
   "cell_type": "code",
   "execution_count": null,
   "id": "15df2a7c96bb6b4c",
   "metadata": {},
   "outputs": [],
   "source": []
  }
 ],
 "metadata": {
  "@webio": {
   "lastCommId": null,
   "lastKernelId": null
  },
  "kernelspec": {
   "display_name": "Python 3.9.13 ('dftuv')",
   "language": "python",
   "name": "python3"
  },
  "language_info": {
   "codemirror_mode": {
    "name": "ipython",
    "version": 3
   },
   "file_extension": ".py",
   "mimetype": "text/x-python",
   "name": "python",
   "nbconvert_exporter": "python",
   "pygments_lexer": "ipython3"
  },
  "vscode": {
   "interpreter": {
    "hash": "9d495787300480a5f3cf76f0f07c158b9f72c6c1bc48704e1dfcd1ec859c9110"
   }
  }
 },
 "nbformat": 4,
 "nbformat_minor": 5
}
